{
 "cells": [
  {
   "cell_type": "code",
   "execution_count": 4,
   "metadata": {},
   "outputs": [
    {
     "name": "stdout",
     "output_type": "stream",
     "text": [
      "Predicted price of the house: $ 1250000.0\n"
     ]
    }
   ],
   "source": [
    "### home work\n",
    "### in chatgpt make a code that will predict price of house based on size of house using linear regressiion \n",
    "import numpy as np\n",
    "from sklearn.linear_model import LinearRegression\n",
    "\n",
    "# Training data\n",
    "sizes = np.array([100, 150, 200, 250, 300, 350, 400, 450, 500, 550])  # House sizes in square feet\n",
    "prices = np.array([250000, 350000, 450000, 550000, 650000, 750000, 850000, 950000, 1050000, 1150000])  # Corresponding prices in USD\n",
    "\n",
    "# Reshape the input data\n",
    "sizes = sizes.reshape((-1, 1))\n",
    "\n",
    "# Create and train the linear regression model\n",
    "model = LinearRegression()\n",
    "model.fit(sizes, prices)\n",
    "\n",
    "# Predict the price of a new house\n",
    "new_size = 600  # Size of the new house to predict its price\n",
    "new_size = np.array([[new_size]])  # Reshape the input data for prediction\n",
    "predicted_price = model.predict(new_size)\n",
    "\n",
    "print(\"Predicted price of the house: $\", predicted_price[0])\n"
   ]
  },
  {
   "cell_type": "code",
   "execution_count": 1,
   "metadata": {},
   "outputs": [
    {
     "name": "stdout",
     "output_type": "stream",
     "text": [
      "Percentage of affected area: 68.92%\n"
     ]
    }
   ],
   "source": [
    "import cv2\n",
    "import numpy as np\n",
    "\n",
    "# Load the image\n",
    "image = cv2.imread('affectedplant.jpeg')\n",
    "\n",
    "# Convert the image to HSV color space\n",
    "hsv_image = cv2.cvtColor(image, cv2.COLOR_BGR2HSV)\n",
    "\n",
    "# Define the lower and upper threshold values for the colors you want to detect\n",
    "lower_green = np.array([36, 25, 25])  # Example: Green color range in HSV\n",
    "upper_green = np.array([70, 255, 255])  # Example: Green color range in HSV\n",
    "\n",
    "# Create a mask based on the threshold values\n",
    "mask = cv2.inRange(hsv_image, lower_green, upper_green)\n",
    "\n",
    "# Calculate the percentage of affected area\n",
    "total_pixels = np.prod(mask.shape[:2])\n",
    "affected_pixels = cv2.countNonZero(mask)\n",
    "percentage_affected = (affected_pixels / total_pixels) * 100\n",
    "\n",
    "# Apply the mask to the original image\n",
    "masked_image = cv2.bitwise_and(image, image, mask=mask)\n",
    "print(\"Percentage of affected area: {:.2f}%\".format(percentage_affected))\n",
    "# Show the original image, the masked image, and the percentage of affected area\n",
    "cv2.imshow('Original Image', image)\n",
    "cv2.imshow('Masked Image', masked_image)\n",
    "cv2.waitKey(0)\n",
    "cv2.destroyAllWindows()\n",
    "\n",
    "print(\"Percentage of affected area: {:.2f}%\".format(percentage_affected))\n"
   ]
  },
  {
   "cell_type": "code",
   "execution_count": null,
   "metadata": {},
   "outputs": [],
   "source": [
    "###find animal diseases, with same code but "
   ]
  }
 ],
 "metadata": {
  "kernelspec": {
   "display_name": "base",
   "language": "python",
   "name": "python3"
  },
  "language_info": {
   "codemirror_mode": {
    "name": "ipython",
    "version": 3
   },
   "file_extension": ".py",
   "mimetype": "text/x-python",
   "name": "python",
   "nbconvert_exporter": "python",
   "pygments_lexer": "ipython3",
   "version": "3.9.13"
  },
  "orig_nbformat": 4
 },
 "nbformat": 4,
 "nbformat_minor": 2
}
