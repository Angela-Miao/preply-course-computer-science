{
 "cells": [
  {
   "cell_type": "code",
   "execution_count": 2,
   "metadata": {},
   "outputs": [
    {
     "data": {
      "text/plain": [
       "[',How old are you?,How many Rodys do you own?,How tall are you?,How many siblings do you have?,What color is your hair?,How many years have you attended Aoba?\\n',\n",
       " ',12,0,148,1,black,0\\n',\n",
       " ',11,0,157,1,brown,2\\n',\n",
       " ',11,1,150,1,Black,1\\n',\n",
       " ',12,1,159,4,\"Black, pink\",6\\n',\n",
       " ',12,1,0,7,bro,0\\n',\n",
       " ',11,1,156.8,0,Dark brown,7\\n',\n",
       " ',12,1,153,1,brown,0\\n',\n",
       " ',11,1,0,1,black,0\\n',\n",
       " ',12,1,158,0,Brown,6\\n',\n",
       " ',12,1,155,1,black and a little bit of dark brown,4\\n',\n",
       " ',11,1,152,1,Dark brown and black,5\\n',\n",
       " ',12,1,159,1,brown and black(I think),1\\n',\n",
       " ',12,1,158,7,black,3\\n',\n",
       " ',12,1,148,2,brown,8\\n',\n",
       " ',11,1,145,2,brown black,2\\n',\n",
       " ',12,1,144,2,black and brown,5\\n',\n",
       " ',11,1,135,2,dark brown or black,2\\n',\n",
       " ',12,1,153,1,black,9\\n',\n",
       " ',12,1,150,1,black,9\\n',\n",
       " ',11,1,152,0,brown,3\\n',\n",
       " ',11,1,153,1,Black and a little orange,8\\n',\n",
       " ',11,1,0,0,dark brown,0\\n',\n",
       " ',12,1,153,2,dark brown,6\\n',\n",
       " ',12,1,160,1,black,6\\n',\n",
       " ',12,1,160,1,Brown,5\\n',\n",
       " ',11,1,147,1,dark brown,8\\n',\n",
       " ',12,1,159,1,Black,7\\n',\n",
       " ',12,1,139,0,Brownish Black,7\\n',\n",
       " ',12,1,151,0,brown,7\\n',\n",
       " ',11,1,145 or more,old sister,black and brown ,10\\n',\n",
       " ',11,1,145,1,black and brown,8\\n',\n",
       " ',11,1,147,0,black,4\\n',\n",
       " ',12,1,162,10,black,6\\n',\n",
       " ',13,1,153,0,black and brown ,2\\n',\n",
       " ',11,1,155,1,Black outside and orangish& yellow(?) inside,10\\n',\n",
       " ',11,1,155,1,Outside black inside orangish/yellowish(?),10\\n',\n",
       " ',12,1,145,0,black with a little brown in it ,8\\n',\n",
       " ',11,1,162,0,Brown,2\\n',\n",
       " ',12,1,151,0,Brownish black,1\\n',\n",
       " ',12,1,9,0,green (dark brown),0\\n',\n",
       " ',11,2,154,1,brown,7\\n',\n",
       " ',11,2,152,0,dark brown and a little yellow,5\\n',\n",
       " ',12,2,156,0,black,1\\n',\n",
       " ',12,2,153,2,Dark brown ,6\\n',\n",
       " ',11,2,138,1,brown,4\\n',\n",
       " ',12,2,156,0,black,0\\n',\n",
       " ',12,2,154,1,blond,3\\n',\n",
       " ',12,3,164,1,Coffee brown,6\\n',\n",
       " ',11,5,149,3,brown,3\\n',\n",
       " ',11,8,148,2,dark brown,6\\n',\n",
       " ',12,100,150,1,black,１\\n',\n",
       " ',12,100,150,1,black,1\\n',\n",
       " ',12,3,6,1,coffee brown,6\\n',\n",
       " ',12,1,150,1,black,0\\n',\n",
       " ',12,1,148,5,black,9\\n',\n",
       " ',12,1,159,4,black and pink,6\\n',\n",
       " ',12,1,148,5,black,9\\n',\n",
       " ',12,1,153,2,dark brown,7\\n',\n",
       " 'mean,11.63793103,4.75862069,139.0666667,1.526315789,#DIV/0!,4.684210526\\n',\n",
       " 'median,12,1,152,1,#NUM!,5\\n',\n",
       " 'mode,0.519725834,18.19225818,42.97644427,1.955808776,#DIV/0!,3.151858266']"
      ]
     },
     "execution_count": 2,
     "metadata": {},
     "output_type": "execute_result"
    }
   ],
   "source": [
    "x = open(\"Student Survey.csv\")\n",
    "x.readlines()"
   ]
  },
  {
   "cell_type": "code",
   "execution_count": 10,
   "metadata": {},
   "outputs": [
    {
     "data": {
      "text/plain": [
       "[['store', 'apple', 'orange', 'banana'],\n",
       " ['1', '10', '8', '7'],\n",
       " ['2', '12', '5', '9'],\n",
       " ['3', '10', '22', '11'],\n",
       " ['4', '22', '33', '22'],\n",
       " ['5', '22', '33', '44']]"
      ]
     },
     "execution_count": 10,
     "metadata": {},
     "output_type": "execute_result"
    }
   ],
   "source": [
    "x = open (\"angela.txt\")\n",
    "data = x.readlines()\n",
    "new = []\n",
    "for each in data:\n",
    "    new.append(each.split())\n",
    "new"
   ]
  },
  {
   "cell_type": "code",
   "execution_count": 11,
   "metadata": {},
   "outputs": [],
   "source": [
    "data = new[1:]"
   ]
  },
  {
   "cell_type": "code",
   "execution_count": 12,
   "metadata": {},
   "outputs": [
    {
     "data": {
      "text/plain": [
       "[['1', '10', '8', '7'],\n",
       " ['2', '12', '5', '9'],\n",
       " ['3', '10', '22', '11'],\n",
       " ['4', '22', '33', '22'],\n",
       " ['5', '22', '33', '44']]"
      ]
     },
     "execution_count": 12,
     "metadata": {},
     "output_type": "execute_result"
    }
   ],
   "source": [
    "data"
   ]
  },
  {
   "cell_type": "code",
   "execution_count": 19,
   "metadata": {},
   "outputs": [
    {
     "name": "stdout",
     "output_type": "stream",
     "text": [
      "[1, 10, 8, 7, 2, 12, 5, 9, 3, 10, 22, 11, 4, 22, 33, 22, 5, 22, 33, 44]\n"
     ]
    }
   ],
   "source": [
    "y = []\n",
    "for each in data:\n",
    "    for e2 in each:\n",
    "        y.append(int(e2))\n",
    "print(y)"
   ]
  },
  {
   "cell_type": "code",
   "execution_count": 20,
   "metadata": {},
   "outputs": [
    {
     "name": "stdout",
     "output_type": "stream",
     "text": [
      "        City  Earthquake Rating\n",
      "0      Tokyo                7.9\n",
      "1      Osaka                6.5\n",
      "2   Yokohama                7.2\n",
      "3     Nagoya                6.8\n",
      "4    Sapporo                6.4\n",
      "5    Fukuoka                7.1\n",
      "6       Kobe                7.5\n",
      "7      Kyoto                6.2\n",
      "8  Hiroshima                6.6\n",
      "9     Sendai                7.3\n"
     ]
    }
   ],
   "source": [
    "import pandas as pd\n",
    "\n",
    "city_earthquake_ratings = {\n",
    "    'Tokyo': 7.9,\n",
    "    'Osaka': 6.5,\n",
    "    'Yokohama': 7.2,\n",
    "    'Nagoya': 6.8,\n",
    "    'Sapporo': 6.4,\n",
    "    'Fukuoka': 7.1,\n",
    "    'Kobe': 7.5,\n",
    "    'Kyoto': 6.2,\n",
    "    'Hiroshima': 6.6,\n",
    "    'Sendai': 7.3\n",
    "}\n",
    "\n",
    "df = pd.DataFrame(list(city_earthquake_ratings.items()), columns=['City', 'Earthquake Rating'])\n",
    "\n",
    "print(df)\n"
   ]
  },
  {
   "cell_type": "code",
   "execution_count": 21,
   "metadata": {},
   "outputs": [
    {
     "data": {
      "image/png": "[encoded data removed]",
      "text/plain": [
       "<Figure size 640x480 with 1 Axes>"
      ]
     },
     "metadata": {},
     "output_type": "display_data"
    }
   ],
   "source": [
    "# plot a graph with city and rating\n",
    "import pandas as pd\n",
    "import matplotlib.pyplot as plt\n",
    "\n",
    "city_earthquake_ratings = {\n",
    "    'Tokyo': 7.9,\n",
    "    'Osaka': 6.5,\n",
    "    'Yokohama': 7.2,\n",
    "    'Nagoya': 6.8,\n",
    "    'Sapporo': 6.4,\n",
    "    'Fukuoka': 7.1,\n",
    "    'Kobe': 7.5,\n",
    "    'Kyoto': 6.2,\n",
    "    'Hiroshima': 6.6,\n",
    "    'Sendai': 7.3\n",
    "}\n",
    "\n",
    "df = pd.DataFrame(list(city_earthquake_ratings.items()), columns=['City', 'Earthquake Rating'])\n",
    "\n",
    "plt.bar(df['City'], df['Earthquake Rating'])\n",
    "plt.xlabel('City')\n",
    "plt.ylabel('Earthquake Rating')\n",
    "plt.title('City-wise Earthquake Ratings')\n",
    "plt.xticks(rotation=45)\n",
    "plt.show()\n"
   ]
  },
  {
   "cell_type": "code",
   "execution_count": null,
   "metadata": {},
   "outputs": [],
   "source": []
  }
 ],
 "metadata": {
  "kernelspec": {
   "display_name": "base",
   "language": "python",
   "name": "python3"
  },
  "language_info": {
   "codemirror_mode": {
    "name": "ipython",
    "version": 3
   },
   "file_extension": ".py",
   "mimetype": "text/x-python",
   "name": "python",
   "nbconvert_exporter": "python",
   "pygments_lexer": "ipython3",
   "version": "3.9.13"
  },
  "orig_nbformat": 4
 },
 "nbformat": 4,
 "nbformat_minor": 2
}
