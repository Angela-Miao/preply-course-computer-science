{
 "cells": [
  {
   "cell_type": "code",
   "execution_count": 1,
   "metadata": {},
   "outputs": [],
   "source": [
    "def add(x):\n",
    "    return x + 200"
   ]
  },
  {
   "cell_type": "code",
   "execution_count": 2,
   "metadata": {},
   "outputs": [],
   "source": [
    "### make a function\n",
    "### it takes y input \n",
    "### it returns input /50\n",
    "def div(y):\n",
    "    return y / 50"
   ]
  },
  {
   "cell_type": "code",
   "execution_count": 4,
   "metadata": {},
   "outputs": [
    {
     "data": {
      "text/plain": [
       "0.2"
      ]
     },
     "execution_count": 4,
     "metadata": {},
     "output_type": "execute_result"
    }
   ],
   "source": [
    "div(10)"
   ]
  },
  {
   "cell_type": "code",
   "execution_count": 5,
   "metadata": {},
   "outputs": [],
   "source": [
    "### make a simple function to find slope y = m*x + c\n",
    "def slope(x):\n",
    "    return 10*x + 5"
   ]
  },
  {
   "cell_type": "code",
   "execution_count": 8,
   "metadata": {},
   "outputs": [
    {
     "data": {
      "text/plain": [
       "75"
      ]
     },
     "execution_count": 8,
     "metadata": {},
     "output_type": "execute_result"
    }
   ],
   "source": [
    "slope(7)"
   ]
  },
  {
   "cell_type": "code",
   "execution_count": 9,
   "metadata": {},
   "outputs": [],
   "source": [
    "### make a function to find power if p = w/t\n",
    "def fun(w,t):\n",
    "    return w / t"
   ]
  },
  {
   "cell_type": "code",
   "execution_count": 10,
   "metadata": {},
   "outputs": [
    {
     "data": {
      "text/plain": [
       "0.25"
      ]
     },
     "execution_count": 10,
     "metadata": {},
     "output_type": "execute_result"
    }
   ],
   "source": [
    "fun(2,8)"
   ]
  },
  {
   "cell_type": "code",
   "execution_count": 11,
   "metadata": {},
   "outputs": [],
   "source": [
    "## make a function to find work done w = f * d\n",
    "def word(f,d):\n",
    "    return f * d"
   ]
  },
  {
   "cell_type": "code",
   "execution_count": 12,
   "metadata": {},
   "outputs": [
    {
     "data": {
      "text/plain": [
       "1000"
      ]
     },
     "execution_count": 12,
     "metadata": {},
     "output_type": "execute_result"
    }
   ],
   "source": [
    "word (1000,1)"
   ]
  },
  {
   "cell_type": "code",
   "execution_count": 16,
   "metadata": {},
   "outputs": [],
   "source": [
    "### make a function to fin dtarque t = r * f* sin(theta)\n",
    "import math\n",
    "def torqu(r,f,a):\n",
    "    return r * f * math.sin(a)"
   ]
  },
  {
   "cell_type": "code",
   "execution_count": 18,
   "metadata": {},
   "outputs": [
    {
     "data": {
      "text/plain": [
       "32.18387988962008"
      ]
     },
     "execution_count": 18,
     "metadata": {},
     "output_type": "execute_result"
    }
   ],
   "source": [
    "torqu (6,6,90)"
   ]
  },
  {
   "cell_type": "code",
   "execution_count": 30,
   "metadata": {},
   "outputs": [],
   "source": [
    "### find the force of attraction \n",
    "###F = ( G ∗ m1 ∗ m2 )/( d**2 )\n",
    "###G = 6.6743 * 10**(-11)\n",
    "def banana1 (m1, m2, d):\n",
    "    return 6.6743 * 10**(-11) * m1 * m2 / d ** 2\n"
   ]
  },
  {
   "cell_type": "code",
   "execution_count": 31,
   "metadata": {},
   "outputs": [
    {
     "name": "stdout",
     "output_type": "stream",
     "text": [
      "this is force between eath and marks\n"
     ]
    }
   ],
   "source": [
    "banana1 (5.972 * 10**24 , 6.39 * 10**23 , 2.25*10**9)\n",
    "print(\"this is force between eath and marks\")"
   ]
  },
  {
   "cell_type": "code",
   "execution_count": 32,
   "metadata": {},
   "outputs": [
    {
     "name": "stdout",
     "output_type": "stream",
     "text": [
      "1.9530870604e+17\n",
      "this is force between angela and aerch\n"
     ]
    }
   ],
   "source": [
    "print( banana1 (5.972 * 10**24 , 490 , 1))\n",
    "print(\"this is force between angela and aerch\")"
   ]
  },
  {
   "cell_type": "code",
   "execution_count": null,
   "metadata": {},
   "outputs": [],
   "source": [
    "### can you find the force between eart and jupyter\n",
    "\n",
    "### earth and sun\n",
    "### moon and andy\n",
    "### how much foce is marks putting on andy\n",
    "### how can andy fly in air ... what if andy weight become 10 and if andy go in space then what will be the force of earth\n",
    "\n"
   ]
  },
  {
   "cell_type": "code",
   "execution_count": 33,
   "metadata": {},
   "outputs": [
    {
     "name": "stdout",
     "output_type": "stream",
     "text": [
      "1.9530870604e+17\n"
     ]
    }
   ],
   "source": [
    "print( banana1 (5.972 * 10**24 , 490 , 1))"
   ]
  },
  {
   "cell_type": "code",
   "execution_count": 35,
   "metadata": {},
   "outputs": [],
   "source": [
    "### define function which takes mass and velcicty as input and momentum as output\n",
    "###I = m * vars\n",
    "def aba (m,v):\n",
    "    return m * v"
   ]
  },
  {
   "cell_type": "code",
   "execution_count": 36,
   "metadata": {},
   "outputs": [
    {
     "data": {
      "text/plain": [
       "12"
      ]
     },
     "execution_count": 36,
     "metadata": {},
     "output_type": "execute_result"
    }
   ],
   "source": [
    "aba(3,4)"
   ]
  },
  {
   "cell_type": "code",
   "execution_count": 37,
   "metadata": {},
   "outputs": [],
   "source": [
    "#### make a function that will take a list and it will return tuple and set of taht list\n",
    "def haha (x):\n",
    "    return tuple (x),set (x)"
   ]
  },
  {
   "cell_type": "code",
   "execution_count": 39,
   "metadata": {},
   "outputs": [
    {
     "data": {
      "text/plain": [
       "(('banana1', 'banana2', 'banana3', 'banana4', 'banana5', 'banana6', 'banana7'),\n",
       " {'banana1', 'banana2', 'banana3', 'banana4', 'banana5', 'banana6', 'banana7'})"
      ]
     },
     "execution_count": 39,
     "metadata": {},
     "output_type": "execute_result"
    }
   ],
   "source": [
    "x = [\"banana1\",\"banana2\",\"banana3\",\"banana4\",\"banana5\",\"banana6\",\"banana7\"]\n",
    "haha(x)"
   ]
  },
  {
   "cell_type": "code",
   "execution_count": 42,
   "metadata": {},
   "outputs": [
    {
     "name": "stdout",
     "output_type": "stream",
     "text": [
      "10\n",
      "FAIL!\n",
      "50\n",
      "FAIL!\n",
      "55\n",
      "(NOT)FAIL\n",
      "49\n",
      "FAIL!\n",
      "80\n",
      "(NOT)FAIL\n",
      "55\n",
      "(NOT)FAIL\n",
      "3388\n",
      "NOT REAL\n",
      "55\n",
      "(NOT)FAIL\n"
     ]
    }
   ],
   "source": [
    "\n",
    "## use for loop and show all marks and... if mark less  than 50 then fail else pass\n",
    "def result(marks):\n",
    "    for mark in marks:\n",
    "        print(mark)\n",
    "        if mark <= 50:\n",
    "            print (\"FAIL!\")\n",
    "        elif mark > 100:\n",
    "            print (\"NOT REAL\")\n",
    "        else:\n",
    "            print (\"(NOT)FAIL\")\n",
    "numbers = [10,50,55,49,80,55,3388,55]\n",
    "result(numbers)\n"
   ]
  },
  {
   "cell_type": "code",
   "execution_count": 44,
   "metadata": {},
   "outputs": [
    {
     "name": "stdout",
     "output_type": "stream",
     "text": [
      "4\n",
      "FAIL!\n",
      "82\n",
      "(NOT)FAIL\n",
      "2\n",
      "FAIL!\n",
      "3\n",
      "FAIL!\n",
      "3\n",
      "FAIL!\n"
     ]
    }
   ],
   "source": [
    "result([4,82,2,3,3])"
   ]
  },
  {
   "cell_type": "code",
   "execution_count": 46,
   "metadata": {},
   "outputs": [],
   "source": [
    "### if age is more than 60 then you are senior citizena and you are retired\n",
    "def egg(age):\n",
    "    for age in ages:\n",
    "        print(age)\n",
    "        if age > 60:\n",
    "            print (\"retired\")\n",
    "        elif age < 18:\n",
    "            print (\"in school\")\n",
    "        else:\n",
    "            print (\"working\")\n"
   ]
  },
  {
   "cell_type": "code",
   "execution_count": 48,
   "metadata": {},
   "outputs": [
    {
     "name": "stdout",
     "output_type": "stream",
     "text": [
      "10\n",
      "in school\n",
      "20\n",
      "working\n",
      "30\n",
      "working\n",
      "55\n",
      "working\n",
      "45\n",
      "working\n",
      "36\n",
      "working\n",
      "1\n",
      "in school\n",
      "23\n",
      "working\n",
      "12\n",
      "in school\n",
      "45\n",
      "working\n",
      "78\n",
      "retired\n",
      "34\n",
      "working\n",
      "100\n",
      "retired\n"
     ]
    }
   ],
   "source": [
    "ages = [10,20,30,55,45,36,1,23,12,45,78,34,100]\n",
    "egg(ages)"
   ]
  },
  {
   "cell_type": "code",
   "execution_count": 49,
   "metadata": {},
   "outputs": [
    {
     "name": "stdout",
     "output_type": "stream",
     "text": [
      "10\n",
      "in school\n",
      "20\n",
      "working\n",
      "30\n",
      "working\n",
      "55\n",
      "working\n",
      "45\n",
      "working\n",
      "36\n",
      "working\n",
      "1\n",
      "in school\n",
      "23\n",
      "working\n",
      "12\n",
      "in school\n",
      "45\n",
      "working\n",
      "78\n",
      "retired\n",
      "34\n",
      "working\n",
      "100\n",
      "retired\n"
     ]
    }
   ],
   "source": [
    "\n",
    "egg([2,44,555,2233,3323333])"
   ]
  },
  {
   "cell_type": "code",
   "execution_count": 50,
   "metadata": {},
   "outputs": [
    {
     "name": "stdout",
     "output_type": "stream",
     "text": [
      "10\n",
      "in school\n",
      "20\n",
      "working\n",
      "30\n",
      "working\n",
      "55\n",
      "working\n",
      "45\n",
      "working\n",
      "36\n",
      "working\n",
      "1\n",
      "in school\n",
      "23\n",
      "working\n",
      "12\n",
      "in school\n",
      "45\n",
      "working\n",
      "78\n",
      "retired\n",
      "34\n",
      "working\n",
      "100\n",
      "retired\n"
     ]
    }
   ],
   "source": [
    "egg ([2,3,345,4577,457,6867,65,2,34,23,54,7,69,8,12,43,3,7,1,86,67,])"
   ]
  },
  {
   "cell_type": "code",
   "execution_count": 51,
   "metadata": {},
   "outputs": [
    {
     "name": "stdout",
     "output_type": "stream",
     "text": [
      "FAIL!\n",
      "FAIL!\n",
      "PASS!\n",
      "FAIL!\n",
      "PASS!\n",
      "PASS!\n",
      "FAIL!\n",
      "PASS!\n"
     ]
    }
   ],
   "source": [
    "\n",
    "def gradesystem(data):\n",
    "\n",
    "    for mark in marks:\n",
    "    \n",
    "        if mark <= 50 and mark > 0:\n",
    "            print (\"FAIL!\")\n",
    "        elif mark > 80 and mark <= 100:\n",
    "            print (\"GREAT!\") \n",
    "        elif mark <= 80 and mark > 50:\n",
    "            print (\"PASS!\")\n",
    "        elif mark > 100 and mark < 0:\n",
    "            print (\"Not Real!\")\n",
    "            \n",
    "#calll gradesystem with abc\n",
    "gradesystem([1,2,23,234,-1,98,52])"
   ]
  },
  {
   "cell_type": "code",
   "execution_count": 52,
   "metadata": {},
   "outputs": [],
   "source": [
    "### lambda function"
   ]
  },
  {
   "cell_type": "code",
   "execution_count": 53,
   "metadata": {},
   "outputs": [],
   "source": [
    "def caca(x,y):\n",
    "    return x + y"
   ]
  },
  {
   "cell_type": "code",
   "execution_count": 54,
   "metadata": {},
   "outputs": [],
   "source": [
    "caca2 = lambda x,y : x+y"
   ]
  },
  {
   "cell_type": "code",
   "execution_count": 55,
   "metadata": {},
   "outputs": [
    {
     "data": {
      "text/plain": [
       "3"
      ]
     },
     "execution_count": 55,
     "metadata": {},
     "output_type": "execute_result"
    }
   ],
   "source": [
    "caca (1,2)"
   ]
  },
  {
   "cell_type": "code",
   "execution_count": 56,
   "metadata": {},
   "outputs": [
    {
     "data": {
      "text/plain": [
       "3"
      ]
     },
     "execution_count": 56,
     "metadata": {},
     "output_type": "execute_result"
    }
   ],
   "source": [
    "caca2(1,2)"
   ]
  },
  {
   "cell_type": "code",
   "execution_count": 57,
   "metadata": {},
   "outputs": [],
   "source": [
    "yaya = lambda a,b,c : a*b*c"
   ]
  },
  {
   "cell_type": "code",
   "execution_count": 58,
   "metadata": {},
   "outputs": [
    {
     "data": {
      "text/plain": [
       "8"
      ]
     },
     "execution_count": 58,
     "metadata": {},
     "output_type": "execute_result"
    }
   ],
   "source": [
    "yaya(1,2,4)"
   ]
  },
  {
   "cell_type": "code",
   "execution_count": 5,
   "metadata": {},
   "outputs": [],
   "source": [
    "\n",
    "\n",
    "def func_of_eens(x):\n",
    "    empty = []\n",
    "    for each in x:\n",
    "        if each%2 == 0:\n",
    "            if each > 0:\n",
    "                empty.append(each)\n",
    "    print(\"length is\",len(empty))\n",
    "    print(\"sum of even and positive numbers is\",sum(empty))"
   ]
  },
  {
   "cell_type": "code",
   "execution_count": 6,
   "metadata": {},
   "outputs": [
    {
     "name": "stdout",
     "output_type": "stream",
     "text": [
      "length is 12\n",
      "sum of even and positive numbers is 3376\n"
     ]
    }
   ],
   "source": [
    "x = [-2,2,3,4,12,-13,13,-14,4,36,-2355,34,43,2,32,3232,343,243,6,6,-435,-13,69,0,6,79,-0,-79]\n",
    "func_of_eens(x)"
   ]
  },
  {
   "cell_type": "code",
   "execution_count": 7,
   "metadata": {},
   "outputs": [
    {
     "name": "stdout",
     "output_type": "stream",
     "text": [
      "length is 9\n",
      "sum of even and positive numbers is 357046\n"
     ]
    }
   ],
   "source": [
    "y = [43,34,346,34,34,3543,34,64,34,356432,34]\n",
    "func_of_eens(y)"
   ]
  },
  {
   "cell_type": "code",
   "execution_count": 8,
   "metadata": {},
   "outputs": [
    {
     "name": "stdout",
     "output_type": "stream",
     "text": [
      "length is 9\n",
      "sum of even and positive numbers is 357046\n"
     ]
    }
   ],
   "source": [
    "func_of_eens(y)"
   ]
  },
  {
   "cell_type": "code",
   "execution_count": 5,
   "metadata": {},
   "outputs": [],
   "source": [
    "## make a function if i pass it a list of string so it return me a list of integers\n",
    "# e.g., x = [\"1\", \"2\", \"3\", \"4\", \"5\"] should return [1, 2, 3, 4, 5]\n",
    "\n",
    "def aaa(x):\n",
    "    y = []\n",
    "    for each in x:\n",
    "        y.append(int(each))\n",
    "    return y\n",
    "\n"
   ]
  },
  {
   "cell_type": "code",
   "execution_count": 6,
   "metadata": {},
   "outputs": [
    {
     "name": "stdout",
     "output_type": "stream",
     "text": [
      "1\n",
      "2\n",
      "3\n",
      "4\n",
      "5\n",
      "6\n",
      "7\n",
      "8\n",
      "9\n"
     ]
    },
    {
     "data": {
      "text/plain": [
       "[]"
      ]
     },
     "execution_count": 6,
     "metadata": {},
     "output_type": "execute_result"
    }
   ],
   "source": [
    "x = ['1','2','3','4','5','6','7','8','9']\n",
    "aaa(x)"
   ]
  },
  {
   "cell_type": "code",
   "execution_count": null,
   "metadata": {},
   "outputs": [],
   "source": [
    "y = []\n",
    "y.append(100)\n",
    "print(y)"
   ]
  },
  {
   "cell_type": "code",
   "execution_count": 16,
   "metadata": {},
   "outputs": [],
   "source": [
    "def doctor_andy_condition_teller (temps):\n",
    "    if type(temps)== list:\n",
    "        for temp in temps:\n",
    "            if temp > 100:\n",
    "                print(\"Oh no, Fever!\")\n",
    "            elif temp < 95:\n",
    "                print(\"Oh no, cold!\")\n",
    "            else:\n",
    "                print(\"Normal\")\n",
    "    if type(temps) == dict:\n",
    "        for person in temps:\n",
    "            if temps[person] > 100:\n",
    "                print(person,\"Oh no, Fever!\")\n",
    "            elif temps[person] < 95:\n",
    "                print(person, \"Oh no, cold!\")\n",
    "            else:\n",
    "                print(person, \"Normal\")"
   ]
  },
  {
   "cell_type": "code",
   "execution_count": 17,
   "metadata": {},
   "outputs": [
    {
     "name": "stdout",
     "output_type": "stream",
     "text": [
      "Normal\n",
      "Oh no, Fever!\n",
      "Oh no, Fever!\n",
      "Oh no, Fever!\n"
     ]
    }
   ],
   "source": [
    "temps = [100,102,102.5,101.3]\n",
    "doctor_andy_condition_teller(temps)"
   ]
  },
  {
   "cell_type": "code",
   "execution_count": 18,
   "metadata": {},
   "outputs": [
    {
     "name": "stdout",
     "output_type": "stream",
     "text": [
      "Normal\n",
      "Normal\n",
      "Oh no, Fever!\n",
      "Oh no, Fever!\n",
      "Oh no, Fever!\n",
      "Oh no, cold!\n",
      "Oh no, cold!\n",
      "Normal\n"
     ]
    }
   ],
   "source": [
    "new_ata = [99,100,100.5,101,102,55,90,100]\n",
    "doctor_andy_condition_teller(new_ata)"
   ]
  },
  {
   "cell_type": "code",
   "execution_count": 20,
   "metadata": {},
   "outputs": [
    {
     "name": "stdout",
     "output_type": "stream",
     "text": [
      "angela Normal\n",
      "andy Normal\n",
      "hoto Oh no, Fever!\n",
      "coldo Oh no, cold!\n"
     ]
    }
   ],
   "source": [
    "x = {\"angela\":100, \"andy\":100, \"hoto\":105,\"coldo\":91}\n",
    "doctor_andy_condition_teller(x)"
   ]
  },
  {
   "cell_type": "code",
   "execution_count": 24,
   "metadata": {},
   "outputs": [],
   "source": [
    "## make a function in which if i pass the diameter then it should return circumprence\n",
    "import math\n",
    "def cir(r):\n",
    "    return r * math.pi * 2\n"
   ]
  },
  {
   "cell_type": "code",
   "execution_count": 25,
   "metadata": {},
   "outputs": [
    {
     "data": {
      "text/plain": [
       "12.566370614359172"
      ]
     },
     "execution_count": 25,
     "metadata": {},
     "output_type": "execute_result"
    }
   ],
   "source": [
    "cir(2)"
   ]
  },
  {
   "cell_type": "code",
   "execution_count": null,
   "metadata": {},
   "outputs": [],
   "source": []
  },
  {
   "cell_type": "code",
   "execution_count": null,
   "metadata": {},
   "outputs": [],
   "source": []
  },
  {
   "cell_type": "code",
   "execution_count": null,
   "metadata": {},
   "outputs": [],
   "source": []
  },
  {
   "cell_type": "code",
   "execution_count": null,
   "metadata": {},
   "outputs": [],
   "source": []
  },
  {
   "cell_type": "code",
   "execution_count": null,
   "metadata": {},
   "outputs": [],
   "source": []
  },
  {
   "cell_type": "code",
   "execution_count": null,
   "metadata": {},
   "outputs": [],
   "source": []
  },
  {
   "cell_type": "code",
   "execution_count": null,
   "metadata": {},
   "outputs": [],
   "source": []
  },
  {
   "cell_type": "code",
   "execution_count": null,
   "metadata": {},
   "outputs": [],
   "source": []
  },
  {
   "cell_type": "code",
   "execution_count": null,
   "metadata": {},
   "outputs": [],
   "source": []
  },
  {
   "cell_type": "code",
   "execution_count": null,
   "metadata": {},
   "outputs": [],
   "source": []
  }
 ],
 "metadata": {
  "kernelspec": {
   "display_name": "base",
   "language": "python",
   "name": "python3"
  },
  "language_info": {
   "codemirror_mode": {
    "name": "ipython",
    "version": 3
   },
   "file_extension": ".py",
   "mimetype": "text/x-python",
   "name": "python",
   "nbconvert_exporter": "python",
   "pygments_lexer": "ipython3",
   "version": "3.9.13"
  },
  "orig_nbformat": 4
 },
 "nbformat": 4,
 "nbformat_minor": 2
}
