{
 "cells": [
  {
   "attachments": {},
   "cell_type": "markdown",
   "metadata": {},
   "source": [
    "Certainly! Let's consider a real-world problem involving bacterial growth.\n",
    "\n",
    "Problem:\n",
    "A bacterial culture starts with 100 bacteria in a laboratory environment. The bacteria double in number every 30 minutes. How many bacteria will be present after 3 hours (180 minutes)?"
   ]
  },
  {
   "cell_type": "code",
   "execution_count": 2,
   "metadata": {},
   "outputs": [
    {
     "data": {
      "text/plain": [
       "6400.0"
      ]
     },
     "execution_count": 2,
     "metadata": {},
     "output_type": "execute_result"
    }
   ],
   "source": [
    "t = 180\n",
    "start = 100\n",
    "bacteria = start * 2 ** (t/30)\n",
    "bacteria"
   ]
  },
  {
   "cell_type": "code",
   "execution_count": 3,
   "metadata": {},
   "outputs": [
    {
     "data": {
      "text/plain": [
       "281474976710656.0"
      ]
     },
     "execution_count": 3,
     "metadata": {},
     "output_type": "execute_result"
    }
   ],
   "source": [
    "t = 24 * 60\n",
    "start = 1\n",
    "bacteria = start * 2 ** (t/30)\n",
    "bacteria"
   ]
  },
  {
   "cell_type": "code",
   "execution_count": 4,
   "metadata": {},
   "outputs": [
    {
     "data": {
      "text/plain": [
       "281474976710656.0"
      ]
     },
     "execution_count": 4,
     "metadata": {},
     "output_type": "execute_result"
    }
   ],
   "source": [
    "t = 24 * 60\n",
    "start = 1\n",
    "bacteria = start * 4 ** (t/60)\n",
    "bacteria"
   ]
  },
  {
   "cell_type": "code",
   "execution_count": null,
   "metadata": {},
   "outputs": [],
   "source": [
    "start = 281474976710656.0"
   ]
  },
  {
   "attachments": {},
   "cell_type": "markdown",
   "metadata": {},
   "source": [
    "Problem: John is planning to save for his retirement. He currently has $50,000 in savings, and he wants to invest it in a retirement account that earns min -5% (loss) and also max 10 percent(profit). \n",
    "How much loss he can have\n",
    "how much profit can can earn\n",
    "\n",
    "if he investest 20000 "
   ]
  },
  {
   "cell_type": "code",
   "execution_count": 6,
   "metadata": {},
   "outputs": [
    {
     "data": {
      "text/plain": [
       "19000.0"
      ]
     },
     "execution_count": 6,
     "metadata": {},
     "output_type": "execute_result"
    }
   ],
   "source": [
    "# 10 percent profit new balance\n",
    "money = 20000\n",
    "extra = money*0.1\n",
    "profit = money + extra\n",
    "profit \n",
    "\n",
    "# 5 eprcent loss new price\n",
    "\n",
    "money = 20000\n",
    "extra = money*0.05\n",
    "profit = money - extra\n",
    "profit "
   ]
  },
  {
   "cell_type": "markdown",
   "metadata": {},
   "source": []
  },
  {
   "cell_type": "code",
   "execution_count": null,
   "metadata": {},
   "outputs": [],
   "source": []
  }
 ],
 "metadata": {
  "kernelspec": {
   "display_name": "Python 3",
   "language": "python",
   "name": "python3"
  },
  "language_info": {
   "codemirror_mode": {
    "name": "ipython",
    "version": 3
   },
   "file_extension": ".py",
   "mimetype": "text/x-python",
   "name": "python",
   "nbconvert_exporter": "python",
   "pygments_lexer": "ipython3",
   "version": "3.9.6"
  },
  "orig_nbformat": 4
 },
 "nbformat": 4,
 "nbformat_minor": 2
}
