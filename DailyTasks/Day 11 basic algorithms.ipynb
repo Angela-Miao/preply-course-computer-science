{
 "cells": [
  {
   "attachments": {},
   "cell_type": "markdown",
   "metadata": {},
   "source": [
    "Algorithm 1 = finding average!!!"
   ]
  },
  {
   "cell_type": "code",
   "execution_count": 7,
   "metadata": {},
   "outputs": [
    {
     "name": "stdout",
     "output_type": "stream",
     "text": [
      "2550\n"
     ]
    },
    {
     "data": {
      "text/plain": [
       "150.0"
      ]
     },
     "execution_count": 7,
     "metadata": {},
     "output_type": "execute_result"
    }
   ],
   "source": [
    "lst = [1,12,2,3,5,1,345,6,55,545,413,254,36,6,78,2,786]\n",
    "tot=0\n",
    "for i in lst:\n",
    "    tot = tot+ i\n",
    "print(tot)\n",
    "\n",
    "num = 0\n",
    "for i in lst:\n",
    "    num = num+1\n",
    "\n",
    "tot/num\n"
   ]
  },
  {
   "attachments": {},
   "cell_type": "markdown",
   "metadata": {},
   "source": [
    "## algorithm 2 for finding minimum from list\n",
    "for loop\n",
    "if i < mini\n",
    "min = i"
   ]
  },
  {
   "cell_type": "code",
   "execution_count": 22,
   "metadata": {},
   "outputs": [
    {
     "name": "stdout",
     "output_type": "stream",
     "text": [
      "1234890\n",
      "122334\n",
      "21434\n",
      "231\n",
      "99\n",
      "22\n",
      "5\n",
      "4\n"
     ]
    }
   ],
   "source": [
    "lst = [1234890,122334,214364,23323,235681,95454679,20988762,38586064,48660872,464587,5,55,6,7,6,78,7,6,5,4,345,43,53]\n",
    "min = 1234567890\n",
    "for i in lst:\n",
    "    if i < min:\n",
    "        min =  i\n",
    "\n",
    "        print(min)\n"
   ]
  },
  {
   "cell_type": "markdown",
   "metadata": {},
   "source": [
    "# algorithm 3 find maximum from list\n"
   ]
  },
  {
   "cell_type": "code",
   "execution_count": 24,
   "metadata": {},
   "outputs": [
    {
     "name": "stdout",
     "output_type": "stream",
     "text": [
      "43212340\n"
     ]
    }
   ],
   "source": [
    "lis = [0,0,0,0,0,23,4,423,423,4324,64,55,6,324,6,24234,3256,23523,43212340,0,0,0,0,0,0,0,0,0,0]\n",
    "max = -1234567890\n",
    "for i in lis:\n",
    "    if i > max:\n",
    "        max = i\n",
    "\n",
    "print(max)"
   ]
  },
  {
   "attachments": {},
   "cell_type": "markdown",
   "metadata": {},
   "source": [
    "#algorithm 4 searching algorithm"
   ]
  },
  {
   "cell_type": "code",
   "execution_count": 27,
   "metadata": {},
   "outputs": [
    {
     "name": "stdout",
     "output_type": "stream",
     "text": [
      "ur index is 12\n"
     ]
    }
   ],
   "source": [
    "lst = [123,23,123,12,321,41324,123,124,413,21434,123,123431,1234567890,1234124,312,123,12]\n",
    "# where 413 is present what index\n",
    "p = 0\n",
    "ind = 1234567890\n",
    "for i in lst:\n",
    "    if i == ind:\n",
    "        print(\"ur index is\", p)\n",
    "    p = p + 1\n"
   ]
  },
  {
   "cell_type": "code",
   "execution_count": 35,
   "metadata": {},
   "outputs": [
    {
     "name": "stdout",
     "output_type": "stream",
     "text": [
      "ur index is -13\n"
     ]
    }
   ],
   "source": [
    "# how will you find negative index\n",
    "lst = [123,23,123,12,321,41324,123,124,413,21434,123,123431,1234567890,1234124,312,123,12]\n",
    "num = 0\n",
    "for j in lst:\n",
    "    num = num+1\n",
    "p = num\n",
    "ind = 321\n",
    "for i in lst:\n",
    "    if i == ind:\n",
    "        print(\"ur index is\", -p)\n",
    "    p = p - 1"
   ]
  },
  {
   "cell_type": "code",
   "execution_count": 37,
   "metadata": {},
   "outputs": [
    {
     "data": {
      "text/plain": [
       "[2, 1]"
      ]
     },
     "execution_count": 37,
     "metadata": {},
     "output_type": "execute_result"
    }
   ],
   "source": [
    "x = [1,2]\n",
    "p = x[1]\n",
    "q = x[0]\n",
    "x[0] = p\n",
    "x[1] = q\n",
    "x"
   ]
  },
  {
   "cell_type": "code",
   "execution_count": 13,
   "metadata": {},
   "outputs": [
    {
     "name": "stdout",
     "output_type": "stream",
     "text": [
      "original [1, 1, 1, 1, 1, 1, 1, 1, 1, 1, 2, 1]\n",
      "rolling average is  3 [1.0, 1.0, 1.0, 1.0, 1.0, 1.0, 1.0, 1.0, 1.3333333333333333]\n"
     ]
    }
   ],
   "source": [
    " # rolling average\n",
    "\n",
    "# lets say you have a lsit\n",
    "# you have window size \n",
    "# how to find rolling average of window size =3\n",
    "x = [1,1,1,1,1,1,1,1,1,1,2,1]\n",
    "w = 3\n",
    "ang = []\n",
    "for i in range(len(x)-w):\n",
    "    y = x[i:i+w]\n",
    "    z = sum(y)/len(y)\n",
    "    ang.append(z)\n",
    "print(\"original\",x)\n",
    "print(\"rolling average is \",w,ang)"
   ]
  },
  {
   "cell_type": "code",
   "execution_count": 15,
   "metadata": {},
   "outputs": [],
   "source": [
    "def banana(x,w):\n",
    "    ang = []\n",
    "    for i in range(len(x)-w):\n",
    "        y = x[i:i+w]\n",
    "        z = sum(y)/len(y)\n",
    "        ang.append(z)\n",
    "    print(\"original\",x)\n",
    "    print(\"rolling average is \",w,ang)\n"
   ]
  },
  {
   "cell_type": "code",
   "execution_count": 17,
   "metadata": {},
   "outputs": [
    {
     "name": "stdout",
     "output_type": "stream",
     "text": [
      "original [1, 2, 3, 4, 5, 6, 7, 8, 9, 1, 2, 3, 4, 5, 6, 7, 8, 9, 1, 2, 3, 4, 5, 6, 7, 8, 9]\n",
      "rolling average is  2 [1.5, 2.5, 3.5, 4.5, 5.5, 6.5, 7.5, 8.5, 5.0, 1.5, 2.5, 3.5, 4.5, 5.5, 6.5, 7.5, 8.5, 5.0, 1.5, 2.5, 3.5, 4.5, 5.5, 6.5, 7.5]\n"
     ]
    }
   ],
   "source": [
    "banana([1,2,3,4,5,6,7,8,9,1,2,3,4,5,6,7,8,9,1,2,3,4,5,6,7,8,9],2)"
   ]
  },
  {
   "cell_type": "code",
   "execution_count": 18,
   "metadata": {},
   "outputs": [
    {
     "name": "stdout",
     "output_type": "stream",
     "text": [
      "102\n"
     ]
    }
   ],
   "source": [
    "# withougins uing any functon \n",
    "# can you findthe maximum number from list\n",
    "x = [40,50,30,56,87,32,46,8,98,58,33,102,43,2,33,100,20,32,35,44]\n",
    "max = -1234567890\n",
    "for each in x:\n",
    "    if each > max:\n",
    "        max = each\n",
    "print(max)"
   ]
  },
  {
   "cell_type": "code",
   "execution_count": 20,
   "metadata": {},
   "outputs": [
    {
     "name": "stdout",
     "output_type": "stream",
     "text": [
      "12\n",
      "212\n",
      "23123\n",
      "213213\n",
      "21423\n",
      "431312\n",
      "321321\n",
      "321321\n",
      "321332\n",
      "321\n",
      "12\n",
      "12\n",
      "12\n",
      "45\n",
      "43\n",
      "34\n",
      "34\n",
      "34\n",
      "34\n"
     ]
    }
   ],
   "source": [
    "# find repeating umber from a list\n",
    "x = [12,212,23123,213213,21423,431312,321321,321321,321332,321,12,12,12,45,43,34,34,34,34]\n",
    "for i in x:\n",
    "    if i  == i:\n",
    "        print(i)"
   ]
  },
  {
   "cell_type": "code",
   "execution_count": 21,
   "metadata": {},
   "outputs": [],
   "source": [
    "def caca(x,v):\n",
    "    counter = 0\n",
    "    for each in x:\n",
    "        if each ==v:\n",
    "            counter = counter + 1\n",
    "    if counter >1:\n",
    "        return \"repeating\"\n",
    "    else:\n",
    "        return \"not repeating\""
   ]
  },
  {
   "cell_type": "code",
   "execution_count": 33,
   "metadata": {},
   "outputs": [
    {
     "name": "stdout",
     "output_type": "stream",
     "text": [
      "1 not repeating\n",
      "2 repeating\n",
      "3 repeating\n",
      "55 not repeating\n",
      "324 not repeating\n",
      "34 repeating\n",
      "24 not repeating\n",
      "23432 not repeating\n",
      "432 not repeating\n",
      "6 repeating\n",
      "423 not repeating\n",
      "32 repeating\n",
      "23 repeating\n",
      "4 repeating\n",
      "5 not repeating\n"
     ]
    }
   ],
   "source": [
    "x = [1,2,2,2,3,55,3,324,34,3,24,23432,432,34,3,6,423,32,23,32,2,32,3,4,23,4,5,6]\n",
    "# run a for loop to see if number is repeating or not\n",
    "words_repeating = []\n",
    "for k in x:\n",
    "    if not k in words_repeating:\n",
    "        print(k,caca(x,k))\n",
    "        words_repeating.append(k)\n",
    "\n"
   ]
  },
  {
   "cell_type": "code",
   "execution_count": 34,
   "metadata": {},
   "outputs": [
    {
     "data": {
      "text/plain": [
       "[1, 2, 3, 55, 324, 34, 24, 23432, 432, 6, 423, 32, 23, 4, 5]"
      ]
     },
     "execution_count": 34,
     "metadata": {},
     "output_type": "execute_result"
    }
   ],
   "source": [
    "words_repeating "
   ]
  },
  {
   "cell_type": "code",
   "execution_count": 32,
   "metadata": {},
   "outputs": [],
   "source": [
    "# how many time which word is repeating......"
   ]
  },
  {
   "cell_type": "code",
   "execution_count": null,
   "metadata": {},
   "outputs": [],
   "source": []
  }
 ],
 "metadata": {
  "kernelspec": {
   "display_name": "base",
   "language": "python",
   "name": "python3"
  },
  "language_info": {
   "codemirror_mode": {
    "name": "ipython",
    "version": 3
   },
   "file_extension": ".py",
   "mimetype": "text/x-python",
   "name": "python",
   "nbconvert_exporter": "python",
   "pygments_lexer": "ipython3",
   "version": "3.9.13"
  },
  "orig_nbformat": 4
 },
 "nbformat": 4,
 "nbformat_minor": 2
}
