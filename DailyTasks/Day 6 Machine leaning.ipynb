{
 "cells": [
  {
   "cell_type": "code",
   "execution_count": 1,
   "metadata": {},
   "outputs": [],
   "source": [
    "# what is neuron in ML\n"
   ]
  },
  {
   "cell_type": "code",
   "execution_count": 20,
   "metadata": {},
   "outputs": [
    {
     "data": {
      "text/plain": [
       "0"
      ]
     },
     "execution_count": 20,
     "metadata": {},
     "output_type": "execute_result"
    }
   ],
   "source": [
    "x1 = 0\n",
    "x2 = 0\n",
    "\n",
    "\n",
    "\n",
    "\n",
    "\n",
    "w1 = 1\n",
    "w2 = 1\n",
    "\n",
    "y = x1*w1 + x2*w2\n",
    "\n",
    "1 if y>0 else y"
   ]
  },
  {
   "cell_type": "code",
   "execution_count": 28,
   "metadata": {},
   "outputs": [
    {
     "data": {
      "text/plain": [
       "1"
      ]
     },
     "execution_count": 28,
     "metadata": {},
     "output_type": "execute_result"
    }
   ],
   "source": [
    "# hot make and gate with one nuron\n",
    "x1 = 1\n",
    "x2 = 1\n",
    "\n",
    "\n",
    "\n",
    "\n",
    "\n",
    "w1 = 1\n",
    "w2 = 1\n",
    "\n",
    "y = x1*w1 + x2*w2 - 2\n",
    "\n",
    "1 if y>=0 else 0"
   ]
  },
  {
   "cell_type": "code",
   "execution_count": 57,
   "metadata": {},
   "outputs": [
    {
     "name": "stdout",
     "output_type": "stream",
     "text": [
      "Output after training:\n"
     ]
    },
    {
     "data": {
      "text/plain": [
       "array([[0],\n",
       "       [0],\n",
       "       [1],\n",
       "       [1]])"
      ]
     },
     "execution_count": 57,
     "metadata": {},
     "output_type": "execute_result"
    }
   ],
   "source": [
    "# 8x3x8\n",
    "import numpy as np\n",
    "\n",
    "# Sigmoid activation function\n",
    "def sigmoid(x):\n",
    "    return 1 / (1 + np.exp(-x))\n",
    "\n",
    "# Derivative of the sigmoid function\n",
    "def sigmoid_derivative(x):\n",
    "    return x * (1 - x)\n",
    "\n",
    "# Input data\n",
    "X = np.array([[0, 0, 0],\n",
    "              [1, 1, 1],\n",
    "              [0, 1, 1],\n",
    "              [1, 0, 0]\n",
    "              ])\n",
    "\n",
    "# Output data\n",
    "y = np.array([[0, 0, 1,1]]).T\n",
    "\n",
    "# Seed random numbers for reproducibility\n",
    "np.random.seed(1)\n",
    "\n",
    "# Initialize weights randomly with mean 0\n",
    "synaptic_weights_1 = 2 * np.random.random((3, 8)) - 1\n",
    "synaptic_weights_2 = 2 * np.random.random((8, 8)) - 1\n",
    "synaptic_weights_3 = 2 * np.random.random((8, 1)) - 1\n",
    "\n",
    "# Training the neural network\n",
    "for i in range(60000):\n",
    "    # Forward propagation through layers 1, 2, and 3\n",
    "    layer_1 = sigmoid(np.dot(X, synaptic_weights_1))\n",
    "    layer_2 = sigmoid(np.dot(layer_1, synaptic_weights_2))\n",
    "    layer_3 = sigmoid(np.dot(layer_2, synaptic_weights_3))\n",
    "\n",
    "    # Calculate errors for layer 3\n",
    "    layer_3_error = y - layer_3\n",
    "\n",
    "    # Backpropagation and updating weights\n",
    "    layer_3_delta = layer_3_error * sigmoid_derivative(layer_3)\n",
    "    layer_2_error = layer_3_delta.dot(synaptic_weights_3.T)\n",
    "    layer_2_delta = layer_2_error * sigmoid_derivative(layer_2)\n",
    "    layer_1_error = layer_2_delta.dot(synaptic_weights_2.T)\n",
    "    layer_1_delta = layer_1_error * sigmoid_derivative(layer_1)\n",
    "\n",
    "    synaptic_weights_3 += layer_2.T.dot(layer_3_delta)\n",
    "    synaptic_weights_2 += layer_1.T.dot(layer_2_delta)\n",
    "    synaptic_weights_1 += X.T.dot(layer_1_delta)\n",
    "\n",
    "# Print the final output after training\n",
    "print(\"Output after training:\")\n",
    "(layer_3 >0.5).astype(int)\n",
    "\n"
   ]
  },
  {
   "cell_type": "code",
   "execution_count": 58,
   "metadata": {},
   "outputs": [
    {
     "name": "stdout",
     "output_type": "stream",
     "text": [
      "Predictions for new inputs:\n",
      "[1]\n"
     ]
    }
   ],
   "source": [
    "# New input data for testing\n",
    "new_inputs = np.array([0, 1, 1]) # Test input 3\n",
    "\n",
    "# Forward propagation through the trained network to get predictions\n",
    "test_output_layer_1 = sigmoid(np.dot(new_inputs, synaptic_weights_1))\n",
    "test_output_layer_2 = sigmoid(np.dot(test_output_layer_1, synaptic_weights_2))\n",
    "test_output_layer_3 = sigmoid(np.dot(test_output_layer_2, synaptic_weights_3))\n",
    "\n",
    "# Print the predictions\n",
    "print(\"Predictions for new inputs:\")\n",
    "print((test_output_layer_3>0.5).astype(int))\n"
   ]
  }
 ],
 "metadata": {
  "kernelspec": {
   "display_name": "base",
   "language": "python",
   "name": "python3"
  },
  "language_info": {
   "codemirror_mode": {
    "name": "ipython",
    "version": 3
   },
   "file_extension": ".py",
   "mimetype": "text/x-python",
   "name": "python",
   "nbconvert_exporter": "python",
   "pygments_lexer": "ipython3",
   "version": "3.9.13"
  },
  "orig_nbformat": 4
 },
 "nbformat": 4,
 "nbformat_minor": 2
}
