{
 "cells": [
  {
   "cell_type": "code",
   "execution_count": 8,
   "metadata": {},
   "outputs": [
    {
     "name": "stdout",
     "output_type": "stream",
     "text": [
      "35235\n"
     ]
    }
   ],
   "source": [
    "## make a list of number and find the second largest number\n",
    "abc = [4,343,242,342,3423,5343252,35235,24,23,5435,423,64,643]\n",
    "sorted(abc)\n",
    "print(sorted(abc) [-2])"
   ]
  },
  {
   "cell_type": "code",
   "execution_count": 11,
   "metadata": {},
   "outputs": [
    {
     "data": {
      "text/plain": [
       "3"
      ]
     },
     "execution_count": 11,
     "metadata": {},
     "output_type": "execute_result"
    }
   ],
   "source": [
    "# import ranom module and create a randomnumber variable from 1 to 20\n",
    "import random \n",
    "random.randint(1,20)"
   ]
  },
  {
   "cell_type": "code",
   "execution_count": 17,
   "metadata": {},
   "outputs": [
    {
     "data": {
      "text/html": [
       "<div>\n",
       "<style scoped>\n",
       "    .dataframe tbody tr th:only-of-type {\n",
       "        vertical-align: middle;\n",
       "    }\n",
       "\n",
       "    .dataframe tbody tr th {\n",
       "        vertical-align: top;\n",
       "    }\n",
       "\n",
       "    .dataframe thead th {\n",
       "        text-align: right;\n",
       "    }\n",
       "</style>\n",
       "<table border=\"1\" class=\"dataframe\">\n",
       "  <thead>\n",
       "    <tr style=\"text-align: right;\">\n",
       "      <th></th>\n",
       "      <th>mango</th>\n",
       "      <th>orange</th>\n",
       "      <th>strawberry</th>\n",
       "      <th>blueberry</th>\n",
       "      <th>grape</th>\n",
       "      <th>melon</th>\n",
       "    </tr>\n",
       "  </thead>\n",
       "  <tbody>\n",
       "    <tr>\n",
       "      <th>0</th>\n",
       "      <td>yellow</td>\n",
       "      <td>orange</td>\n",
       "      <td>red</td>\n",
       "      <td>blue</td>\n",
       "      <td>purple</td>\n",
       "      <td>green</td>\n",
       "    </tr>\n",
       "    <tr>\n",
       "      <th>1</th>\n",
       "      <td>green</td>\n",
       "      <td>light_orange</td>\n",
       "      <td>white-red</td>\n",
       "      <td>blue2</td>\n",
       "      <td>greeen</td>\n",
       "      <td>green</td>\n",
       "    </tr>\n",
       "  </tbody>\n",
       "</table>\n",
       "</div>"
      ],
      "text/plain": [
       "    mango        orange strawberry blueberry   grape  melon\n",
       "0  yellow        orange        red      blue  purple  green\n",
       "1   green  light_orange  white-red     blue2  greeen  green"
      ]
     },
     "execution_count": 17,
     "metadata": {},
     "output_type": "execute_result"
    }
   ],
   "source": [
    "banana = {\"mango\":\"yellow\",\"orange\":\"orange\",\"strawberry\":\"red\",\"blueberry\":\"blue\",\"grape\":\"purple\",\"melon\":\"green\"}\n",
    "banana2 = {\"mango\":\"green\",\"orange\":\"light_orange\",\"strawberry\":\"white-red\",\"blueberry\":\"blue2\",\"grape\":\"greeen\",\"melon\":\"green\"}\n",
    "\n",
    "\n",
    "# import pandas as pd and write pd.DataFrame(d) to change that dictionary to data frame\n",
    "import pandas as pd\n",
    "pd.DataFrame([banana,banana2])\n"
   ]
  },
  {
   "cell_type": "code",
   "execution_count": null,
   "metadata": {},
   "outputs": [],
   "source": [
    "# tomorrow"
   ]
  },
  {
   "cell_type": "code",
   "execution_count": null,
   "metadata": {},
   "outputs": [],
   "source": []
  }
 ],
 "metadata": {
  "kernelspec": {
   "display_name": "base",
   "language": "python",
   "name": "python3"
  },
  "language_info": {
   "codemirror_mode": {
    "name": "ipython",
    "version": 3
   },
   "file_extension": ".py",
   "mimetype": "text/x-python",
   "name": "python",
   "nbconvert_exporter": "python",
   "pygments_lexer": "ipython3",
   "version": "3.9.13"
  },
  "orig_nbformat": 4
 },
 "nbformat": 4,
 "nbformat_minor": 2
}
