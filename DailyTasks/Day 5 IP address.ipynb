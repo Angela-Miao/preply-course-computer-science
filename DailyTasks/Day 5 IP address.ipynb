{
 "cells": [
  {
   "cell_type": "code",
   "execution_count": 1,
   "metadata": {},
   "outputs": [
    {
     "data": {
      "text/plain": [
       "42"
      ]
     },
     "execution_count": 1,
     "metadata": {},
     "output_type": "execute_result"
    }
   ],
   "source": [
    "# how to convert a binary to decimal\n",
    "x = \"11001\"\n",
    "1 * 2**4   + 1 * 2**3 + 0* 2**2 + 0* 2**1 + 1 * 2**0\n",
    "\n",
    "y = \"101010\"\n",
    "1 * 2**5 + 0 * 2**4 + 1 * 2**3 + 0 * 2**2 + 1 * 2**1 + 0 * 2**0"
   ]
  },
  {
   "cell_type": "code",
   "execution_count": 2,
   "metadata": {},
   "outputs": [
    {
     "name": "stdout",
     "output_type": "stream",
     "text": [
      "0\n",
      "1\n",
      "0\n",
      "1\n",
      "0\n",
      "1\n",
      "0\n"
     ]
    }
   ],
   "source": [
    "# how to convert a decimal to binary\n",
    "y = 42\n",
    "print(y%2)\n",
    "y = y//2\n",
    "print(y%2)\n",
    "y = y//2\n",
    "print(y%2)\n",
    "y = y//2\n",
    "print(y%2)\n",
    "y = y//2\n",
    "print(y%2)\n",
    "\n",
    "y = y//2\n",
    "print(y%2) \n",
    "\n",
    "y = y//2\n",
    "print(y%2)\n",
    "\n",
    "\n",
    "\n"
   ]
  },
  {
   "cell_type": "code",
   "execution_count": 3,
   "metadata": {},
   "outputs": [],
   "source": [
    "## maek a function which will convert a binary to decimal\n"
   ]
  },
  {
   "cell_type": "code",
   "execution_count": 4,
   "metadata": {},
   "outputs": [],
   "source": [
    "x = \"101010\"\n"
   ]
  },
  {
   "cell_type": "code",
   "execution_count": 5,
   "metadata": {},
   "outputs": [],
   "source": [
    "num =  42\n",
    "com =  [128,64,32,16,8,4,2,1]\n",
    "#bin = [1,0,1,0,1,0]\n",
    "\n",
    "\n",
    "# Rule for our number 42 find the number which is not more than it \n",
    "\n",
    "# Rule 2 add it to seelect number but it should not be more than 42\n",
    "# keep on search and add of its sum is less than number\n",
    "\n"
   ]
  },
  {
   "cell_type": "code",
   "execution_count": 6,
   "metadata": {},
   "outputs": [
    {
     "data": {
      "text/plain": [
       "42"
      ]
     },
     "execution_count": 6,
     "metadata": {},
     "output_type": "execute_result"
    }
   ],
   "source": [
    "x = \"101010\"\n",
    "int(x,2)"
   ]
  },
  {
   "cell_type": "code",
   "execution_count": 7,
   "metadata": {},
   "outputs": [
    {
     "data": {
      "text/plain": [
       "'0b101010'"
      ]
     },
     "execution_count": 7,
     "metadata": {},
     "output_type": "execute_result"
    }
   ],
   "source": [
    "bin(42)"
   ]
  },
  {
   "cell_type": "code",
   "execution_count": 8,
   "metadata": {},
   "outputs": [
    {
     "data": {
      "text/plain": [
       "'0x2a'"
      ]
     },
     "execution_count": 8,
     "metadata": {},
     "output_type": "execute_result"
    }
   ],
   "source": [
    "hex(42)"
   ]
  },
  {
   "cell_type": "code",
   "execution_count": 20,
   "metadata": {},
   "outputs": [
    {
     "name": "stdout",
     "output_type": "stream",
     "text": [
      "hex of 0 0x0\n",
      "hex of 1 0x1\n",
      "hex of 2 0x2\n",
      "hex of 3 0x3\n",
      "hex of 4 0x4\n",
      "hex of 5 0x5\n",
      "hex of 6 0x6\n",
      "hex of 7 0x7\n",
      "hex of 8 0x8\n",
      "hex of 9 0x9\n",
      "hex of 10 0xa\n",
      "hex of 11 0xb\n",
      "hex of 12 0xc\n",
      "hex of 13 0xd\n",
      "hex of 14 0xe\n",
      "hex of 15 0xf\n",
      "hex of 16 0x10\n",
      "hex of 17 0x11\n",
      "hex of 18 0x12\n",
      "hex of 19 0x13\n"
     ]
    }
   ],
   "source": [
    "#123456789abcdef \n",
    "for i in range(20):\n",
    "    print(\"hex of\",i,hex(i))"
   ]
  },
  {
   "cell_type": "code",
   "execution_count": 21,
   "metadata": {},
   "outputs": [],
   "source": [
    "# what are IP Address"
   ]
  },
  {
   "cell_type": "code",
   "execution_count": 22,
   "metadata": {},
   "outputs": [
    {
     "data": {
      "text/plain": [
       "4228250625"
      ]
     },
     "execution_count": 22,
     "metadata": {},
     "output_type": "execute_result"
    }
   ],
   "source": [
    "# first we had ipv4 and it had from 0.0.0.0 to  255.255.255.255\n",
    "# in total in all world you can have \n",
    "255*255*255*255"
   ]
  },
  {
   "cell_type": "code",
   "execution_count": 23,
   "metadata": {},
   "outputs": [],
   "source": [
    "# 4 Billion # this was not enough\n"
   ]
  },
  {
   "cell_type": "code",
   "execution_count": 25,
   "metadata": {},
   "outputs": [
    {
     "data": {
      "text/plain": [
       "1152921504606846976"
      ]
     },
     "execution_count": 25,
     "metadata": {},
     "output_type": "execute_result"
    }
   ],
   "source": [
    "# solution\n",
    "\n",
    "#0.0.0.0.0 and each has 12 bits\n",
    "# how you wull find how many ip addresses we can have\n",
    "bit = 12\n",
    "dec = 2**bit\n",
    "nip = dec ** 5\n",
    "nip"
   ]
  },
  {
   "cell_type": "code",
   "execution_count": 51,
   "metadata": {},
   "outputs": [
    {
     "data": {
      "text/plain": [
       "4096"
      ]
     },
     "execution_count": 51,
     "metadata": {},
     "output_type": "execute_result"
    }
   ],
   "source": [
    "# factory, which is hiring an IT professional\n",
    "# they are asking we have 2000 computers in our company\n",
    "\n",
    "# how many IP adresses we need\n",
    "Ip = 2048\n",
    "# what should be the bits size and what should be number of ...\n",
    "Bit = 3\n",
    "Dec = 2**Bit\n",
    "Nip = Dec ** 4\n",
    "\n",
    "Nip\n",
    "# design?\n",
    "\n"
   ]
  },
  {
   "cell_type": "code",
   "execution_count": null,
   "metadata": {},
   "outputs": [],
   "source": [
    "#0.0.0.0 to 7.7.7.7"
   ]
  },
  {
   "cell_type": "code",
   "execution_count": 55,
   "metadata": {},
   "outputs": [
    {
     "data": {
      "text/plain": [
       "2048"
      ]
     },
     "execution_count": 55,
     "metadata": {},
     "output_type": "execute_result"
    }
   ],
   "source": [
    "# IP professiona whoa re hiring they say we can not afford can you please try any way \n",
    "# to use 2048 numeber \n",
    "\n",
    "Ip = 2048\n",
    "# what should be the bits size and what should be number of ...\n",
    "Bit = 11\n",
    "Dec = 2**Bit\n",
    "Nip = Dec ** 1\n",
    "\n",
    "Nip"
   ]
  },
  {
   "cell_type": "code",
   "execution_count": 69,
   "metadata": {},
   "outputs": [
    {
     "data": {
      "text/plain": [
       "4096"
      ]
     },
     "execution_count": 69,
     "metadata": {},
     "output_type": "execute_result"
    }
   ],
   "source": [
    "# can you make your ip adres like this 0.0.0\n",
    "Ip = 2048\n",
    "# what should be the bits size and what should be number of ...\n",
    "Bit = 4\n",
    "Dec = 2**Bit\n",
    "Nip = Dec ** 3\n",
    "\n",
    "Nip"
   ]
  },
  {
   "cell_type": "code",
   "execution_count": 63,
   "metadata": {},
   "outputs": [],
   "source": [
    "# we can not do it with 3 the minimum can purchase is 2048\n"
   ]
  },
  {
   "cell_type": "code",
   "execution_count": 70,
   "metadata": {},
   "outputs": [],
   "source": [
    "## lets buy 4096 and later may be we can resell ir or we can do extension  ffrom 2000 to 4000 pc"
   ]
  },
  {
   "cell_type": "code",
   "execution_count": null,
   "metadata": {},
   "outputs": [],
   "source": []
  }
 ],
 "metadata": {
  "kernelspec": {
   "display_name": "base",
   "language": "python",
   "name": "python3"
  },
  "language_info": {
   "codemirror_mode": {
    "name": "ipython",
    "version": 3
   },
   "file_extension": ".py",
   "mimetype": "text/x-python",
   "name": "python",
   "nbconvert_exporter": "python",
   "pygments_lexer": "ipython3",
   "version": "3.9.13"
  },
  "orig_nbformat": 4
 },
 "nbformat": 4,
 "nbformat_minor": 2
}
