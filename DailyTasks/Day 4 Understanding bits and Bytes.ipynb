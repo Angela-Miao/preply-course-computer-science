{
 "cells": [
  {
   "cell_type": "code",
   "execution_count": 1,
   "metadata": {},
   "outputs": [
    {
     "data": {
      "text/plain": [
       "32.0"
      ]
     },
     "execution_count": 1,
     "metadata": {},
     "output_type": "execute_result"
    }
   ],
   "source": [
    "b = 256 # these are 8 bits\n",
    "# \n",
    "B = 256/8\n",
    "B\n"
   ]
  },
  {
   "cell_type": "code",
   "execution_count": 3,
   "metadata": {},
   "outputs": [
    {
     "data": {
      "text/plain": [
       "800"
      ]
     },
     "execution_count": 3,
     "metadata": {},
     "output_type": "execute_result"
    }
   ],
   "source": [
    "# if i have 100 Byte\n",
    "# how many bits\n",
    "# each byte has 8 bits in it\n",
    "byte = 100\n",
    "bits_in_byte = 8\n",
    "total_bits = byte * bits_in_byte\n",
    "total_bits\n"
   ]
  },
  {
   "cell_type": "code",
   "execution_count": 8,
   "metadata": {},
   "outputs": [],
   "source": [
    "# how many KByte are tehre if i have 1000 bits\n",
    "b = 1000\n",
    "BY =  b /8\n",
    "#MB = 125000 * BY\n",
    "#MBY = 8 * MB\n",
    "#MBY"
   ]
  },
  {
   "cell_type": "code",
   "execution_count": 9,
   "metadata": {},
   "outputs": [
    {
     "data": {
      "text/plain": [
       "0.125"
      ]
     },
     "execution_count": 9,
     "metadata": {},
     "output_type": "execute_result"
    }
   ],
   "source": [
    "KB = 1000 #Bytes\n",
    "BY/KB"
   ]
  },
  {
   "cell_type": "code",
   "execution_count": 11,
   "metadata": {},
   "outputs": [
    {
     "data": {
      "text/plain": [
       "625.0"
      ]
     },
     "execution_count": 11,
     "metadata": {},
     "output_type": "execute_result"
    }
   ],
   "source": [
    "# 5000 bits\n",
    "# please chang eit into Byte\n",
    "b = 5000\n",
    "by = b/8\n",
    "by"
   ]
  },
  {
   "cell_type": "code",
   "execution_count": 13,
   "metadata": {},
   "outputs": [
    {
     "data": {
      "text/plain": [
       "7.58875"
      ]
     },
     "execution_count": 13,
     "metadata": {},
     "output_type": "execute_result"
    }
   ],
   "source": [
    "Mb = 60.71\n",
    "MB = Mb/8 # MBps\n",
    "MB"
   ]
  },
  {
   "cell_type": "code",
   "execution_count": 16,
   "metadata": {},
   "outputs": [],
   "source": [
    "filesize = 800 #MB\n"
   ]
  },
  {
   "cell_type": "code",
   "execution_count": 17,
   "metadata": {},
   "outputs": [
    {
     "data": {
      "text/plain": [
       "105.41920606160434"
      ]
     },
     "execution_count": 17,
     "metadata": {},
     "output_type": "execute_result"
    }
   ],
   "source": [
    "# MB , MBps , s\n",
    "filesize/MB"
   ]
  },
  {
   "cell_type": "code",
   "execution_count": 18,
   "metadata": {},
   "outputs": [],
   "source": [
    "# 10 GB to download\n",
    "#\n",
    "# 10 GB to byte\n",
    "# how many Bytes in 1 GB\n",
    "sizeMB = 10 * 1000\n"
   ]
  },
  {
   "cell_type": "code",
   "execution_count": 20,
   "metadata": {},
   "outputs": [
    {
     "data": {
      "text/plain": [
       "21.962334596167572"
      ]
     },
     "execution_count": 20,
     "metadata": {},
     "output_type": "execute_result"
    }
   ],
   "source": [
    "sizeMB/MB/60"
   ]
  },
  {
   "cell_type": "code",
   "execution_count": 23,
   "metadata": {},
   "outputs": [],
   "source": [
    "# lets stay you have 10000000 MB file and your speed is 60MB\n",
    "# how long it will take you \n",
    "MB = 60\n",
    "MBF = 10000000\n",
    "Banana = MBF/MB "
   ]
  },
  {
   "cell_type": "code",
   "execution_count": 28,
   "metadata": {},
   "outputs": [
    {
     "data": {
      "text/plain": [
       "(2777.777777777778, 46.2962962962963, 1.9290123456790125)"
      ]
     },
     "execution_count": 28,
     "metadata": {},
     "output_type": "execute_result"
    }
   ],
   "source": [
    "# minutes and hours\n",
    "BananaM = Banana/ 60\n",
    "BananaH = BananaM/ 60\n",
    "BananaD = BananaH/24\n",
    "BananaM,BananaH, BananaD"
   ]
  },
  {
   "cell_type": "code",
   "execution_count": 31,
   "metadata": {},
   "outputs": [
    {
     "name": "stdout",
     "output_type": "stream",
     "text": [
      "0.45762401610836534\n",
      "1.0677741167856487\n",
      "1.4746018671059857\n",
      "24.91488193300384\n",
      "18.451995240710232\n",
      "184.5287845506132\n"
     ]
    }
   ],
   "source": [
    "x = [100000,233330,322230,5444400,4032130,40323230]# MB\n",
    "# for all tell me timre in hours\n",
    "speed = 60.7\n",
    "for i in x:\n",
    "    print(i/speed/3600)"
   ]
  },
  {
   "cell_type": "code",
   "execution_count": 32,
   "metadata": {},
   "outputs": [],
   "source": [
    "# understanding more about bits and bytes and how computers are made etc\n"
   ]
  },
  {
   "cell_type": "code",
   "execution_count": 38,
   "metadata": {},
   "outputs": [
    {
     "name": "stdout",
     "output_type": "stream",
     "text": [
      "and gate 1\n",
      "or gate 1\n"
     ]
    }
   ],
   "source": [
    "x = 1\n",
    "y = 1\n",
    "print(\"and gate\",x and y)\n",
    "print(\"or gate\",x or y)"
   ]
  },
  {
   "cell_type": "code",
   "execution_count": 47,
   "metadata": {},
   "outputs": [
    {
     "name": "stdout",
     "output_type": "stream",
     "text": [
      "and gate 0\n",
      "or gate 0\n",
      "and gate 0\n"
     ]
    }
   ],
   "source": [
    "X = 0\n",
    "Y = 0\n",
    "Z = 0\n",
    "a = X and Y\n",
    "b = X or Z\n",
    "print(\"and gate\",a)\n",
    "print(\"or gate\",b)\n",
    "print(\"and gate\",a and b)"
   ]
  },
  {
   "cell_type": "code",
   "execution_count": 63,
   "metadata": {},
   "outputs": [
    {
     "name": "stdout",
     "output_type": "stream",
     "text": [
      "or gate 1\n",
      "and gate 0\n",
      "and gate 0\n"
     ]
    }
   ],
   "source": [
    "X = 0\n",
    "Y = 0\n",
    "Z = 1\n",
    "a = X and Y\n",
    "b = X or Z\n",
    "print(\"or gate\",b)\n",
    "print(\"and gate\",a)\n",
    "print(\"and gate\",a and b)"
   ]
  },
  {
   "cell_type": "code",
   "execution_count": 62,
   "metadata": {},
   "outputs": [
    {
     "name": "stdout",
     "output_type": "stream",
     "text": [
      "and gate 0\n",
      "or gate 1\n",
      "and gate 0\n"
     ]
    }
   ],
   "source": [
    "X = 0\n",
    "Y = 0\n",
    "Z = 1\n",
    "a = X and Y\n",
    "b = X or Z\n",
    "print(\"and gate\",a)\n",
    "print(\"or gate\",b)\n",
    "print(\"and gate\",a and b)"
   ]
  },
  {
   "cell_type": "code",
   "execution_count": 64,
   "metadata": {},
   "outputs": [
    {
     "name": "stdout",
     "output_type": "stream",
     "text": [
      "and gate 0\n",
      "or gate 0\n",
      "and gate 0\n"
     ]
    }
   ],
   "source": [
    "X = 0\n",
    "Y = 1\n",
    "Z = 0\n",
    "a = X and Y\n",
    "b = X or Z\n",
    "print(\"and gate\",a)\n",
    "print(\"or gate\",b)\n",
    "print(\"and gate\",a and b)"
   ]
  },
  {
   "cell_type": "code",
   "execution_count": 55,
   "metadata": {},
   "outputs": [
    {
     "name": "stdout",
     "output_type": "stream",
     "text": [
      "and gate 0\n",
      "or gate 1\n",
      "and gate 0\n"
     ]
    }
   ],
   "source": [
    "X = 0\n",
    "Y = 1\n",
    "Z = 1\n",
    "a = X and Y\n",
    "b = X or Z\n",
    "print(\"and gate\",a)\n",
    "print(\"or gate\",b)\n",
    "print(\"and gate\",a and b)"
   ]
  },
  {
   "cell_type": "code",
   "execution_count": 65,
   "metadata": {},
   "outputs": [
    {
     "name": "stdout",
     "output_type": "stream",
     "text": [
      "and gate 0\n",
      "or gate 1\n",
      "and gate 0\n"
     ]
    }
   ],
   "source": [
    "X = 1\n",
    "Y = 0\n",
    "Z = 0\n",
    "a = X and Y\n",
    "b = X or Z\n",
    "print(\"and gate\",a)\n",
    "print(\"or gate\",b)\n",
    "print(\"and gate\",a and b)"
   ]
  },
  {
   "cell_type": "code",
   "execution_count": 58,
   "metadata": {},
   "outputs": [
    {
     "name": "stdout",
     "output_type": "stream",
     "text": [
      "and gate 0\n",
      "or gate 1\n",
      "and gate 0\n"
     ]
    }
   ],
   "source": [
    "X = 1\n",
    "Y = 0\n",
    "Z = 1\n",
    "a = X and Y\n",
    "b = X or Z\n",
    "print(\"and gate\",a)\n",
    "print(\"or gate\",b)\n",
    "print(\"and gate\",a and b)"
   ]
  },
  {
   "cell_type": "code",
   "execution_count": 66,
   "metadata": {},
   "outputs": [
    {
     "name": "stdout",
     "output_type": "stream",
     "text": [
      "and gate 1\n",
      "or gate 1\n",
      "and gate 1\n"
     ]
    }
   ],
   "source": [
    "X = 1\n",
    "Y = 1\n",
    "Z = 0\n",
    "a = X and Y\n",
    "b = X or Z\n",
    "print(\"and gate\",a)\n",
    "print(\"or gate\",b)\n",
    "print(\"and gate\",a and b)"
   ]
  },
  {
   "cell_type": "code",
   "execution_count": 67,
   "metadata": {},
   "outputs": [
    {
     "name": "stdout",
     "output_type": "stream",
     "text": [
      "and gate 1\n",
      "or gate 1\n",
      "and gate 1\n"
     ]
    }
   ],
   "source": [
    "X = 1\n",
    "Y = 1\n",
    "Z = 1\n",
    "a = X and Y\n",
    "b = X or Z\n",
    "print(\"and gate\",a)\n",
    "print(\"or gate\",b)\n",
    "print(\"and gate\",a and b)"
   ]
  },
  {
   "cell_type": "code",
   "execution_count": 72,
   "metadata": {},
   "outputs": [],
   "source": [
    "def tellme(X,Y,Z):\n",
    "    a = X or Z\n",
    "    b = X and Y\n",
    "    c = a and b\n",
    "    d = a or b\n",
    "    print(a,b,c,d)\n",
    "    #print(\"first column\",a)\n",
    "    #print(\"second column\",b)\n",
    "    #print(\"third column\",a and b)"
   ]
  },
  {
   "cell_type": "code",
   "execution_count": 73,
   "metadata": {},
   "outputs": [
    {
     "name": "stdout",
     "output_type": "stream",
     "text": [
      "0 0 0 0\n",
      "1 0 0 1\n",
      "0 0 0 0\n",
      "1 0 0 1\n",
      "1 0 0 1\n",
      "1 0 0 1\n",
      "1 1 1 1\n",
      "1 1 1 1\n"
     ]
    }
   ],
   "source": [
    "tellme(0,0,0)\n",
    "tellme(0,0,1)\n",
    "tellme(0,1,0)\n",
    "tellme(0,1,1)\n",
    "tellme(1,0,0)\n",
    "tellme(1,0,1)\n",
    "tellme(1,1,0)\n",
    "tellme(1,1,1)\n"
   ]
  }
 ],
 "metadata": {
  "kernelspec": {
   "display_name": "base",
   "language": "python",
   "name": "python3"
  },
  "language_info": {
   "codemirror_mode": {
    "name": "ipython",
    "version": 3
   },
   "file_extension": ".py",
   "mimetype": "text/x-python",
   "name": "python",
   "nbconvert_exporter": "python",
   "pygments_lexer": "ipython3",
   "version": "3.9.13"
  },
  "orig_nbformat": 4
 },
 "nbformat": 4,
 "nbformat_minor": 2
}
