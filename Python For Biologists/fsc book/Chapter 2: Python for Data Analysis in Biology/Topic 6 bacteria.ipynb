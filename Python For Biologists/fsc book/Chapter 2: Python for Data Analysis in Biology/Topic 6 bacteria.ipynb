{
 "cells": [
  {
   "cell_type": "markdown",
   "metadata": {},
   "source": [
    "![https://www.elearn.gov.pk/onlinepdf/biology/11biology/chapter6/files/pageConfig/Spirochetes.gif](https://www.elearn.gov.pk/onlinepdf/biology/11biology/chapter6/files/pageConfig/Spirochetes.gif)"
   ]
  },
  {
   "cell_type": "markdown",
   "metadata": {},
   "source": [
    "![https://www.elearn.gov.pk/onlinepdf/biology/11biology/chapter6/files/pageConfig/bacteria%20animated.gif](https://www.elearn.gov.pk/onlinepdf/biology/11biology/chapter6/files/pageConfig/bacteria%20animated.gif)"
   ]
  },
  {
   "cell_type": "code",
   "execution_count": 2,
   "metadata": {},
   "outputs": [],
   "source": [
    "# shape of bacteria\n",
    "\n",
    "x = ['Helical', 'Rod', 'Spherical']\n",
    "y = [1.1,1.2,1.3,1.4,1.5]"
   ]
  },
  {
   "cell_type": "code",
   "execution_count": 4,
   "metadata": {},
   "outputs": [
    {
     "name": "stdout",
     "output_type": "stream",
     "text": [
      "Helical 1.1\n",
      "Helical 1.2\n",
      "Helical 1.3\n",
      "Helical 1.4\n",
      "Helical 1.5\n",
      "Rod 1.1\n",
      "Rod 1.2\n",
      "Rod 1.3\n",
      "Rod 1.4\n",
      "Rod 1.5\n",
      "Spherical 1.1\n",
      "Spherical 1.2\n",
      "Spherical 1.3\n",
      "Spherical 1.4\n",
      "Spherical 1.5\n"
     ]
    }
   ],
   "source": [
    "for i in x:\n",
    "    for j in y:\n",
    "        print(i,j)"
   ]
  },
  {
   "cell_type": "code",
   "execution_count": 1,
   "metadata": {},
   "outputs": [],
   "source": [
    "# write any 10 backtera name as tuple\n",
    "# write their shape \n",
    "# write their color as tuple\n",
    "\n"
   ]
  },
  {
   "cell_type": "code",
   "execution_count": 2,
   "metadata": {},
   "outputs": [],
   "source": [
    "bacteria_name = ('Tuberculosis',\n",
    "'Anthrax',\n",
    "'Tetanus',\n",
    "'Leptospirosis',\n",
    "'Pneumonia',\n",
    "'Cholera',\n",
    "'Botulism',\n",
    "'Pseudomonas Infection',\n",
    "'MRSA Infection',\n",
    "'E.Coli Infection',\n",
    "'Meningitis',\n",
    "'Gonorrhea',\n",
    "'Bubonic Plague',\n",
    "'Syphilis')\n",
    "\n",
    "bacteria_shape = ('rod-shaped',\n",
    "'rod-shaped',\n",
    "'tennis racket',\n",
    "'spiral-shaped',\n",
    "'lancet-shaped',\n",
    "'comma-shaped',\n",
    "'rod-shaped',\n",
    "'rod-shaped',\n",
    "'coccal-shaped',\n",
    "'rod-shaped',\n",
    "'coffee-bean shape',\n",
    "'hairy coffee-bean shape',\n",
    "'spherical-shape',\n",
    "'spiral-shaped')"
   ]
  },
  {
   "cell_type": "code",
   "execution_count": null,
   "metadata": {},
   "outputs": [],
   "source": []
  }
 ],
 "metadata": {
  "kernelspec": {
   "display_name": "base",
   "language": "python",
   "name": "python3"
  },
  "language_info": {
   "codemirror_mode": {
    "name": "ipython",
    "version": 3
   },
   "file_extension": ".py",
   "mimetype": "text/x-python",
   "name": "python",
   "nbconvert_exporter": "python",
   "pygments_lexer": "ipython3",
   "version": "3.9.13"
  }
 },
 "nbformat": 4,
 "nbformat_minor": 2
}
