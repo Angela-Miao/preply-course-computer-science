{
 "cells": [
  {
   "cell_type": "code",
   "execution_count": 10,
   "metadata": {},
   "outputs": [
    {
     "name": "stdout",
     "output_type": "stream",
     "text": [
      "Total ATP production per minute: 2250\n"
     ]
    }
   ],
   "source": [
    "# Variables\n",
    "atp_per_mitochondrion = 15\n",
    "number_of_mitochondria = 150\n",
    "\n",
    "# Calculation\n",
    "total_atp = atp_per_mitochondrion * number_of_mitochondria\n",
    "print(\"Total ATP production per minute:\", total_atp)"
   ]
  },
  {
   "cell_type": "code",
   "execution_count": 1,
   "metadata": {},
   "outputs": [
    {
     "name": "stdout",
     "output_type": "stream",
     "text": [
      "Mitochondrial density per square micron: 0.4\n"
     ]
    }
   ],
   "source": [
    "# Variables\n",
    "number_of_mitochondria = 320\n",
    "cell_surface_area = 800  # in square microns\n",
    "\n",
    "# Calculation\n",
    "density = number_of_mitochondria / cell_surface_area\n",
    "print(\"Mitochondrial density per square micron:\", density)"
   ]
  },
  {
   "cell_type": "code",
   "execution_count": 2,
   "metadata": {},
   "outputs": [
    {
     "name": "stdout",
     "output_type": "stream",
     "text": [
      "Mitochondrial Health Index: 0.75\n"
     ]
    }
   ],
   "source": [
    "# Variables\n",
    "healthy_mitochondria = 90\n",
    "total_mitochondria = 120\n",
    "\n",
    "# Calculation\n",
    "health_index = healthy_mitochondria / total_mitochondria\n",
    "print(\"Mitochondrial Health Index:\", health_index)"
   ]
  },
  {
   "cell_type": "code",
   "execution_count": 3,
   "metadata": {},
   "outputs": [
    {
     "name": "stdout",
     "output_type": "stream",
     "text": [
      "Oxygen consumption rate per cell (microliters per hour): 5.0\n"
     ]
    }
   ],
   "source": [
    "# Variables\n",
    "total_oxygen_consumed = 500  # in microliters\n",
    "number_of_cells = 100\n",
    "\n",
    "# Calculation\n",
    "oxygen_consumption_rate_per_cell = total_oxygen_consumed / number_of_cells\n",
    "print(\"Oxygen consumption rate per cell (microliters per hour):\", oxygen_consumption_rate_per_cell)"
   ]
  },
  {
   "cell_type": "code",
   "execution_count": 4,
   "metadata": {},
   "outputs": [
    {
     "name": "stdout",
     "output_type": "stream",
     "text": [
      "Mutation frequency per base pair: 0.0004\n"
     ]
    }
   ],
   "source": [
    "# Variables\n",
    "number_of_mutations = 8\n",
    "number_of_base_pairs = 20000\n",
    "\n",
    "# Calculation\n",
    "mutation_frequency = number_of_mutations / number_of_base_pairs\n",
    "print(\"Mutation frequency per base pair:\", mutation_frequency)"
   ]
  },
  {
   "cell_type": "markdown",
   "metadata": {},
   "source": [
    "Practice Problem"
   ]
  },
  {
   "cell_type": "code",
   "execution_count": 5,
   "metadata": {},
   "outputs": [
    {
     "name": "stdout",
     "output_type": "stream",
     "text": [
      "Total ATP production per minute: 600.0\n"
     ]
    }
   ],
   "source": [
    "# Variables\n",
    "atp_per_mitochondrion = 180\n",
    "number_of_mitochondria = 200\n",
    "\n",
    "# Calculation\n",
    "total_atp = (atp_per_mitochondrion * number_of_mitochondria)/60\n",
    "print(\"Total ATP production per minute:\", total_atp)"
   ]
  },
  {
   "cell_type": "code",
   "execution_count": 6,
   "metadata": {},
   "outputs": [
    {
     "name": "stdout",
     "output_type": "stream",
     "text": [
      "Mitochondrial density per 100 square micron: 45.0\n"
     ]
    }
   ],
   "source": [
    "# Variables\n",
    "number_of_mitochondria = 450\n",
    "cell_surface_area = 1000  # in square microns\n",
    "\n",
    "# Calculation\n",
    "density = (number_of_mitochondria / cell_surface_area) * 100\n",
    "print(\"Mitochondrial density per 100 square micron:\", density)"
   ]
  },
  {
   "cell_type": "code",
   "execution_count": 7,
   "metadata": {},
   "outputs": [
    {
     "name": "stdout",
     "output_type": "stream",
     "text": [
      "Mitochondrial Health Index: 70.58823529411765 %\n"
     ]
    }
   ],
   "source": [
    "# Variables\n",
    "healthy_mitochondria = 60\n",
    "total_mitochondria = 85\n",
    "\n",
    "# Calculation\n",
    "health_index = (healthy_mitochondria / total_mitochondria) * 100\n",
    "print(\"Mitochondrial Health Index:\", health_index, \"%\")"
   ]
  },
  {
   "cell_type": "code",
   "execution_count": 8,
   "metadata": {},
   "outputs": [
    {
     "name": "stdout",
     "output_type": "stream",
     "text": [
      "Oxygen consumption rate per cell (microliters per minute): 0.16666666666666666\n"
     ]
    }
   ],
   "source": [
    "total_oxygen_consumed = 600  # in microliters\n",
    "number_of_cells = 120\n",
    "\n",
    "# Calculation\n",
    "oxygen_consumption_rate_per_cell = (total_oxygen_consumed / number_of_cells)/30\n",
    "print(\"Oxygen consumption rate per cell (microliters per minute):\", oxygen_consumption_rate_per_cell)"
   ]
  },
  {
   "cell_type": "code",
   "execution_count": 9,
   "metadata": {},
   "outputs": [
    {
     "name": "stdout",
     "output_type": "stream",
     "text": [
      "Mutation frequency per base pair: 0.4\n"
     ]
    }
   ],
   "source": [
    "# Variables\n",
    "number_of_mutations = 12\n",
    "number_of_base_pairs = 30000\n",
    "\n",
    "# Calculation\n",
    "mutation_frequency = (number_of_mutations / number_of_base_pairs) * 1000\n",
    "print(\"Mutation frequency per base pair:\", mutation_frequency)"
   ]
  },
  {
   "cell_type": "code",
   "execution_count": null,
   "metadata": {},
   "outputs": [],
   "source": []
  },
  {
   "cell_type": "code",
   "execution_count": null,
   "metadata": {},
   "outputs": [],
   "source": []
  },
  {
   "cell_type": "code",
   "execution_count": null,
   "metadata": {},
   "outputs": [],
   "source": []
  }
 ],
 "metadata": {
  "kernelspec": {
   "display_name": "base",
   "language": "python",
   "name": "python3"
  },
  "language_info": {
   "codemirror_mode": {
    "name": "ipython",
    "version": 3
   },
   "file_extension": ".py",
   "mimetype": "text/x-python",
   "name": "python",
   "nbconvert_exporter": "python",
   "pygments_lexer": "ipython3",
   "version": "3.9.13"
  }
 },
 "nbformat": 4,
 "nbformat_minor": 2
}
