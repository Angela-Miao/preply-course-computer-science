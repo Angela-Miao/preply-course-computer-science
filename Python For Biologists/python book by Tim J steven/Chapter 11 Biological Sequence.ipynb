{
 "cells": [
  {
   "cell_type": "code",
   "execution_count": 3,
   "metadata": {},
   "outputs": [],
   "source": [
    "GES_SCALE = {'F':-3.7,'M':-3.4,'I':-3.1,'L':-2.8,'V':-2.6,\n",
    "'C':-2.0,'W':-1.9,'A':-1.6,'T':-1.2,'G':-1.0,\n",
    "'S':-0.6,'P': 0.2,'Y': 0.7,'H': 3.0,'Q': 4.1,\n",
    "'N': 4.8,'E': 8.2,'K': 8.8,'D': 9.2,'R':12.3}"
   ]
  },
  {
   "cell_type": "code",
   "execution_count": 20,
   "metadata": {},
   "outputs": [],
   "source": [
    "x = 'YKGVNFIVDR'\n",
    "# from the above dictionary take value for variable x and find the sum of all \n",
    "al = []\n",
    "for i in x: \n",
    "    y = GES_SCALE[i]\n",
    "    al.append(y)"
   ]
  },
  {
   "cell_type": "code",
   "execution_count": 27,
   "metadata": {},
   "outputs": [],
   "source": [
    "import numpy as np"
   ]
  },
  {
   "cell_type": "code",
   "execution_count": 29,
   "metadata": {},
   "outputs": [
    {
     "data": {
      "text/plain": [
       "(22.8, [0.7, 8.8, -1.0, -2.6, 4.8, -3.7, -3.1, -2.6, 9.2, 12.3])"
      ]
     },
     "execution_count": 29,
     "metadata": {},
     "output_type": "execute_result"
    }
   ],
   "source": [
    "np.sum(al),al"
   ]
  },
  {
   "cell_type": "code",
   "execution_count": 1,
   "metadata": {},
   "outputs": [],
   "source": [
    "# make a simple code in which if you enters correct username and correct password then he can print logged in ,,, else print sorry wrong username or password\n",
    "d = {'andymiaogu' : '1234' , 'angelamiaogu' : '4567'}"
   ]
  },
  {
   "cell_type": "code",
   "execution_count": 2,
   "metadata": {},
   "outputs": [
    {
     "name": "stdout",
     "output_type": "stream",
     "text": [
      "wrong username\n",
      "wrong username\n",
      "wrong password\n"
     ]
    }
   ],
   "source": [
    "\n",
    "while(True):\n",
    "    x = input('pelase gimme ur username: ' )\n",
    "    password = input('pelase gimme ur password; ')\n",
    "    if x in d:\n",
    "        if d[x] == password:\n",
    "            print('congrats logged in')\n",
    "            g = input('press 1 to add a new username\\n press 2 to remove a user, press 3 to change password')\n",
    "            if g =='1':\n",
    "                print('welome to add new user')\n",
    "                e = input(\"enter new username\")\n",
    "                p = input(\"enter new password\") \n",
    "                d[e] = p\n",
    "                print('password is saved')\n",
    "            elif g =='2':\n",
    "                print('welome to remove')\n",
    "            elif g =='3':\n",
    "                print('welome to change password')\n",
    "            else:\n",
    "                print(' pleas chooose 1 2 or 3 accordingly')\n",
    "        else:\n",
    "            \n",
    "            print('wrong password')\n",
    "    else:\n",
    "        print('wrong username')\n",
    "    x = input(' please q to quit or any other key to continue')\n",
    "    if x =='quit':\n",
    "        break"
   ]
  },
  {
   "cell_type": "code",
   "execution_count": null,
   "metadata": {},
   "outputs": [],
   "source": [
    "e = input()"
   ]
  }
 ],
 "metadata": {
  "kernelspec": {
   "display_name": "base",
   "language": "python",
   "name": "python3"
  },
  "language_info": {
   "codemirror_mode": {
    "name": "ipython",
    "version": 3
   },
   "file_extension": ".py",
   "mimetype": "text/x-python",
   "name": "python",
   "nbconvert_exporter": "python",
   "pygments_lexer": "ipython3",
   "version": "3.9.undefined"
  }
 },
 "nbformat": 4,
 "nbformat_minor": 2
}
