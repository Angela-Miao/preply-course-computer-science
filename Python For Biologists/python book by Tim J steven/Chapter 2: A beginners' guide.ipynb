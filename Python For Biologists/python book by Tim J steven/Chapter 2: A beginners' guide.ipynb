{
 "cells": [
  {
   "cell_type": "markdown",
   "metadata": {},
   "source": [
    "programming principles \n",
    "- interpreting commands\n"
   ]
  },
  {
   "cell_type": "code",
   "execution_count": 1,
   "metadata": {},
   "outputs": [
    {
     "name": "stdout",
     "output_type": "stream",
     "text": [
      "5.462962962962963\n"
     ]
    }
   ],
   "source": [
    "\n",
    "mas = 5.9\n",
    "vol = 1.08\n",
    "des = mas/vol\n",
    "\n",
    "print(des)\n",
    "# above lines are series of instructions /command that make a function program"
   ]
  },
  {
   "cell_type": "code",
   "execution_count": 2,
   "metadata": {},
   "outputs": [
    {
     "name": "stdout",
     "output_type": "stream",
     "text": [
      "Requirement already satisfied: Alignments in /Users/angelasthingy/opt/anaconda3/lib/python3.9/site-packages (0.1.7)\n",
      "Requirement already satisfied: librosa>=0.9.2 in /Users/angelasthingy/opt/anaconda3/lib/python3.9/site-packages (from Alignments) (0.10.1)\n",
      "Requirement already satisfied: rich>=10.11.0 in /Users/angelasthingy/opt/anaconda3/lib/python3.9/site-packages (from Alignments) (13.7.1)\n",
      "Requirement already satisfied: tqdm>=4.64.0 in /Users/angelasthingy/opt/anaconda3/lib/python3.9/site-packages (from Alignments) (4.64.1)\n",
      "Requirement already satisfied: click>=8.0.4 in /Users/angelasthingy/opt/anaconda3/lib/python3.9/site-packages (from Alignments) (8.0.4)\n",
      "Requirement already satisfied: torch>=1.4.0 in /Users/angelasthingy/opt/anaconda3/lib/python3.9/site-packages (from Alignments) (2.2.2)\n",
      "Requirement already satisfied: numpy>=1.19.5 in /Users/angelasthingy/opt/anaconda3/lib/python3.9/site-packages (from Alignments) (1.21.6)\n",
      "Requirement already satisfied: soundfile>=0.12.1 in /Users/angelasthingy/opt/anaconda3/lib/python3.9/site-packages (from Alignments) (0.12.1)\n",
      "Requirement already satisfied: textgrid>=1.5 in /Users/angelasthingy/opt/anaconda3/lib/python3.9/site-packages (from Alignments) (1.6.1)\n",
      "Requirement already satisfied: audioread>=2.1.9 in /Users/angelasthingy/opt/anaconda3/lib/python3.9/site-packages (from librosa>=0.9.2->Alignments) (3.0.1)\n",
      "Requirement already satisfied: numba>=0.51.0 in /Users/angelasthingy/opt/anaconda3/lib/python3.9/site-packages (from librosa>=0.9.2->Alignments) (0.55.1)\n",
      "Requirement already satisfied: msgpack>=1.0 in /Users/angelasthingy/opt/anaconda3/lib/python3.9/site-packages (from librosa>=0.9.2->Alignments) (1.0.3)\n",
      "Requirement already satisfied: typing-extensions>=4.1.1 in /Users/angelasthingy/opt/anaconda3/lib/python3.9/site-packages (from librosa>=0.9.2->Alignments) (4.11.0)\n",
      "Requirement already satisfied: scipy>=1.2.0 in /Users/angelasthingy/opt/anaconda3/lib/python3.9/site-packages (from librosa>=0.9.2->Alignments) (1.9.1)\n",
      "Requirement already satisfied: joblib>=0.14 in /Users/angelasthingy/opt/anaconda3/lib/python3.9/site-packages (from librosa>=0.9.2->Alignments) (1.1.0)\n",
      "Requirement already satisfied: decorator>=4.3.0 in /Users/angelasthingy/opt/anaconda3/lib/python3.9/site-packages (from librosa>=0.9.2->Alignments) (5.1.1)\n",
      "Requirement already satisfied: lazy-loader>=0.1 in /Users/angelasthingy/opt/anaconda3/lib/python3.9/site-packages (from librosa>=0.9.2->Alignments) (0.4)\n",
      "Requirement already satisfied: scikit-learn>=0.20.0 in /Users/angelasthingy/opt/anaconda3/lib/python3.9/site-packages (from librosa>=0.9.2->Alignments) (1.0.2)\n",
      "Requirement already satisfied: soxr>=0.3.2 in /Users/angelasthingy/opt/anaconda3/lib/python3.9/site-packages (from librosa>=0.9.2->Alignments) (0.3.7)\n",
      "Requirement already satisfied: pooch>=1.0 in /Users/angelasthingy/opt/anaconda3/lib/python3.9/site-packages (from librosa>=0.9.2->Alignments) (1.8.1)\n",
      "Requirement already satisfied: markdown-it-py>=2.2.0 in /Users/angelasthingy/opt/anaconda3/lib/python3.9/site-packages (from rich>=10.11.0->Alignments) (3.0.0)\n",
      "Requirement already satisfied: pygments<3.0.0,>=2.13.0 in /Users/angelasthingy/opt/anaconda3/lib/python3.9/site-packages (from rich>=10.11.0->Alignments) (2.17.2)\n",
      "Requirement already satisfied: cffi>=1.0 in /Users/angelasthingy/opt/anaconda3/lib/python3.9/site-packages (from soundfile>=0.12.1->Alignments) (1.15.1)\n",
      "Requirement already satisfied: filelock in /Users/angelasthingy/opt/anaconda3/lib/python3.9/site-packages (from torch>=1.4.0->Alignments) (3.6.0)\n",
      "Requirement already satisfied: fsspec in /Users/angelasthingy/opt/anaconda3/lib/python3.9/site-packages (from torch>=1.4.0->Alignments) (2022.7.1)\n",
      "Requirement already satisfied: networkx in /Users/angelasthingy/opt/anaconda3/lib/python3.9/site-packages (from torch>=1.4.0->Alignments) (2.8.4)\n",
      "Requirement already satisfied: jinja2 in /Users/angelasthingy/opt/anaconda3/lib/python3.9/site-packages (from torch>=1.4.0->Alignments) (2.11.3)\n",
      "Requirement already satisfied: sympy in /Users/angelasthingy/opt/anaconda3/lib/python3.9/site-packages (from torch>=1.4.0->Alignments) (1.10.1)\n",
      "Requirement already satisfied: pycparser in /Users/angelasthingy/opt/anaconda3/lib/python3.9/site-packages (from cffi>=1.0->soundfile>=0.12.1->Alignments) (2.21)\n",
      "Requirement already satisfied: packaging in /Users/angelasthingy/opt/anaconda3/lib/python3.9/site-packages (from lazy-loader>=0.1->librosa>=0.9.2->Alignments) (21.3)\n",
      "Requirement already satisfied: mdurl~=0.1 in /Users/angelasthingy/opt/anaconda3/lib/python3.9/site-packages (from markdown-it-py>=2.2.0->rich>=10.11.0->Alignments) (0.1.2)\n",
      "Requirement already satisfied: llvmlite<0.39,>=0.38.0rc1 in /Users/angelasthingy/opt/anaconda3/lib/python3.9/site-packages (from numba>=0.51.0->librosa>=0.9.2->Alignments) (0.38.0)\n",
      "Requirement already satisfied: setuptools in /Users/angelasthingy/opt/anaconda3/lib/python3.9/site-packages (from numba>=0.51.0->librosa>=0.9.2->Alignments) (63.4.1)\n",
      "Requirement already satisfied: requests>=2.19.0 in /Users/angelasthingy/opt/anaconda3/lib/python3.9/site-packages (from pooch>=1.0->librosa>=0.9.2->Alignments) (2.28.1)\n",
      "Requirement already satisfied: platformdirs>=2.5.0 in /Users/angelasthingy/opt/anaconda3/lib/python3.9/site-packages (from pooch>=1.0->librosa>=0.9.2->Alignments) (2.5.2)\n",
      "Requirement already satisfied: threadpoolctl>=2.0.0 in /Users/angelasthingy/opt/anaconda3/lib/python3.9/site-packages (from scikit-learn>=0.20.0->librosa>=0.9.2->Alignments) (2.2.0)\n",
      "Requirement already satisfied: MarkupSafe>=0.23 in /Users/angelasthingy/opt/anaconda3/lib/python3.9/site-packages (from jinja2->torch>=1.4.0->Alignments) (2.0.1)\n",
      "Requirement already satisfied: mpmath>=0.19 in /Users/angelasthingy/opt/anaconda3/lib/python3.9/site-packages (from sympy->torch>=1.4.0->Alignments) (1.2.1)\n",
      "Requirement already satisfied: pyparsing!=3.0.5,>=2.0.2 in /Users/angelasthingy/opt/anaconda3/lib/python3.9/site-packages (from packaging->lazy-loader>=0.1->librosa>=0.9.2->Alignments) (3.0.9)\n",
      "Requirement already satisfied: charset-normalizer<3,>=2 in /Users/angelasthingy/opt/anaconda3/lib/python3.9/site-packages (from requests>=2.19.0->pooch>=1.0->librosa>=0.9.2->Alignments) (2.0.4)\n",
      "Requirement already satisfied: idna<4,>=2.5 in /Users/angelasthingy/opt/anaconda3/lib/python3.9/site-packages (from requests>=2.19.0->pooch>=1.0->librosa>=0.9.2->Alignments) (3.3)\n",
      "Requirement already satisfied: certifi>=2017.4.17 in /Users/angelasthingy/opt/anaconda3/lib/python3.9/site-packages (from requests>=2.19.0->pooch>=1.0->librosa>=0.9.2->Alignments) (2022.9.24)\n",
      "Requirement already satisfied: urllib3<1.27,>=1.21.1 in /Users/angelasthingy/opt/anaconda3/lib/python3.9/site-packages (from requests>=2.19.0->pooch>=1.0->librosa>=0.9.2->Alignments) (1.26.11)\n",
      "Note: you may need to restart the kernel to use updated packages.\n"
     ]
    }
   ],
   "source": [
    "pip install Alignments"
   ]
  },
  {
   "cell_type": "code",
   "execution_count": 5,
   "metadata": {},
   "outputs": [
    {
     "ename": "ImportError",
     "evalue": "cannot import name 'sequencealign' from 'alignments' (/Users/angelasthingy/opt/anaconda3/lib/python3.9/site-packages/alignments/__init__.py)",
     "output_type": "error",
     "traceback": [
      "\u001b[0;31m---------------------------------------------------------------------------\u001b[0m",
      "\u001b[0;31mImportError\u001b[0m                               Traceback (most recent call last)",
      "\u001b[0;32m/var/folders/l_/j699flmx6dbc1vlb90jx_hyw0000gn/T/ipykernel_74396/959648430.py\u001b[0m in \u001b[0;36m<module>\u001b[0;34m\u001b[0m\n\u001b[0;32m----> 1\u001b[0;31m \u001b[0;32mfrom\u001b[0m \u001b[0malignments\u001b[0m \u001b[0;32mimport\u001b[0m \u001b[0msequencealign\u001b[0m\u001b[0;34m\u001b[0m\u001b[0;34m\u001b[0m\u001b[0m\n\u001b[0m\u001b[1;32m      2\u001b[0m \u001b[0msequence1\u001b[0m \u001b[0;34m=\u001b[0m \u001b[0;34m'GATTACAGC'\u001b[0m\u001b[0;34m\u001b[0m\u001b[0;34m\u001b[0m\u001b[0m\n\u001b[1;32m      3\u001b[0m \u001b[0msequence2\u001b[0m \u001b[0;34m=\u001b[0m \u001b[0;34m'GTATTAAT'\u001b[0m\u001b[0;34m\u001b[0m\u001b[0;34m\u001b[0m\u001b[0m\n\u001b[1;32m      4\u001b[0m \u001b[0mprint\u001b[0m\u001b[0;34m(\u001b[0m\u001b[0msequencealign\u001b[0m\u001b[0;34m(\u001b[0m\u001b[0msequence1\u001b[0m\u001b[0;34m,\u001b[0m \u001b[0msequence2\u001b[0m\u001b[0;34m)\u001b[0m\u001b[0;34m)\u001b[0m\u001b[0;34m\u001b[0m\u001b[0;34m\u001b[0m\u001b[0m\n",
      "\u001b[0;31mImportError\u001b[0m: cannot import name 'sequencealign' from 'alignments' (/Users/angelasthingy/opt/anaconda3/lib/python3.9/site-packages/alignments/__init__.py)"
     ]
    }
   ],
   "source": [
    "from alignments import sequencealign\n",
    "sequence1 = 'GATTACAGC'\n",
    "sequence2 = 'GTATTAAT'\n",
    "print(sequencealign(sequence1, sequence2))\n"
   ]
  },
  {
   "cell_type": "code",
   "execution_count": 10,
   "metadata": {},
   "outputs": [
    {
     "name": "stdout",
     "output_type": "stream",
     "text": [
      "<class 'int'>\n",
      "15\n"
     ]
    }
   ],
   "source": [
    "x = 5\n",
    "print(type(x))\n",
    "print(x.__add__(10)) = x+ 10"
   ]
  },
  {
   "cell_type": "code",
   "execution_count": 14,
   "metadata": {},
   "outputs": [
    {
     "name": "stdout",
     "output_type": "stream",
     "text": [
      "hello\n"
     ]
    }
   ],
   "source": [
    "# text, int, float, boolean, None\n",
    "y = []\n",
    "y = None\n",
    "if y is None:\n",
    "    print('hello')"
   ]
  },
  {
   "cell_type": "code",
   "execution_count": 16,
   "metadata": {},
   "outputs": [],
   "source": [
    "# Data Collections \n",
    "class Animal(object):\n",
    "    pass"
   ]
  },
  {
   "cell_type": "code",
   "execution_count": 20,
   "metadata": {},
   "outputs": [],
   "source": [
    "class Molecule:\n",
    "    pass\n",
    "class Protein:\n",
    "    pass"
   ]
  },
  {
   "cell_type": "code",
   "execution_count": null,
   "metadata": {},
   "outputs": [],
   "source": []
  },
  {
   "cell_type": "code",
   "execution_count": 26,
   "metadata": {},
   "outputs": [],
   "source": [
    "class Molecule:\n",
    "    def getName(self):\n",
    "# function implementation\n",
    "        pass\n",
    "    def getCapitalisedName(self):\n",
    "        name = self.getName()\n",
    "        if name:\n",
    "            return name.capitalize()\n",
    "        else:\n",
    "            return name"
   ]
  },
  {
   "cell_type": "code",
   "execution_count": 27,
   "metadata": {},
   "outputs": [],
   "source": [
    "class Protein(Molecule):\n",
    "    def getSequence(self):\n",
    "        pass\n",
    "# function implementation\n",
    "    def getAminoAcids(self):\n",
    "        pass\n",
    "# function implementation"
   ]
  },
  {
   "cell_type": "code",
   "execution_count": 28,
   "metadata": {},
   "outputs": [],
   "source": [
    "p = Protein()"
   ]
  },
  {
   "cell_type": "code",
   "execution_count": 29,
   "metadata": {},
   "outputs": [],
   "source": [
    "p.getCapitalisedName()"
   ]
  },
  {
   "cell_type": "code",
   "execution_count": 37,
   "metadata": {},
   "outputs": [],
   "source": [
    "class Molecule:\n",
    "    def __init__(self, name):\n",
    "        pass\n",
    "        if not name:\n",
    "           raise Exception('name must be set to something')\n",
    "        self.name = name\n",
    "    def getName(self):\n",
    "        return self.name\n",
    "    def getCapitalisedName(self):\n",
    "        name = self.getName()\n",
    "        return name.capitalize()\n",
    "    \n",
    "\n",
    "\n",
    "class Protein(Molecule):\n",
    "    def __init__(self, name, sequence):\n",
    "        Molecule.__init__(self, name)\n",
    "        self.aminoAcids = []\n",
    "        for code in sequence:\n",
    "            aminoAcid = AminoAcid(code)\n",
    "        self.aminoAcids.append(aminoAcid)\n",
    "    def getAminoAcids(self):\n",
    "        return self.aminoAcids\n",
    "    def getSequence(self):\n",
    "        return [aminoAcid.code for aminoAcid in self.aminoAcids]\n",
    "    def getMass(self):\n",
    "        mass = 18.02 # N-terminus H and C-terminus OH\n",
    "        aminoAcids = self.getAminoAcids()\n",
    "        for aminoAcid in aminoAcids:\n",
    "            mass += aminoAcid.getMass()\n",
    "            return mass\n",
    "        \n",
    "\n",
    "\n",
    "\n",
    "class AminoAcid:\n",
    "    massDict = { \"A\": 71.07, \"R\":156.18, \"N\":114.08, \"D\":115.08,\n",
    "    \"C\":103.10, \"Q\":128.13, \"E\":129.11, \"G\": 57.05, \n",
    "    \"H\":137.14, \"I\":113.15, \"L\":113.15, \"K\":128.17,\n",
    "    \"M\":131.19, \"F\":147.17, \"P\": 97.11, \"S\": 87.07,\n",
    "    \"T\":101.10, \"W\":186.20, \"Y\":163.17, \"V\": 99.13 }\n",
    "    acceptableCodes = set(massDict.keys())\n",
    "    def __init__(self, code):\n",
    "        if code not in self.acceptableCodes:\n",
    "            text = 'code = \"%s\", must be in list %s'\n",
    "            raise Exception(text % (code, sorted(self.acceptableCodes)))\n",
    "        self.code = code\n",
    "    def getMass(self):\n",
    "        return self.massDict[self.code]"
   ]
  },
  {
   "cell_type": "code",
   "execution_count": 38,
   "metadata": {},
   "outputs": [
    {
     "name": "stdout",
     "output_type": "stream",
     "text": [
      "molecule attributes\n",
      "molecule name = Aqua\n",
      "molecule function calls\n",
      "molecule name = Aqua\n",
      "molecule capitalisedName = Aqua\n",
      "protein attributes\n",
      "protein name = Fictitious\n",
      "protein amino acids = [<__main__.AminoAcid object at 0x7fe8d15ed6d0>]\n",
      "protein function calls\n",
      "protein name = Fictitious\n",
      "protein amino acids = [<__main__.AminoAcid object at 0x7fe8d15ed6d0>]\n",
      "protein sequence = ['V']\n",
      "protein mass =  117.14999999999999\n"
     ]
    }
   ],
   "source": [
    "water = Molecule('Aqua')\n",
    "print('molecule attributes')\n",
    "print('molecule name =', water.name)\n",
    "print('molecule function calls')\n",
    "print('molecule name =', water.getName())\n",
    "print('molecule capitalisedName =', water.getCapitalisedName())\n",
    "\n",
    "\n",
    "\n",
    "myProtein = Protein('Fictitious', 'MPKAILV')\n",
    "print('protein attributes')\n",
    "print('protein name =', myProtein.name)\n",
    "print('protein amino acids =', myProtein.aminoAcids)\n",
    "print('protein function calls')\n",
    "print('protein name =', myProtein.getName())\n",
    "print('protein amino acids =', myProtein.getAminoAcids())\n",
    "print('protein sequence =', myProtein.getSequence())\n",
    "print('protein mass = ', myProtein.getMass())"
   ]
  },
  {
   "cell_type": "code",
   "execution_count": 43,
   "metadata": {},
   "outputs": [],
   "source": [
    "class A(object):\n",
    "    def __init__(self,name):\n",
    "        self.name = name\n",
    "    def print_name(self):\n",
    "        print('name =', self.name)\n",
    "\n",
    "\n",
    "class B(A): # i can use Functions of A in B class\n",
    "    pass"
   ]
  },
  {
   "cell_type": "code",
   "execution_count": 44,
   "metadata": {},
   "outputs": [],
   "source": [
    "b = B('angela')"
   ]
  },
  {
   "cell_type": "code",
   "execution_count": 45,
   "metadata": {},
   "outputs": [
    {
     "name": "stdout",
     "output_type": "stream",
     "text": [
      "name = angela\n"
     ]
    }
   ],
   "source": [
    "b.print_name()"
   ]
  },
  {
   "cell_type": "code",
   "execution_count": null,
   "metadata": {},
   "outputs": [],
   "source": []
  }
 ],
 "metadata": {
  "kernelspec": {
   "display_name": "base",
   "language": "python",
   "name": "python3"
  },
  "language_info": {
   "codemirror_mode": {
    "name": "ipython",
    "version": 3
   },
   "file_extension": ".py",
   "mimetype": "text/x-python",
   "name": "python",
   "nbconvert_exporter": "python",
   "pygments_lexer": "ipython3",
   "version": "3.9.13"
  }
 },
 "nbformat": 4,
 "nbformat_minor": 2
}
