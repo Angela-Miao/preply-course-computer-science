{
 "cells": [
  {
   "cell_type": "code",
   "execution_count": null,
   "metadata": {},
   "outputs": [],
   "source": [
    "cass Structure:\n",
    "def __init__(self, name, conformation=0, pdbId=None):\n",
    "    if not name:\n",
    "        raise Exception('name must be set to non-empty string')\n",
    "    self.name = name\n",
    "    self.conformation = conformation\n",
    "    self.pdbId = pdbId"
   ]
  }
 ],
 "metadata": {
  "language_info": {
   "name": "python"
  }
 },
 "nbformat": 4,
 "nbformat_minor": 2
}
