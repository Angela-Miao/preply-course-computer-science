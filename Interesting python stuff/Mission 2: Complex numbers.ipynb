{
 "cells": [
  {
   "cell_type": "code",
   "execution_count": 7,
   "metadata": {},
   "outputs": [],
   "source": [
    "x = 10 + 9j\n",
    "y = 5 + 3j"
   ]
  },
  {
   "cell_type": "code",
   "execution_count": 28,
   "metadata": {},
   "outputs": [
    {
     "data": {
      "text/plain": [
       "[(32, 1024), (4, 16), (324, 104976), (32, 1024)]"
      ]
     },
     "execution_count": 28,
     "metadata": {},
     "output_type": "execute_result"
    }
   ],
   "source": [
    "x = [23,321,321,32,3,123,213,123,4,321,324,32,3223]\n",
    "y=[]\n",
    "for each in x:\n",
    "    if each%2==0:\n",
    "        y.append((each,each**2))\n",
    "y"
   ]
  },
  {
   "cell_type": "code",
   "execution_count": 12,
   "metadata": {},
   "outputs": [
    {
     "data": {
      "text/plain": [
       "(15+12j)"
      ]
     },
     "execution_count": 12,
     "metadata": {},
     "output_type": "execute_result"
    }
   ],
   "source": [
    "x + y"
   ]
  },
  {
   "cell_type": "code",
   "execution_count": 13,
   "metadata": {},
   "outputs": [
    {
     "data": {
      "text/plain": [
       "(5+6j)"
      ]
     },
     "execution_count": 13,
     "metadata": {},
     "output_type": "execute_result"
    }
   ],
   "source": [
    "x - y"
   ]
  },
  {
   "cell_type": "code",
   "execution_count": 14,
   "metadata": {},
   "outputs": [
    {
     "data": {
      "text/plain": [
       "(23+75j)"
      ]
     },
     "execution_count": 14,
     "metadata": {},
     "output_type": "execute_result"
    }
   ],
   "source": [
    "x*y"
   ]
  },
  {
   "cell_type": "code",
   "execution_count": 11,
   "metadata": {},
   "outputs": [
    {
     "data": {
      "text/plain": [
       "(2.264705882352941+0.4411764705882353j)"
      ]
     },
     "execution_count": 11,
     "metadata": {},
     "output_type": "execute_result"
    }
   ],
   "source": [
    "x/y"
   ]
  },
  {
   "cell_type": "code",
   "execution_count": 15,
   "metadata": {},
   "outputs": [
    {
     "name": "stdout",
     "output_type": "stream",
     "text": [
      "66j\n"
     ]
    }
   ],
   "source": [
    "# make three complex numbers and add them \n",
    "# waiting......\n",
    "x = 12j\n",
    "y = 22j\n",
    "z = 32j\n",
    "print(x+y+z)"
   ]
  },
  {
   "cell_type": "code",
   "execution_count": 16,
   "metadata": {},
   "outputs": [
    {
     "name": "stdout",
     "output_type": "stream",
     "text": [
      "(-264+0j)\n"
     ]
    }
   ],
   "source": [
    "# multiply two image number\n",
    "print(x*y)\n",
    "\n",
    "#"
   ]
  },
  {
   "cell_type": "code",
   "execution_count": 17,
   "metadata": {},
   "outputs": [
    {
     "data": {
      "text/plain": [
       "(-1+0j)"
      ]
     },
     "execution_count": 17,
     "metadata": {},
     "output_type": "execute_result"
    }
   ],
   "source": [
    "1j**2"
   ]
  },
  {
   "cell_type": "code",
   "execution_count": 21,
   "metadata": {},
   "outputs": [
    {
     "name": "stdout",
     "output_type": "stream",
     "text": [
      "actual number is (55+124j)\n",
      "magnitude is 135.6502856613284\n",
      "conjudate is (55-124j)\n"
     ]
    }
   ],
   "source": [
    "# make complex number with real and image part, x = \n",
    "b = 55 + 124j\n",
    "\n",
    "# ts absolute find iusing abs(x)\n",
    "c = abs(b)\n",
    "# find coonjudate using x.conjugate() and print all of these\n",
    "y = b.conjugate()\n",
    "# num, magniture and conjudate\n",
    "print(\"actual number is\",b)\n",
    "print(\"magnitude is\" ,c)\n",
    "print(\"conjudate is\",y)\n",
    "\n"
   ]
  },
  {
   "cell_type": "code",
   "execution_count": 23,
   "metadata": {},
   "outputs": [
    {
     "name": "stdout",
     "output_type": "stream",
     "text": [
      "sum off all even numbers from 1 to 100 is 2450\n"
     ]
    }
   ],
   "source": [
    "###Question: \n",
    "##Write a Python program that uses a for loop to calculate,\n",
    "## print the sum of all even numbers from 1 to 100 (inclusive).\n",
    "lst = []\n",
    "for i in range(100):\n",
    "    if i % 2 == 0:\n",
    "        lst.append(i)\n",
    "add = sum(lst)\n",
    "print(\"sum off all even numbers from 1 to 100 is\",add)\n",
    "\n"
   ]
  },
  {
   "cell_type": "code",
   "execution_count": 24,
   "metadata": {},
   "outputs": [
    {
     "name": "stdout",
     "output_type": "stream",
     "text": [
      "number is 3 square is 9\n",
      "number is 7 square is 49\n",
      "number is 1 square is 1\n",
      "number is 9 square is 81\n",
      "number is 4 square is 16\n"
     ]
    }
   ],
   "source": [
    "###Question: \n",
    "###Write a Python program that uses a for loop through \n",
    "#  a list of integers [3, 7, 1, 9, 4] and prints each integer along with its square.\n",
    "\n",
    "inte = [3, 7, 1, 9, 4]\n",
    "for i in inte:\n",
    "    print (\"number is\",i,\"square is\",i**2)"
   ]
  },
  {
   "cell_type": "code",
   "execution_count": 25,
   "metadata": {},
   "outputs": [
    {
     "name": "stdout",
     "output_type": "stream",
     "text": [
      "the odd numbers are 3 and their cube is 27\n",
      "the odd numbers are 23 and their cube is 12167\n",
      "the odd numbers are 321 and their cube is 33076161\n",
      "the odd numbers are 321 and their cube is 33076161\n",
      "the odd numbers are 321 and their cube is 33076161\n",
      "the odd numbers are 13 and their cube is 2197\n",
      "the odd numbers are 1 and their cube is 1\n",
      "the odd numbers are 23 and their cube is 12167\n",
      "the odd numbers are 123 and their cube is 1860867\n",
      "the odd numbers are 1231 and their cube is 1865409391\n",
      "the odd numbers are 13 and their cube is 2197\n",
      "the odd numbers are 1 and their cube is 1\n",
      "the odd numbers are 3123 and their cube is 30459021867\n",
      "the odd numbers are 1231 and their cube is 1865409391\n"
     ]
    }
   ],
   "source": [
    "x = [3,23,42,321,321,412,321,4,13,312,4,332,1,23,123,1231,22,13,1,3123,1231]\n",
    "# print cube of only odd umbers \n",
    "for i in x:\n",
    "    if i % 2 != 0:\n",
    "        print(\"the odd numbers are\", i, \"and their cube is\",i**3)"
   ]
  },
  {
   "cell_type": "code",
   "execution_count": null,
   "metadata": {},
   "outputs": [],
   "source": []
  }
 ],
 "metadata": {
  "kernelspec": {
   "display_name": "base",
   "language": "python",
   "name": "python3"
  },
  "language_info": {
   "codemirror_mode": {
    "name": "ipython",
    "version": 3
   },
   "file_extension": ".py",
   "mimetype": "text/x-python",
   "name": "python",
   "nbconvert_exporter": "python",
   "pygments_lexer": "ipython3",
   "version": "3.9.13"
  },
  "orig_nbformat": 4
 },
 "nbformat": 4,
 "nbformat_minor": 2
}
