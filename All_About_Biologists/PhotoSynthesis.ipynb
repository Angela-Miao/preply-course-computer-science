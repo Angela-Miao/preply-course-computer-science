{
 "cells": [
  {
   "cell_type": "markdown",
   "metadata": {},
   "source": [
    "Photosynthesis is the process by which green plants and some other organisms use sunlight to synthesize foods with the help of chlorophyll present in their leaves. The general equation for photosynthesis is:\n",
    "\n",
    "$$ 6CO_2 + 6H_2O \\xrightarrow{\\text{light}} C_6H_{12}O_6 + 6O_2 $$\n",
    "\n",
    "<div style = \"text-align: center\"> \n",
    "<img src=\"https://dr282zn36sxxg.cloudfront.net/datastreams/f-d%3A9c3cbe8e0807b638a274673c7e06e21fdd2d3f802032352047246fee%2BIMAGE_THUMB_POSTCARD_TINY%2BIMAGE_THUMB_POSTCARD_TINY.1\" width=\"400\" height = \"300\">\n",
    "</div>"
   ]
  },
  {
   "cell_type": "markdown",
   "metadata": {},
   "source": [
    "##### make a function which will tell us how much of oxygen is producing (in above example 6 mocules of Oxygen are being made)"
   ]
  },
  {
   "cell_type": "markdown",
   "metadata": {},
   "source": []
  },
  {
   "cell_type": "markdown",
   "metadata": {},
   "source": [
    "### if we give 3 modules of co2 and 3 mocules of water?\n",
    "### how much oxygen will be produced\n",
    "\n",
    "#angela answered 3"
   ]
  },
  {
   "cell_type": "code",
   "execution_count": 6,
   "metadata": {},
   "outputs": [
    {
     "data": {
      "text/plain": [
       "(5, 5)"
      ]
     },
     "execution_count": 6,
     "metadata": {},
     "output_type": "execute_result"
    }
   ],
   "source": [
    "def photosynthesis(co2, h2o):\n",
    "    # Assuming a simple model where each molecule of CO2 and H2O\n",
    "    # contributes equally to the production of glucose and oxygen\n",
    "    glucose = min(co2, h2o)\n",
    "    oxygen = glucose\n",
    "\n",
    "    return glucose, oxygen\n",
    "\n",
    "\n",
    "co2 = 100\n",
    "h2o = 5\n",
    "photosynthesis(co2,h2o)"
   ]
  },
  {
   "cell_type": "code",
   "execution_count": null,
   "metadata": {},
   "outputs": [],
   "source": []
  }
 ],
 "metadata": {
  "kernelspec": {
   "display_name": "base",
   "language": "python",
   "name": "python3"
  },
  "language_info": {
   "codemirror_mode": {
    "name": "ipython",
    "version": 3
   },
   "file_extension": ".py",
   "mimetype": "text/x-python",
   "name": "python",
   "nbconvert_exporter": "python",
   "pygments_lexer": "ipython3",
   "version": "3.11.5"
  }
 },
 "nbformat": 4,
 "nbformat_minor": 2
}
