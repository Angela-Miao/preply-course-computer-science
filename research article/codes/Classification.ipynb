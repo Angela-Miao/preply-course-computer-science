{
 "cells": [
  {
   "cell_type": "code",
   "execution_count": 1,
   "metadata": {},
   "outputs": [
    {
     "name": "stdout",
     "output_type": "stream",
     "text": [
      "hello world\n"
     ]
    }
   ],
   "source": [
    "print(\"hello world\")"
   ]
  },
  {
   "cell_type": "code",
   "execution_count": 3,
   "metadata": {},
   "outputs": [
    {
     "name": "stdout",
     "output_type": "stream",
     "text": [
      "The item with sweetness 5 and thirst-quenching 7 is predicted to be Bad.\n"
     ]
    }
   ],
   "source": [
    "def predict_quality(sweetness, thirst_quenching):\n",
    "    if sweetness > 5 and thirst_quenching > 5:\n",
    "        return \"Good\"\n",
    "    else:\n",
    "        return \"Bad\"\n",
    "\n",
    "# Example usage\n",
    "sweetness_score = 5\n",
    "thirst_quenching_score = 7\n",
    "\n",
    "prediction = predict_quality(sweetness_score, thirst_quenching_score)\n",
    "print(f\"The item with sweetness {sweetness_score} and thirst-quenching {thirst_quenching_score} is predicted to be {prediction}.\")\n"
   ]
  },
  {
   "attachments": {},
   "cell_type": "markdown",
   "metadata": {},
   "source": [
    "BAsed on data find its class"
   ]
  },
  {
   "cell_type": "code",
   "execution_count": 5,
   "metadata": {},
   "outputs": [
    {
     "data": {
      "text/html": [
       "<div>\n",
       "<style scoped>\n",
       "    .dataframe tbody tr th:only-of-type {\n",
       "        vertical-align: middle;\n",
       "    }\n",
       "\n",
       "    .dataframe tbody tr th {\n",
       "        vertical-align: top;\n",
       "    }\n",
       "\n",
       "    .dataframe thead th {\n",
       "        text-align: right;\n",
       "    }\n",
       "</style>\n",
       "<table border=\"1\" class=\"dataframe\">\n",
       "  <thead>\n",
       "    <tr style=\"text-align: right;\">\n",
       "      <th></th>\n",
       "      <th>Sweetness</th>\n",
       "      <th>Thirst-Quenching</th>\n",
       "      <th>Quality</th>\n",
       "    </tr>\n",
       "  </thead>\n",
       "  <tbody>\n",
       "    <tr>\n",
       "      <th>0</th>\n",
       "      <td>8</td>\n",
       "      <td>6</td>\n",
       "      <td>Good</td>\n",
       "    </tr>\n",
       "    <tr>\n",
       "      <th>1</th>\n",
       "      <td>6</td>\n",
       "      <td>8</td>\n",
       "      <td>Good</td>\n",
       "    </tr>\n",
       "    <tr>\n",
       "      <th>2</th>\n",
       "      <td>7</td>\n",
       "      <td>5</td>\n",
       "      <td>Bad</td>\n",
       "    </tr>\n",
       "    <tr>\n",
       "      <th>3</th>\n",
       "      <td>0</td>\n",
       "      <td>10</td>\n",
       "      <td>Good</td>\n",
       "    </tr>\n",
       "    <tr>\n",
       "      <th>4</th>\n",
       "      <td>7</td>\n",
       "      <td>7</td>\n",
       "      <td>Good</td>\n",
       "    </tr>\n",
       "    <tr>\n",
       "      <th>5</th>\n",
       "      <td>5</td>\n",
       "      <td>9</td>\n",
       "      <td>Good</td>\n",
       "    </tr>\n",
       "    <tr>\n",
       "      <th>6</th>\n",
       "      <td>4</td>\n",
       "      <td>8</td>\n",
       "      <td>Good</td>\n",
       "    </tr>\n",
       "    <tr>\n",
       "      <th>7</th>\n",
       "      <td>1</td>\n",
       "      <td>9</td>\n",
       "      <td>Good</td>\n",
       "    </tr>\n",
       "    <tr>\n",
       "      <th>8</th>\n",
       "      <td>6</td>\n",
       "      <td>7</td>\n",
       "      <td>Good</td>\n",
       "    </tr>\n",
       "    <tr>\n",
       "      <th>9</th>\n",
       "      <td>9</td>\n",
       "      <td>4</td>\n",
       "      <td>Bad</td>\n",
       "    </tr>\n",
       "  </tbody>\n",
       "</table>\n",
       "</div>"
      ],
      "text/plain": [
       "   Sweetness  Thirst-Quenching Quality\n",
       "0          8                 6    Good\n",
       "1          6                 8    Good\n",
       "2          7                 5     Bad\n",
       "3          0                10    Good\n",
       "4          7                 7    Good\n",
       "5          5                 9    Good\n",
       "6          4                 8    Good\n",
       "7          1                 9    Good\n",
       "8          6                 7    Good\n",
       "9          9                 4     Bad"
      ]
     },
     "execution_count": 5,
     "metadata": {},
     "output_type": "execute_result"
    }
   ],
   "source": [
    "import pandas as pd\n",
    "from scipy.spatial import distance\n",
    "\n",
    "# Sample dataset\n",
    "data = {\n",
    "    \"Sweetness\": [8, 6, 7, 0, 7, 5, 4, 1, 6, 9],\n",
    "    \"Thirst-Quenching\": [6, 8, 5, 10, 7, 9, 8, 9, 7, 4],\n",
    "    \"Quality\": [\"Good\", \"Good\", \"Bad\", \"Good\", \"Good\", \"Good\", \"Good\", \"Good\", \"Good\", \"Bad\"]\n",
    "}\n",
    "df = pd.DataFrame(data)\n",
    "df"
   ]
  },
  {
   "cell_type": "code",
   "execution_count": 6,
   "metadata": {},
   "outputs": [],
   "source": [
    "def predict_quality_knn(query_point, k):\n",
    "    # Calculate Euclidean distances\n",
    "    distances = df.apply(lambda row: distance.euclidean(row[['Sweetness', 'Thirst-Quenching']], query_point), axis=1)\n",
    "    df['Distance'] = distances\n",
    "\n",
    "    # Find k-nearest neighbors\n",
    "    nearest_neighbors = df.nsmallest(k, 'Distance')\n",
    "\n",
    "    # Predict based on majority vote\n",
    "    return nearest_neighbors['Quality'].mode()[0]"
   ]
  },
  {
   "cell_type": "code",
   "execution_count": 12,
   "metadata": {},
   "outputs": [
    {
     "name": "stdout",
     "output_type": "stream",
     "text": [
      "The item with sweetness 2 and thirst-quenching 8 is predicted to be Good.\n"
     ]
    }
   ],
   "source": [
    "# Example query point\n",
    "query_point = [2, 8]  # Sweetness = 5, Thirst-Quenching = 7\n",
    "k = 5  # Number of neighbors\n",
    "\n",
    "# Prediction\n",
    "prediction = predict_quality_knn(query_point, k)\n",
    "print(f\"The item with sweetness {query_point[0]} and thirst-quenching {query_point[1]} is predicted to be {prediction}.\")"
   ]
  },
  {
   "cell_type": "code",
   "execution_count": null,
   "metadata": {},
   "outputs": [],
   "source": []
  }
 ],
 "metadata": {
  "kernelspec": {
   "display_name": "base",
   "language": "python",
   "name": "python3"
  },
  "language_info": {
   "codemirror_mode": {
    "name": "ipython",
    "version": 3
   },
   "file_extension": ".py",
   "mimetype": "text/x-python",
   "name": "python",
   "nbconvert_exporter": "python",
   "pygments_lexer": "ipython3",
   "version": "3.9.13"
  },
  "orig_nbformat": 4
 },
 "nbformat": 4,
 "nbformat_minor": 2
}
