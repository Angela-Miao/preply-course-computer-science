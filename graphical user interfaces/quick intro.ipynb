{
 "cells": [
  {
   "cell_type": "code",
   "execution_count": 1,
   "metadata": {},
   "outputs": [],
   "source": [
    "# random\n",
    "# generate random numbers\n",
    "# choose sojmething from list randomluy"
   ]
  },
  {
   "cell_type": "code",
   "execution_count": 3,
   "metadata": {},
   "outputs": [
    {
     "data": {
      "text/plain": [
       "'peach'"
      ]
     },
     "execution_count": 3,
     "metadata": {},
     "output_type": "execute_result"
    }
   ],
   "source": [
    "# make a list of 5 fruits and choose any oen from them yourself\n",
    "fruit = [\"banana\", \"peach\", \"cherry\", \"tomato\", \"watermelon\"]\n",
    "fruit[1]"
   ]
  },
  {
   "cell_type": "code",
   "execution_count": 39,
   "metadata": {},
   "outputs": [
    {
     "data": {
      "text/plain": [
       "'banana'"
      ]
     },
     "execution_count": 39,
     "metadata": {},
     "output_type": "execute_result"
    }
   ],
   "source": [
    "import random   \n",
    "\n",
    "\n",
    "random.choice(fruit)"
   ]
  },
  {
   "cell_type": "code",
   "execution_count": 40,
   "metadata": {},
   "outputs": [
    {
     "name": "stdout",
     "output_type": "stream",
     "text": [
      "Cat's current state: idle\n",
      "Cat's current state: running\n"
     ]
    }
   ],
   "source": [
    "# go to chatgpt and ask it to amke a class Animal it will be called with instance cat and it shiuld have name and positioon .. and a function to chang eth ecurrent possiton and a function to rpnt current positoon\n",
    "class Animal:\n",
    "    def __init__(self, name, state=\"idle\"):\n",
    "        self.name = name\n",
    "        self.state = state\n",
    "\n",
    "    def change_state(self, new_state):\n",
    "        self.state = new_state\n",
    "\n",
    "    def print_state(self):\n",
    "        print(f\"{self.name}'s current state: {self.state}\")\n",
    "\n",
    "# Creating an instance of the Animal class named 'cat'\n",
    "cat = Animal(name=\"Cat\")\n",
    "\n",
    "# Printing the initial state\n",
    "cat.print_state()\n",
    "\n",
    "# Changing the state\n",
    "new_state = \"running\"\n",
    "cat.change_state(new_state)\n",
    "\n",
    "# Printing the updated state\n",
    "cat.print_state()\n"
   ]
  },
  {
   "cell_type": "code",
   "execution_count": 42,
   "metadata": {},
   "outputs": [
    {
     "name": "stdout",
     "output_type": "stream",
     "text": [
      "Cat's current state: running\n"
     ]
    }
   ],
   "source": [
    "cat.print_state()"
   ]
  },
  {
   "cell_type": "code",
   "execution_count": 46,
   "metadata": {},
   "outputs": [],
   "source": [
    "cat.change_state(\"studying\")"
   ]
  },
  {
   "cell_type": "code",
   "execution_count": 47,
   "metadata": {},
   "outputs": [
    {
     "name": "stdout",
     "output_type": "stream",
     "text": [
      "Cat's current state: studying\n"
     ]
    }
   ],
   "source": [
    "cat.print_state()"
   ]
  },
  {
   "cell_type": "code",
   "execution_count": null,
   "metadata": {},
   "outputs": [],
   "source": []
  }
 ],
 "metadata": {
  "kernelspec": {
   "display_name": "base",
   "language": "python",
   "name": "python3"
  },
  "language_info": {
   "codemirror_mode": {
    "name": "ipython",
    "version": 3
   },
   "file_extension": ".py",
   "mimetype": "text/x-python",
   "name": "python",
   "nbconvert_exporter": "python",
   "pygments_lexer": "ipython3",
   "version": "3.9.13"
  }
 },
 "nbformat": 4,
 "nbformat_minor": 2
}
