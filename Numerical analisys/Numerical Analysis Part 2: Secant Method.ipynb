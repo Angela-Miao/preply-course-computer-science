{
 "cells": [
  {
   "cell_type": "markdown",
   "metadata": {},
   "source": [
    "# secant Method"
   ]
  },
  {
   "cell_type": "code",
   "execution_count": 9,
   "metadata": {},
   "outputs": [],
   "source": [
    "def banan(a,b,y):\n",
    "    \"this function is taking a and b as innital guess\"\n",
    "    c = (a+b)/2\n",
    "    for i in range(10):\n",
    "        fa = y(a)\n",
    "        fb = y(b)\n",
    "        c = (a+b)/2\n",
    "        fc = y(c)\n",
    "        if (fa >0 and fc >0) or (fa<0 and fc<0):\n",
    "            a = c\n",
    "        else:\n",
    "            b = c \n",
    "        print(a,b,f(a))\n",
    "    return(a,b)\n"
   ]
  },
  {
   "cell_type": "code",
   "execution_count": 10,
   "metadata": {},
   "outputs": [],
   "source": [
    "f = lambda x:5*x+10"
   ]
  },
  {
   "cell_type": "code",
   "execution_count": 11,
   "metadata": {},
   "outputs": [
    {
     "name": "stdout",
     "output_type": "stream",
     "text": [
      "-100 0.0 -490\n",
      "-50.0 0.0 -240.0\n",
      "-25.0 0.0 -115.0\n",
      "-12.5 0.0 -52.5\n",
      "-6.25 0.0 -21.25\n",
      "-3.125 0.0 -5.625\n",
      "-3.125 -1.5625 -5.625\n",
      "-2.34375 -1.5625 -1.71875\n",
      "-2.34375 -1.953125 -1.71875\n",
      "-2.1484375 -1.953125 -0.7421875\n"
     ]
    },
    {
     "data": {
      "text/plain": [
       "(-2.1484375, -1.953125)"
      ]
     },
     "execution_count": 11,
     "metadata": {},
     "output_type": "execute_result"
    }
   ],
   "source": [
    "banan(-100,100,f)"
   ]
  },
  {
   "cell_type": "code",
   "execution_count": null,
   "metadata": {},
   "outputs": [],
   "source": []
  }
 ],
 "metadata": {
  "kernelspec": {
   "display_name": "base",
   "language": "python",
   "name": "python3"
  },
  "language_info": {
   "codemirror_mode": {
    "name": "ipython",
    "version": 3
   },
   "file_extension": ".py",
   "mimetype": "text/x-python",
   "name": "python",
   "nbconvert_exporter": "python",
   "pygments_lexer": "ipython3",
   "version": "3.9.13"
  }
 },
 "nbformat": 4,
 "nbformat_minor": 2
}
