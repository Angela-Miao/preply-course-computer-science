{
 "cells": [
  {
   "cell_type": "code",
   "execution_count": 3,
   "metadata": {},
   "outputs": [
    {
     "name": "stdout",
     "output_type": "stream",
     "text": [
      "こんにちわ、世界\n"
     ]
    }
   ],
   "source": [
    "#8-1\n",
    "def display_message():\n",
    "    \"Hello World\"\n",
    "    print(\"こんにちわ、世界\")\n",
    "display_message()"
   ]
  },
  {
   "cell_type": "code",
   "execution_count": 5,
   "metadata": {},
   "outputs": [
    {
     "name": "stdout",
     "output_type": "stream",
     "text": [
      "Miss Peregrine's Home for Peculiar Children\n"
     ]
    }
   ],
   "source": [
    "#8-2\n",
    "def favorite_book():\n",
    "    print(\"Miss Peregrine's Home for Peculiar Children\")\n",
    "favorite_book()\n"
   ]
  },
  {
   "cell_type": "code",
   "execution_count": 8,
   "metadata": {},
   "outputs": [
    {
     "name": "stdout",
     "output_type": "stream",
     "text": [
      "ok, we will prepare a size 2000000 shirt for you!\n"
     ]
    }
   ],
   "source": [
    "#8-3, wrong\n",
    "def make_shirt():\n",
    "    a = input(\"what is your shirt size?\")\n",
    "    print(\"ok, we will prepare a size\",a,\"shirt for you!\")\n",
    "make_shirt()"
   ]
  },
  {
   "cell_type": "code",
   "execution_count": 11,
   "metadata": {},
   "outputs": [
    {
     "name": "stdout",
     "output_type": "stream",
     "text": [
      "10 hello world\n"
     ]
    }
   ],
   "source": [
    "#8-3, right\n",
    "def make_shirt2(size, message):\n",
    "    print(size,message)\n",
    "make_shirt2(10,\"hello world\")"
   ]
  },
  {
   "cell_type": "code",
   "execution_count": 12,
   "metadata": {},
   "outputs": [
    {
     "name": "stdout",
     "output_type": "stream",
     "text": [
      "20 hello world\n"
     ]
    }
   ],
   "source": [
    "make_shirt2(20,\"hello world\")"
   ]
  },
  {
   "cell_type": "code",
   "execution_count": 13,
   "metadata": {},
   "outputs": [
    {
     "name": "stdout",
     "output_type": "stream",
     "text": [
      "10 hello world\n"
     ]
    }
   ],
   "source": [
    "#8-4\n",
    "def make_shirt2(size=10, message=\"i love python\"):\n",
    "    print(size,message)\n",
    "make_shirt2(10,\"hello world\")"
   ]
  },
  {
   "cell_type": "code",
   "execution_count": 18,
   "metadata": {},
   "outputs": [
    {
     "name": "stdout",
     "output_type": "stream",
     "text": [
      "20 i love python\n"
     ]
    }
   ],
   "source": [
    "make_shirt2(20)"
   ]
  },
  {
   "cell_type": "code",
   "execution_count": 20,
   "metadata": {},
   "outputs": [],
   "source": [
    "# 8-5\n",
    "def describe_city(city=\"Tokyo\", country=\"Japan\"):\n",
    "    print(\"City name is\",city,\"Country is\",country)\n",
    "    \n"
   ]
  },
  {
   "cell_type": "code",
   "execution_count": 21,
   "metadata": {},
   "outputs": [
    {
     "name": "stdout",
     "output_type": "stream",
     "text": [
      "City name is Tokyo Country is Japan\n"
     ]
    }
   ],
   "source": [
    "describe_city()"
   ]
  },
  {
   "cell_type": "code",
   "execution_count": 24,
   "metadata": {},
   "outputs": [
    {
     "name": "stdout",
     "output_type": "stream",
     "text": [
      "City name is Gujrat Country is Pakistan\n"
     ]
    }
   ],
   "source": [
    "describe_city(\"Gujrat\",\"Pakistan\")"
   ]
  },
  {
   "cell_type": "code",
   "execution_count": 25,
   "metadata": {},
   "outputs": [
    {
     "name": "stdout",
     "output_type": "stream",
     "text": [
      "City name is New York City Country is America\n"
     ]
    }
   ],
   "source": [
    "describe_city(\"New York City\",\"America\")"
   ]
  },
  {
   "cell_type": "code",
   "execution_count": 28,
   "metadata": {},
   "outputs": [],
   "source": [
    "def show_magicians(x):\n",
    "    for each in x:\n",
    "        print (\"element-->\",each)\n"
   ]
  },
  {
   "cell_type": "code",
   "execution_count": 29,
   "metadata": {},
   "outputs": [
    {
     "name": "stdout",
     "output_type": "stream",
     "text": [
      "element--> MrAndy\n",
      "element--> DrAndy\n",
      "element--> ProfAndy\n",
      "element--> Andyjr\n",
      "element--> Andy\n",
      "element--> ScientistAndy\n"
     ]
    }
   ],
   "source": [
    "show_magicians([\"MrAndy\",\"DrAndy\",\"ProfAndy\",\"Andyjr\",\"Andy\",\"ScientistAndy\"])"
   ]
  },
  {
   "cell_type": "code",
   "execution_count": 30,
   "metadata": {},
   "outputs": [],
   "source": [
    "#8-10\n",
    "def show_magicians(x):\n",
    "    for each in x:\n",
    "        print (\"Oh Great\",each)\n"
   ]
  },
  {
   "cell_type": "code",
   "execution_count": 32,
   "metadata": {},
   "outputs": [
    {
     "name": "stdout",
     "output_type": "stream",
     "text": [
      "Oh Great MrAndy\n",
      "Oh Great DrAndy\n",
      "Oh Great ProfAndy\n",
      "Oh Great Andyjr\n",
      "Oh Great Andy\n",
      "Oh Great ScientistAndy\n"
     ]
    }
   ],
   "source": [
    "show_magicians([\"MrAndy\",\"DrAndy\",\"ProfAndy\",\"Andyjr\",\"Andy\",\"ScientistAndy\"])"
   ]
  },
  {
   "cell_type": "code",
   "execution_count": 36,
   "metadata": {},
   "outputs": [],
   "source": [
    "def apple(*x):\n",
    "    print(x)"
   ]
  },
  {
   "cell_type": "code",
   "execution_count": 37,
   "metadata": {},
   "outputs": [
    {
     "name": "stdout",
     "output_type": "stream",
     "text": [
      "('hi', 'bye')\n"
     ]
    }
   ],
   "source": [
    "apple(\"hi\",\"bye\")"
   ]
  },
  {
   "cell_type": "code",
   "execution_count": 38,
   "metadata": {},
   "outputs": [],
   "source": [
    "def andy (size,msg):\n",
    "    print(\"size\",size)\n",
    "    print(\"msg\",msg)\n",
    "\n",
    "    "
   ]
  },
  {
   "cell_type": "code",
   "execution_count": 39,
   "metadata": {},
   "outputs": [
    {
     "name": "stdout",
     "output_type": "stream",
     "text": [
      "size 90\n",
      "msg hello\n"
     ]
    }
   ],
   "source": [
    "andy(90,\"hello\")"
   ]
  },
  {
   "cell_type": "code",
   "execution_count": 40,
   "metadata": {},
   "outputs": [
    {
     "name": "stdout",
     "output_type": "stream",
     "text": [
      "size hello\n",
      "msg 90\n"
     ]
    }
   ],
   "source": [
    "andy(\"hello\",90)"
   ]
  },
  {
   "cell_type": "code",
   "execution_count": 42,
   "metadata": {},
   "outputs": [
    {
     "name": "stdout",
     "output_type": "stream",
     "text": [
      "size 20\n",
      "msg hello\n"
     ]
    }
   ],
   "source": [
    "andy(msg=\"hello\",size=20) # keyword approach"
   ]
  },
  {
   "cell_type": "code",
   "execution_count": 43,
   "metadata": {},
   "outputs": [],
   "source": [
    "def sandwitch_order(*x):\n",
    "    for each in x:\n",
    "        print(each)"
   ]
  },
  {
   "cell_type": "code",
   "execution_count": 44,
   "metadata": {},
   "outputs": [
    {
     "name": "stdout",
     "output_type": "stream",
     "text": [
      "Tomato\n",
      "Chicken\n"
     ]
    }
   ],
   "source": [
    "sandwitch_order(\"Tomato\",\"Chicken\")"
   ]
  },
  {
   "cell_type": "code",
   "execution_count": 47,
   "metadata": {},
   "outputs": [
    {
     "name": "stdout",
     "output_type": "stream",
     "text": [
      "Okay Angela Take care, See you tomorrow\n",
      "Okay Angela Take care, See you tomorrow\n",
      "Okay Angela Take care, See you tomorrow\n",
      "Okay Angela Take care, See you tomorrow\n",
      "Okay Angela Take care, See you tomorrow\n",
      "Okay Angela Take care, See you tomorrow\n",
      "Okay Angela Take care, See you tomorrow\n",
      "Okay Angela Take care, See you tomorrow\n",
      "Okay Angela Take care, See you tomorrow\n",
      "Okay Angela Take care, See you tomorrow\n"
     ]
    }
   ],
   "source": [
    "for i in range(10):\n",
    "    print(\"Okay Angela Take care, See you tomorrow\")"
   ]
  },
  {
   "cell_type": "code",
   "execution_count": 48,
   "metadata": {},
   "outputs": [
    {
     "name": "stdout",
     "output_type": "stream",
     "text": [
      "{'first_name': 'Angela', 'last_name': 'Gu', 'location': 'Nowhere', 'field': 'Biology'}\n"
     ]
    }
   ],
   "source": [
    "def build_profile(first, last, **user_info):\n",
    "    \"\"\"Build a dictionary containing everything we know about a user.\"\"\"\n",
    "    profile = {}\n",
    "    profile['first_name'] = first\n",
    "    profile['last_name'] = last\n",
    "    for key, value in user_info.items():\n",
    "        profile[key] = value\n",
    "    return profile\n",
    "user_profile = build_profile('Angela', 'Gu',\n",
    "                             location='Nowhere',\n",
    "                             field='Biology')\n",
    "print(user_profile)\n"
   ]
  },
  {
   "cell_type": "code",
   "execution_count": 52,
   "metadata": {},
   "outputs": [
    {
     "name": "stdout",
     "output_type": "stream",
     "text": [
      "('subaru', 'outback', 'andy')\n",
      "blue\n",
      "True\n",
      "None\n"
     ]
    }
   ],
   "source": [
    "def make_car(*angela,color,tow_package):\n",
    "    print(angela)\n",
    "    print(color)\n",
    "    print(tow_package)\n",
    "\n",
    "car = make_car('subaru', 'outback',\"andy\", color='blue', tow_package=True)\n",
    "print(car)"
   ]
  },
  {
   "cell_type": "code",
   "execution_count": 55,
   "metadata": {},
   "outputs": [
    {
     "name": "stdout",
     "output_type": "stream",
     "text": [
      "1 [2, 4, 3, 2, 2, 3] 3\n"
     ]
    }
   ],
   "source": [
    "x,*y,z = 1,2,4,3,2,2,3,3\n",
    "print(x,y,z)"
   ]
  },
  {
   "cell_type": "code",
   "execution_count": 63,
   "metadata": {},
   "outputs": [],
   "source": [
    "def make_pizza(size, *toppings):\n",
    "       \"\"\"Summarize the pizza we are about to make.\"\"\"\n",
    "       print(\"\\nMaking a \" + str(size) +\n",
    "             \"-inch pizza with the following toppings:\")\n",
    "       for topping in toppings:\n",
    "           print(\"- \" + topping)"
   ]
  },
  {
   "cell_type": "code",
   "execution_count": 60,
   "metadata": {},
   "outputs": [
    {
     "name": "stdout",
     "output_type": "stream",
     "text": [
      "\n",
      "Making a 16-inch pizza with the following toppings:\n",
      "pinapple pepperoni\n"
     ]
    }
   ],
   "source": [
    "make_pizza(16, 'pepperoni')"
   ]
  },
  {
   "cell_type": "code",
   "execution_count": 64,
   "metadata": {},
   "outputs": [
    {
     "name": "stdout",
     "output_type": "stream",
     "text": [
      "\n",
      "Making a 12-inch pizza with the following toppings:\n",
      "- mushrooms\n",
      "- green peppers\n",
      "- extra cheese\n"
     ]
    }
   ],
   "source": [
    "make_pizza(12, 'mushrooms', 'green peppers', 'extra cheese')"
   ]
  },
  {
   "cell_type": "code",
   "execution_count": null,
   "metadata": {},
   "outputs": [],
   "source": []
  }
 ],
 "metadata": {
  "kernelspec": {
   "display_name": "Python 3",
   "language": "python",
   "name": "python3"
  },
  "language_info": {
   "codemirror_mode": {
    "name": "ipython",
    "version": 3
   },
   "file_extension": ".py",
   "mimetype": "text/x-python",
   "name": "python",
   "nbconvert_exporter": "python",
   "pygments_lexer": "ipython3",
   "version": "3.9.6"
  },
  "orig_nbformat": 4
 },
 "nbformat": 4,
 "nbformat_minor": 2
}
