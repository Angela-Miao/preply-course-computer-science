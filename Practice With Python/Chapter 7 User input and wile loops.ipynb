{
 "cells": [
  {
   "cell_type": "code",
   "execution_count": 12,
   "metadata": {},
   "outputs": [
    {
     "name": "stdout",
     "output_type": "stream",
     "text": [
      "Ok, one xk comming right up!\n"
     ]
    }
   ],
   "source": [
    "x = input(\"what food would you like to eat?\")\n",
    "print(\"Ok, one\",x,\"comming right up!\")"
   ]
  },
  {
   "cell_type": "code",
   "execution_count": 13,
   "metadata": {},
   "outputs": [
    {
     "name": "stderr",
     "output_type": "stream",
     "text": [
      "\n",
      "KeyboardInterrupt\n",
      "\n"
     ]
    }
   ],
   "source": [
    "a = input(\"hi, how many people are you dinning with today?\")\n",
    "a = int(a)\n",
    "if a > 8:\n",
    "    print(\"please wait a minute\")\n",
    "elif a == 1:\n",
    "    print(\"u r so lonely\")\n",
    "else:\n",
    "    print(\"go to my first question\") \n",
    "\n"
   ]
  },
  {
   "cell_type": "code",
   "execution_count": 15,
   "metadata": {},
   "outputs": [
    {
     "name": "stdout",
     "output_type": "stream",
     "text": [
      "ohh you like  cheese\n",
      "ohh you like  peperonni\n",
      "ohh you like  tomato\n",
      "ohh you like  banana\n",
      "program ended\n"
     ]
    }
   ],
   "source": [
    "while True: \n",
    "    q = input(\"what piza topping do you want?\")\n",
    "    print(\"ohh you like \",q)\n",
    "    a = input (\"would you like to continue or quit, write quit to end\")\n",
    "    if a == \"quit\":\n",
    "        break\n",
    "\n",
    "    \n",
    "print(\"program ended\")\n"
   ]
  },
  {
   "cell_type": "code",
   "execution_count": 17,
   "metadata": {},
   "outputs": [
    {
     "name": "stdout",
     "output_type": "stream",
     "text": [
      "you can go in for free\n",
      "that will be 10 dollars\n",
      "that will be 5 dollars\n"
     ]
    }
   ],
   "source": [
    "while True:\n",
    "    b = input(\"how old are you?\")\n",
    "    b = int(b)\n",
    "    if b < 3:\n",
    "        print(\"you can go in for free\")\n",
    "    elif b >= 3 and b <= 12:\n",
    "        print (\"that will be 5 dollars\")\n",
    "    else:\n",
    "        print(\"that will be 10 dollars\")\n",
    "    b = input (\"would you like to continue or quit, write quit to end\")\n",
    "    if b == \"quit\":\n",
    "        break"
   ]
  },
  {
   "cell_type": "code",
   "execution_count": 20,
   "metadata": {},
   "outputs": [
    {
     "name": "stdout",
     "output_type": "stream",
     "text": [
      "banana is made\n",
      "nutella is made\n",
      "tomato is made\n",
      "ham is made\n",
      "turky is made\n",
      "cheese is made\n",
      "ready to serve\n"
     ]
    }
   ],
   "source": [
    "#7-8\n",
    "sandwitch_orders = [\"banana\", \"nutella\", \"tomato\", \"ham\", \"turky\", \"cheese\" ]\n",
    "finished_sandwitches = []\n",
    "while (len(sandwitch_orders)>0):\n",
    "    finished_sandwitches.append(sandwitch_orders[0])\n",
    "    print(sandwitch_orders[0],\"is made\")\n",
    "    del sandwitch_orders[0]\n",
    "print(\"ready to serve\")  \n"
   ]
  },
  {
   "cell_type": "code",
   "execution_count": null,
   "metadata": {},
   "outputs": [],
   "source": [
    "#7-9\n",
    "sandwitch_orders = [\"banana\", \"pastrami\", \"nutella\", \"tomato\", \"pastrami\", \"ham\", \"turky\", \"pastrami\", \"cheese\" ]"
   ]
  }
 ],
 "metadata": {
  "kernelspec": {
   "display_name": "Python 3",
   "language": "python",
   "name": "python3"
  },
  "language_info": {
   "codemirror_mode": {
    "name": "ipython",
    "version": 3
   },
   "file_extension": ".py",
   "mimetype": "text/x-python",
   "name": "python",
   "nbconvert_exporter": "python",
   "pygments_lexer": "ipython3",
   "version": "3.9.6"
  },
  "orig_nbformat": 4
 },
 "nbformat": 4,
 "nbformat_minor": 2
}
