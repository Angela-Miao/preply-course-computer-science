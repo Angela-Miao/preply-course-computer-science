{
 "cells": [
  {
   "cell_type": "code",
   "execution_count": 10,
   "metadata": {},
   "outputs": [
    {
     "name": "stdout",
     "output_type": "stream",
     "text": [
      "I learned about lists, dictionary, classes, functions, and loops \n",
      "It was fun because I can tell andy that I know what he knows and I am about to beat him in python\n",
      "I also liked the way Mr. Umair teached me because it is easy to understand and I am able to build confidence and also learn new things everyday!\n",
      "And I like cheese \n",
      "and cats\n"
     ]
    }
   ],
   "source": [
    "with open('Learning_python.txt') as file_object:\n",
    "    content = file_object.read()\n",
    "    print(content)\n",
    "    content = content.replace(\"\\n\", \" \")"
   ]
  },
  {
   "cell_type": "code",
   "execution_count": 11,
   "metadata": {},
   "outputs": [
    {
     "data": {
      "text/plain": [
       "0"
      ]
     },
     "execution_count": 11,
     "metadata": {},
     "output_type": "execute_result"
    }
   ],
   "source": [
    "import os\n",
    "os.system(f\"say {content}\")"
   ]
  },
  {
   "cell_type": "code",
   "execution_count": 14,
   "metadata": {},
   "outputs": [
    {
     "name": "stdout",
     "output_type": "stream",
     "text": [
      "doctor andy\n",
      "engineer andy\n",
      "Mister andy\n",
      "Dear andy\n",
      "lovely andy\n",
      "cutoo andy\n",
      "nice andy\n",
      "byyeee andy\n"
     ]
    }
   ],
   "source": [
    "with open('/Users/angelasthingy/Desktop/preply-course-computer-science/Data/angela.txt') as banana:\n",
    "    banana2 = banana.read()\n",
    "    print(banana2)\n",
    "    banana2 = banana2.replace(\"\\n\", \" \")\n",
    "    os.system(f\"say {banana2}\")"
   ]
  },
  {
   "cell_type": "code",
   "execution_count": 15,
   "metadata": {},
   "outputs": [
    {
     "name": "stdout",
     "output_type": "stream",
     "text": [
      "doctor andy\n",
      "engineer andy\n",
      "Mister andy\n",
      "Dear andy\n",
      "lovely andy\n",
      "cutoo andy\n",
      "nice andy\n",
      "byyeee andy\n"
     ]
    }
   ],
   "source": [
    "with open('/Users/angelasthingy/Desktop/preply-course-computer-science/Data/angela.txt') as banana:\n",
    "    banana2 = banana.read()\n",
    "    print(banana2)\n",
    "    banana2 = banana2.replace(\"\\n\", \" \")\n",
    "    banana2 =banana2.replace(\"andy\",\"einsten\") \n",
    "    os.system(f\"say {banana2}\")"
   ]
  },
  {
   "cell_type": "code",
   "execution_count": 17,
   "metadata": {},
   "outputs": [],
   "source": [
    "\n",
    "table = \"angel andy\"\n",
    "with open(\"results.txt\", \"w\") as anana:\n",
    "    anana.write(table)"
   ]
  },
  {
   "cell_type": "code",
   "execution_count": 20,
   "metadata": {},
   "outputs": [],
   "source": [
    "guest = input(\"please write your name:\")\n",
    "with open (\"guest.txt\", \"w\") as hat:\n",
    "    hat.write(guest)"
   ]
  },
  {
   "cell_type": "code",
   "execution_count": 24,
   "metadata": {},
   "outputs": [],
   "source": [
    "guest = input(\"please write your name:\")\n",
    "with open (\"guest.txt\", \"a\") as hat:\n",
    "    hat.write(guest)\n"
   ]
  },
  {
   "cell_type": "code",
   "execution_count": 25,
   "metadata": {},
   "outputs": [
    {
     "name": "stdout",
     "output_type": "stream",
     "text": [
      "Hi\n",
      "Hi\n",
      "Hi\n",
      "Hi\n",
      "Hi\n",
      "Hi\n",
      "Hi\n",
      "Hi\n",
      "Hi\n",
      "Hi\n",
      "Hi\n",
      "Hi\n",
      "Hi\n",
      "Hi\n",
      "Hi\n",
      "Hi\n",
      "Hi\n",
      "Hi\n",
      "Hi\n",
      "Hi\n",
      "Hi\n",
      "Hi\n",
      "Hi\n",
      "Hi\n",
      "Hi\n",
      "Hi\n",
      "Hi\n",
      "Hi\n",
      "Hi\n",
      "Hi\n",
      "Hi\n",
      "Hi\n",
      "Hi\n",
      "Hi\n",
      "Hi\n"
     ]
    }
   ],
   "source": [
    "while True:\n",
    "    guest = input(\"please write your name:\")\n",
    "    print(\"Hi\")"
   ]
  },
  {
   "cell_type": "code",
   "execution_count": 17,
   "metadata": {},
   "outputs": [],
   "source": [
    "data = open(\"text.txt\")\n",
    "all_data = data.read()"
   ]
  },
  {
   "cell_type": "code",
   "execution_count": 22,
   "metadata": {},
   "outputs": [
    {
     "data": {
      "text/plain": [
       "0"
      ]
     },
     "execution_count": 22,
     "metadata": {},
     "output_type": "execute_result"
    }
   ],
   "source": [
    "all_data.lower().count(\"ndy\")"
   ]
  },
  {
   "cell_type": "code",
   "execution_count": null,
   "metadata": {},
   "outputs": [],
   "source": [
    "## you sould be able to load a text file and after cahnging save a text file\n"
   ]
  },
  {
   "cell_type": "code",
   "execution_count": null,
   "metadata": {},
   "outputs": [],
   "source": []
  },
  {
   "cell_type": "code",
   "execution_count": null,
   "metadata": {},
   "outputs": [],
   "source": []
  }
 ],
 "metadata": {
  "kernelspec": {
   "display_name": "Python 3",
   "language": "python",
   "name": "python3"
  },
  "language_info": {
   "codemirror_mode": {
    "name": "ipython",
    "version": 3
   },
   "file_extension": ".py",
   "mimetype": "text/x-python",
   "name": "python",
   "nbconvert_exporter": "python",
   "pygments_lexer": "ipython3",
   "version": "3.9.13"
  },
  "orig_nbformat": 4
 },
 "nbformat": 4,
 "nbformat_minor": 2
}
