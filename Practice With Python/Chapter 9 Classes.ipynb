{
 "cells": [
  {
   "cell_type": "code",
   "execution_count": 9,
   "metadata": {},
   "outputs": [],
   "source": [
    "class Cat():\n",
    "    def __init__(self,name,color,age,situation):\n",
    "        self.name = name\n",
    "        self.color = color\n",
    "        self.age = age\n",
    "        self.situation = situation\n",
    "\n",
    "    def sit(self):\n",
    "        print(self.name, \"is sitting\")\n",
    "        \n",
    "    \n",
    "    def roll_over(self):\n",
    "        print(self.name, \"is rolling over\")\n",
    "\n"
   ]
  },
  {
   "cell_type": "code",
   "execution_count": 3,
   "metadata": {},
   "outputs": [],
   "source": [
    "c1 = Cat(\"awang\",'black',\"3 years\")\n",
    "c2 = Cat(\"Happy\",\"white-gray-black\",\"1\")"
   ]
  },
  {
   "cell_type": "code",
   "execution_count": 10,
   "metadata": {},
   "outputs": [
    {
     "name": "stdout",
     "output_type": "stream",
     "text": [
      "awang is sitting\n"
     ]
    }
   ],
   "source": [
    "c1.sit()"
   ]
  },
  {
   "cell_type": "code",
   "execution_count": 11,
   "metadata": {},
   "outputs": [
    {
     "name": "stdout",
     "output_type": "stream",
     "text": [
      "Happy is rolled over\n"
     ]
    }
   ],
   "source": [
    "c2.roll_over()"
   ]
  },
  {
   "cell_type": "code",
   "execution_count": 12,
   "metadata": {},
   "outputs": [
    {
     "name": "stdout",
     "output_type": "stream",
     "text": [
      "Happy is sitting\n"
     ]
    }
   ],
   "source": [
    "c2.sit()"
   ]
  },
  {
   "cell_type": "code",
   "execution_count": 13,
   "metadata": {},
   "outputs": [
    {
     "name": "stdout",
     "output_type": "stream",
     "text": [
      "awang is rolled over\n"
     ]
    }
   ],
   "source": [
    "c1.roll_over()"
   ]
  },
  {
   "cell_type": "code",
   "execution_count": 15,
   "metadata": {},
   "outputs": [],
   "source": [
    "class Resturant():\n",
    "    def __init__(self,name,cuisine_type):\n",
    "        self.name = name\n",
    "        self.cuisine_type = cuisine_type\n",
    "\n",
    "    def describe_resturant(self):\n",
    "        print(self.name,self.cuisine_type)\n",
    "        \n",
    "\n"
   ]
  },
  {
   "cell_type": "code",
   "execution_count": 20,
   "metadata": {},
   "outputs": [],
   "source": [
    "r1 = Resturant(\"banana\", \"chinese\")\n",
    "r2 = Resturant(\"cherry\", \"pakistani\")\n",
    "r3 = Resturant(\"watermelon\",\"japanese\")"
   ]
  },
  {
   "cell_type": "code",
   "execution_count": 18,
   "metadata": {},
   "outputs": [
    {
     "name": "stdout",
     "output_type": "stream",
     "text": [
      "cherry pakistani\n"
     ]
    }
   ],
   "source": [
    "r2.describe_resturant()"
   ]
  },
  {
   "cell_type": "code",
   "execution_count": 24,
   "metadata": {},
   "outputs": [],
   "source": [
    "#9-3\n",
    "class User():\n",
    "    def __init__ (self,first_name,last_name):\n",
    "        self.first_name = first_name\n",
    "        self.last_name = last_name\n",
    "\n",
    "    def user(self):\n",
    "        print(self.first_name, self.last_name)\n",
    "    \n",
    "    \n"
   ]
  },
  {
   "cell_type": "code",
   "execution_count": 25,
   "metadata": {},
   "outputs": [
    {
     "name": "stdout",
     "output_type": "stream",
     "text": [
      "Angela Gu\n"
     ]
    }
   ],
   "source": [
    "# create instance\n",
    "u1 = User(\"Angela\",\"Gu\")\n",
    "u1.user()"
   ]
  },
  {
   "cell_type": "code",
   "execution_count": 26,
   "metadata": {},
   "outputs": [
    {
     "name": "stdout",
     "output_type": "stream",
     "text": [
      "Mr Andy\n"
     ]
    }
   ],
   "source": [
    "# make one more instance for another person\n",
    "u2 = User(\"Mr\",\"Andy\")\n",
    "u2.user()"
   ]
  },
  {
   "cell_type": "code",
   "execution_count": 39,
   "metadata": {},
   "outputs": [],
   "source": [
    "# please make a class of Animal\n",
    "# it should name and legs and position \n",
    "\n",
    "#make a function which will print\n",
    "# anme and position of animal\n",
    "\n",
    "\n",
    "\n",
    "class Animal():\n",
    "    def __init__(self, name, legs, position):\n",
    "        self.name = name\n",
    "        self.legs = legs\n",
    "        self.position = position\n",
    "    def animal_situation(self):\n",
    "        print(self.name,\"is\", self.position)\n",
    "\n",
    "    def set_sitation(self,situa):\n",
    "        self.position = situa\n"
   ]
  },
  {
   "cell_type": "code",
   "execution_count": 35,
   "metadata": {},
   "outputs": [
    {
     "name": "stdout",
     "output_type": "stream",
     "text": [
      "cat is sitting\n"
     ]
    }
   ],
   "source": [
    "a1 = Animal(\"cat\",\"1000\",\"sitting\")\n",
    "a1.animal_situation()"
   ]
  },
  {
   "cell_type": "code",
   "execution_count": 36,
   "metadata": {},
   "outputs": [],
   "source": [
    "a1.set_sitation(\"sleeping\")\n"
   ]
  },
  {
   "cell_type": "code",
   "execution_count": 38,
   "metadata": {},
   "outputs": [
    {
     "name": "stdout",
     "output_type": "stream",
     "text": [
      "cat is sleeping\n"
     ]
    }
   ],
   "source": [
    "a1.animal_situation()"
   ]
  },
  {
   "cell_type": "code",
   "execution_count": 41,
   "metadata": {},
   "outputs": [
    {
     "name": "stdout",
     "output_type": "stream",
     "text": [
      "cat is running\n"
     ]
    }
   ],
   "source": [
    "# can you set cat sitation to running\n",
    "a1.set_sitation(\"running\")\n",
    "a1.animal_situation()"
   ]
  },
  {
   "cell_type": "code",
   "execution_count": 22,
   "metadata": {},
   "outputs": [
    {
     "name": "stdout",
     "output_type": "stream",
     "text": [
      "average = 1443.5\n",
      "maximum distance travelled = 1900\n",
      "minimum distance travelled = 1000\n",
      "second highest distance travelled = 1800\n",
      "distence travelled in month: jan is 1000 kilometers\n",
      "fare in month: jan is 1000 usd\n",
      "distence travelled in month: feb is 1500 kilometers\n",
      "fare in month: feb is 1500 usd\n",
      "distence travelled in month: mar is 1200 kilometers\n",
      "fare in month: mar is 1200 usd\n",
      "distence travelled in month: apr is 1800 kilometers\n",
      "fare in month: apr is 1800 usd\n",
      "distence travelled in month: may is 1900 kilometers\n",
      "fare in month: may is 1900 usd\n",
      "distence travelled in month: jun is 1300 kilometers\n",
      "fare in month: jun is 1300 usd\n",
      "distence travelled in month: jul is 1400 kilometers\n",
      "fare in month: jul is 1400 usd\n",
      "distence travelled in month: aug is 1500 kilometers\n",
      "fare in month: aug is 1500 usd\n",
      "distence travelled in month: sep is 1400 kilometers\n",
      "fare in month: sep is 1400 usd\n",
      "distence travelled in month: oct is 1550 kilometers\n",
      "fare in month: oct is 1550 usd\n",
      "distence travelled in month: nov is 1340 kilometers\n",
      "fare in month: nov is 1340 usd\n",
      "distence travelled in month: dec is 1432 kilometers\n",
      "fare in month: dec is 1432 usd\n"
     ]
    }
   ],
   "source": [
    "## andy is on aeroplane for 12 months\n",
    "distance_each_month = [1000,1500,1200,1800,1900,1300,1400,1500,1400,1550,1340,1432]\n",
    "# find average ditance he travelled yearly\n",
    "print(\"average =\",sum(distance_each_month)/12)\n",
    "# maximum distance travelled\n",
    "print(\"maximum distance travelled =\", max(distance_each_month))\n",
    "# minimum distance travelled\n",
    "print(\"minimum distance travelled =\", min(distance_each_month))\n",
    "# second highest distance travelled\n",
    "print(\"second highest distance travelled =\", sorted(distance_each_month)[-2])\n",
    "months = ['jan', 'feb', 'mar','apr','may', 'jun', 'jul', 'aug', 'sep','oct', 'nov', 'dec']\n",
    "# print ditacne travelled january 1000 distan 2000\n",
    "for ind in range(12):\n",
    "    print(\"distence travelled in month:\",months[ind],\"is\",distance_each_month[ind],\"kilometers\")\n",
    "    print(\"fare in month:\",months[ind],\"is\",distance_each_month[ind],\"usd\")"
   ]
  },
  {
   "cell_type": "code",
   "execution_count": 24,
   "metadata": {},
   "outputs": [
    {
     "name": "stdout",
     "output_type": "stream",
     "text": [
      "fare in month: jan is 1700.0 usd\n",
      "fare in month: feb is 2550.0 usd\n",
      "fare in month: mar is 2040.0 usd\n",
      "fare in month: apr is 3060.0 usd\n",
      "fare in month: may is 3230.0 usd\n",
      "fare in month: jun is 2210.0 usd\n",
      "fare in month: jul is 2380.0 usd\n",
      "fare in month: aug is 2550.0 usd\n",
      "fare in month: sep is 2380.0 usd\n",
      "fare in month: oct is 2635.0 usd\n",
      "fare in month: nov is 2278.0 usd\n",
      "fare in month: dec is 2434.4 usd\n"
     ]
    }
   ],
   "source": [
    "# if fare of flight is 1usd per kilometer then whaat will be the fare each month\n",
    "for ind in range(12):\n",
    "    print(\"fare in month:\",months[ind],\"is\",distance_each_month[ind] * 1.7,\"usd\")"
   ]
  },
  {
   "cell_type": "code",
   "execution_count": 31,
   "metadata": {},
   "outputs": [
    {
     "name": "stdout",
     "output_type": "stream",
     "text": [
      "total distance = 17322\n",
      "total money = 29447.399999999998\n"
     ]
    }
   ],
   "source": [
    "# can you find total distance tranvelled and totally money he spent on travelling\n",
    "print(\"total distance =\",sum(distance_each_month))\n",
    "print(\"total money =\",sum(distance_each_month) * 1.7)"
   ]
  },
  {
   "cell_type": "code",
   "execution_count": 43,
   "metadata": {},
   "outputs": [
    {
     "name": "stdout",
     "output_type": "stream",
     "text": [
      "for first three onths 6290.0\n",
      "for first three onths 9500.0\n",
      "for first three onths 18968.4\n",
      "34758.4\n"
     ]
    }
   ],
   "source": [
    "## next year there was fluctuation and \n",
    "## frirst three month prices were 1.7 usd per kilometer , next three month prices were 1.9 usd per kilomter and for remainging 6 months prices were 2.2 usd per kilometer\n",
    "new = distance_each_month[0:3]\n",
    "total = 0\n",
    "for each in new:\n",
    "    total= total+ each* 1.7\n",
    "print(\"for first three onths\",total)\n",
    "\n",
    "new2 = distance_each_month[3:6]\n",
    "total2 = 0\n",
    "for each in new2:\n",
    "    total2= total2+ each* 1.9\n",
    "print(\"for first three onths\",total2)\n",
    "\n",
    "new3 = distance_each_month[6:12]\n",
    "total3 = 0\n",
    "for each in new3:\n",
    "    total3= total3+ each* 2.2\n",
    "print(\"for first three onths\",total3)\n",
    "\n",
    "print(total+total2+total3)\n",
    "\n",
    "\n"
   ]
  },
  {
   "cell_type": "code",
   "execution_count": 50,
   "metadata": {},
   "outputs": [
    {
     "name": "stdout",
     "output_type": "stream",
     "text": [
      "34758.4\n"
     ]
    }
   ],
   "source": [
    "totol = 0\n",
    "for i in range(12):\n",
    "    if i < 3 :\n",
    "        totol = totol + distance_each_month[i]* 1.7\n",
    "    elif i >= 3 and i < 6:\n",
    "        totol = totol + distance_each_month[i] * 1.9\n",
    "    else:\n",
    "        totol = totol + distance_each_month[i] * 2.2\n",
    "print(totol)"
   ]
  },
  {
   "cell_type": "code",
   "execution_count": null,
   "metadata": {},
   "outputs": [],
   "source": []
  }
 ],
 "metadata": {
  "kernelspec": {
   "display_name": "Python 3",
   "language": "python",
   "name": "python3"
  },
  "language_info": {
   "codemirror_mode": {
    "name": "ipython",
    "version": 3
   },
   "file_extension": ".py",
   "mimetype": "text/x-python",
   "name": "python",
   "nbconvert_exporter": "python",
   "pygments_lexer": "ipython3",
   "version": "3.9.6"
  },
  "orig_nbformat": 4
 },
 "nbformat": 4,
 "nbformat_minor": 2
}
