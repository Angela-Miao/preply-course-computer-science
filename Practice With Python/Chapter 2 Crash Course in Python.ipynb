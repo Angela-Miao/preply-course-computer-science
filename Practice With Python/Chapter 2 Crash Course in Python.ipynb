{
 "cells": [
  {
   "cell_type": "code",
   "execution_count": 4,
   "metadata": {},
   "outputs": [],
   "source": [
    "# make a function to add two number\n",
    "def banana(x,y):\n",
    "    return x + y\n",
    "\n"
   ]
  },
  {
   "cell_type": "code",
   "execution_count": 5,
   "metadata": {},
   "outputs": [
    {
     "data": {
      "text/plain": [
       "3"
      ]
     },
     "execution_count": 5,
     "metadata": {},
     "output_type": "execute_result"
    }
   ],
   "source": [
    "banana(1,2)"
   ]
  },
  {
   "cell_type": "code",
   "execution_count": 11,
   "metadata": {},
   "outputs": [
    {
     "name": "stdout",
     "output_type": "stream",
     "text": [
      "apple is present\n"
     ]
    }
   ],
   "source": [
    "# make a code to see if apple is present in list\n",
    "x = ['appjhle','mango','orange']\n",
    "if 'mango' in x:\n",
    "    print(\"apple is present\")\n",
    "else:\n",
    "    print(\"not present\")\n"
   ]
  },
  {
   "cell_type": "code",
   "execution_count": 15,
   "metadata": {},
   "outputs": [
    {
     "name": "stdout",
     "output_type": "stream",
     "text": [
      "hehehehe\n"
     ]
    }
   ],
   "source": [
    "x = \"andy is playing game football\"\n",
    "if \"andy\" in x:\n",
    "    print(\"hehehehe\")\n",
    "else:\n",
    "    print(\"wronggggg\")"
   ]
  },
  {
   "cell_type": "code",
   "execution_count": 18,
   "metadata": {},
   "outputs": [
    {
     "name": "stdout",
     "output_type": "stream",
     "text": [
      "DOOOOOOOOOOOOOOOOOOOOOOOOOOOOOOG\n"
     ]
    }
   ],
   "source": [
    "## make a code if dog is resent then print dog detected\n",
    "\n",
    "x = \"dog is so faithful animal\"\n",
    "if \"dog\" in x:\n",
    "    print(\"DOOOOOOOOOOOOOOOOOOOOOOOOOOOOOOG\")\n",
    "else:\n",
    "    print(\"NOOOOOOOOOOOOOOOOOOOOOOOOOOOOOO\")"
   ]
  },
  {
   "cell_type": "code",
   "execution_count": 20,
   "metadata": {},
   "outputs": [
    {
     "name": "stdout",
     "output_type": "stream",
     "text": [
      "[0, 2, 4] [0, 1, 4, 9, 16]\n"
     ]
    }
   ],
   "source": [
    "# list comprehensions\n",
    "even_numbers = [x for x in range(5) if x % 2 == 0 ]\n",
    "squares = [x * x for x in range(5)]\n",
    "print(even_numbers, squares)\n"
   ]
  },
  {
   "cell_type": "code",
   "execution_count": 22,
   "metadata": {},
   "outputs": [
    {
     "data": {
      "text/plain": [
       "[0, 1, 2]"
      ]
     },
     "execution_count": 22,
     "metadata": {},
     "output_type": "execute_result"
    }
   ],
   "source": [
    "[angela for angela in range(5) if angela <3]"
   ]
  },
  {
   "cell_type": "code",
   "execution_count": 23,
   "metadata": {},
   "outputs": [
    {
     "name": "stdout",
     "output_type": "stream",
     "text": [
      "0\n",
      "1\n",
      "2\n",
      "3\n",
      "4\n"
     ]
    }
   ],
   "source": [
    "for angela in range(5):\n",
    "    print(angela)"
   ]
  },
  {
   "cell_type": "code",
   "execution_count": 24,
   "metadata": {},
   "outputs": [],
   "source": [
    "## i will find easy book for you!"
   ]
  },
  {
   "cell_type": "code",
   "execution_count": 27,
   "metadata": {},
   "outputs": [
    {
     "name": "stdout",
     "output_type": "stream",
     "text": [
      "Mrandy Is Smart\n"
     ]
    }
   ],
   "source": [
    "# 2-1 Simple message\n",
    "x = \"Mrandy is smart\"\n",
    "print(x.title())"
   ]
  },
  {
   "cell_type": "code",
   "execution_count": 28,
   "metadata": {},
   "outputs": [
    {
     "name": "stdout",
     "output_type": "stream",
     "text": [
      "MSANGELA\n",
      "msangela\n",
      "Msangela\n"
     ]
    }
   ],
   "source": [
    "#2-4 Name cases:\n",
    "a = \"Msangela\"\n",
    "print(a.upper())\n",
    "print(a.lower())\n",
    "print(a.title())"
   ]
  },
  {
   "cell_type": "code",
   "execution_count": 5,
   "metadata": {},
   "outputs": [
    {
     "name": "stdout",
     "output_type": "stream",
     "text": [
      "Mom once said, 'Andy!!! Finish eating the rice'... Beautiful words!\n"
     ]
    }
   ],
   "source": [
    "x = \"Mom\"\n",
    "y = \"Andy!!! Finish eating the rice\"\n",
    "print(f\"{x} once said, '{y}'... Beautiful words!\")"
   ]
  },
  {
   "cell_type": "code",
   "execution_count": 6,
   "metadata": {},
   "outputs": [
    {
     "name": "stdout",
     "output_type": "stream",
     "text": [
      "Andy once said, 'I dont know and YAAAA'... Beautiful words!\n"
     ]
    }
   ],
   "source": [
    "x = \"Andy\"\n",
    "y = \"I dont know and YAAAA\"\n",
    "print(f\"{x} once said, '{y}'... Beautiful words!\")"
   ]
  },
  {
   "cell_type": "code",
   "execution_count": 12,
   "metadata": {},
   "outputs": [
    {
     "name": "stdout",
     "output_type": "stream",
     "text": [
      "Mr       Umair once said, 'Yah?'... Beautiful words!\n"
     ]
    }
   ],
   "source": [
    "x = \"    Mr      Umair                       \"\n",
    "y = \"Yah?\"\n",
    "print(f\"{x.strip()} once said, '{y}'... Beautiful words!\")"
   ]
  },
  {
   "cell_type": "code",
   "execution_count": 19,
   "metadata": {},
   "outputs": [
    {
     "name": "stdout",
     "output_type": "stream",
     "text": [
      "Mr      Umair once said, 'Yah?'... Beautiful words!\n"
     ]
    }
   ],
   "source": [
    "x = \"    Mr      Umair                   \"\n",
    "y = \"Yah?\"\n",
    "print(f\"{x.strip()} once said, '{y}'... Beautiful words!\")"
   ]
  },
  {
   "cell_type": "code",
   "execution_count": 22,
   "metadata": {},
   "outputs": [
    {
     "name": "stdout",
     "output_type": "stream",
     "text": [
      "Happy 14rd Birthday!\n"
     ]
    }
   ],
   "source": [
    "age = 14\n",
    "message = \"Happy \" + str(age) + \"rd Birthday!\"\n",
    "print(message)"
   ]
  },
  {
   "cell_type": "code",
   "execution_count": 28,
   "metadata": {},
   "outputs": [
    {
     "name": "stdout",
     "output_type": "stream",
     "text": [
      "I love u, 2\n"
     ]
    }
   ],
   "source": [
    "a = 2\n",
    "banana = \"I love u, \" + str(a)\n",
    "print(banana)"
   ]
  },
  {
   "cell_type": "code",
   "execution_count": null,
   "metadata": {},
   "outputs": [],
   "source": []
  }
 ],
 "metadata": {
  "kernelspec": {
   "display_name": "Python 3",
   "language": "python",
   "name": "python3"
  },
  "language_info": {
   "codemirror_mode": {
    "name": "ipython",
    "version": 3
   },
   "file_extension": ".py",
   "mimetype": "text/x-python",
   "name": "python",
   "nbconvert_exporter": "python",
   "pygments_lexer": "ipython3",
   "version": "3.9.6"
  },
  "orig_nbformat": 4
 },
 "nbformat": 4,
 "nbformat_minor": 2
}
