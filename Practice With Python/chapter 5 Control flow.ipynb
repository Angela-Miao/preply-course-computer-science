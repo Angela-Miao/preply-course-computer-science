{
 "cells": [
  {
   "cell_type": "code",
   "execution_count": 1,
   "metadata": {},
   "outputs": [
    {
     "name": "stdout",
     "output_type": "stream",
     "text": [
      "You lost 3 points\n"
     ]
    }
   ],
   "source": [
    "#5-3\n",
    "alian_color = \"red\"\n",
    "if alian_color == \"green\":\n",
    "    print(\"You gained 5 points\")\n",
    "else:\n",
    "    print(\"You lost 3 points\")"
   ]
  },
  {
   "cell_type": "code",
   "execution_count": 2,
   "metadata": {},
   "outputs": [
    {
     "name": "stdout",
     "output_type": "stream",
     "text": [
      "you gained 5 points\n"
     ]
    }
   ],
   "source": [
    "#5-4\n",
    "alian_color = \"green\"\n",
    "if alian_color == \"green\":\n",
    "    print(\"you gained 5 points\")\n",
    "elif alian_color == \"red\":\n",
    "    print(\"you gained 10 points\")\n",
    "else:\n",
    "    print(\"you lost 3 points\")"
   ]
  },
  {
   "cell_type": "code",
   "execution_count": 13,
   "metadata": {},
   "outputs": [
    {
     "name": "stdout",
     "output_type": "stream",
     "text": [
      "I LOVE Banana\n"
     ]
    }
   ],
   "source": [
    "#5-7\n",
    "\n",
    "frt = \"\"\n",
    "print(\"I LOVE \"+frt)"
   ]
  },
  {
   "cell_type": "code",
   "execution_count": 14,
   "metadata": {},
   "outputs": [
    {
     "ename": "IndentationError",
     "evalue": "expected an indented block (1524669541.py, line 2)",
     "output_type": "error",
     "traceback": [
      "\u001b[0;36m  Cell \u001b[0;32mIn[14], line 2\u001b[0;36m\u001b[0m\n\u001b[0;31m    if frt in favorite_fruits:\u001b[0m\n\u001b[0m                              ^\u001b[0m\n\u001b[0;31mIndentationError\u001b[0m\u001b[0;31m:\u001b[0m expected an indented block\n"
     ]
    }
   ],
   "source": [
    "favorite_fruits = [\"banana\", \"peach\", \"cherry\"]\n",
    "if frt in favorite_fruits:"
   ]
  },
  {
   "cell_type": "code",
   "execution_count": 16,
   "metadata": {},
   "outputs": [
    {
     "name": "stdout",
     "output_type": "stream",
     "text": [
      "Hello Admin, would you like to see the recent activity of our players?\n",
      "Welcome back Bob\n",
      "Welcome back Fiona\n",
      "Welcome back Dave\n",
      "Welcome back Mrandy\n",
      "Welcome back Andrew\n"
     ]
    }
   ],
   "source": [
    "banana10 = [\"Admin\", \"Bob\", \"Fiona\", \"Dave\", \"Mrandy\", \"Andrew\"]\n",
    "for i in banana10:\n",
    "    if i == \"Admin\":\n",
    "        print(\"Hello Admin, would you like to see the recent activity of our players?\")\n",
    "    else:\n",
    "        print(\"Welcome back\",i)\n"
   ]
  },
  {
   "cell_type": "code",
   "execution_count": 23,
   "metadata": {},
   "outputs": [
    {
     "name": "stdout",
     "output_type": "stream",
     "text": [
      "We need to find some users\n"
     ]
    }
   ],
   "source": [
    "banana10 = [\"Admin\", \"Bob\", \"Fiona\", \"Dave\", \"Mrandy\", \"Andrew\"]\n",
    "banana11 = []\n",
    "if len(banana11) == 0:\n",
    "    print(\"We need to find some users\")\n",
    "for i in banana11:\n",
    "    if i == \"Admin\":\n",
    "        print(\"Hello Admin, would you like to see the recent activity of our players?\")\n",
    "    else:\n",
    "        print(\"Welcome back\",i)"
   ]
  },
  {
   "cell_type": "code",
   "execution_count": 26,
   "metadata": {},
   "outputs": [
    {
     "name": "stdout",
     "output_type": "stream",
     "text": [
      "1st\n",
      "2nd\n",
      "3rd\n",
      "4th\n",
      "5th\n",
      "6th\n",
      "7th\n",
      "8th\n",
      "9th\n",
      "10th\n"
     ]
    }
   ],
   "source": [
    "# 5-11\n",
    "banananana=[\"1\",\"2\",\"3\",\"4\",\"5\",\"6\",\"7\",\"8\",\"9\",\"10\"]\n",
    "for b in banananana:\n",
    "    if b == \"1\":\n",
    "        print(\"1st\")\n",
    "    elif b == \"2\":\n",
    "        print(\"2nd\")\n",
    "    elif b == \"3\":\n",
    "        print(\"3rd\")\n",
    "    else:\n",
    "        print(b+\"th\")"
   ]
  },
  {
   "cell_type": "code",
   "execution_count": null,
   "metadata": {},
   "outputs": [],
   "source": []
  }
 ],
 "metadata": {
  "kernelspec": {
   "display_name": "Python 3",
   "language": "python",
   "name": "python3"
  },
  "language_info": {
   "codemirror_mode": {
    "name": "ipython",
    "version": 3
   },
   "file_extension": ".py",
   "mimetype": "text/x-python",
   "name": "python",
   "nbconvert_exporter": "python",
   "pygments_lexer": "ipython3",
   "version": "3.9.6"
  },
  "orig_nbformat": 4
 },
 "nbformat": 4,
 "nbformat_minor": 2
}
