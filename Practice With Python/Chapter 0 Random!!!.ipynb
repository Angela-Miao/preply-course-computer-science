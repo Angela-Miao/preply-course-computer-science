{
 "cells": [
  {
   "cell_type": "code",
   "execution_count": 1,
   "metadata": {},
   "outputs": [
    {
     "name": "stdout",
     "output_type": "stream",
     "text": [
      "1800\n"
     ]
    }
   ],
   "source": [
    "# i am in a room\n",
    "## i know the length of room is 15 feet\n",
    "## the width of room is 10 feet\n",
    "\n",
    "\n",
    "## someone told me per feet price of tilling \n",
    "## per square feet is 12 usd per feet\n",
    "## you have to find cost\n",
    "## hint find area and then multiply price\n",
    "\n",
    "print(15*10*12)\n"
   ]
  },
  {
   "cell_type": "code",
   "execution_count": 35,
   "metadata": {},
   "outputs": [
    {
     "name": "stdout",
     "output_type": "stream",
     "text": [
      "[ 61 253 173  40 118 119  13 231 235 234 138 281 160 230  48 170 201  51\n",
      "  79  56]\n",
      "highest number 281\n",
      "second highest number 253\n",
      "third highest number 235\n"
     ]
    }
   ],
   "source": [
    "## \n",
    "import numpy as np\n",
    "x = np.random.randint(1,300,20)\n",
    "print(x)\n",
    "## find hightest\n",
    "x.sort()\n",
    "print(\"highest number\",x[-1])\n",
    "## second largest\n",
    "print(\"second highest number\",x[-2])\n",
    "## third largest number\n",
    "print(\"third highest number\",x[-3])\n",
    "\n",
    "\n"
   ]
  },
  {
   "cell_type": "code",
   "execution_count": null,
   "metadata": {},
   "outputs": [],
   "source": [
    "## if andy has 3 apples\n",
    "## he gives angela 2 apples\n",
    "## how many oranges does andy have?"
   ]
  },
  {
   "cell_type": "code",
   "execution_count": 9,
   "metadata": {},
   "outputs": [
    {
     "name": "stdout",
     "output_type": "stream",
     "text": [
      "Andy will have 1594323 chickens after 12 months.\n"
     ]
    }
   ],
   "source": [
    "# andy has 3 chicken\n",
    "# let say each chicekn of andy gives 2 babies each month\n",
    "\n",
    "## after 10 months how much chickens will andy have\n",
    "\n",
    "def calculate_chickens(initial_chickens, months):\n",
    "    total_chickens = initial_chickens\n",
    "    for month in range(months):\n",
    "        babies = total_chickens * 2\n",
    "        total_chickens += babies\n",
    "    return total_chickens\n",
    "\n",
    "initial_chickens = 3\n",
    "months = 12\n",
    "result = calculate_chickens(initial_chickens, months)\n",
    "print(f\"Andy will have {result} chickens after {months} months.\")\n",
    "\n"
   ]
  },
  {
   "cell_type": "markdown",
   "metadata": {},
   "source": []
  }
 ],
 "metadata": {
  "kernelspec": {
   "display_name": "Python 3",
   "language": "python",
   "name": "python3"
  },
  "language_info": {
   "codemirror_mode": {
    "name": "ipython",
    "version": 3
   },
   "file_extension": ".py",
   "mimetype": "text/x-python",
   "name": "python",
   "nbconvert_exporter": "python",
   "pygments_lexer": "ipython3",
   "version": "3.9.6"
  },
  "orig_nbformat": 4
 },
 "nbformat": 4,
 "nbformat_minor": 2
}
