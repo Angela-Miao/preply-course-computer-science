{
 "cells": [
  {
   "cell_type": "code",
   "execution_count": 6,
   "metadata": {},
   "outputs": [],
   "source": [
    "p = list(range(1,21))"
   ]
  },
  {
   "cell_type": "code",
   "execution_count": 10,
   "metadata": {},
   "outputs": [
    {
     "name": "stdout",
     "output_type": "stream",
     "text": [
      "angela 1\n",
      "angela 2\n",
      "angela 3\n",
      "angela 4\n",
      "angela 5\n",
      "angela 6\n",
      "angela 7\n",
      "angela 8\n",
      "angela 9\n",
      "angela 10\n",
      "angela 11\n",
      "angela 12\n",
      "angela 13\n",
      "angela 14\n",
      "angela 15\n",
      "angela 16\n",
      "angela 17\n",
      "angela 18\n",
      "angela 19\n",
      "angela 20\n"
     ]
    }
   ],
   "source": [
    "for i in p:\n",
    "    print(\"angela\",i)"
   ]
  },
  {
   "cell_type": "code",
   "execution_count": 12,
   "metadata": {},
   "outputs": [
    {
     "ename": "IndentationError",
     "evalue": "unexpected indent (1482749017.py, line 7)",
     "output_type": "error",
     "traceback": [
      "\u001b[0;36m  Cell \u001b[0;32mIn[12], line 7\u001b[0;36m\u001b[0m\n\u001b[0;31m    print(\"angela\",i)\u001b[0m\n\u001b[0m    ^\u001b[0m\n\u001b[0;31mIndentationError\u001b[0m\u001b[0;31m:\u001b[0m unexpected indent\n"
     ]
    }
   ],
   "source": [
    "i = 0\n",
    "while (i<21):\n",
    "    print(i)\n",
    "    i = i + 1\n",
    "print(\"end\")\n",
    "\n",
    "    print(\"angela\",i)"
   ]
  },
  {
   "cell_type": "code",
   "execution_count": null,
   "metadata": {},
   "outputs": [],
   "source": []
  }
 ],
 "metadata": {
  "kernelspec": {
   "display_name": "Python 3",
   "language": "python",
   "name": "python3"
  },
  "language_info": {
   "codemirror_mode": {
    "name": "ipython",
    "version": 3
   },
   "file_extension": ".py",
   "mimetype": "text/x-python",
   "name": "python",
   "nbconvert_exporter": "python",
   "pygments_lexer": "ipython3",
   "version": "3.9.6"
  },
  "orig_nbformat": 4
 },
 "nbformat": 4,
 "nbformat_minor": 2
}
