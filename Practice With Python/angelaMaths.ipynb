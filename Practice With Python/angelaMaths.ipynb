{
 "cells": [
  {
   "cell_type": "markdown",
   "metadata": {},
   "source": [
    "#### Factorial Calculation\n",
    "Write a Python function to calculate the factorial of a non-negative integer."
   ]
  },
  {
   "cell_type": "code",
   "execution_count": 3,
   "metadata": {},
   "outputs": [
    {
     "name": "stdout",
     "output_type": "stream",
     "text": [
      "120\n"
     ]
    }
   ],
   "source": [
    "x = 5\n",
    "print(1*2*3*4*5)"
   ]
  },
  {
   "cell_type": "code",
   "execution_count": 4,
   "metadata": {},
   "outputs": [
    {
     "name": "stdout",
     "output_type": "stream",
     "text": [
      "6\n"
     ]
    }
   ],
   "source": [
    "y = 3\n",
    "print(y*(y-1)*(y-2) )"
   ]
  },
  {
   "cell_type": "code",
   "execution_count": 16,
   "metadata": {},
   "outputs": [
    {
     "name": "stdout",
     "output_type": "stream",
     "text": [
      "3628800\n"
     ]
    }
   ],
   "source": [
    "tot = 1\n",
    "va = 10\n",
    "for i in range(1,va+1):\n",
    "    tot = tot *  i\n",
    "print(tot)"
   ]
  },
  {
   "cell_type": "code",
   "execution_count": 9,
   "metadata": {},
   "outputs": [],
   "source": [
    "import math"
   ]
  },
  {
   "cell_type": "code",
   "execution_count": 10,
   "metadata": {},
   "outputs": [
    {
     "data": {
      "text/plain": [
       "120"
      ]
     },
     "execution_count": 10,
     "metadata": {},
     "output_type": "execute_result"
    }
   ],
   "source": [
    "math.factorial(5)"
   ]
  },
  {
   "cell_type": "code",
   "execution_count": 17,
   "metadata": {},
   "outputs": [
    {
     "data": {
      "text/plain": [
       "51"
      ]
     },
     "execution_count": 17,
     "metadata": {},
     "output_type": "execute_result"
    }
   ],
   "source": [
    "x = 1\n",
    "for i in range(1,5):\n",
    "    x = x + 5*i\n",
    "x"
   ]
  },
  {
   "cell_type": "code",
   "execution_count": 21,
   "metadata": {},
   "outputs": [
    {
     "data": {
      "text/plain": [
       "40"
      ]
     },
     "execution_count": 21,
     "metadata": {},
     "output_type": "execute_result"
    }
   ],
   "source": [
    "## \n",
    "F0 = \n",
    "F1 = 10\n",
    "#F4 = ?\n",
    "#  Fn = Fn-1 + Fn-2\n",
    "\n",
    "F2 = F0 + F1\n",
    "F3 = F2 + F1\n",
    "F4 = F3 + F2\n",
    "F4"
   ]
  },
  {
   "cell_type": "code",
   "execution_count": 25,
   "metadata": {},
   "outputs": [
    {
     "name": "stdout",
     "output_type": "stream",
     "text": [
      "1\n",
      "2\n",
      "3\n",
      "5\n",
      "8\n",
      "13\n"
     ]
    }
   ],
   "source": [
    "F0= 0\n",
    "F1 = 1\n",
    "\n",
    "#F5?\n",
    "#FN = FN-1 + FN-2\n",
    "for i in range(2,8):\n",
    "    Fn = F1 + F0 # formula\n",
    "\n",
    "    F0 = F1 # for next time change F1 to F1\n",
    "    F1 = Fn # for next time change Fn to F1\n",
    "\n",
    "    print(Fn)\n",
    "\n",
    "    \n"
   ]
  },
  {
   "cell_type": "code",
   "execution_count": null,
   "metadata": {},
   "outputs": [],
   "source": [
    "123456789"
   ]
  },
  {
   "cell_type": "markdown",
   "metadata": {},
   "source": [
    "#### Palindrome Check\n",
    "Write a Python function to check if a given string is a palindrome (reads the same backward as forward)."
   ]
  },
  {
   "cell_type": "code",
   "execution_count": 39,
   "metadata": {},
   "outputs": [
    {
     "name": "stdout",
     "output_type": "stream",
     "text": [
      "It is a palindrome, Andy and Angela alegnA dna ydna\n"
     ]
    }
   ],
   "source": [
    "x = \"Andy and Angela alegnA dna ydna\"\n",
    "y = x[::-1]\n",
    "if y.lower() == x.lower():\n",
    "    print(\"It is a palindrome,\", x)\n",
    "else: \n",
    "    print(\"It is not a palindrome, stupid!\")\n"
   ]
  },
  {
   "cell_type": "markdown",
   "metadata": {},
   "source": [
    "#### Prime Number Check\n",
    "Write a Python function to determine whether a given integer is a prime number."
   ]
  },
  {
   "cell_type": "code",
   "execution_count": 55,
   "metadata": {},
   "outputs": [
    {
     "name": "stdout",
     "output_type": "stream",
     "text": [
      "PRIME\n"
     ]
    }
   ],
   "source": [
    "# prime can be divide only on itself not toher\n",
    "x = 113\n",
    "\n",
    "# for loop till 9 if it is divisble aby any nuber between 2 to that number then no tprime\n",
    "\n",
    "flag = True\n",
    "for each in range(2,x):\n",
    "    if  x % each ==0:\n",
    "        flag = False\n",
    "if flag == True:\n",
    "    print(\"PRIME\")\n",
    "else:\n",
    "    print(\"not prime\")"
   ]
  },
  {
   "cell_type": "markdown",
   "metadata": {},
   "source": [
    "#### Reverse a List\n",
    "Implement a Python function to reverse a list without using built-in reverse functions."
   ]
  },
  {
   "cell_type": "code",
   "execution_count": 68,
   "metadata": {},
   "outputs": [
    {
     "name": "stdout",
     "output_type": "stream",
     "text": [
      "2\n",
      "23\n",
      "32\n",
      "32\n",
      "32\n",
      "grapes\n",
      "mango\n",
      "orange\n",
      "apple\n"
     ]
    }
   ],
   "source": [
    "# you have to make logic\n",
    "x = ['apple','orange','mango','grapes',32,32,32,23,2]\n",
    "y = []\n",
    "for i in range(1,len(x)+1):\n",
    "    print(x[-i])"
   ]
  },
  {
   "cell_type": "markdown",
   "metadata": {},
   "source": [
    "#### Sorting\n",
    "Write a Python function to sort a list of integers in ascending and descending order using different sorting algorithms (e.g., bubble sort, selection sort, insertion sort)."
   ]
  },
  {
   "attachments": {},
   "cell_type": "markdown",
   "metadata": {},
   "source": [
    "## bubble sort\n",
    "it is when you move the n1 number with the n2 number if n2 is < that n1 but if not then they will not move, and after checking it, they will move on to n2 and n3, etc...\n",
    "\n",
    "## selection sort\n",
    "\n",
    "\n",
    "## insertion"
   ]
  },
  {
   "cell_type": "code",
   "execution_count": 90,
   "metadata": {},
   "outputs": [
    {
     "name": "stdout",
     "output_type": "stream",
     "text": [
      "1\n",
      "9\n",
      "7\n",
      "2\n",
      "8\n"
     ]
    }
   ],
   "source": [
    "## bubble sort\n",
    "x = [1,9,7,2,8]\n",
    "\n",
    "# we have to test first size of llist and then we have to apply for looop\n",
    "for each in (range(len(x))):\n",
    "    print(x[each])\n",
    "\n",
    "# inside fror loop n and n+1 element if n+1 element is smaller then n element then swap\n",
    "\n",
    "\n",
    "# print\n"
   ]
  },
  {
   "cell_type": "code",
   "execution_count": null,
   "metadata": {},
   "outputs": [],
   "source": [
    "x = ['apple', 'windows', 'orange', 'apple']\n",
    "# use for loop and print combination of every current element and next element\n",
    "###HOMEWORK"
   ]
  },
  {
   "cell_type": "code",
   "execution_count": 80,
   "metadata": {},
   "outputs": [
    {
     "name": "stdout",
     "output_type": "stream",
     "text": [
      "1\n",
      "2\n",
      "3\n",
      "4\n",
      "5\n",
      "6\n",
      "7\n",
      "8\n",
      "9\n",
      "10\n",
      "11\n",
      "12\n",
      "13\n",
      "14\n",
      "15\n",
      "16\n",
      "17\n",
      "18\n",
      "19\n",
      "20\n"
     ]
    }
   ],
   "source": [
    "# write counting between 1 to 20\n",
    "for i in range(1,21):\n",
    "    print(i)\n"
   ]
  },
  {
   "cell_type": "code",
   "execution_count": 104,
   "metadata": {},
   "outputs": [
    {
     "name": "stdout",
     "output_type": "stream",
     "text": [
      "apple\n",
      "orange\n",
      "mango\n",
      "banana\n",
      "##############################\n",
      "apple\n",
      "orange\n",
      "mango\n",
      "banana\n"
     ]
    }
   ],
   "source": [
    "x = ['apple','orange','mango','banana']\n",
    "for i in x:\n",
    "    print(i)\n",
    "print(\"###\"*10)\n",
    "for i in range(len(x)):\n",
    "    print(x[i])"
   ]
  },
  {
   "cell_type": "code",
   "execution_count": 5,
   "metadata": {},
   "outputs": [
    {
     "name": "stdout",
     "output_type": "stream",
     "text": [
      "0\n",
      "1\n",
      "2\n",
      "3\n"
     ]
    }
   ],
   "source": [
    "for i in range (4):\n",
    "    print(i)"
   ]
  },
  {
   "cell_type": "code",
   "execution_count": 4,
   "metadata": {},
   "outputs": [
    {
     "name": "stdout",
     "output_type": "stream",
     "text": [
      "apple\n",
      "orange\n",
      "mango\n",
      "banana\n"
     ]
    }
   ],
   "source": [
    "# can print all element from list one by one iusing while loop?\n",
    "x = ['apple','orange','mango','banana']\n",
    "i = 0\n",
    "\n",
    "while(True):\n",
    "    print (x[i])\n",
    "    i = i+1\n",
    "    \n",
    "    p = input(\"want to quit:\")\n",
    "    if p == \"quit\":\n",
    "        break"
   ]
  },
  {
   "cell_type": "code",
   "execution_count": 88,
   "metadata": {},
   "outputs": [
    {
     "name": "stdout",
     "output_type": "stream",
     "text": [
      "779\n",
      "it will run for 10 times if you get number you are lucky else what can a for loop do :(\n"
     ]
    },
    {
     "data": {
      "text/plain": [
       "82"
      ]
     },
     "execution_count": 88,
     "metadata": {},
     "output_type": "execute_result"
    }
   ],
   "source": [
    "import random\n",
    "print(random.randint(1,10000))\n",
    "for i in range(1,10):\n",
    "    x = random.randint(1,100)\n",
    "    if x ==99:\n",
    "        print(\"stop\")\n",
    "        break\n",
    "\n",
    "print(\"it will run for 10 times if you get number you are lucky else what can a for loop do :(\")\n",
    "x\n",
    "    "
   ]
  },
  {
   "cell_type": "code",
   "execution_count": 89,
   "metadata": {},
   "outputs": [
    {
     "name": "stdout",
     "output_type": "stream",
     "text": [
      "loop will complete when conditonwill achieve otehrwise it will never ever end until you shut off your computer\n"
     ]
    },
    {
     "data": {
      "text/plain": [
       "99"
      ]
     },
     "execution_count": 89,
     "metadata": {},
     "output_type": "execute_result"
    }
   ],
   "source": [
    "while (True):\n",
    "    x = random.randint(1,10000)\n",
    "    if x == 99:\n",
    "        break\n",
    "print(\"loop will complete when conditonwill achieve otehrwise it will never ever end until you shut off your computer\")\n",
    "x"
   ]
  },
  {
   "cell_type": "code",
   "execution_count": 50,
   "metadata": {},
   "outputs": [
    {
     "name": "stdout",
     "output_type": "stream",
     "text": [
      "4 2\n",
      "2 4\n",
      "4 2\n",
      "2 3\n",
      "3 5\n",
      "5 6\n",
      "6 2\n"
     ]
    }
   ],
   "source": [
    "x = [4,2,4,2,3,5,6,2]\n",
    "for i in range(len(x)-1):\n",
    "    print(x[i],x[i+1])"
   ]
  },
  {
   "cell_type": "markdown",
   "metadata": {},
   "source": [
    "#### Anagram Check\n",
    "Create a Python function to check if two strings are anagrams of each other."
   ]
  },
  {
   "cell_type": "code",
   "execution_count": 90,
   "metadata": {},
   "outputs": [
    {
     "name": "stdout",
     "output_type": "stream",
     "text": [
      "Are 'poting' and 'toping' anagrams? True\n"
     ]
    }
   ],
   "source": [
    "def are_anagrams(str1, str2):\n",
    "    str1 = str1.replace(\" \", \"\").lower()\n",
    "    str2 = str2.replace(\" \", \"\").lower()\n",
    "\n",
    "    return sorted(str1) == sorted(str2)\n",
    "\n",
    "string1 = \"poting\"\n",
    "string2 = \"toping\"\n",
    "result = are_anagrams(string1, string2)\n",
    "print(f\"Are '{string1}' and '{string2}' anagrams? {result}\")\n"
   ]
  },
  {
   "cell_type": "markdown",
   "metadata": {},
   "source": [
    "#### Binary Search\n",
    "Implement a binary search algorithm to find an element in a sorted list."
   ]
  },
  {
   "cell_type": "code",
   "execution_count": 92,
   "metadata": {},
   "outputs": [],
   "source": [
    "import numpy as np"
   ]
  },
  {
   "cell_type": "code",
   "execution_count": 96,
   "metadata": {},
   "outputs": [
    {
     "data": {
      "text/plain": [
       "array([8, 6, 2, 2, 3, 2, 2, 4])"
      ]
     },
     "execution_count": 96,
     "metadata": {},
     "output_type": "execute_result"
    }
   ],
   "source": [
    "### binary search is a method of searchign an element by separating it into half half \n",
    "def binary_search(sorted_list, target):\n",
    "    left = 0\n",
    "    right = len(sorted_list) - 1\n",
    "\n",
    "    while left <= right:\n",
    "        mid = (left + right) // 2  # Calculate the middle index\n",
    "\n",
    "        if sorted_list[mid] == target:\n",
    "            return mid  # Element found, return its index\n",
    "        elif sorted_list[mid] < target:\n",
    "            left = mid + 1  # Search the right half\n",
    "        else:\n",
    "            right = mid - 1  # Search the left half\n",
    "\n",
    "    return -1  # Element not found in the list\n",
    "\n",
    "# Example usage:\n",
    "sorted_list = [1, 3, 5, 7, 9, 11, 13, 15, 17]\n",
    "target = 7\n",
    "result = binary_search(sorted_list, target)\n",
    "\n",
    "if result != -1:\n",
    "    print(f\"Element {target} found at index {result}\")\n",
    "else:\n",
    "    print(f\"Element {target} not found in the list\")\n"
   ]
  },
  {
   "cell_type": "code",
   "execution_count": null,
   "metadata": {},
   "outputs": [],
   "source": []
  },
  {
   "cell_type": "markdown",
   "metadata": {},
   "source": [
    "#### Factorization\n",
    "Write a Python program to find the prime factors of a given integer."
   ]
  },
  {
   "cell_type": "code",
   "execution_count": null,
   "metadata": {},
   "outputs": [],
   "source": []
  },
  {
   "cell_type": "markdown",
   "metadata": {},
   "source": [
    "#### Counting Characters\n",
    "Create a Python function that counts the frequency of each character in a given string."
   ]
  },
  {
   "cell_type": "code",
   "execution_count": null,
   "metadata": {},
   "outputs": [],
   "source": []
  },
  {
   "cell_type": "markdown",
   "metadata": {},
   "source": [
    "#### Maximum Subarray Sum\n",
    "Find the maximum sum of a subarray within a given list of integers (Kadane's algorithm)."
   ]
  },
  {
   "cell_type": "code",
   "execution_count": null,
   "metadata": {},
   "outputs": [],
   "source": []
  },
  {
   "cell_type": "markdown",
   "metadata": {},
   "source": []
  }
 ],
 "metadata": {
  "kernelspec": {
   "display_name": "Python 3",
   "language": "python",
   "name": "python3"
  },
  "language_info": {
   "codemirror_mode": {
    "name": "ipython",
    "version": 3
   },
   "file_extension": ".py",
   "mimetype": "text/x-python",
   "name": "python",
   "nbconvert_exporter": "python",
   "pygments_lexer": "ipython3",
   "version": "3.9.6"
  },
  "orig_nbformat": 4
 },
 "nbformat": 4,
 "nbformat_minor": 2
}
