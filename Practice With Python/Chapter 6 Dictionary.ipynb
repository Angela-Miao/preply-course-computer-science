{
 "cells": [
  {
   "cell_type": "code",
   "execution_count": 6,
   "metadata": {},
   "outputs": [
    {
     "name": "stdout",
     "output_type": "stream",
     "text": [
      "first_name <--- key ,_, value ----> Andy\n",
      "last_name <--- key ,_, value ----> Gu\n",
      "age <--- key ,_, value ----> 8\n",
      "city <--- key ,_, value ----> Tokyo\n"
     ]
    }
   ],
   "source": [
    "Andy = {\"first_name\":\"Andy\",\"last_name\":\"Gu\", \"age\":\"8\",\"city\":\"Tokyo\"}\n",
    "for i in Andy:\n",
    "    print (i,\"<--- key ,_, value ---->\",Andy[i])"
   ]
  },
  {
   "cell_type": "code",
   "execution_count": 9,
   "metadata": {},
   "outputs": [],
   "source": [
    "Angela = {\"first_name\":\"Angela\",\"last_name\":\"Gu\", \"age\":\"13\",\"city\":\"Tokyo\"}"
   ]
  },
  {
   "cell_type": "code",
   "execution_count": 8,
   "metadata": {},
   "outputs": [],
   "source": [
    "Mrumair = {\"first_name\":\"Umair\",\"last_name\":\"Ali\", \"age\":\"29\",\"city\":\"Gujrad\"}"
   ]
  },
  {
   "cell_type": "code",
   "execution_count": 10,
   "metadata": {},
   "outputs": [],
   "source": [
    "people = [Andy,Angela,Mrumair]"
   ]
  },
  {
   "cell_type": "code",
   "execution_count": 11,
   "metadata": {},
   "outputs": [],
   "source": [
    "#6-8\n",
    "lowlow = {\"animal\":\"hamster\",\"ownername\":\"angela and andy\"}"
   ]
  },
  {
   "cell_type": "code",
   "execution_count": 17,
   "metadata": {},
   "outputs": [],
   "source": [
    "awang = {\"animal\":\"cat\",\"ownername\":\"angela\"}"
   ]
  },
  {
   "cell_type": "code",
   "execution_count": 15,
   "metadata": {},
   "outputs": [],
   "source": [
    "happy = {\"animal\":\"cat\",\"ownername\":\"andy\"}"
   ]
  },
  {
   "cell_type": "code",
   "execution_count": 21,
   "metadata": {},
   "outputs": [
    {
     "name": "stdout",
     "output_type": "stream",
     "text": [
      "animal hamster\n",
      "ownername angela and andy\n",
      "animal cat\n",
      "ownername angela\n",
      "animal cat\n",
      "ownername andy\n"
     ]
    }
   ],
   "source": [
    "animal = [lowlow,awang,happy]\n",
    "for i in animal:\n",
    "    for j in i:\n",
    "        print(j,i[j])"
   ]
  },
  {
   "cell_type": "code",
   "execution_count": 22,
   "metadata": {},
   "outputs": [],
   "source": [
    "favorite_places = {\"Andy\":\"disneyland\",\"Angela\":\"mall\",\"mom\":\"home\"}"
   ]
  },
  {
   "cell_type": "code",
   "execution_count": 23,
   "metadata": {},
   "outputs": [
    {
     "name": "stdout",
     "output_type": "stream",
     "text": [
      "Andy disneyland\n",
      "Angela mall\n",
      "mom home\n"
     ]
    }
   ],
   "source": [
    "# for loop\n",
    "# andy fav place is di\n",
    "for a in favorite_places:\n",
    "    print(a,favorite_places[a])"
   ]
  },
  {
   "cell_type": "code",
   "execution_count": 26,
   "metadata": {},
   "outputs": [
    {
     "name": "stdout",
     "output_type": "stream",
     "text": [
      "tokyo japan\n",
      "tokyo2 13.96 million\n",
      "tokyo3 it is the most populated place\n",
      "Gujrat1 pakistan\n",
      "Gujrat2 70,400,153\n",
      "Gujrat3 there are no useful jobs (except for a lucky guy named Mr. Umair)\n",
      "Córdoba1 spain\n",
      "Córdoba2 325,708\n",
      "Córdoba3 At one time, Cordoba was the world's largest city counting about one million residents\n"
     ]
    }
   ],
   "source": [
    "#6-11\n",
    "cities = {\"tokyo\":\"japan\",\"tokyo2\":\"13.96 million\",\"tokyo3\":\"it is the most populated place\",\"Gujrat1\":\"pakistan\",\"Gujrat2\":\"70,400,153\",\"Gujrat3\":\"there are no useful jobs (except for a lucky guy named Mr. Umair)\",\"Córdoba1\":\"spain\",\"Córdoba2\":\"325,708\",\"Córdoba3\":\"At one time, Cordoba was the world's largest city counting about one million residents\"}\n",
    "for c in cities:\n",
    "    print(c,cities[c])"
   ]
  },
  {
   "cell_type": "code",
   "execution_count": 27,
   "metadata": {},
   "outputs": [],
   "source": [
    "cities = [\n",
    "    {\"tokyo\":\"japan\",\n",
    "     \"population\":\"13.96 million\",\n",
    "     \"fact\":\"it is the most populated place\"}\n",
    "    \n",
    "    ,{\"Gujrat\":\"pakistan\",\n",
    "      \"population\":\"70,400,153\",\n",
    "      \"fact\":\"there are no useful jobs (except for a lucky guy named Mr. Umair)\"},\n",
    "      \n",
    "    {\"Córdoba1\":\"spain\",\n",
    "     \"population\":\"325,708\",\n",
    "     \"fact\":\"At one time, Cordoba was the world's largest city counting about one million residents\"}]\n"
   ]
  },
  {
   "cell_type": "code",
   "execution_count": 33,
   "metadata": {},
   "outputs": [
    {
     "name": "stdout",
     "output_type": "stream",
     "text": [
      "{'tokyo': 'japan', 'population': '13.96 million', 'fact': 'it is the most populated place'}\n",
      "tokyo --> japan\n",
      "population --> 13.96 million\n",
      "fact --> it is the most populated place\n",
      "{'Gujrat': 'pakistan', 'population': '70,400,153', 'fact': 'there are no useful jobs (except for a lucky guy named Mr. Umair)'}\n",
      "Gujrat --> pakistan\n",
      "population --> 70,400,153\n",
      "fact --> there are no useful jobs (except for a lucky guy named Mr. Umair)\n",
      "{'Córdoba1': 'spain', 'population': '325,708', 'fact': \"At one time, Cordoba was the world's largest city counting about one million residents\"}\n",
      "Córdoba1 --> spain\n",
      "population --> 325,708\n",
      "fact --> At one time, Cordoba was the world's largest city counting about one million residents\n"
     ]
    }
   ],
   "source": [
    "for s in cities:\n",
    "    print(s)\n",
    "    for b in s:\n",
    "        print(b,\"-->\",s[b])\n",
    "    "
   ]
  },
  {
   "cell_type": "code",
   "execution_count": null,
   "metadata": {},
   "outputs": [],
   "source": []
  }
 ],
 "metadata": {
  "kernelspec": {
   "display_name": "Python 3",
   "language": "python",
   "name": "python3"
  },
  "language_info": {
   "codemirror_mode": {
    "name": "ipython",
    "version": 3
   },
   "file_extension": ".py",
   "mimetype": "text/x-python",
   "name": "python",
   "nbconvert_exporter": "python",
   "pygments_lexer": "ipython3",
   "version": "3.9.6"
  },
  "orig_nbformat": 4
 },
 "nbformat": 4,
 "nbformat_minor": 2
}
