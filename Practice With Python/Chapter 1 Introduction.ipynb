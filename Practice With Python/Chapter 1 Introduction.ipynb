{
 "cells": [
  {
   "cell_type": "code",
   "execution_count": 1,
   "metadata": {},
   "outputs": [],
   "source": [
    "# Lets start Reading book\n",
    "ussers = [\n",
    "\n",
    "    {\"id\" : 1, \"name\" : \"Mrandy\"},\n",
    "    {\"id\" : 2, \"name\" : \"Msangela\"},\n",
    "    {\"id\" : 3, \"name\" : \"Mrumair\"}\n",
    "]"
   ]
  },
  {
   "cell_type": "code",
   "execution_count": 6,
   "metadata": {},
   "outputs": [
    {
     "name": "stdout",
     "output_type": "stream",
     "text": [
      "names are Mrandy\n",
      "names are Msangela\n",
      "names are Mrumair\n"
     ]
    }
   ],
   "source": [
    "for each in ussers:\n",
    "    print(\"names are\",each['name'])"
   ]
  },
  {
   "cell_type": "code",
   "execution_count": 7,
   "metadata": {},
   "outputs": [
    {
     "name": "stdout",
     "output_type": "stream",
     "text": [
      "andy is angela's brother\n"
     ]
    }
   ],
   "source": [
    "print(\"andy is angela's brother\")"
   ]
  },
  {
   "cell_type": "code",
   "execution_count": 8,
   "metadata": {},
   "outputs": [
    {
     "ename": "SyntaxError",
     "evalue": "invalid syntax (196236738.py, line 1)",
     "output_type": "error",
     "traceback": [
      "\u001b[0;36m  File \u001b[0;32m\"/var/folders/l_/j699flmx6dbc1vlb90jx_hyw0000gn/T/ipykernel_754/196236738.py\"\u001b[0;36m, line \u001b[0;32m1\u001b[0m\n\u001b[0;31m    :ti etalupop ot sriap pihsdneirf eht revo pool dnA #\u001b[0m\n\u001b[0m    ^\u001b[0m\n\u001b[0;31mSyntaxError\u001b[0m\u001b[0;31m:\u001b[0m invalid syntax\n"
     ]
    }
   ],
   "source": [
    ":ti etalupop ot sriap pihsdneirf eht revo pool dnA #\n",
    "}sresu ni resu rof ][ :]\"di\"[resu{ = spihsdneirf\n",
    ":di resu hcae rof tsil ytpme na htiw tcid eht ezilaitinI #\n",
    ":sriap_pihsdneirf ni j ,i rof\n",
    "i resu fo dneirf a sa j ddA #  )j(dneppa.]i[spihsdneirf"
   ]
  },
  {
   "cell_type": "code",
   "execution_count": 10,
   "metadata": {},
   "outputs": [
    {
     "name": "stdout",
     "output_type": "stream",
     "text": [
      "friendships[i].append(j)  # Add j as a friend of user i\n",
      "for i, j in friendship_pairs:\n",
      "# Initialize the dict with an empty list for each user id:\n",
      "friendships = {user[\"id\"]: [] for user in users}\n",
      "# And loop over the friendship pairs to populate it:\n"
     ]
    }
   ],
   "source": [
    "#I will flip the string to correct\n",
    "s = \"\"\":ti etalupop ot sriap pihsdneirf eht revo pool dnA #\n",
    "}sresu ni resu rof ][ :]\"di\"[resu{ = spihsdneirf\n",
    ":di resu hcae rof tsil ytpme na htiw tcid eht ezilaitinI #\n",
    ":sriap_pihsdneirf ni j ,i rof\n",
    "i resu fo dneirf a sa j ddA #  )j(dneppa.]i[spihsdneirf\"\"\"\n",
    "users -\n",
    "\n",
    "print(s[::-1])"
   ]
  },
  {
   "cell_type": "code",
   "execution_count": 13,
   "metadata": {},
   "outputs": [],
   "source": [
    "users = [\n",
    "    {\"id\":0,\"name\":\"Hero\"},\n",
    "    {\"id\":1,\"name\":\"Dunn\"},\n",
    "    {\"id\":2,\"name\":\"Sue\"},\n",
    "    {\"id\":3,\"name\":\"Chi\"},\n",
    "    {\"id\":4,\"name\":\"Thor\"},\n",
    "    {\"id\":5,\"name\":\"Clive\"}\n",
    "]"
   ]
  },
  {
   "cell_type": "code",
   "execution_count": 16,
   "metadata": {},
   "outputs": [
    {
     "name": "stdout",
     "output_type": "stream",
     "text": [
      "{0: [], 1: [], 2: [], 3: [], 4: [], 5: []}\n"
     ]
    }
   ],
   "source": [
    "friendships= {user[\"id\"]:[] for user in users}\n",
    "print(friendships)"
   ]
  },
  {
   "cell_type": "code",
   "execution_count": 17,
   "metadata": {},
   "outputs": [],
   "source": [
    "friendship_pairs = [(0,1),(0,2),(1,2),(1,3),(2,3),(3,4),(4,5)]"
   ]
  },
  {
   "cell_type": "code",
   "execution_count": 18,
   "metadata": {},
   "outputs": [],
   "source": [
    "for i,j in friendship_pairs:\n",
    "    friendships[i].append(j)\n",
    "    friendships[j].append(i)"
   ]
  },
  {
   "cell_type": "code",
   "execution_count": 20,
   "metadata": {},
   "outputs": [
    {
     "name": "stdout",
     "output_type": "stream",
     "text": [
      "{0: [1, 2], 1: [0, 2, 3], 2: [0, 1, 3], 3: [1, 2, 4], 4: [3, 5], 5: [4]}\n"
     ]
    }
   ],
   "source": [
    "print(friendships)"
   ]
  },
  {
   "cell_type": "code",
   "execution_count": null,
   "metadata": {},
   "outputs": [],
   "source": [
    "def number_of_friends(user):\n",
    "    \"\"\"how many friends does _user\"\"\""
   ]
  }
 ],
 "metadata": {
  "kernelspec": {
   "display_name": "base",
   "language": "python",
   "name": "python3"
  },
  "language_info": {
   "codemirror_mode": {
    "name": "ipython",
    "version": 3
   },
   "file_extension": ".py",
   "mimetype": "text/x-python",
   "name": "python",
   "nbconvert_exporter": "python",
   "pygments_lexer": "ipython3",
   "version": "3.9.13"
  },
  "orig_nbformat": 4
 },
 "nbformat": 4,
 "nbformat_minor": 2
}
