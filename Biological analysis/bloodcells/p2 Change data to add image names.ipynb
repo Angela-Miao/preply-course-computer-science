{
 "cells": [
  {
   "cell_type": "code",
   "execution_count": 3,
   "metadata": {},
   "outputs": [
    {
     "data": {
      "text/html": [
       "<div>\n",
       "<style scoped>\n",
       "    .dataframe tbody tr th:only-of-type {\n",
       "        vertical-align: middle;\n",
       "    }\n",
       "\n",
       "    .dataframe tbody tr th {\n",
       "        vertical-align: top;\n",
       "    }\n",
       "\n",
       "    .dataframe thead th {\n",
       "        text-align: right;\n",
       "    }\n",
       "</style>\n",
       "<table border=\"1\" class=\"dataframe\">\n",
       "  <thead>\n",
       "    <tr style=\"text-align: right;\">\n",
       "      <th></th>\n",
       "      <th>Unnamed: 0</th>\n",
       "      <th>Image</th>\n",
       "      <th>Category</th>\n",
       "    </tr>\n",
       "  </thead>\n",
       "  <tbody>\n",
       "    <tr>\n",
       "      <th>0</th>\n",
       "      <td>NaN</td>\n",
       "      <td>0</td>\n",
       "      <td>NEUTROPHIL</td>\n",
       "    </tr>\n",
       "    <tr>\n",
       "      <th>1</th>\n",
       "      <td>NaN</td>\n",
       "      <td>1</td>\n",
       "      <td>NEUTROPHIL</td>\n",
       "    </tr>\n",
       "    <tr>\n",
       "      <th>2</th>\n",
       "      <td>NaN</td>\n",
       "      <td>2</td>\n",
       "      <td>NEUTROPHIL</td>\n",
       "    </tr>\n",
       "    <tr>\n",
       "      <th>3</th>\n",
       "      <td>NaN</td>\n",
       "      <td>3</td>\n",
       "      <td>NEUTROPHIL</td>\n",
       "    </tr>\n",
       "    <tr>\n",
       "      <th>4</th>\n",
       "      <td>NaN</td>\n",
       "      <td>4</td>\n",
       "      <td>NEUTROPHIL</td>\n",
       "    </tr>\n",
       "    <tr>\n",
       "      <th>...</th>\n",
       "      <td>...</td>\n",
       "      <td>...</td>\n",
       "      <td>...</td>\n",
       "    </tr>\n",
       "    <tr>\n",
       "      <th>406</th>\n",
       "      <td>NaN</td>\n",
       "      <td>406</td>\n",
       "      <td>NaN</td>\n",
       "    </tr>\n",
       "    <tr>\n",
       "      <th>407</th>\n",
       "      <td>NaN</td>\n",
       "      <td>407</td>\n",
       "      <td>NEUTROPHIL</td>\n",
       "    </tr>\n",
       "    <tr>\n",
       "      <th>408</th>\n",
       "      <td>NaN</td>\n",
       "      <td>408</td>\n",
       "      <td>NEUTROPHIL</td>\n",
       "    </tr>\n",
       "    <tr>\n",
       "      <th>409</th>\n",
       "      <td>NaN</td>\n",
       "      <td>409</td>\n",
       "      <td>NEUTROPHIL</td>\n",
       "    </tr>\n",
       "    <tr>\n",
       "      <th>410</th>\n",
       "      <td>NaN</td>\n",
       "      <td>410</td>\n",
       "      <td>EOSINOPHIL</td>\n",
       "    </tr>\n",
       "  </tbody>\n",
       "</table>\n",
       "<p>411 rows × 3 columns</p>\n",
       "</div>"
      ],
      "text/plain": [
       "     Unnamed: 0  Image    Category\n",
       "0           NaN      0  NEUTROPHIL\n",
       "1           NaN      1  NEUTROPHIL\n",
       "2           NaN      2  NEUTROPHIL\n",
       "3           NaN      3  NEUTROPHIL\n",
       "4           NaN      4  NEUTROPHIL\n",
       "..          ...    ...         ...\n",
       "406         NaN    406         NaN\n",
       "407         NaN    407  NEUTROPHIL\n",
       "408         NaN    408  NEUTROPHIL\n",
       "409         NaN    409  NEUTROPHIL\n",
       "410         NaN    410  EOSINOPHIL\n",
       "\n",
       "[411 rows x 3 columns]"
      ]
     },
     "execution_count": 3,
     "metadata": {},
     "output_type": "execute_result"
    }
   ],
   "source": [
    "import pandas as andy\n",
    "dada = andy.read_csv(\"blood tests/labels.csv\")\n",
    "dada"
   ]
  },
  {
   "cell_type": "code",
   "execution_count": 5,
   "metadata": {},
   "outputs": [
    {
     "name": "stdout",
     "output_type": "stream",
     "text": [
      "Files and directories in ' blood tests/JPEGImages ' :\n",
      "['BloodImage_00329.jpg', 'BloodImage_00315.jpg', 'BloodImage_00301.jpg', 'BloodImage_00117.jpg', 'BloodImage_00103.jpg', 'BloodImage_00063.jpg', 'BloodImage_00077.jpg', 'BloodImage_00088.jpg', 'BloodImage_00249.jpg', 'BloodImage_00261.jpg', 'BloodImage_00275.jpg', 'BloodImage_00274.jpg', 'BloodImage_00260.jpg', 'BloodImage_00248.jpg', 'BloodImage_00089.jpg', 'BloodImage_00076.jpg', 'BloodImage_00062.jpg', 'BloodImage_00300.jpg', 'BloodImage_00314.jpg', 'BloodImage_00302.jpg', 'BloodImage_00100.jpg', 'BloodImage_00114.jpg', 'BloodImage_00048.jpg', 'BloodImage_00074.jpg', 'BloodImage_00276.jpg', 'BloodImage_00262.jpg', 'BloodImage_00289.jpg', 'BloodImage_00288.jpg', 'BloodImage_00263.jpg', 'BloodImage_00277.jpg', 'BloodImage_00075.jpg', 'BloodImage_00049.jpg', 'BloodImage_00115.jpg', 'BloodImage_00101.jpg', 'BloodImage_00317.jpg', 'BloodImage_00303.jpg', 'BloodImage_00307.jpg', 'BloodImage_00313.jpg', 'BloodImage_00111.jpg', 'BloodImage_00139.jpg', 'BloodImage_00071.jpg', 'BloodImage_00065.jpg', 'BloodImage_00059.jpg', 'BloodImage_00273.jpg', 'BloodImage_00267.jpg', 'BloodImage_00298.jpg', 'BloodImage_00299.jpg', 'BloodImage_00266.jpg', 'BloodImage_00272.jpg', 'BloodImage_00058.jpg', 'BloodImage_00064.jpg', 'BloodImage_00070.jpg', 'BloodImage_00110.jpg', 'BloodImage_00104.jpg', 'BloodImage_00312.jpg', 'BloodImage_00310.jpg', 'BloodImage_00304.jpg', 'BloodImage_00338.jpg', 'BloodImage_00112.jpg', 'BloodImage_00106.jpg', 'BloodImage_00066.jpg', 'BloodImage_00072.jpg', 'BloodImage_00099.jpg', 'BloodImage_00264.jpg', 'BloodImage_00270.jpg', 'BloodImage_00258.jpg', 'BloodImage_00259.jpg', 'BloodImage_00271.jpg', 'BloodImage_00265.jpg', 'BloodImage_00098.jpg', 'BloodImage_00073.jpg', 'BloodImage_00067.jpg', 'BloodImage_00107.jpg', 'BloodImage_00113.jpg', 'BloodImage_00339.jpg', 'BloodImage_00305.jpg', 'BloodImage_00311.jpg', 'BloodImage_00376.jpg', 'BloodImage_00410.jpg', 'BloodImage_00404.jpg', 'BloodImage_00362.jpg', 'BloodImage_00389.jpg', 'BloodImage_00148.jpg', 'BloodImage_00174.jpg', 'BloodImage_00160.jpg', 'BloodImage_00028.jpg', 'BloodImage_00000.jpg', 'BloodImage_00014.jpg', 'BloodImage_00202.jpg', 'BloodImage_00216.jpg', 'BloodImage_00217.jpg', 'BloodImage_00203.jpg', 'BloodImage_00015.jpg', 'BloodImage_00001.jpg', 'BloodImage_00029.jpg', 'BloodImage_00161.jpg', 'BloodImage_00175.jpg', 'BloodImage_00149.jpg', 'BloodImage_00388.jpg', 'BloodImage_00405.jpg', 'BloodImage_00377.jpg', 'BloodImage_00349.jpg', 'BloodImage_00361.jpg', 'BloodImage_00407.jpg', 'BloodImage_00375.jpg', 'BloodImage_00163.jpg', 'BloodImage_00177.jpg', 'BloodImage_00017.jpg', 'BloodImage_00003.jpg', 'BloodImage_00229.jpg', 'BloodImage_00215.jpg', 'BloodImage_00201.jpg', 'BloodImage_00200.jpg', 'BloodImage_00214.jpg', 'BloodImage_00228.jpg', 'BloodImage_00002.jpg', 'BloodImage_00016.jpg', 'BloodImage_00189.jpg', 'BloodImage_00176.jpg', 'BloodImage_00162.jpg', 'BloodImage_00374.jpg', 'BloodImage_00360.jpg', 'BloodImage_00348.jpg', 'BloodImage_00402.jpg', 'BloodImage_00364.jpg', 'BloodImage_00370.jpg', 'BloodImage_00166.jpg', 'BloodImage_00172.jpg', 'BloodImage_00199.jpg', 'BloodImage_00012.jpg', 'BloodImage_00006.jpg', 'BloodImage_00210.jpg', 'BloodImage_00204.jpg', 'BloodImage_00239.jpg', 'BloodImage_00205.jpg', 'BloodImage_00211.jpg', 'BloodImage_00007.jpg', 'BloodImage_00013.jpg', 'BloodImage_00198.jpg', 'BloodImage_00167.jpg', 'BloodImage_00359.jpg', 'BloodImage_00371.jpg', 'BloodImage_00403.jpg', 'BloodImage_00365.jpg', 'BloodImage_00367.jpg', 'BloodImage_00398.jpg', 'BloodImage_00171.jpg', 'BloodImage_00165.jpg', 'BloodImage_00159.jpg', 'BloodImage_00005.jpg', 'BloodImage_00011.jpg', 'BloodImage_00039.jpg', 'BloodImage_00207.jpg', 'BloodImage_00212.jpg', 'BloodImage_00206.jpg', 'BloodImage_00038.jpg', 'BloodImage_00010.jpg', 'BloodImage_00004.jpg', 'BloodImage_00158.jpg', 'BloodImage_00164.jpg', 'BloodImage_00170.jpg', 'BloodImage_00366.jpg', 'BloodImage_00400.jpg', 'BloodImage_00372.jpg', 'BloodImage_00357.jpg', 'BloodImage_00343.jpg', 'BloodImage_00169.jpg', 'BloodImage_00141.jpg', 'BloodImage_00196.jpg', 'BloodImage_00182.jpg', 'BloodImage_00009.jpg', 'BloodImage_00021.jpg', 'BloodImage_00035.jpg', 'BloodImage_00223.jpg', 'BloodImage_00237.jpg', 'BloodImage_00236.jpg', 'BloodImage_00222.jpg', 'BloodImage_00034.jpg', 'BloodImage_00020.jpg', 'BloodImage_00008.jpg', 'BloodImage_00183.jpg', 'BloodImage_00197.jpg', 'BloodImage_00140.jpg', 'BloodImage_00154.jpg', 'BloodImage_00168.jpg', 'BloodImage_00381.jpg', 'BloodImage_00395.jpg', 'BloodImage_00342.jpg', 'BloodImage_00356.jpg', 'BloodImage_00368.jpg', 'BloodImage_00340.jpg', 'BloodImage_00354.jpg', 'BloodImage_00383.jpg', 'BloodImage_00397.jpg', 'BloodImage_00142.jpg', 'BloodImage_00156.jpg', 'BloodImage_00195.jpg', 'BloodImage_00036.jpg', 'BloodImage_00022.jpg', 'BloodImage_00208.jpg', 'BloodImage_00234.jpg', 'BloodImage_00220.jpg', 'BloodImage_00221.jpg', 'BloodImage_00235.jpg', 'BloodImage_00209.jpg', 'BloodImage_00023.jpg', 'BloodImage_00037.jpg', 'BloodImage_00180.jpg', 'BloodImage_00157.jpg', 'BloodImage_00143.jpg', 'BloodImage_00396.jpg', 'BloodImage_00382.jpg', 'BloodImage_00355.jpg', 'BloodImage_00341.jpg', 'BloodImage_00369.jpg', 'BloodImage_00345.jpg', 'BloodImage_00351.jpg', 'BloodImage_00379.jpg', 'BloodImage_00386.jpg', 'BloodImage_00392.jpg', 'BloodImage_00147.jpg', 'BloodImage_00184.jpg', 'BloodImage_00190.jpg', 'BloodImage_00033.jpg', 'BloodImage_00231.jpg', 'BloodImage_00225.jpg', 'BloodImage_00219.jpg', 'BloodImage_00218.jpg', 'BloodImage_00224.jpg', 'BloodImage_00230.jpg', 'BloodImage_00026.jpg', 'BloodImage_00032.jpg', 'BloodImage_00191.jpg', 'BloodImage_00152.jpg', 'BloodImage_00393.jpg', 'BloodImage_00387.jpg', 'BloodImage_00378.jpg', 'BloodImage_00350.jpg', 'BloodImage_00344.jpg', 'BloodImage_00352.jpg', 'BloodImage_00346.jpg', 'BloodImage_00408.jpg', 'BloodImage_00391.jpg', 'BloodImage_00385.jpg', 'BloodImage_00150.jpg', 'BloodImage_00144.jpg', 'BloodImage_00178.jpg', 'BloodImage_00193.jpg', 'BloodImage_00187.jpg', 'BloodImage_00024.jpg', 'BloodImage_00030.jpg', 'BloodImage_00018.jpg', 'BloodImage_00226.jpg', 'BloodImage_00232.jpg', 'BloodImage_00233.jpg', 'BloodImage_00227.jpg', 'BloodImage_00019.jpg', 'BloodImage_00031.jpg', 'BloodImage_00192.jpg', 'BloodImage_00179.jpg', 'BloodImage_00145.jpg', 'BloodImage_00384.jpg', 'BloodImage_00390.jpg', 'BloodImage_00409.jpg', 'BloodImage_00347.jpg', 'BloodImage_00353.jpg', 'BloodImage_00308.jpg', 'BloodImage_00334.jpg', 'BloodImage_00320.jpg', 'BloodImage_00136.jpg', 'BloodImage_00042.jpg', 'BloodImage_00056.jpg', 'BloodImage_00081.jpg', 'BloodImage_00095.jpg', 'BloodImage_00268.jpg', 'BloodImage_00240.jpg', 'BloodImage_00254.jpg', 'BloodImage_00283.jpg', 'BloodImage_00297.jpg', 'BloodImage_00296.jpg', 'BloodImage_00282.jpg', 'BloodImage_00255.jpg', 'BloodImage_00241.jpg', 'BloodImage_00269.jpg', 'BloodImage_00094.jpg', 'BloodImage_00057.jpg', 'BloodImage_00043.jpg', 'BloodImage_00123.jpg', 'BloodImage_00137.jpg', 'BloodImage_00335.jpg', 'BloodImage_00309.jpg', 'BloodImage_00323.jpg', 'BloodImage_00337.jpg', 'BloodImage_00109.jpg', 'BloodImage_00135.jpg', 'BloodImage_00069.jpg', 'BloodImage_00055.jpg', 'BloodImage_00041.jpg', 'BloodImage_00096.jpg', 'BloodImage_00082.jpg', 'BloodImage_00257.jpg', 'BloodImage_00243.jpg', 'BloodImage_00294.jpg', 'BloodImage_00281.jpg', 'BloodImage_00295.jpg', 'BloodImage_00242.jpg', 'BloodImage_00256.jpg', 'BloodImage_00083.jpg', 'BloodImage_00097.jpg', 'BloodImage_00040.jpg', 'BloodImage_00054.jpg', 'BloodImage_00068.jpg', 'BloodImage_00134.jpg', 'BloodImage_00120.jpg', 'BloodImage_00108.jpg', 'BloodImage_00336.jpg', 'BloodImage_00322.jpg', 'BloodImage_00326.jpg', 'BloodImage_00332.jpg', 'BloodImage_00124.jpg', 'BloodImage_00130.jpg', 'BloodImage_00050.jpg', 'BloodImage_00044.jpg', 'BloodImage_00078.jpg', 'BloodImage_00093.jpg', 'BloodImage_00087.jpg', 'BloodImage_00252.jpg', 'BloodImage_00246.jpg', 'BloodImage_00291.jpg', 'BloodImage_00285.jpg', 'BloodImage_00284.jpg', 'BloodImage_00290.jpg', 'BloodImage_00247.jpg', 'BloodImage_00253.jpg', 'BloodImage_00086.jpg', 'BloodImage_00092.jpg', 'BloodImage_00079.jpg', 'BloodImage_00045.jpg', 'BloodImage_00125.jpg', 'BloodImage_00333.jpg', 'BloodImage_00327.jpg', 'BloodImage_00331.jpg', 'BloodImage_00325.jpg', 'BloodImage_00319.jpg', 'BloodImage_00133.jpg', 'BloodImage_00127.jpg', 'BloodImage_00047.jpg', 'BloodImage_00053.jpg', 'BloodImage_00090.jpg', 'BloodImage_00245.jpg', 'BloodImage_00251.jpg', 'BloodImage_00279.jpg', 'BloodImage_00292.jpg', 'BloodImage_00293.jpg', 'BloodImage_00287.jpg', 'BloodImage_00278.jpg', 'BloodImage_00250.jpg', 'BloodImage_00244.jpg', 'BloodImage_00091.jpg', 'BloodImage_00052.jpg', 'BloodImage_00046.jpg', 'BloodImage_00126.jpg', 'BloodImage_00132.jpg', 'BloodImage_00318.jpg', 'BloodImage_00324.jpg', 'BloodImage_00330.jpg']\n"
     ]
    }
   ],
   "source": [
    "# import OS module\n",
    "import os\n",
    " \n",
    "# Get the list of all files and directories\n",
    "path = \"blood tests/JPEGImages\"\n",
    "dir_list = os.listdir(path)\n",
    " \n",
    "print(\"Files and directories in '\", path, \"' :\")\n",
    " \n",
    "# prints all files\n",
    "print(dir_list)\n"
   ]
  },
  {
   "cell_type": "code",
   "execution_count": 8,
   "metadata": {},
   "outputs": [
    {
     "ename": "ValueError",
     "evalue": "Length of values (366) does not match length of index (411)",
     "output_type": "error",
     "traceback": [
      "\u001b[0;31m---------------------------------------------------------------------------\u001b[0m",
      "\u001b[0;31mValueError\u001b[0m                                Traceback (most recent call last)",
      "\u001b[0;32m/var/folders/l_/j699flmx6dbc1vlb90jx_hyw0000gn/T/ipykernel_94766/737292634.py\u001b[0m in \u001b[0;36m<module>\u001b[0;34m\u001b[0m\n\u001b[0;32m----> 1\u001b[0;31m \u001b[0mdada\u001b[0m\u001b[0;34m[\u001b[0m\u001b[0;34m'imagelink'\u001b[0m\u001b[0;34m]\u001b[0m \u001b[0;34m=\u001b[0m \u001b[0mdir_list\u001b[0m\u001b[0;34m\u001b[0m\u001b[0;34m\u001b[0m\u001b[0m\n\u001b[0m",
      "\u001b[0;32m~/opt/anaconda3/lib/python3.9/site-packages/pandas/core/frame.py\u001b[0m in \u001b[0;36m__setitem__\u001b[0;34m(self, key, value)\u001b[0m\n\u001b[1;32m   3653\u001b[0m         \u001b[0;32melse\u001b[0m\u001b[0;34m:\u001b[0m\u001b[0;34m\u001b[0m\u001b[0;34m\u001b[0m\u001b[0m\n\u001b[1;32m   3654\u001b[0m             \u001b[0;31m# set column\u001b[0m\u001b[0;34m\u001b[0m\u001b[0;34m\u001b[0m\u001b[0m\n\u001b[0;32m-> 3655\u001b[0;31m             \u001b[0mself\u001b[0m\u001b[0;34m.\u001b[0m\u001b[0m_set_item\u001b[0m\u001b[0;34m(\u001b[0m\u001b[0mkey\u001b[0m\u001b[0;34m,\u001b[0m \u001b[0mvalue\u001b[0m\u001b[0;34m)\u001b[0m\u001b[0;34m\u001b[0m\u001b[0;34m\u001b[0m\u001b[0m\n\u001b[0m\u001b[1;32m   3656\u001b[0m \u001b[0;34m\u001b[0m\u001b[0m\n\u001b[1;32m   3657\u001b[0m     \u001b[0;32mdef\u001b[0m \u001b[0m_setitem_slice\u001b[0m\u001b[0;34m(\u001b[0m\u001b[0mself\u001b[0m\u001b[0;34m,\u001b[0m \u001b[0mkey\u001b[0m\u001b[0;34m:\u001b[0m \u001b[0mslice\u001b[0m\u001b[0;34m,\u001b[0m \u001b[0mvalue\u001b[0m\u001b[0;34m)\u001b[0m\u001b[0;34m:\u001b[0m\u001b[0;34m\u001b[0m\u001b[0;34m\u001b[0m\u001b[0m\n",
      "\u001b[0;32m~/opt/anaconda3/lib/python3.9/site-packages/pandas/core/frame.py\u001b[0m in \u001b[0;36m_set_item\u001b[0;34m(self, key, value)\u001b[0m\n\u001b[1;32m   3830\u001b[0m         \u001b[0mensure\u001b[0m \u001b[0mhomogeneity\u001b[0m\u001b[0;34m.\u001b[0m\u001b[0;34m\u001b[0m\u001b[0;34m\u001b[0m\u001b[0m\n\u001b[1;32m   3831\u001b[0m         \"\"\"\n\u001b[0;32m-> 3832\u001b[0;31m         \u001b[0mvalue\u001b[0m \u001b[0;34m=\u001b[0m \u001b[0mself\u001b[0m\u001b[0;34m.\u001b[0m\u001b[0m_sanitize_column\u001b[0m\u001b[0;34m(\u001b[0m\u001b[0mvalue\u001b[0m\u001b[0;34m)\u001b[0m\u001b[0;34m\u001b[0m\u001b[0;34m\u001b[0m\u001b[0m\n\u001b[0m\u001b[1;32m   3833\u001b[0m \u001b[0;34m\u001b[0m\u001b[0m\n\u001b[1;32m   3834\u001b[0m         if (\n",
      "\u001b[0;32m~/opt/anaconda3/lib/python3.9/site-packages/pandas/core/frame.py\u001b[0m in \u001b[0;36m_sanitize_column\u001b[0;34m(self, value)\u001b[0m\n\u001b[1;32m   4536\u001b[0m \u001b[0;34m\u001b[0m\u001b[0m\n\u001b[1;32m   4537\u001b[0m         \u001b[0;32mif\u001b[0m \u001b[0mis_list_like\u001b[0m\u001b[0;34m(\u001b[0m\u001b[0mvalue\u001b[0m\u001b[0;34m)\u001b[0m\u001b[0;34m:\u001b[0m\u001b[0;34m\u001b[0m\u001b[0;34m\u001b[0m\u001b[0m\n\u001b[0;32m-> 4538\u001b[0;31m             \u001b[0mcom\u001b[0m\u001b[0;34m.\u001b[0m\u001b[0mrequire_length_match\u001b[0m\u001b[0;34m(\u001b[0m\u001b[0mvalue\u001b[0m\u001b[0;34m,\u001b[0m \u001b[0mself\u001b[0m\u001b[0;34m.\u001b[0m\u001b[0mindex\u001b[0m\u001b[0;34m)\u001b[0m\u001b[0;34m\u001b[0m\u001b[0;34m\u001b[0m\u001b[0m\n\u001b[0m\u001b[1;32m   4539\u001b[0m         \u001b[0;32mreturn\u001b[0m \u001b[0msanitize_array\u001b[0m\u001b[0;34m(\u001b[0m\u001b[0mvalue\u001b[0m\u001b[0;34m,\u001b[0m \u001b[0mself\u001b[0m\u001b[0;34m.\u001b[0m\u001b[0mindex\u001b[0m\u001b[0;34m,\u001b[0m \u001b[0mcopy\u001b[0m\u001b[0;34m=\u001b[0m\u001b[0;32mTrue\u001b[0m\u001b[0;34m,\u001b[0m \u001b[0mallow_2d\u001b[0m\u001b[0;34m=\u001b[0m\u001b[0;32mTrue\u001b[0m\u001b[0;34m)\u001b[0m\u001b[0;34m\u001b[0m\u001b[0;34m\u001b[0m\u001b[0m\n\u001b[1;32m   4540\u001b[0m \u001b[0;34m\u001b[0m\u001b[0m\n",
      "\u001b[0;32m~/opt/anaconda3/lib/python3.9/site-packages/pandas/core/common.py\u001b[0m in \u001b[0;36mrequire_length_match\u001b[0;34m(data, index)\u001b[0m\n\u001b[1;32m    555\u001b[0m     \"\"\"\n\u001b[1;32m    556\u001b[0m     \u001b[0;32mif\u001b[0m \u001b[0mlen\u001b[0m\u001b[0;34m(\u001b[0m\u001b[0mdata\u001b[0m\u001b[0;34m)\u001b[0m \u001b[0;34m!=\u001b[0m \u001b[0mlen\u001b[0m\u001b[0;34m(\u001b[0m\u001b[0mindex\u001b[0m\u001b[0;34m)\u001b[0m\u001b[0;34m:\u001b[0m\u001b[0;34m\u001b[0m\u001b[0;34m\u001b[0m\u001b[0m\n\u001b[0;32m--> 557\u001b[0;31m         raise ValueError(\n\u001b[0m\u001b[1;32m    558\u001b[0m             \u001b[0;34m\"Length of values \"\u001b[0m\u001b[0;34m\u001b[0m\u001b[0;34m\u001b[0m\u001b[0m\n\u001b[1;32m    559\u001b[0m             \u001b[0;34mf\"({len(data)}) \"\u001b[0m\u001b[0;34m\u001b[0m\u001b[0;34m\u001b[0m\u001b[0m\n",
      "\u001b[0;31mValueError\u001b[0m: Length of values (366) does not match length of index (411)"
     ]
    }
   ],
   "source": [
    "dada['imagelink'] = dir_list"
   ]
  },
  {
   "cell_type": "code",
   "execution_count": null,
   "metadata": {},
   "outputs": [],
   "source": []
  }
 ],
 "metadata": {
  "kernelspec": {
   "display_name": "base",
   "language": "python",
   "name": "python3"
  },
  "language_info": {
   "codemirror_mode": {
    "name": "ipython",
    "version": 3
   },
   "file_extension": ".py",
   "mimetype": "text/x-python",
   "name": "python",
   "nbconvert_exporter": "python",
   "pygments_lexer": "ipython3",
   "version": "3.9.13"
  },
  "orig_nbformat": 4
 },
 "nbformat": 4,
 "nbformat_minor": 2
}
