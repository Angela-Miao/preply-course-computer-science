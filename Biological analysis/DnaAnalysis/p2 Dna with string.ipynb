{
 "cells": [
  {
   "cell_type": "code",
   "execution_count": 1,
   "metadata": {},
   "outputs": [],
   "source": [
    "DNA = 'TAGACTCATACGCATGCNTAGACNACT'"
   ]
  },
  {
   "cell_type": "code",
   "execution_count": 6,
   "metadata": {},
   "outputs": [],
   "source": [
    "# ACTG are part of dna ,,, N and others are not part of DNA\n",
    "org_dna = DNA.replace('N','')"
   ]
  },
  {
   "cell_type": "code",
   "execution_count": 8,
   "metadata": {},
   "outputs": [
    {
     "data": {
      "text/plain": [
       "(25, 27)"
      ]
     },
     "execution_count": 8,
     "metadata": {},
     "output_type": "execute_result"
    }
   ],
   "source": [
    "# what is actual length of dna after removing polution\n",
    "\n",
    "len(org_dna), len(DNA)"
   ]
  },
  {
   "cell_type": "code",
   "execution_count": 9,
   "metadata": {},
   "outputs": [
    {
     "data": {
      "text/plain": [
       "'TAGACTCATACGCATGCNTAGACNACT'"
      ]
     },
     "execution_count": 9,
     "metadata": {},
     "output_type": "execute_result"
    }
   ],
   "source": [
    "DNA"
   ]
  },
  {
   "cell_type": "code",
   "execution_count": 13,
   "metadata": {},
   "outputs": [
    {
     "data": {
      "text/plain": [
       "'AACACACAAACCCAACCAACACACA'"
      ]
     },
     "execution_count": 13,
     "metadata": {},
     "output_type": "execute_result"
    }
   ],
   "source": [
    "banana = org_dna.replace(\"A\",\"T\")\n",
    "caca = banana.replace(\"T\",\"A\")\n",
    "mango = caca.replace(\"C\",\"G\")\n",
    "andy100percentsmarterthaneinstine = mango.replace(\"G\",\"C\")\n",
    "andy100percentsmarterthaneinstine"
   ]
  },
  {
   "cell_type": "code",
   "execution_count": 15,
   "metadata": {},
   "outputs": [
    {
     "data": {
      "text/plain": [
       "'ATCTGAGTATGCGTACGATCTGTGA'"
      ]
     },
     "execution_count": 15,
     "metadata": {},
     "output_type": "execute_result"
    }
   ],
   "source": [
    "#now we are switching not replace\n",
    "# we made rules\n",
    "# then we applied them\n",
    "bananaTable = str.maketrans('ATCG','TAGC')\n",
    "banana = org_dna.translate(bananaTable)\n",
    "banana"
   ]
  },
  {
   "cell_type": "code",
   "execution_count": 16,
   "metadata": {},
   "outputs": [
    {
     "data": {
      "text/plain": [
       "'CCCCAAAAGGGGTTTT'"
      ]
     },
     "execution_count": 16,
     "metadata": {},
     "output_type": "execute_result"
    }
   ],
   "source": [
    "dna = \"AAAACCCCTTTTGGGG\"\n",
    "# CCCCAAAAGGGGTTTT\n",
    "caca = str.maketrans('ACTG','CAGT')\n",
    "mango = dna.translate(caca)\n",
    "mango\n"
   ]
  },
  {
   "cell_type": "code",
   "execution_count": 20,
   "metadata": {},
   "outputs": [
    {
     "data": {
      "text/plain": [
       "'uif rvjdl cspxo gpy kvnqt pwfs uif mbaz eph'"
      ]
     },
     "execution_count": 20,
     "metadata": {},
     "output_type": "execute_result"
    }
   ],
   "source": [
    "andy = \"the quick brown fox jumps over the lazy dog\"\n",
    "angela = str.maketrans('abcdefghijklmnopqrstuvwxyz','bcdefghijklmnopqrstuvwxyza')\n",
    "butt = andy.translate(angela)\n",
    "butt"
   ]
  },
  {
   "cell_type": "code",
   "execution_count": 21,
   "metadata": {},
   "outputs": [
    {
     "data": {
      "text/plain": [
       "'the quick brown fox jumps over the lazy dog'"
      ]
     },
     "execution_count": 21,
     "metadata": {},
     "output_type": "execute_result"
    }
   ],
   "source": [
    "andy = \"uif rvjdl cspxo gpy kvnqt pwfs uif mbaz eph\"\n",
    "angela = str.maketrans('bcdefghijklmnopqrstuvwxyza','abcdefghijklmnopqrstuvwxyz')\n",
    "butt = andy.translate(angela)\n",
    "butt"
   ]
  },
  {
   "cell_type": "code",
   "execution_count": null,
   "metadata": {},
   "outputs": [],
   "source": []
  }
 ],
 "metadata": {
  "kernelspec": {
   "display_name": "base",
   "language": "python",
   "name": "python3"
  },
  "language_info": {
   "codemirror_mode": {
    "name": "ipython",
    "version": 3
   },
   "file_extension": ".py",
   "mimetype": "text/x-python",
   "name": "python",
   "nbconvert_exporter": "python",
   "pygments_lexer": "ipython3",
   "version": "3.9.13"
  },
  "orig_nbformat": 4
 },
 "nbformat": 4,
 "nbformat_minor": 2
}
