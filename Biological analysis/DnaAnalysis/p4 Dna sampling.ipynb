{
 "cells": [
  {
   "cell_type": "code",
   "execution_count": 3,
   "metadata": {},
   "outputs": [
    {
     "name": "stdout",
     "output_type": "stream",
     "text": [
      "Incorrect. The four nucleotide bases in DNA are Adenine (A), Cytosine (C), Guanine (G), and Thymine (T).\n"
     ]
    }
   ],
   "source": [
    "# Ask a question related to DNA sequences\n",
    "question = \"What are the four nucleotide bases that make up DNA? (Enter your answer in a single string, separated by spaces): \"\n",
    "\n",
    "# Get the user's answer\n",
    "user_answer = input(question)\n",
    "\n",
    "# Split the answer into individual bases\n",
    "user_answer = user_answer.split()\n",
    "\n",
    "# Check if the answer is correct\n",
    "correct_answer = [\"A\", \"C\", \"G\", \"T\"]\n",
    "\n",
    "if set(user_answer) == set(correct_answer):\n",
    "    print(\"Correct! The four nucleotide bases in DNA are Adenine (A), Cytosine (C), Guanine (G), and Thymine (T).\")\n",
    "else:\n",
    "    print(\"Incorrect. The four nucleotide bases in DNA are Adenine (A), Cytosine (C), Guanine (G), and Thymine (T).\")"
   ]
  },
  {
   "cell_type": "code",
   "execution_count": 5,
   "metadata": {},
   "outputs": [
    {
     "name": "stdout",
     "output_type": "stream",
     "text": [
      "no it is not a DNA sequence F\n",
      "no it is not a DNA sequence H\n",
      "ACTTCATCGTCTACTACT\n"
     ]
    }
   ],
   "source": [
    "# DNA sample has only ACTG\n",
    "\n",
    "\n",
    "patience = \"ACTTCATCGTCFTACTHACT\"\n",
    "\n",
    "# can you using python can you confirm it is dna sequuence\n",
    "# get cleanred dna sequences\n",
    "clean = \"\"\n",
    "for i in patience:\n",
    "    if i not in \"ACTG\":\n",
    "        print(\"no it is not a DNA sequence\",i)\n",
    "    else:\n",
    "        clean = clean + i\n",
    "    \n",
    "print(clean)"
   ]
  },
  {
   "cell_type": "code",
   "execution_count": 12,
   "metadata": {},
   "outputs": [
    {
     "name": "stdout",
     "output_type": "stream",
     "text": [
      "['ACTGCTAGTACGT', 'TGCAGCTTAGCG', 'GCTACTAGCTAG', 'ATCGATCGATCGA', 'AGTCTAGCTCGTA', 'CCGTAGTAGCTAA', 'TACGATCGTACGC', 'CTAGCTAGCTAGT', 'CGTAGTACGTACT', 'TAGCGTAGCTAGC']\n"
     ]
    }
   ],
   "source": [
    "dna_sequences = [\n",
    "    \"ACTGCTAGTACGT\",\n",
    "    \"YTGCAGCTTAGCG\",\n",
    "    \"GCTAZCTAGCTAG\",\n",
    "    \"ATCGAYTCGATCGA\",\n",
    "    \"AGTCTAGCTCYGTA\",\n",
    "    \"CCGZTAGTAGCTAA\",\n",
    "    \"TACGYATCVVVVVVVVVVVVVVVVVVVVVVVVVVVVVGTACGC\",\n",
    "    \"CTAGCTAYGCTAGT\",\n",
    "    \"CGTAGTACGTACTZ\",\n",
    "    \"TAGCGTAGCTZAGC\"\n",
    "]\n",
    "clean_DNAs = []\n",
    "for i in dna_sequences:\n",
    "    e = \"\"\n",
    "    for j in i:\n",
    "        if j in \"AGCT\":\n",
    "            e += j\n",
    "    clean_DNAs.append(e)\n",
    "print(clean_DNAs)\n",
    "    "
   ]
  },
  {
   "cell_type": "code",
   "execution_count": 13,
   "metadata": {},
   "outputs": [],
   "source": [
    "#From each dna seuqncy find how many A C G T we have"
   ]
  },
  {
   "cell_type": "code",
   "execution_count": 17,
   "metadata": {},
   "outputs": [
    {
     "name": "stdout",
     "output_type": "stream",
     "text": [
      "A: 3 G 3 T 4 C 3\n"
     ]
    }
   ],
   "source": [
    "countA = 0\n",
    "countG = 0\n",
    "countT = 0\n",
    "countC = 0\n",
    "CACA = \"ACTGCTAGTACGT\"\n",
    "for i in CACA:\n",
    "    if i == \"A\":\n",
    "        countA = countA + 1\n",
    "    elif i == \"G\":\n",
    "        countG = countG + 1\n",
    "    elif i == \"C\":\n",
    "        countC = countC + 1\n",
    "    elif i == \"T\":\n",
    "        countT = countT + 1\n",
    "    else:\n",
    "        print(\"NO\")\n",
    "print(\"A:\",countA, \"G\",countG, \"T\",countT, \"C\",countC)\n",
    "\n"
   ]
  },
  {
   "cell_type": "code",
   "execution_count": 19,
   "metadata": {},
   "outputs": [
    {
     "data": {
      "text/plain": [
       "{'A': 5, 'C': 8, 'T': 9, 'G': 4}"
      ]
     },
     "execution_count": 19,
     "metadata": {},
     "output_type": "execute_result"
    }
   ],
   "source": [
    "d = {\"A\":0, \"C\":0,\"T\":0,\"G\":0}\n",
    "for each in \"ACTGGTCATGCFTCGTACTACTCTACT\":\n",
    "    if each in \"ACTG\":\n",
    "        d[each] =d[each] + 1\n",
    "d"
   ]
  },
  {
   "cell_type": "code",
   "execution_count": null,
   "metadata": {},
   "outputs": [],
   "source": []
  }
 ],
 "metadata": {
  "kernelspec": {
   "display_name": "base",
   "language": "python",
   "name": "python3"
  },
  "language_info": {
   "codemirror_mode": {
    "name": "ipython",
    "version": 3
   },
   "file_extension": ".py",
   "mimetype": "text/x-python",
   "name": "python",
   "nbconvert_exporter": "python",
   "pygments_lexer": "ipython3",
   "version": "3.9.13"
  },
  "orig_nbformat": 4
 },
 "nbformat": 4,
 "nbformat_minor": 2
}
