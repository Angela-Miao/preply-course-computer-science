{
 "cells": [
  {
   "cell_type": "code",
   "execution_count": 9,
   "metadata": {},
   "outputs": [
    {
     "name": "stdout",
     "output_type": "stream",
     "text": [
      "I got one AZ32321312\n"
     ]
    }
   ],
   "source": [
    "import re\n",
    "myStr = 'In this string is an accession  AZ32321312 B123456 somewhere'\n",
    "result = re.search(r\"\\b([A-Z]{1,2}\\d{6,8})\\b\", myStr)\n",
    "if result is None:\n",
    "    print(\"No match\")\n",
    "else:\n",
    "    print(\"I got one\", result.group())\n"
   ]
  },
  {
   "cell_type": "code",
   "execution_count": 10,
   "metadata": {},
   "outputs": [],
   "source": [
    "# \n",
    "s = \"hey this is umair and my email is eeumairali@gmail.com and angelas eemail is angela@gmail.com\""
   ]
  },
  {
   "cell_type": "code",
   "execution_count": 13,
   "metadata": {},
   "outputs": [
    {
     "name": "stdout",
     "output_type": "stream",
     "text": [
      "eeumairali@gmail.com\n",
      "angela@gmail.com\n"
     ]
    }
   ],
   "source": [
    "banana = []\n",
    "caca = s.split(\" \")\n",
    "for i in range(len(caca)):\n",
    "    if \"@\" in caca[i]:\n",
    "        print(caca[i])"
   ]
  },
  {
   "cell_type": "code",
   "execution_count": 17,
   "metadata": {},
   "outputs": [],
   "source": [
    "s2 = \"hello this is@@bye hello bye@ y.comellow @apple eeumair@gmail.com angela@facebook.com andy@caca.com andy@caca.uk angela@japan.jp\"\n"
   ]
  },
  {
   "cell_type": "code",
   "execution_count": 19,
   "metadata": {},
   "outputs": [
    {
     "name": "stdout",
     "output_type": "stream",
     "text": [
      "eeumair@gmail.com\n",
      "angela@facebook.com\n",
      "andy@caca.com\n",
      "andy@caca.uk\n",
      "angela@japan.jp\n"
     ]
    }
   ],
   "source": [
    "banana = []\n",
    "caca = s2.split(\" \")\n",
    "for i in range(len(caca)):\n",
    "    if \"an\" in caca[i] or \"ee\" in caca[i]:\n",
    "        print(caca[i])"
   ]
  },
  {
   "cell_type": "code",
   "execution_count": 23,
   "metadata": {},
   "outputs": [
    {
     "name": "stdout",
     "output_type": "stream",
     "text": [
      "Certainly, here's a plain text with 10 scattered email addresses:\n",
      "\n",
      "---\n",
      "\n",
      "Hello,\n",
      "\n",
      "I hope you're doing well. Please find below some important information:\n",
      "\n",
      "1. Meeting Schedule:\n",
      "   - Our weekly team meeting will be held on Thursday at 3:00 PM. If you have any agenda items to discuss, please email me at john.doe@email.com.\n",
      "\n",
      "2. Project Updates:\n",
      "   - The latest project report is available for review. Please send your feedback to sarah.smith@email.com by Friday.\n",
      "\n",
      "3. Office Address:\n",
      "   - Our office is located at 123 Main Street. If you have any questions or need directions, contact us at info@companyxyz.com.\n",
      "\n",
      "4. New Hire Orientation:\n",
      "   - Don't forget to welcome our new team member, Mark Anderson. If you have any onboarding suggestions, please share them with us at hr@companyxyz.com.\n",
      "\n",
      "5. Upcoming Event:\n",
      "   - Join us for our company picnic next Saturday. RSVP at events@companyxyz.com.\n",
      "\n",
      "6. Technical Support:\n",
      "   - If you encounter any issues with our software, reach out to our support team at support@companyxyz.com for assistance.\n",
      "\n",
      "7. Newsletter Subscription:\n",
      "   - Stay updated with our latest news and offers by subscribing to our newsletter at subscribe@companyxyz.com.\n",
      "\n",
      "8. Customer Feedback:\n",
      "   - We value your opinion! Please share your feedback with us at feedback@companyxyz.com.\n",
      "\n",
      "9. Sales Inquiries:\n",
      "   - For any sales-related inquiries or quotes, contact our sales team at sales@companyxyz.com.\n",
      "\n",
      "10. Job Opportunities:\n",
      "    - Explore career opportunities with us. Check our job listings at careers@companyxyz.com.\n",
      "\n",
      "If you have any questions or concerns, feel free to reach out to any of the email addresses mentioned above.\n",
      "\n",
      "Best regards,\n",
      "\n",
      "[Your Name]\n",
      "\n",
      "---\n",
      "\n",
      "Please note that the email addresses used here are for illustrative purposes and may not be real.\n",
      "\n"
     ]
    }
   ],
   "source": [
    "s= \"\"\"abc.txt\"\"\"\n",
    "data = open(s)\n",
    "data = data.read()\n",
    "print (data)"
   ]
  },
  {
   "cell_type": "code",
   "execution_count": 27,
   "metadata": {},
   "outputs": [
    {
     "name": "stdout",
     "output_type": "stream",
     "text": [
      "john.doe@email.com.\n",
      "\n",
      "2.\n",
      "sarah.smith@email.com\n",
      "info@companyxyz.com.\n",
      "\n",
      "4.\n",
      "hr@companyxyz.com.\n",
      "\n",
      "5.\n",
      "events@companyxyz.com.\n",
      "\n",
      "6.\n",
      "support@companyxyz.com\n",
      "subscribe@companyxyz.com.\n",
      "\n",
      "8.\n",
      "feedback@companyxyz.com.\n",
      "\n",
      "9.\n",
      "sales@companyxyz.com.\n",
      "\n",
      "10.\n",
      "careers@companyxyz.com.\n",
      "\n",
      "If\n"
     ]
    }
   ],
   "source": [
    "banana = []\n",
    "caca = data.split(\" \")\n",
    "for i in range(len(caca)):\n",
    "    if \"@\" in caca[i]:\n",
    "        print(caca[i])\n",
    "    "
   ]
  },
  {
   "cell_type": "code",
   "execution_count": 31,
   "metadata": {},
   "outputs": [
    {
     "data": {
      "text/plain": [
       "['john.doe@email.com',\n",
       " 'sarah.smith@email.com',\n",
       " 'at info@companyxyz.com',\n",
       " 'at hr@companyxyz.com',\n",
       " 'at events@companyxyz.com',\n",
       " 'at support@companyxyz.com',\n",
       " 'at subscribe@companyxyz.com',\n",
       " 'at feedback@companyxyz.com',\n",
       " 'at sales@companyxyz.com',\n",
       " 'at careers@companyxyz.com']"
      ]
     },
     "execution_count": 31,
     "metadata": {},
     "output_type": "execute_result"
    }
   ],
   "source": [
    "import re\n",
    "rules = re.findall(r'[a-z]*.[a-z]*@[a-z]*.com',data)\n",
    "rules\n"
   ]
  },
  {
   "cell_type": "code",
   "execution_count": null,
   "metadata": {},
   "outputs": [],
   "source": []
  }
 ],
 "metadata": {
  "kernelspec": {
   "display_name": "base",
   "language": "python",
   "name": "python3"
  },
  "language_info": {
   "codemirror_mode": {
    "name": "ipython",
    "version": 3
   },
   "file_extension": ".py",
   "mimetype": "text/x-python",
   "name": "python",
   "nbconvert_exporter": "python",
   "pygments_lexer": "ipython3",
   "version": "3.9.13"
  },
  "orig_nbformat": 4
 },
 "nbformat": 4,
 "nbformat_minor": 2
}
