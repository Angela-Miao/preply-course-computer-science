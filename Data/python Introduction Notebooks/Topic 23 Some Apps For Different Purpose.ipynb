{
 "cells": [
  {
   "cell_type": "code",
   "execution_count": 5,
   "metadata": {},
   "outputs": [
    {
     "name": "stdout",
     "output_type": "stream",
     "text": [
      "haha, FluFF'n loser\n",
      "haha, i Can't imagin getting a C\n",
      "Good job, you Are not A loser\n",
      "Don't even Dare not to stuDy next time\n",
      "my data is  {'Mrandy': '0', 'Angela': '75', 'Mrumair': '98', 'Mom': '100', 'Banana tree': '60'}\n",
      "Grades are  {'Mrandy': 'F', 'Angela': 'C', 'Mrumair': 'A', 'Mom': 'A', 'Banana tree': 'D'}\n"
     ]
    }
   ],
   "source": [
    "## in a school a programmer is needed who can make a programe\n",
    "## if we tell name of student\n",
    "## marks of student\n",
    "## then it should store them into a dictionary\n",
    "## later using dict.values,, print averagescore of class and then estimate average Grade of class\n",
    "## if marks < 50 then Grade is F \n",
    "## if marks beteen 50 and 70 grade is D\n",
    "#  if marks beteen 70 and 80 grade is C\n",
    "# if marks beteen 80 and 90 grade is B\n",
    "# if marks beteen 90 and and 100 grade is A\n",
    "\"\"\"\n",
    "ang  = {}\n",
    "name = \"andy\"\n",
    "marks = 100\n",
    "ang[name]= marks\n",
    "\n",
    "print(ang)\"\"\"\n",
    "d = {}\n",
    "grades = {}\n",
    "\n",
    "while(True):\n",
    "    name = input(\"enter name:\")\n",
    "    marks = input(\"enter marks:\")\n",
    "\n",
    "    d [name] = marks\n",
    "    marks = int(marks)\n",
    "    if marks < 50 :\n",
    "        print (\"haha, FluFF'n loser\")\n",
    "        grade = \"F\"\n",
    "    if marks > 50 and marks <70 :\n",
    "        print (\"Don't even Dare not to stuDy next time\")\n",
    "        grade = \"D\"\n",
    "    if marks > 70 and marks < 80 :\n",
    "        print (\"haha, i Can't imagin getting a C\")\n",
    "        grade = \"C\"\n",
    "    if marks > 80 and marks < 90 :\n",
    "        print (\"Better luck next time loser\")\n",
    "        grade = \"B\"\n",
    "    if marks > 90 and marks < 100:\n",
    "        print (\"Good job, you Are not A loser\")\n",
    "        grade = \"A\"\n",
    "    if marks > 100 or marks < 0:\n",
    "        print (\"Lier, lier, pants on fire\")\n",
    "        grade = \"Invalid\"\n",
    "\n",
    "    grades[name] = grade\n",
    "\n",
    "\n",
    "\n",
    "    x = input(\"press n if you want to terminate:\")\n",
    "    if x == \"n\":\n",
    "        break\n",
    "        \n",
    "print(\"my data is \", d)\n",
    "print(\"Grades are \",grades)\n"
   ]
  },
  {
   "cell_type": "code",
   "execution_count": 10,
   "metadata": {},
   "outputs": [
    {
     "data": {
      "text/plain": [
       "['0', '75', '98', '100', '60']"
      ]
     },
     "execution_count": 10,
     "metadata": {},
     "output_type": "execute_result"
    }
   ],
   "source": [
    "all_grades = list(d.values())\n",
    "all_grades"
   ]
  },
  {
   "cell_type": "code",
   "execution_count": 12,
   "metadata": {},
   "outputs": [
    {
     "data": {
      "text/plain": [
       "[0, 75, 98, 100, 60]"
      ]
     },
     "execution_count": 12,
     "metadata": {},
     "output_type": "execute_result"
    }
   ],
   "source": [
    "all_grades_int = []\n",
    "for each in all_grades:\n",
    "    all_grades_int.append(int(each))\n",
    "all_grades_int"
   ]
  },
  {
   "cell_type": "code",
   "execution_count": 14,
   "metadata": {},
   "outputs": [
    {
     "name": "stdout",
     "output_type": "stream",
     "text": [
      "average is 66.6\n"
     ]
    }
   ],
   "source": [
    "print(\"average is\",sum(all_grades_int)/len(all_grades_int))"
   ]
  },
  {
   "cell_type": "code",
   "execution_count": 29,
   "metadata": {},
   "outputs": [
    {
     "name": "stdout",
     "output_type": "stream",
     "text": [
      "problem, bag 2 can not be over 22KG\n",
      "you have space in hand bag so adjust it please\n",
      "extra weigght if any 3.0\n",
      "GIMME 3.0 DOLLARS\n"
     ]
    }
   ],
   "source": [
    "## Make an Application\n",
    "\"\"\"\n",
    "Introduction:\n",
    "    Angela is an Airport officer, Angela is incharge of luggage management.\n",
    "    Each person can carry 2 bags and 1 hand bag\n",
    "    bag --> maxi 22 kg each\n",
    "    handbag --> maximum 7 kg \n",
    "\n",
    "Make a program. in which it will ask user to enter bag 1 wweight and then it should ask bag 2 weight\n",
    "then it should hand bag weight.\n",
    "\n",
    "if bag1 >22:\n",
    "    print(\"problem)\n",
    "\n",
    "if bag2 >22:\n",
    "    print(\"problem\")\n",
    "if bag3 >7:\n",
    "    print(\"problem\")\n",
    "\"\"\"\n",
    "\n",
    "bag1 = input(\"please enter weight of bag 1\")\n",
    "bag1 = float(bag1)\n",
    "bag2 = input(\"please enter weight of bag 2\")\n",
    "bag2 = float(bag2)\n",
    "bag3 = input(\"Please enter weight of handbag\")\n",
    "bag3 = float(bag3)\n",
    "\n",
    "extra = 0\n",
    "if bag1 >22:\n",
    "    print(\"problem, bag 1 can not be over 22KG\")\n",
    "    if bag2 <=21:\n",
    "        print(\"you have space in bag 2 please adjust\")\n",
    "    if bag3 <=6:\n",
    "        print(\"you have space in handbag please adjust\")\n",
    "    extra = extra + (bag1-22)\n",
    "if bag2 >22:\n",
    "    print(\"problem, bag 2 can not be over 22KG\")\n",
    "    if bag1 <=21:\n",
    "        print(\"you have space in bag1 so adjust it please\")\n",
    "    if bag3 <=6:\n",
    "        print(\"you have space in hand bag so adjust it please\")\n",
    "    extra = extra + (bag2-22)\n",
    "if bag3 >7:\n",
    "    print(\"problem, handbag can not be over 7KG\")\n",
    "    if bag2 <=21:\n",
    "        print(\"you have space in bag1 so adjust it please\")\n",
    "    if bag2 <=21:\n",
    "        print(\"you have space in bag 2 so adjust it please\")\n",
    "    extra = extra + (bag3-7)\n",
    "# if bag1 is more than 22Kg then find how much extra weight bag 1 has \n",
    "print(\"extra weigght if any then Give it to dear Mr andy\",extra)\n",
    "\n",
    "# now for extra weight Angela Officer, she will charge 10 usd per 1 kg if extra size is between 0 and 20\n",
    "# if extra weight is between 20 and 50 then 20 usd per kg\n",
    "# if extra weight is between 50 and 100 then 50 usd per \n",
    "## if extra weight is more than 100, then 100 usd per kg\n",
    "cost = 0\n",
    "if extra > 0 and extra <= 20:\n",
    "    cost = extra * 1\n",
    "    print(\"GIMME\",cost, \"DOLLARS\")\n",
    "\n",
    "if extra > 20 and extra <= 50:\n",
    "    cost = extra * 2\n",
    "    print(\"GIMME\",cost, \"DOLLARS\")\n",
    "\n",
    "if extra > 50 and extra <= 100:\n",
    "    cost = extra * 5\n",
    "    print(\"GIMME\",cost, \"DOLLARS\")\n",
    "\n",
    "if extra > 100:\n",
    "    cost = extra * 10\n",
    "    print(\"GIMME\",cost, \"DOLLARS\")\n",
    "\n",
    "\n",
    "\n"
   ]
  },
  {
   "cell_type": "code",
   "execution_count": 23,
   "metadata": {},
   "outputs": [],
   "source": [
    "\n",
    "def Officer(bag1,bag2,bag3):\n",
    "\n",
    "    extra = 0\n",
    "    if bag1 >22:\n",
    "        print(\"problem, bag 1 can not be over 22KG\")\n",
    "        extra = extra + (bag1-22)\n",
    "    if bag2 >22:\n",
    "        print(\"problem, bag 2 can not be over 22KG\")\n",
    "        extra = extra + (bag2-22)\n",
    "    if bag3 >7:\n",
    "        print(\"problem, handbag can not be over 7KG\")\n",
    "        extra = extra + (bag3-7)\n",
    "    # if bag1 is more than 22Kg then find how much extra weight bag 1 has \n",
    "    print(\"extra weigght if any\",extra)\n",
    "\n",
    "    # now for extra weight Angela Officer, she will charge 10 usd per 1 kg if extra size is between 0 and 20\n",
    "    # if extra weight is between 20 and 50 then 20 usd per kg\n",
    "    # if extra weight is between 50 and 100 then 50 usd per \n",
    "    ## if extra weight is more than 100, then 100 usd per kg\n",
    "    cost = 0\n",
    "    if extra > 0 and extra <= 20:\n",
    "        cost = extra * 1\n",
    "        print(\"GIMME\",cost, \"DOLLARS\")\n",
    "\n",
    "    if extra > 20 and extra <= 50:\n",
    "        cost = extra * 2\n",
    "        print(\"GIMME\",cost, \"DOLLARS\")\n",
    "\n",
    "    if extra > 50 and extra <= 100:\n",
    "        cost = extra * 5\n",
    "        print(\"GIMME\",cost, \"DOLLARS\")\n",
    "\n",
    "    if extra > 100:\n",
    "        cost = extra * 10\n",
    "        print(\"GIMME\",cost, \"DOLLARS\")"
   ]
  },
  {
   "cell_type": "code",
   "execution_count": 27,
   "metadata": {},
   "outputs": [
    {
     "name": "stdout",
     "output_type": "stream",
     "text": [
      "problem, bag 2 can not be over 22KG\n",
      "extra weigght if any 2\n",
      "GIMME 2 DOLLARS\n"
     ]
    }
   ],
   "source": [
    "Officer(21,24,4)"
   ]
  },
  {
   "cell_type": "code",
   "execution_count": 41,
   "metadata": {},
   "outputs": [
    {
     "name": "stdout",
     "output_type": "stream",
     "text": [
      "sorry papwrpape there is something wrong with your input\n",
      "computer selected rock\n"
     ]
    }
   ],
   "source": [
    "# make a game in which computer randomly select rock, paper or scissors\n",
    "\n",
    "\n",
    "## user has option to select rock, paper or scissors\n",
    "\n",
    "## all rules you know about rock, paper or scissors game ...\n",
    "\n",
    "## at the end you ahve to print who wins\n",
    "\n",
    "\n",
    "import random\n",
    "x = ['paper','rock','scissors']\n",
    "\n",
    "computer = random.choice(x)\n",
    "computer\n",
    "\n",
    "name = input(\"what is ur name?\")\n",
    "user = input(\"what do you select \"+ name)\n",
    "\n",
    "if (user == \"paper\") and computer == \"scissors\":\n",
    "    print(\"compuiter wins\")\n",
    "elif (user == \"paper\") and computer == \"paper\":\n",
    "    print(\"tie\")\n",
    "elif (user == \"paper\") and computer == \"rock\":\n",
    "    print(name+\" wins\")\n",
    "elif (user == \"rock\") and computer == \"scissors\":\n",
    "    print(\"compuiter wins\")\n",
    "elif (user == \"rock\") and computer == \"rock\":\n",
    "    print(\"tie\")\n",
    "elif (user == \"rock\") and computer == \"paper\":\n",
    "    print(name+ \"wins\")\n",
    "elif (user == \"scissors\") and computer == \"paper\":\n",
    "    print(\"compuiter wins\")\n",
    "elif (user == \"scissors\") and computer == \"scissors\":\n",
    "    print(\"tie\")\n",
    "elif (user == \"scissors\") and computer == \"rock\":\n",
    "    print(name+\" wins\")\n",
    "else:\n",
    "    print(\"sorry \"+name+\" there is something wrong with your input\")\n",
    "\n",
    "print(\"computer selected\",computer)"
   ]
  },
  {
   "cell_type": "code",
   "execution_count": 45,
   "metadata": {},
   "outputs": [
    {
     "name": "stderr",
     "output_type": "stream",
     "text": [
      "[ERROR:0@0.029] global persistence.cpp:512 open Can't open file: 'haarcascade_frontalface_default.xml' in read mode\n"
     ]
    },
    {
     "ename": "error",
     "evalue": "OpenCV(4.8.0) /Users/xperience/GHA-OpenCV-Python/_work/opencv-python/opencv-python/opencv/modules/objdetect/src/cascadedetect.cpp:1689: error: (-215:Assertion failed) !empty() in function 'detectMultiScale'\n",
     "output_type": "error",
     "traceback": [
      "\u001b[0;31m---------------------------------------------------------------------------\u001b[0m",
      "\u001b[0;31merror\u001b[0m                                     Traceback (most recent call last)",
      "Cell \u001b[0;32mIn[45], line 13\u001b[0m\n\u001b[1;32m     10\u001b[0m gray \u001b[39m=\u001b[39m cv2\u001b[39m.\u001b[39mcvtColor(img, cv2\u001b[39m.\u001b[39mCOLOR_BGR2GRAY)\n\u001b[1;32m     12\u001b[0m \u001b[39m# Detect faces\u001b[39;00m\n\u001b[0;32m---> 13\u001b[0m faces \u001b[39m=\u001b[39m face_cascade\u001b[39m.\u001b[39;49mdetectMultiScale(gray, \u001b[39m1.1\u001b[39;49m, \u001b[39m4\u001b[39;49m)\n\u001b[1;32m     15\u001b[0m \u001b[39m# Draw rectangle around faces\u001b[39;00m\n\u001b[1;32m     16\u001b[0m \u001b[39mfor\u001b[39;00m (x, y, w, h) \u001b[39min\u001b[39;00m faces:\n",
      "\u001b[0;31merror\u001b[0m: OpenCV(4.8.0) /Users/xperience/GHA-OpenCV-Python/_work/opencv-python/opencv-python/opencv/modules/objdetect/src/cascadedetect.cpp:1689: error: (-215:Assertion failed) !empty() in function 'detectMultiScale'\n"
     ]
    }
   ],
   "source": [
    "import cv2\n",
    "\n",
    "# Load pretrained face cascade classifier\n",
    "face_cascade = cv2.CascadeClassifier('haarcascade_frontalface_default.xml')\n",
    "\n",
    "# Read input image\n",
    "img = cv2.imread('/Users/angelasthingy/Desktop/preply-course-computer-science/all_pics/Food, Andy and Angela.jpg')\n",
    "\n",
    "# Convert to grayscale\n",
    "gray = cv2.cvtColor(img, cv2.COLOR_BGR2GRAY)\n",
    "\n",
    "# Detect faces\n",
    "faces = face_cascade.detectMultiScale(gray, 1.1, 4)\n",
    "\n",
    "# Draw rectangle around faces\n",
    "for (x, y, w, h) in faces:\n",
    "    cv2.rectangle(img, (x, y), (x+w, y+h), (255, 0, 0), 2)\n",
    "\n",
    "# Display output \n",
    "cv2.imshow('img', img)\n",
    "cv2.waitKey()"
   ]
  },
  {
   "cell_type": "code",
   "execution_count": 44,
   "metadata": {},
   "outputs": [
    {
     "name": "stdout",
     "output_type": "stream",
     "text": [
      "Defaulting to user installation because normal site-packages is not writeable\n",
      "Collecting opencv-python\n",
      "  Downloading opencv_python-4.8.0.74-cp37-abi3-macosx_11_0_arm64.whl (33.1 MB)\n",
      "\u001b[K     |████████████████████████████████| 33.1 MB 589 kB/s eta 0:00:01\n",
      "\u001b[?25hCollecting numpy>=1.19.3\n",
      "  Downloading numpy-1.25.1-cp39-cp39-macosx_11_0_arm64.whl (14.0 MB)\n",
      "\u001b[K     |████████████████████████████████| 14.0 MB 523 kB/s eta 0:00:01\n",
      "\u001b[?25hInstalling collected packages: numpy, opencv-python\n",
      "Successfully installed numpy-1.25.1 opencv-python-4.8.0.74\n",
      "\u001b[33mWARNING: You are using pip version 21.2.4; however, version 23.1.2 is available.\n",
      "You should consider upgrading via the '/Library/Developer/CommandLineTools/usr/bin/python3 -m pip install --upgrade pip' command.\u001b[0m\n",
      "Note: you may need to restart the kernel to use updated packages.\n"
     ]
    }
   ],
   "source": [
    "pip install opencv-python"
   ]
  },
  {
   "cell_type": "code",
   "execution_count": null,
   "metadata": {},
   "outputs": [],
   "source": []
  }
 ],
 "metadata": {
  "kernelspec": {
   "display_name": "Python 3",
   "language": "python",
   "name": "python3"
  },
  "language_info": {
   "codemirror_mode": {
    "name": "ipython",
    "version": 3
   },
   "file_extension": ".py",
   "mimetype": "text/x-python",
   "name": "python",
   "nbconvert_exporter": "python",
   "pygments_lexer": "ipython3",
   "version": "3.9.6"
  },
  "orig_nbformat": 4
 },
 "nbformat": 4,
 "nbformat_minor": 2
}
