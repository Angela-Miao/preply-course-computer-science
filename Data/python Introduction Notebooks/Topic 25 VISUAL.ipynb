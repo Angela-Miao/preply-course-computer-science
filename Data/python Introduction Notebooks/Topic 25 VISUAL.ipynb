{
 "cells": [
  {
   "cell_type": "code",
   "execution_count": 28,
   "metadata": {},
   "outputs": [],
   "source": [
    "def swap(x,i):\n",
    "    temp = x[i+1]\n",
    "    x[i+1] = x[i]\n",
    "    x[i] = temp\n",
    "    return x"
   ]
  },
  {
   "cell_type": "code",
   "execution_count": 29,
   "metadata": {},
   "outputs": [
    {
     "data": {
      "text/plain": [
       "[1, 3]"
      ]
     },
     "execution_count": 29,
     "metadata": {},
     "output_type": "execute_result"
    }
   ],
   "source": [
    "## how to use swap for sorting a list\n",
    "x = [3,1]\n",
    "swap(x,0)"
   ]
  },
  {
   "cell_type": "code",
   "execution_count": 27,
   "metadata": {},
   "outputs": [
    {
     "name": "stdout",
     "output_type": "stream",
     "text": [
      "[9, 3, 6, 1]\n",
      "[3, 9, 6, 1]\n",
      "[3, 6, 9, 1]\n",
      "[3, 6, 1, 9]\n",
      "[3, 6, 1, 9]\n",
      "[3, 1, 6, 9]\n",
      "[3, 1, 6, 9]\n",
      "[1, 3, 6, 9]\n",
      "[1, 3, 6, 9]\n",
      "[1, 3, 6, 9]\n"
     ]
    }
   ],
   "source": [
    "x = [9,3,6,1] # we are\n",
    "print(x) # homewok\n",
    "for each in range(3):\n",
    "    for i in range(len(x)-1):\n",
    "        if x[i+1]<x[i]:\n",
    "            x = swap(x,i)\n",
    "        print(x)\n",
    "\n",
    "\n",
    "        ## write comment with everyline to explain which is happening\n",
    "\n"
   ]
  },
  {
   "cell_type": "code",
   "execution_count": null,
   "metadata": {},
   "outputs": [],
   "source": []
  },
  {
   "cell_type": "code",
   "execution_count": null,
   "metadata": {},
   "outputs": [],
   "source": []
  }
 ],
 "metadata": {
  "kernelspec": {
   "display_name": "base",
   "language": "python",
   "name": "python3"
  },
  "language_info": {
   "codemirror_mode": {
    "name": "ipython",
    "version": 3
   },
   "file_extension": ".py",
   "mimetype": "text/x-python",
   "name": "python",
   "nbconvert_exporter": "python",
   "pygments_lexer": "ipython3",
   "version": "3.9.13"
  },
  "orig_nbformat": 4
 },
 "nbformat": 4,
 "nbformat_minor": 2
}
