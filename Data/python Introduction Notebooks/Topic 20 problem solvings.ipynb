{
 "cells": [
  {
   "cell_type": "code",
   "execution_count": 3,
   "metadata": {},
   "outputs": [
    {
     "data": {
      "text/plain": [
       "10.625"
      ]
     },
     "execution_count": 3,
     "metadata": {},
     "output_type": "execute_result"
    }
   ],
   "source": [
    "### if a train moves with 500 km per hour\n",
    "### tell me when it will reach USA from Japan\n",
    "## let say we have clean train lines\n",
    "\n",
    "## 9000 km distance\n",
    "s = 800\n",
    "d = 8500 \n",
    "t = d / s\n",
    "t\n"
   ]
  },
  {
   "cell_type": "code",
   "execution_count": 11,
   "metadata": {},
   "outputs": [
    {
     "name": "stdout",
     "output_type": "stream",
     "text": [
      "in the country Australia 9.75 hour Time\n",
      "in the country Brazil 23.75 hour Time\n",
      "in the country Canada 11.875 hour Time\n",
      "in the country China 1.875 hour Time\n",
      "in the country Egypt 9.5 hour Time\n",
      "in the country France 11.875 hour Time\n",
      "in the country Germany 11.5 hour Time\n",
      "in the country India 4.625 hour Time\n",
      "in the country Indonesia 6.125 hour Time\n",
      "in the country Italy 11.5 hour Time\n",
      "in the country Mexico 18.75 hour Time\n",
      "in the country Netherlands 11.5 hour Time\n",
      "in the country New Zealand 12.5 hour Time\n",
      "in the country Russia 9.625 hour Time\n",
      "in the country Saudi Arabia 8.625 hour Time\n",
      "in the country South Africa 17.625 hour Time\n",
      "in the country South Korea 1.125 hour Time\n",
      "in the country Spain 12.5 hour Time\n",
      "in the country Thailand 5.5 hour Time\n",
      "in the country United Kingdom 11.875 hour Time\n",
      "in the country Pakistan 3.75 hour Time\n"
     ]
    }
   ],
   "source": [
    "### i have 10 aeroplates\n",
    "# make a dictionary of country and distance\n",
    "country_distances = {\n",
    "    \"Australia\": 7800,\n",
    "    \"Brazil\": 19000,\n",
    "    \"Canada\": 9500,\n",
    "    \"China\": 1500,\n",
    "    \"Egypt\": 7600,\n",
    "    \"France\": 9500,\n",
    "    \"Germany\": 9200,\n",
    "    \"India\": 3700,\n",
    "    \"Indonesia\": 4900,\n",
    "    \"Italy\": 9200,\n",
    "    \"Mexico\": 15000,\n",
    "    \"Netherlands\": 9200,\n",
    "    \"New Zealand\": 10000,\n",
    "    \"Russia\": 7700,\n",
    "    \"Saudi Arabia\": 6900,\n",
    "    \"South Africa\": 14100,\n",
    "    \"South Korea\": 900,\n",
    "    \"Spain\": 10000,\n",
    "    \"Thailand\": 4400,\n",
    "    \"United Kingdom\": 9500,\n",
    "    \"Pakistan\":3000\n",
    "}\n",
    "### for all countreis write the time to reach with 800 KM \n",
    "\n",
    "for each in country_distances:\n",
    "    print( \"in the country\", each, country_distances[each]/800, \"hour Time\")"
   ]
  },
  {
   "cell_type": "markdown",
   "metadata": {},
   "source": [
    "### Problem, \n",
    "roblem: Calculate Body Mass Index (BMI).\n",
    "\n",
    "Body Mass Index (BMI) is a numerical value that indicates whether a person is underweight, normal weight, overweight, or obese. It is calculated using the formula:\n",
    "\n",
    "BMI = weight(kg) / (height(m) ** 2)\n",
    "\n",
    "To solve this problem, you'll need to gather the weight and height measurements from the user and perform the calculation."
   ]
  },
  {
   "cell_type": "code",
   "execution_count": null,
   "metadata": {},
   "outputs": [],
   "source": [
    "weight = 50\n",
    "height = 1.5\n",
    "bmi = "
   ]
  },
  {
   "cell_type": "code",
   "execution_count": 14,
   "metadata": {},
   "outputs": [
    {
     "name": "stdout",
     "output_type": "stream",
     "text": [
      "all the negative numbers are [-3.14, -5.3, -8.9, -0.5, -12.34, -1.23, -25.6, -9.87, -0.987, -11.11, -6.66]\n",
      "all the positive numbers are [1.5, 2.7, 0.618, 10.0, 2.718, 4.2, 3.33, 9.99, 7.77, 6.55, 0.001, 100.5, 17.8, 0.123, 45.67, 3.14159, 2.22, 0.505, 8.88, 4.44]\n",
      "And this is []\n"
     ]
    }
   ],
   "source": [
    "numbers = [1.5, 2.7, -3.14, 0.618, 10.0, -5.3, 2.718, -8.9, 4.2, -0.5, 3.33, 9.99, -12.34, 7.77, 6.55, -1.23, 0.001, 100.5, -25.6, 17.8, 0.123, -9.87, 45.67, -0.987, 3.14159, 2.22, -11.11, 0.505, 8.88, -6.66, 4.44]\n",
    "neg = []\n",
    "pos = []\n",
    "zero = []\n",
    "for each in numbers:\n",
    "    if each > 0:\n",
    "        pos.append(each)\n",
    "    if each < 0:\n",
    "        neg.append(each)\n",
    "    if each == 0:\n",
    "        zero.append(each)\n",
    "\n",
    "print (\"all the negative numbers are\", neg)\n",
    "print (\"all the positive numbers are\", pos)\n",
    "print (\"And this is\", zero)"
   ]
  },
  {
   "cell_type": "code",
   "execution_count": 22,
   "metadata": {},
   "outputs": [
    {
     "name": "stdout",
     "output_type": "stream",
     "text": [
      "[(1, 1), (1, 2), (1, 3), (1, 4), (1, 5), (1, 6), (2, 1), (2, 2), (2, 3), (2, 4), (2, 5), (2, 6), (3, 1), (3, 2), (3, 3), (3, 4), (3, 5), (3, 6), (4, 1), (4, 2), (4, 3), (4, 4), (4, 5), (4, 6), (5, 1), (5, 2), (5, 3), (5, 4), (5, 5), (5, 6), (6, 1), (6, 2), (6, 3), (6, 4), (6, 5), (6, 6)]\n"
     ]
    }
   ],
   "source": [
    "x = [1,2,3,4,5,6]\n",
    "y = [1,2,3,4,5,6]\n",
    "combination = []\n",
    "for each in x:\n",
    "    for each2 in y:\n",
    "        combination.append((each,each2))\n",
    "print(combination)"
   ]
  },
  {
   "cell_type": "code",
   "execution_count": 24,
   "metadata": {},
   "outputs": [
    {
     "name": "stdout",
     "output_type": "stream",
     "text": [
      "(1, 2)\n",
      "(1, 3)\n",
      "(1, 4)\n",
      "(1, 5)\n",
      "(1, 6)\n",
      "(2, 3)\n",
      "(2, 4)\n",
      "(2, 5)\n",
      "(2, 6)\n",
      "(3, 4)\n",
      "(3, 5)\n",
      "(3, 6)\n",
      "(4, 5)\n",
      "(4, 6)\n",
      "(5, 6)\n"
     ]
    }
   ],
   "source": [
    "for each in combination:\n",
    "    if each [1] > each[0]:\n",
    "        print(each)\n"
   ]
  },
  {
   "cell_type": "code",
   "execution_count": 26,
   "metadata": {},
   "outputs": [
    {
     "name": "stdout",
     "output_type": "stream",
     "text": [
      "(2, 1)\n",
      "(3, 1)\n",
      "(3, 2)\n",
      "(4, 1)\n",
      "(4, 2)\n",
      "(4, 3)\n",
      "(5, 1)\n",
      "(5, 2)\n",
      "(5, 3)\n",
      "(5, 4)\n",
      "(6, 1)\n",
      "(6, 2)\n",
      "(6, 3)\n",
      "(6, 4)\n",
      "(6, 5)\n"
     ]
    }
   ],
   "source": [
    "for each2 in combination:\n",
    "    if each2 [1] < each2 [0]:\n",
    "        print(each2)\n"
   ]
  },
  {
   "cell_type": "code",
   "execution_count": null,
   "metadata": {},
   "outputs": [],
   "source": [
    "#Home work: \n",
    "\n",
    "#Make list of 10 numbers\n",
    "#Make second list of 10 numbers\n",
    "\n",
    "#And print all possible combinations\n",
    "\n",
    "#If if each[0] == each[1] \n",
    "#then print it"
   ]
  },
  {
   "cell_type": "code",
   "execution_count": 41,
   "metadata": {},
   "outputs": [
    {
     "name": "stdout",
     "output_type": "stream",
     "text": [
      "1\n",
      "\n",
      "0\t9\t8\t7\t6\t5\t4\t3\t2\t1\t\n",
      "\n",
      "2\n",
      "\n",
      "0\t9\t8\t7\t6\t5\t4\t3\t2\t1\t\n",
      "\n",
      "3\n",
      "\n",
      "0\t9\t8\t7\t6\t5\t4\t3\t2\t1\t\n",
      "\n",
      "4\n",
      "\n",
      "0\t9\t8\t7\t6\t5\t4\t3\t2\t1\t\n",
      "\n",
      "5\n",
      "\n",
      "0\t9\t8\t7\t6\t5\t4\t3\t2\t1\t\n",
      "\n",
      "6\n",
      "\n",
      "0\t9\t8\t7\t6\t5\t4\t3\t2\t1\t\n",
      "\n",
      "7\n",
      "\n",
      "0\t9\t8\t7\t6\t5\t4\t3\t2\t1\t\n",
      "\n",
      "8\n",
      "\n",
      "0\t9\t8\t7\t6\t5\t4\t3\t2\t1\t\n",
      "\n",
      "9\n",
      "\n",
      "0\t9\t8\t7\t6\t5\t4\t3\t2\t1\t\n",
      "\n",
      "0\n",
      "\n",
      "0\t9\t8\t7\t6\t5\t4\t3\t2\t1\t\n",
      "\n"
     ]
    }
   ],
   "source": [
    "x = [1,2,3,4,5,6,7,8,9,0]\n",
    "\n",
    "y = [0,9,8,7,6,5,4,3,2,1]\n",
    "for i in x:\n",
    "    print(i,end=\"\\n\\n\")\n",
    "    for j in y:\n",
    "        print(j,end=\"\\t\")\n",
    "    print(end= \"\\n\\n\")"
   ]
  },
  {
   "cell_type": "code",
   "execution_count": 45,
   "metadata": {},
   "outputs": [
    {
     "name": "stdout",
     "output_type": "stream",
     "text": [
      "set: CABB\n",
      "set: CAFG\n",
      "set: ABBB\n",
      "set: ABFG\n",
      "set: DMBB\n",
      "set: DMFG\n"
     ]
    }
   ],
   "source": [
    "Chromosomes1 = {\"AB\", \"CA\", \"DM\"}\n",
    "Chromosomes2 = {\"FG\", \"BB\"}\n",
    "for i in Chromosomes1:\n",
    "   \n",
    "    for h in Chromosomes2:\n",
    "        print (\"set:\",i+h)\n"
   ]
  },
  {
   "cell_type": "code",
   "execution_count": 52,
   "metadata": {},
   "outputs": [
    {
     "name": "stdout",
     "output_type": "stream",
     "text": [
      "Angela Andy Mom\n",
      "Angela Mom Andy\n",
      "Andy Angela Mom\n",
      "Andy Mom Angela\n",
      "Mom Angela Andy\n",
      "Mom Andy Angela\n"
     ]
    }
   ],
   "source": [
    "## you are going somwhere in car, with family\n",
    "# FAther is driving\n",
    "## mom is in back seat with andy and angela\n",
    "# how many combinations in which you can sit\n",
    "x = [\"Angela\",\"Andy\",\"Mom\"]\n",
    "y = [\"Angela\",\"Andy\",\"Mom\"]\n",
    "z = [\"Angela\",\"Andy\",\"Mom\"]\n",
    "for i in x:\n",
    "    for j in y:\n",
    "        for k in z:\n",
    "            if i !=j and i !=k:\n",
    "                if j !=k and j !=i:\n",
    "                    if k !=i and k !=j:\n",
    "                        print(i,j,k)\n"
   ]
  },
  {
   "cell_type": "code",
   "execution_count": 66,
   "metadata": {},
   "outputs": [
    {
     "name": "stdout",
     "output_type": "stream",
     "text": [
      "rock rock    : draw\n",
      "rock scissor rock    : wins\n",
      "paper rock paper    : wins\n",
      "rock scissor rock    : wins\n",
      "scissor scissor    : draw\n",
      "scissor paper scissor    : wins\n",
      "paper rock paper    : wins\n",
      "scissor paper scissor    : wins\n",
      "paper paper    : draw\n"
     ]
    }
   ],
   "source": [
    "## paper rock scissors\n",
    "## make two lists of paper rock and scissor\n",
    "## if i == \"paper\" and j ==\"scissor\"then scissor wins\n",
    "x = [\"rock\", \"scissor\",\"paper\"]\n",
    "y = [\"rock\", \"scissor\", \"paper\"]\n",
    "space=\"   :\"\n",
    "for i in x:\n",
    "    for j in y:\n",
    "        if i == j :\n",
    "            print(i,j,space,\"draw\")\n",
    "        if i == \"paper\" and j == \"scissor\":\n",
    "            print(j,i,j,space,\"wins\")\n",
    "        if i == \"rock\" and j == \"scissor\":\n",
    "            print(i,j,i,space,\"wins\")\n",
    "        if i == \"paper\" and j == \"rock\":\n",
    "            print(i,j,i,space,\"wins\")\n",
    "        if i == \"scissor\" and j == \"rock\":\n",
    "            print(j,i,j,space,\"wins\")\n",
    "        if i == \"rock\" and j == \"paper\":\n",
    "            print(j,i,j,space,\"wins\")\n",
    "        if i == \"scissor\" and j == \"paper\":\n",
    "            print (i,j,i,space,\"wins\")"
   ]
  },
  {
   "cell_type": "code",
   "execution_count": 67,
   "metadata": {},
   "outputs": [
    {
     "name": "stdout",
     "output_type": "stream",
     "text": [
      "banana grape\n",
      "banana cherry\n",
      "banana mango\n",
      "banana pineapple\n",
      "apple grape\n",
      "apple cherry\n",
      "apple mango\n",
      "apple pineapple\n",
      "orange grape\n",
      "orange cherry\n",
      "orange mango\n",
      "orange pineapple\n",
      "tomato grape\n",
      "tomato cherry\n",
      "tomato mango\n",
      "tomato pineapple\n"
     ]
    }
   ],
   "source": [
    "#Make 2 list of fruits \n",
    "#And print all combination of fruits \n",
    "#Let say if someone orders it in 2 pairsz, print all possible cominationof fruits order\n",
    "banana= [\"banana\", \"apple\", \"orange\", \"tomato\"]\n",
    "banana2= [\"grape\", \"cherry\", \"mango\", \"pineapple\"]\n",
    "for i in banana:\n",
    "    for j in banana2:\n",
    "        print (i,j)"
   ]
  },
  {
   "cell_type": "code",
   "execution_count": null,
   "metadata": {},
   "outputs": [],
   "source": []
  }
 ],
 "metadata": {
  "kernelspec": {
   "display_name": "base",
   "language": "python",
   "name": "python3"
  },
  "language_info": {
   "codemirror_mode": {
    "name": "ipython",
    "version": 3
   },
   "file_extension": ".py",
   "mimetype": "text/x-python",
   "name": "python",
   "nbconvert_exporter": "python",
   "pygments_lexer": "ipython3",
   "version": "3.9.13"
  },
  "orig_nbformat": 4
 },
 "nbformat": 4,
 "nbformat_minor": 2
}
