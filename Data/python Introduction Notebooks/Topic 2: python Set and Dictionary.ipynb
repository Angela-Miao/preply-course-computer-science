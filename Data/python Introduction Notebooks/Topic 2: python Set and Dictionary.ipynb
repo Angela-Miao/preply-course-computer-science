{
 "cells": [
  {
   "cell_type": "code",
   "execution_count": 1,
   "metadata": {},
   "outputs": [
    {
     "name": "stdout",
     "output_type": "stream",
     "text": [
      "<class 'set'>\n"
     ]
    }
   ],
   "source": [
    "x = {1, 2, 3, 4, 5222}\n",
    "print (type (x))\n"
   ]
  },
  {
   "cell_type": "code",
   "execution_count": 6,
   "metadata": {},
   "outputs": [
    {
     "name": "stdout",
     "output_type": "stream",
     "text": [
      "<class 'tuple'>\n"
     ]
    },
    {
     "data": {
      "text/plain": [
       "{1, 2, 3, 4, 5222}"
      ]
     },
     "execution_count": 6,
     "metadata": {},
     "output_type": "execute_result"
    }
   ],
   "source": [
    "x = (1, 2, 3, 4, 5222)\n",
    "print (type (x))\n",
    "y = set(x)\n",
    "y"
   ]
  },
  {
   "cell_type": "code",
   "execution_count": 3,
   "metadata": {},
   "outputs": [],
   "source": [
    "x = []\n",
    "p=0\n",
    "for each in range(6):\n",
    "    p+=1\n",
    "    x.insert(p,each)\n"
   ]
  },
  {
   "cell_type": "code",
   "execution_count": 4,
   "metadata": {},
   "outputs": [
    {
     "data": {
      "text/plain": [
       "[0, 1, 2, 3, 4, 5]"
      ]
     },
     "execution_count": 4,
     "metadata": {},
     "output_type": "execute_result"
    }
   ],
   "source": [
    "x"
   ]
  },
  {
   "cell_type": "code",
   "execution_count": 13,
   "metadata": {},
   "outputs": [
    {
     "name": "stdout",
     "output_type": "stream",
     "text": [
      "<class 'list'>\n",
      "apple\n"
     ]
    }
   ],
   "source": [
    "### somehow you have to change a list of fruits to set of fruits\n",
    "#### make a set of fruits and change it to tuple as you can\n",
    "x = [\"apple\", \"orange\", \"banana\", \"Kiwi\", \"blueberry\", \"grape\" ]\n",
    "print (type(x))\n",
    "print (x[0])"
   ]
  },
  {
   "cell_type": "code",
   "execution_count": 23,
   "metadata": {},
   "outputs": [
    {
     "name": "stdout",
     "output_type": "stream",
     "text": [
      "melon mango\n",
      "['banana', 'cherry', 'orange', 'kiwi', 'melon', 'mango']\n",
      "['apple', 'banana', 'cherry']\n",
      "['apple', 'cherry', 'kiwi', 'mango']\n",
      "['apple', 'orange', 'mango']\n",
      "['mango', 'melon', 'kiwi', 'orange', 'cherry', 'banana', 'apple']\n"
     ]
    }
   ],
   "source": [
    "x = [\"apple\", \"banana\", \"cherry\", \"orange\", \"kiwi\", \"melon\", \"mango\"]\n",
    "print (x[-2], x[-1])\n",
    "print(x[1:])\n",
    "print(x[:3])\n",
    "print(x[::2])\n",
    "print(x[::3])\n",
    "print(x[::-1])"
   ]
  },
  {
   "attachments": {},
   "cell_type": "markdown",
   "metadata": {},
   "source": [
    "##### slicing from index 3 to index 7"
   ]
  },
  {
   "cell_type": "code",
   "execution_count": 34,
   "metadata": {},
   "outputs": [
    {
     "name": "stdout",
     "output_type": "stream",
     "text": [
      "['banana', 'orange', 'melon']\n",
      "['apple', 'banana', 'cherry']\n"
     ]
    }
   ],
   "source": [
    "x = [\"apple\", \"banana\", \"cherry\", \"orange\", \"kiwi\", \"melon\", \"mango\"]\n",
    "# show last 2 elements\n",
    "print(x[1::2])\n",
    "## show the first 3\n",
    "print (x[0:3])"
   ]
  },
  {
   "cell_type": "code",
   "execution_count": 37,
   "metadata": {},
   "outputs": [
    {
     "name": "stdout",
     "output_type": "stream",
     "text": [
      "['fruit1', 'fruit2', 'fruit3', 'orange', 'kiwi', 'melon', 'mango']\n"
     ]
    }
   ],
   "source": [
    "x = [\"apple\", \"banana\", \"cherry\", \"orange\", \"kiwi\", \"melon\", \"mango\"]\n",
    "x[0:3] = [\"fruit1\",\"fruit2\",\"fruit3\"]\n",
    "print(x)"
   ]
  },
  {
   "cell_type": "code",
   "execution_count": 43,
   "metadata": {},
   "outputs": [
    {
     "name": "stdout",
     "output_type": "stream",
     "text": [
      "['fruit1', 'fruit2', 'fruit3', 'orange', 'fruits3l', 'fruits2l', 'fruitl']\n"
     ]
    }
   ],
   "source": [
    "#### HOMEWORK to change kiwi melon and mango with fruits3l, fruitst2l fruitk\n",
    "### change every second element of x with \"remove\"\n",
    "x = [\"apple\", \"banana\", \"cherry\", \"orange\", \"kiwi\", \"melon\", \"mango\"]\n",
    "x[0:3] = [\"fruit1\",\"fruit2\",\"fruit3\"]\n",
    "x[-3:] = [\"fruits3l\", \"fruits2l\", \"fruitl\"]\n",
    "print (x)"
   ]
  },
  {
   "cell_type": "code",
   "execution_count": 45,
   "metadata": {},
   "outputs": [],
   "source": [
    "### to remove somethiong\n",
    "del (x[0:3])"
   ]
  },
  {
   "cell_type": "code",
   "execution_count": 46,
   "metadata": {},
   "outputs": [
    {
     "name": "stdout",
     "output_type": "stream",
     "text": [
      "['orange', 'fruits3l', 'fruits2l', 'fruitl']\n"
     ]
    }
   ],
   "source": [
    "print(x)"
   ]
  },
  {
   "cell_type": "code",
   "execution_count": 47,
   "metadata": {},
   "outputs": [
    {
     "name": "stdout",
     "output_type": "stream",
     "text": [
      "['orange']\n"
     ]
    }
   ],
   "source": [
    "del (x[-3:])\n",
    "print (x)"
   ]
  },
  {
   "cell_type": "code",
   "execution_count": 48,
   "metadata": {},
   "outputs": [],
   "source": [
    "x.remove(\"orange\")\n"
   ]
  },
  {
   "cell_type": "code",
   "execution_count": 49,
   "metadata": {},
   "outputs": [
    {
     "name": "stdout",
     "output_type": "stream",
     "text": [
      "[]\n"
     ]
    }
   ],
   "source": [
    "print (x)"
   ]
  },
  {
   "cell_type": "code",
   "execution_count": 51,
   "metadata": {},
   "outputs": [],
   "source": [
    "x.append(\"apple\")"
   ]
  },
  {
   "cell_type": "code",
   "execution_count": 52,
   "metadata": {},
   "outputs": [
    {
     "name": "stdout",
     "output_type": "stream",
     "text": [
      "['apple']\n"
     ]
    }
   ],
   "source": [
    "print(x)"
   ]
  },
  {
   "cell_type": "code",
   "execution_count": 55,
   "metadata": {},
   "outputs": [],
   "source": [
    "x.insert(0,\"orange\")"
   ]
  },
  {
   "cell_type": "code",
   "execution_count": 56,
   "metadata": {},
   "outputs": [
    {
     "name": "stdout",
     "output_type": "stream",
     "text": [
      "['orange', 'orange', 'apple']\n"
     ]
    }
   ],
   "source": [
    "print(x)"
   ]
  },
  {
   "cell_type": "code",
   "execution_count": 57,
   "metadata": {},
   "outputs": [],
   "source": [
    "del x [0]"
   ]
  },
  {
   "cell_type": "code",
   "execution_count": 59,
   "metadata": {},
   "outputs": [
    {
     "name": "stdout",
     "output_type": "stream",
     "text": [
      "['orange', 'apple']\n"
     ]
    }
   ],
   "source": [
    "print (x)"
   ]
  },
  {
   "cell_type": "code",
   "execution_count": 63,
   "metadata": {},
   "outputs": [
    {
     "name": "stdout",
     "output_type": "stream",
     "text": [
      "('MrAndy', 'MrUmair', 'MrAngela')\n",
      "<class 'tuple'>\n",
      "('MrAndy', 'MrUmair')\n"
     ]
    }
   ],
   "source": [
    "x = (\"MrAndy\", \"MrUmair\", \"MrAngela\")\n",
    "print(x)\n",
    "print(type(x))\n",
    "print(x[0:2])"
   ]
  },
  {
   "cell_type": "code",
   "execution_count": 64,
   "metadata": {},
   "outputs": [
    {
     "ename": "TypeError",
     "evalue": "'tuple' object does not support item assignment",
     "output_type": "error",
     "traceback": [
      "\u001b[0;31m---------------------------------------------------------------------------\u001b[0m",
      "\u001b[0;31mTypeError\u001b[0m                                 Traceback (most recent call last)",
      "\u001b[0;32m/var/folders/l_/j699flmx6dbc1vlb90jx_hyw0000gn/T/ipykernel_84171/1968776849.py\u001b[0m in \u001b[0;36m<module>\u001b[0;34m\u001b[0m\n\u001b[0;32m----> 1\u001b[0;31m \u001b[0mx\u001b[0m\u001b[0;34m[\u001b[0m\u001b[0;36m0\u001b[0m\u001b[0;34m]\u001b[0m \u001b[0;34m=\u001b[0m \u001b[0;34m\"MrSuperAndy\"\u001b[0m\u001b[0;34m\u001b[0m\u001b[0;34m\u001b[0m\u001b[0m\n\u001b[0m",
      "\u001b[0;31mTypeError\u001b[0m: 'tuple' object does not support item assignment"
     ]
    }
   ],
   "source": [
    "x[0] = \"MrSuperAndy\""
   ]
  },
  {
   "cell_type": "code",
   "execution_count": 66,
   "metadata": {},
   "outputs": [
    {
     "name": "stdout",
     "output_type": "stream",
     "text": [
      "['MrAndy', 'MrUmair', 'MrAngela']\n"
     ]
    }
   ],
   "source": [
    "x = list(x)\n",
    "print (x)"
   ]
  },
  {
   "cell_type": "code",
   "execution_count": 68,
   "metadata": {},
   "outputs": [
    {
     "name": "stdout",
     "output_type": "stream",
     "text": [
      "['MrSuperAndy', 'MrUmair', 'MrAngela']\n"
     ]
    }
   ],
   "source": [
    "x[0] = \"MrSuperAndy\"\n",
    "print (x)"
   ]
  },
  {
   "cell_type": "code",
   "execution_count": 69,
   "metadata": {},
   "outputs": [
    {
     "name": "stdout",
     "output_type": "stream",
     "text": [
      "('MrSuperAndy', 'MrUmair', 'MrAngela')\n"
     ]
    }
   ],
   "source": [
    "x = tuple(x)\n",
    "print (x)"
   ]
  },
  {
   "cell_type": "code",
   "execution_count": 70,
   "metadata": {},
   "outputs": [],
   "source": [
    "x = {1, 2, 3, 4, 5, 6, 7, 8, 9, 10}\n",
    "\n",
    "y = {7, 8, 9, 10, 11, 12, 13, 14, 15, 16, 17}"
   ]
  },
  {
   "cell_type": "code",
   "execution_count": 72,
   "metadata": {},
   "outputs": [
    {
     "data": {
      "text/plain": [
       "{1, 2, 3, 4, 5, 6, 7, 8, 9, 10, 11, 12, 13, 14, 15, 16, 17}"
      ]
     },
     "execution_count": 72,
     "metadata": {},
     "output_type": "execute_result"
    }
   ],
   "source": [
    "x.union(y)"
   ]
  },
  {
   "cell_type": "code",
   "execution_count": 74,
   "metadata": {},
   "outputs": [
    {
     "data": {
      "text/plain": [
       "{7, 8, 9, 10}"
      ]
     },
     "execution_count": 74,
     "metadata": {},
     "output_type": "execute_result"
    }
   ],
   "source": [
    "x.intersection(y)"
   ]
  },
  {
   "cell_type": "code",
   "execution_count": 75,
   "metadata": {},
   "outputs": [
    {
     "name": "stdout",
     "output_type": "stream",
     "text": [
      "{1, 2, 4, 5}\n"
     ]
    }
   ],
   "source": [
    "x = {1,2,2,2,4,4,4,4,4,5,5,5}\n",
    "print (x)"
   ]
  },
  {
   "cell_type": "code",
   "execution_count": 78,
   "metadata": {},
   "outputs": [
    {
     "name": "stdout",
     "output_type": "stream",
     "text": [
      "{'apple', 'orange', 'mango'}\n",
      "['apple', 'orange', 'mango']\n"
     ]
    }
   ],
   "source": [
    "x = [\"apple\",\"apple\",\"orange\",\"orange\",\"orange\",\"orange\",\"mango\"]\n",
    "x = set(x)\n",
    "print (x)\n",
    "x = list(x)\n",
    "print (x)"
   ]
  },
  {
   "cell_type": "code",
   "execution_count": 80,
   "metadata": {},
   "outputs": [
    {
     "name": "stdout",
     "output_type": "stream",
     "text": [
      "{'apple', 'banana', 'orange', 'cherry'}\n"
     ]
    }
   ],
   "source": [
    "thisset = {\"apple\", \"banana\", \"cherry\"}\n",
    "\n",
    "thisset.add(\"orange\")\n",
    "\n",
    "print(thisset)"
   ]
  },
  {
   "cell_type": "code",
   "execution_count": 81,
   "metadata": {},
   "outputs": [
    {
     "name": "stdout",
     "output_type": "stream",
     "text": [
      "{'apple', 'banana', 'orange', 'cherry'}\n"
     ]
    }
   ],
   "source": [
    "thisset = {\"apple\", \"banana\", \"cherry\"}\n",
    "\n",
    "thisset.add(\"orange\")\n",
    "\n",
    "print(thisset)"
   ]
  },
  {
   "cell_type": "code",
   "execution_count": 82,
   "metadata": {},
   "outputs": [
    {
     "name": "stdout",
     "output_type": "stream",
     "text": [
      "{'apple', 'banana', 'orange', 'cherry'}\n"
     ]
    }
   ],
   "source": [
    "thisset = {\"apple\", \"banana\", \"cherry\"}\n",
    "\n",
    "thisset.add(\"orange\")\n",
    "\n",
    "print(thisset)"
   ]
  },
  {
   "cell_type": "code",
   "execution_count": 83,
   "metadata": {},
   "outputs": [
    {
     "name": "stdout",
     "output_type": "stream",
     "text": [
      "{'apple', 'banana', 'orange', 'cherry'}\n"
     ]
    }
   ],
   "source": [
    "thisset = {\"apple\", \"banana\", \"cherry\"}\n",
    "\n",
    "thisset.add(\"orange\")\n",
    "\n",
    "print(thisset)"
   ]
  },
  {
   "cell_type": "code",
   "execution_count": 90,
   "metadata": {},
   "outputs": [
    {
     "name": "stdout",
     "output_type": "stream",
     "text": [
      "{'melon', 'apple', 'banana', 'orange', 'mango', 'watermelon', 'grape', 'peach'}\n"
     ]
    }
   ],
   "source": [
    "###HOMEWORK\n",
    "### make a list of fruits and find unique vlaues then add new fruit to it and then remove the first elemen\n",
    "x = [\"apple\", \"orange\", \"apple\",\"banana\", \"banana\", \"mango\", \"peach\", \"peach\",\"peach\",\"peach\",\"peach\",\"peach\",\"peach\",\"peach\",\"peach\",\"peach\",\"peach\",\"peach\",\"peach\",\"peach\",\"peach\", \"melon\", \"watermelon\", \"grape\"]\n",
    "x = set(x)\n",
    "print (x)"
   ]
  },
  {
   "cell_type": "code",
   "execution_count": 91,
   "metadata": {},
   "outputs": [
    {
     "name": "stdout",
     "output_type": "stream",
     "text": [
      "apple\n"
     ]
    }
   ],
   "source": [
    "x = [\"apple\", \"orange\", \"banana\"]\n",
    "print (x[0])"
   ]
  },
  {
   "cell_type": "code",
   "execution_count": 95,
   "metadata": {},
   "outputs": [
    {
     "name": "stdout",
     "output_type": "stream",
     "text": [
      "banana\n"
     ]
    }
   ],
   "source": [
    "x = {0:\"apple\",2: \"orange\", 100:\"banana\"}\n",
    "print(x[100])"
   ]
  },
  {
   "cell_type": "code",
   "execution_count": 109,
   "metadata": {},
   "outputs": [
    {
     "data": {
      "text/plain": [
       "'orange'"
      ]
     },
     "execution_count": 109,
     "metadata": {},
     "output_type": "execute_result"
    }
   ],
   "source": [
    "x = {7:\"apple\",\"flower\":\"orange\", 0.2:\"banana\"}\n",
    "x.get(\"flower\",\"not found\")"
   ]
  },
  {
   "cell_type": "code",
   "execution_count": 111,
   "metadata": {},
   "outputs": [
    {
     "data": {
      "text/plain": [
       "'Red'"
      ]
     },
     "execution_count": 111,
     "metadata": {},
     "output_type": "execute_result"
    }
   ],
   "source": [
    "### make a dictionary of 3 colors and fruits\n",
    "x = {\"watermelon\" : \"Red\", \"orange\" : \"orange\", \"banana\": \"yellow\"}\n",
    "x.get(\"watermelon\")"
   ]
  },
  {
   "cell_type": "code",
   "execution_count": 119,
   "metadata": {},
   "outputs": [
    {
     "name": "stdout",
     "output_type": "stream",
     "text": [
      "{'Japan': '+81', 'Hong Kong': '+85'}\n",
      "{'Japan': '+81', 'Hong Kong': '+85', 'USA': 'Pakistan', 'China': '+16'}\n"
     ]
    }
   ],
   "source": [
    "### contry codes: Japan: +81, Hong Kong: +85, USA: +1\n",
    "x = {\"USA\" : \"+1\", \"Japan\" : \"+81\", \"Hong Kong\" : \"+85\"}\n",
    "del x[\"USA\"]\n",
    "print (x)\n",
    "x[\"USA\"] = \"Pakistan\"\n",
    "x[\"China\"] = \"+16\"\n",
    "print (x)"
   ]
  },
  {
   "cell_type": "code",
   "execution_count": 126,
   "metadata": {},
   "outputs": [
    {
     "data": {
      "text/plain": [
       "1"
      ]
     },
     "execution_count": 126,
     "metadata": {},
     "output_type": "execute_result"
    }
   ],
   "source": [
    "10 % 3"
   ]
  },
  {
   "cell_type": "code",
   "execution_count": 125,
   "metadata": {},
   "outputs": [
    {
     "data": {
      "text/plain": [
       "3"
      ]
     },
     "execution_count": 125,
     "metadata": {},
     "output_type": "execute_result"
    }
   ],
   "source": [
    "10//3"
   ]
  },
  {
   "cell_type": "code",
   "execution_count": 139,
   "metadata": {},
   "outputs": [
    {
     "data": {
      "text/plain": [
       "False"
      ]
     },
     "execution_count": 139,
     "metadata": {},
     "output_type": "execute_result"
    }
   ],
   "source": [
    "2000000000000000000000000 < 1999999999999999999999"
   ]
  },
  {
   "cell_type": "code",
   "execution_count": 143,
   "metadata": {},
   "outputs": [
    {
     "name": "stdout",
     "output_type": "stream",
     "text": [
      "else is working\n"
     ]
    }
   ],
   "source": [
    "if False:\n",
    "    print(\"if is working now\") \n",
    "else:\n",
    "    print(\"else is working\")"
   ]
  },
  {
   "cell_type": "code",
   "execution_count": 147,
   "metadata": {},
   "outputs": [
    {
     "data": {
      "text/plain": [
       "False"
      ]
     },
     "execution_count": 147,
     "metadata": {},
     "output_type": "execute_result"
    }
   ],
   "source": [
    "x = 200\n",
    "y = 1\n",
    "\n",
    "x <y"
   ]
  },
  {
   "cell_type": "code",
   "execution_count": 148,
   "metadata": {},
   "outputs": [
    {
     "name": "stdout",
     "output_type": "stream",
     "text": [
      "y is small\n"
     ]
    }
   ],
   "source": [
    "if x<y:\n",
    "    print(\"x is small\")\n",
    "else:\n",
    "    print(\"y is small\")"
   ]
  },
  {
   "cell_type": "code",
   "execution_count": 150,
   "metadata": {},
   "outputs": [
    {
     "name": "stdout",
     "output_type": "stream",
     "text": [
      "You are a failure\n"
     ]
    }
   ],
   "source": [
    "marks = 51\n",
    "## if mark \n",
    "mark = 20\n",
    "if mark > 50:\n",
    "    print (\"You passed\")\n",
    "if mark < 50: \n",
    "    print (\"You are a failure\")\n"
   ]
  },
  {
   "cell_type": "markdown",
   "metadata": {},
   "source": []
  },
  {
   "cell_type": "code",
   "execution_count": 151,
   "metadata": {},
   "outputs": [],
   "source": [
    "# make a dictionary of vegetable and shape\n",
    "# if temperater of room is more than 30 then turn on fan"
   ]
  },
  {
   "cell_type": "code",
   "execution_count": 160,
   "metadata": {},
   "outputs": [
    {
     "name": "stdout",
     "output_type": "stream",
     "text": [
      "{'pointy': 'carrot'}\n"
     ]
    }
   ],
   "source": [
    "x = {\"round\" : \"potato\" , \"pointy\" : \"carrot\" }\n",
    "del (x[\"round\"])\n",
    "print(x)"
   ]
  },
  {
   "cell_type": "code",
   "execution_count": 155,
   "metadata": {},
   "outputs": [
    {
     "name": "stdout",
     "output_type": "stream",
     "text": [
      "turn off fan\n"
     ]
    }
   ],
   "source": [
    "temperature = float(input(\"what is your room temperature:\"))\n",
    "if temperature > 30:\n",
    "    print(\"turn on fan\")\n",
    "if temperature < 30:\n",
    "    print(\"turn off fan\")"
   ]
  },
  {
   "cell_type": "code",
   "execution_count": 3,
   "metadata": {},
   "outputs": [
    {
     "name": "stdout",
     "output_type": "stream",
     "text": [
      "['apple', 'orange', 'banana']\n",
      "['yum', 'yuck', 'best']\n"
     ]
    }
   ],
   "source": [
    "# make a dictionary of color andd fruits\n",
    "## make list of colors from dictionary using d.keys()\n",
    "## make a list of fruits from dictionary using d.values()\n",
    "d = {\"apple\":\"yum\", \"orange\":\"yuck\", \"banana\":\"best\"}\n",
    "print (list(d.keys()))\n",
    "print(list(d.values()))"
   ]
  },
  {
   "cell_type": "code",
   "execution_count": null,
   "metadata": {},
   "outputs": [],
   "source": [
    "### revise as i can take your test from topic 1 and topic 3"
   ]
  },
  {
   "cell_type": "code",
   "execution_count": 2,
   "metadata": {},
   "outputs": [],
   "source": [
    "##Print value 1\n",
    "nested_dict = {\n",
    "    'key1': 'value1',\n",
    "    'key2': {\n",
    "        'nested_key1': ['hello', 'world'],\n",
    "        'nested_key2': {\n",
    "            'nested_list': ['hello'],\n",
    "            'nested_key3': 'value3'\n",
    "        }\n",
    "    },\n",
    "    'key3': ['hello', 'hello', 'hello']\n",
    "}\n"
   ]
  },
  {
   "cell_type": "code",
   "execution_count": 8,
   "metadata": {},
   "outputs": [
    {
     "name": "stdout",
     "output_type": "stream",
     "text": [
      "value3\n"
     ]
    }
   ],
   "source": [
    "print(nested_dict['key2']['nested_key2']['nested_key3'])"
   ]
  },
  {
   "cell_type": "code",
   "execution_count": 14,
   "metadata": {},
   "outputs": [
    {
     "name": "stdout",
     "output_type": "stream",
     "text": [
      "red\n"
     ]
    }
   ],
   "source": [
    "aba = {\"apple\":\"red\", \"orange\":\"orange\",\"banana\":\"yellow\"}\n",
    "print (aba[\"apple\"])"
   ]
  },
  {
   "cell_type": "code",
   "execution_count": 19,
   "metadata": {},
   "outputs": [
    {
     "name": "stdout",
     "output_type": "stream",
     "text": [
      "orange\n"
     ]
    }
   ],
   "source": [
    "x = {\"apple\":[\"mango\",\"orange\"]}\n",
    "# print orange from x\n",
    "print (x[\"apple\"][1])\n"
   ]
  },
  {
   "cell_type": "code",
   "execution_count": 25,
   "metadata": {},
   "outputs": [
    {
     "name": "stdout",
     "output_type": "stream",
     "text": [
      "<class 'dict'>\n",
      "1million\n"
     ]
    }
   ],
   "source": [
    "y = {\"angela\" : [\"week2\",\"week3\"],\n",
    "    \"andy\" : [5,6,4,3,\"1million\"]}\n",
    "print(type(y))\n",
    "\n",
    "print (y[\"andy\"][-1])"
   ]
  },
  {
   "cell_type": "code",
   "execution_count": 28,
   "metadata": {},
   "outputs": [
    {
     "name": "stdout",
     "output_type": "stream",
     "text": [
      "yellow\n"
     ]
    }
   ],
   "source": [
    "x = [{\"apple\":\"red\"}   ,  {\"orange\":\"orange\" , \"mango\":\"yellow\"}    ]\n",
    "print (x[1][\"mango\"])"
   ]
  },
  {
   "cell_type": "code",
   "execution_count": 36,
   "metadata": {},
   "outputs": [
    {
     "name": "stdout",
     "output_type": "stream",
     "text": [
      "Tokyo\n",
      "Yokohama\n",
      "Fukuoka\n",
      "Kobe\n",
      "Sendai\n",
      "Tokyo2\n",
      "Yokohama2\n",
      "Fukuoka2\n",
      "Kobe2\n",
      "Sendai2\n",
      "Tokyo3\n",
      "Yokohama3\n",
      "Fukuoka3\n",
      "Kobe3\n",
      "Sendai3\n"
     ]
    }
   ],
   "source": [
    "Apple = {\n",
    "    'Tokyo': 7.9,\n",
    "    'Osaka': 6.5,\n",
    "    'Yokohama': 7.2,\n",
    "    'Nagoya': 6.8,\n",
    "    'Sapporo': 6.4,\n",
    "    'Fukuoka': 7.1,\n",
    "    'Kobe': 7.5,\n",
    "    'Kyoto': 6.2,\n",
    "    'Hiroshima': 6.6,\n",
    "    'Sendai': 7.3,\n",
    "    'Tokyo2': 7.9,\n",
    "    'Osaka2': 6.5,\n",
    "    'Yokohama2': 7.2,\n",
    "    'Nagoya2': 6.8,\n",
    "    'Sapporo2': 6.4,\n",
    "    'Fukuoka2': 7.1,\n",
    "    'Kobe2': 7.5,\n",
    "    'Kyoto2': 6.2,\n",
    "    'Hiroshima2': 6.6,\n",
    "    'Sendai2': 7.3,\n",
    "    'Tokyo3': 7.9,\n",
    "    'Osaka3': 6.5,\n",
    "    'Yokohama3': 7.2,\n",
    "    'Nagoya3': 6.8,\n",
    "    'Sapporo3': 6.4,\n",
    "    'Fukuoka3': 7.1,\n",
    "    'Kobe3': 7.5,\n",
    "    'Kyoto3': 6.2,\n",
    "    'Hiroshima3': 6.6,\n",
    "    'Sendai3': 7.3\n",
    "}\n",
    "for each in Apple:\n",
    "    if Apple[each] > 7:\n",
    "        print(each)"
   ]
  },
  {
   "cell_type": "code",
   "execution_count": 40,
   "metadata": {},
   "outputs": [
    {
     "name": "stdout",
     "output_type": "stream",
     "text": [
      "7.9 Tokyo\n",
      "7.1 Fukuoka\n",
      "7.9 Tokyo2\n",
      "7.1 Fukuoka2\n",
      "7.9 Tokyo3\n",
      "7.1 Fukuoka3\n"
     ]
    }
   ],
   "source": [
    "## tell tokyo rating and Fukuoka ratings \n",
    "for a,b in Apple.items():\n",
    "    if \"Tokyo\" in a:\n",
    "        print(b,a)\n",
    "    if \"Fukuoka\" in a:\n",
    "        print(b,a)"
   ]
  },
  {
   "cell_type": "code",
   "execution_count": null,
   "metadata": {},
   "outputs": [],
   "source": []
  }
 ],
 "metadata": {
  "kernelspec": {
   "display_name": "base",
   "language": "python",
   "name": "python3"
  },
  "language_info": {
   "codemirror_mode": {
    "name": "ipython",
    "version": 3
   },
   "file_extension": ".py",
   "mimetype": "text/x-python",
   "name": "python",
   "nbconvert_exporter": "python",
   "pygments_lexer": "ipython3",
   "version": "3.9.13"
  },
  "orig_nbformat": 4
 },
 "nbformat": 4,
 "nbformat_minor": 2
}
