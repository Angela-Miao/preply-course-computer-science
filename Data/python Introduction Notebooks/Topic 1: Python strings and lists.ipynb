{
 "cells": [
  {
   "cell_type": "code",
   "execution_count": 5,
   "metadata": {},
   "outputs": [
    {
     "name": "stdout",
     "output_type": "stream",
     "text": [
      "My name is Angela and my brother's name is Mr. Andy\n",
      "my name is Angela and my brother's name is Mr. Andy\n",
      "my name is Angela and my brother's name is Mr. Andy\n"
     ]
    }
   ],
   "source": [
    "x = \"Angela\"\n",
    "y = \"Mr. Andy\"\n",
    "z = \"Miao\"\n",
    "a = \"Gu\"\n",
    "print (\"My name is \" + x, \"and my brother's name is \" + y)\n",
    "print(f\"my name is {x} and my brother's name is {y}\")\n",
    "print(\"my name is {} and my brother's name is {}\".format(x,y))\n"
   ]
  },
  {
   "cell_type": "code",
   "execution_count": 7,
   "metadata": {},
   "outputs": [
    {
     "name": "stdout",
     "output_type": "stream",
     "text": [
      "my name is ('Angela', 'Miao') and my brother's name is ('Mr. Andy', 'Miao')\n"
     ]
    }
   ],
   "source": [
    "print (f\"my name is {x, z} and my brother's name is {y, z}\")"
   ]
  },
  {
   "cell_type": "code",
   "execution_count": 9,
   "metadata": {},
   "outputs": [],
   "source": [
    "w = \"www.instagram.com\"\n",
    "y = \"Mr.Andy123\"\n",
    "z = \"Mr.Andy123_Sister\""
   ]
  },
  {
   "cell_type": "code",
   "execution_count": 13,
   "metadata": {},
   "outputs": [
    {
     "name": "stdout",
     "output_type": "stream",
     "text": [
      "www.instagram.com/Mr.Andy123\n",
      "www.instagram.com/Mr.Andy123_Sister\n"
     ]
    }
   ],
   "source": [
    "print(f\"{w}/{y}\")\n",
    "print(f\"{w}/{z}\")"
   ]
  },
  {
   "cell_type": "code",
   "execution_count": 18,
   "metadata": {},
   "outputs": [],
   "source": [
    "_w  = \" abvc ghvgv gvgvx gyvgzvh gvgvhgv eeumairali@gmail.com shdashdsajh I_love_Mr.Andy\""
   ]
  },
  {
   "attachments": {},
   "cell_type": "markdown",
   "metadata": {},
   "source": [
    "#### function of string\n",
    "_w.split()"
   ]
  },
  {
   "cell_type": "code",
   "execution_count": 21,
   "metadata": {},
   "outputs": [
    {
     "data": {
      "text/plain": [
       "['',\n",
       " 'abvc',\n",
       " 'ghvgv',\n",
       " 'gvgvx',\n",
       " 'gyvgzvh',\n",
       " 'gvgvhgv',\n",
       " 'eeumairali@gmail.com',\n",
       " 'shdashdsajh',\n",
       " 'I_love_Mr.Andy']"
      ]
     },
     "execution_count": 21,
     "metadata": {},
     "output_type": "execute_result"
    }
   ],
   "source": [
    "lw = _w.split(\" \")\n",
    "lw"
   ]
  },
  {
   "cell_type": "code",
   "execution_count": 27,
   "metadata": {},
   "outputs": [
    {
     "name": "stdout",
     "output_type": "stream",
     "text": [
      " the useful information is: eeumairali@gmail.com and I_love_Mr.Andy\n"
     ]
    }
   ],
   "source": [
    "#from lw list can you print eeumairali and ilovestuff using indexing\n",
    "lw = _w.split(\" \")\n",
    "lw[6]\n",
    "lw[-1]\n",
    "print (f\" the useful information is: {lw[6]} and {lw[-1]}\")"
   ]
  },
  {
   "attachments": {},
   "cell_type": "markdown",
   "metadata": {},
   "source": [
    "### our machine is giving us DNA sequnnce in pattern ABCSDS like this\n",
    "### but it is not clearned data...\n",
    "### data always appears as\n",
    "#### \"\"\" xyz sadasd sadasdare sadf ABCDAAAABBBBBB sdasdasdasda\n",
    "#### \"\"\" xyz sadasd sdsds sadf ABCDAAAABBBBBB sdasdasdasda\n",
    "#### \"\"\" xyz sadasd sadadasdssdare sadf ABCDAAAABBBBBB sdasdasdasda\n"
   ]
  },
  {
   "cell_type": "code",
   "execution_count": 32,
   "metadata": {},
   "outputs": [
    {
     "name": "stdout",
     "output_type": "stream",
     "text": [
      "ABCDAAAABBBBBB\n",
      "ABCDAAAABBBBBB\n",
      "ABSDSAD\n"
     ]
    }
   ],
   "source": [
    "x = \"xyz sadasd sadasdare sadf ABCDAAAABBBBBB sdasdasdasda\"\n",
    "y = \"xyz sadasd sdsds sadf ABCDAAAABBBBBB sdasdasdasda\"\n",
    "z = \"xyz sadasd sadadasdssdare sadf ABSDSAD sdasdasdasda\"\n",
    "### collect useful inforomation from x y and z \n",
    "lx = x.split(\" \")\n",
    "ly = y.split(\" \")\n",
    "lz = z.split(\" \")\n",
    "print (lx[-2])\n",
    "print (ly[-2])\n",
    "print (lz[-2])\n",
    "\n",
    "\n",
    "\n",
    "\n",
    "\n",
    "\n"
   ]
  },
  {
   "cell_type": "code",
   "execution_count": 51,
   "metadata": {},
   "outputs": [
    {
     "name": "stdout",
     "output_type": "stream",
     "text": [
      "results:IMPROVED\n",
      "termperature:103\n",
      "results:IMPROVED results are test one and termperature:103 results are test two\n",
      "i tested my patient and i got the results. his/her blood test shows results:IMPROVED and i tested his/her temperature and it was termperature:103\n"
     ]
    }
   ],
   "source": [
    "# one take blood test\n",
    "# second take tempreture test\n",
    "\n",
    "x = \" hello this report is being genrated and your results:IMPROVED keep on eating healthy\"\n",
    "y = \"hi your temperature reported is generated and your termperature:103 so eat medicine\"\n",
    "\n",
    "# find results good or bad\n",
    "# from raw file find how much temperature \n",
    "lx = x.split(\" \")\n",
    "ly = y.split(\" \")\n",
    "print(lx[-5])\n",
    "print(ly[-4])\n",
    "print(f\"{lx[-5]} results are test one and {ly[-4]} results are test two\")\n",
    "\n",
    "\n",
    "print(f\"i tested my patient and i got the results. his/her blood test shows {lx[-5]} and i tested his/her temperature and it was {ly[-4]}\")"
   ]
  },
  {
   "cell_type": "code",
   "execution_count": 2,
   "metadata": {},
   "outputs": [
    {
     "name": "stdout",
     "output_type": "stream",
     "text": [
      "I tested every student, and here is their score: student 1 got 77, and student 2 got 78, and student 3 got 55, and student 4 got 100, and student 5 got 192\n"
     ]
    }
   ],
   "source": [
    "x  = [\"student 1\",\"student 2\",\"student 3\",\"student 4\",\"student 5\"]\n",
    "y = [77,78,55,100,192]\n",
    "print(f\"I tested every student, and here is their score: {x[0]} got {y[0]}, and {x[1]} got {y[1]}, and {x[2]} got {y[2]}, and {x[3]} got {y[3]}, and {x[4]} got {y[4]}\")"
   ]
  },
  {
   "cell_type": "code",
   "execution_count": 15,
   "metadata": {},
   "outputs": [
    {
     "name": "stdout",
     "output_type": "stream",
     "text": [
      "<class 'int'> <class 'float'> <class 'str'> <class 'bool'>\n"
     ]
    }
   ],
   "source": [
    "### list is a data structure to store a lot of information\n",
    "x = [2, 1.28, \"Mr Andy\", True]\n",
    "print(type  (     x[0]      ),type ( x[1] ),type ( x[2] ),type ( x[3]   ) )\n",
    "\"\"\"i have stored\n",
    " multiple data \n",
    " types into single \n",
    " data structures\"\"\""
   ]
  },
  {
   "cell_type": "code",
   "execution_count": 7,
   "metadata": {},
   "outputs": [
    {
     "name": "stdout",
     "output_type": "stream",
     "text": [
      "I have a problem with the food here because i can't find it\n"
     ]
    }
   ],
   "source": [
    "print (\"I have a problem with the food here because i can't find it\")"
   ]
  },
  {
   "cell_type": "code",
   "execution_count": 16,
   "metadata": {},
   "outputs": [
    {
     "name": "stdout",
     "output_type": "stream",
     "text": [
      "['apple', 'leachee', 'banana', 'yellow', 'green']\n"
     ]
    }
   ],
   "source": [
    "fru=[\"apple\", \"leachee\",\"banana\"]\n",
    "col=[\"yellow\",\"green\"]\n",
    "l=[]\n",
    "l.extend(fru)\n",
    "l.extend(col)\n",
    "print(l)"
   ]
  },
  {
   "cell_type": "code",
   "execution_count": 19,
   "metadata": {},
   "outputs": [
    {
     "name": "stdout",
     "output_type": "stream",
     "text": [
      "[['apple', 'leachee', 'banana'], ['yellow', 'green']]\n"
     ]
    }
   ],
   "source": [
    "fru=[\"apple\", \"leachee\",\"banana\"]\n",
    "col=[\"yellow\",\"green\"]\n",
    "\n",
    "new=[fru,col]\n",
    "print(new)"
   ]
  },
  {
   "cell_type": "code",
   "execution_count": 24,
   "metadata": {},
   "outputs": [
    {
     "name": "stdout",
     "output_type": "stream",
     "text": [
      "[['apple', 'leachee', 'banana'], ['yellow', 'red']]\n"
     ]
    }
   ],
   "source": [
    "new[1][1]= \"Andy is Mr Andy\"\n",
    "print(new)"
   ]
  },
  {
   "cell_type": "code",
   "execution_count": 28,
   "metadata": {},
   "outputs": [
    {
     "name": "stdout",
     "output_type": "stream",
     "text": [
      "Mr.Andy\n"
     ]
    }
   ],
   "source": [
    "x = [1,2,[\"apple\",\"Mr.Andy\",100]]\n",
    "\n",
    "print(x[2][1])"
   ]
  },
  {
   "cell_type": "code",
   "execution_count": 1,
   "metadata": {},
   "outputs": [],
   "source": [
    "y = [[5,2,3,[\"apple mango Mrandy haha\"]]]\n",
    "y=y[0][3][0].split(\" \")\n",
    "for each in range(10000):\n",
    "    print(y[2]*10000)"
   ]
  },
  {
   "cell_type": "code",
   "execution_count": null,
   "metadata": {},
   "outputs": [],
   "source": [
    "#### list of strings\n",
    "banana = [\"a\",\"b\",c,d,e,f,g]\n",
    "a = banana\n",
    "b = notbanana"
   ]
  },
  {
   "cell_type": "code",
   "execution_count": 1,
   "metadata": {},
   "outputs": [
    {
     "name": "stdout",
     "output_type": "stream",
     "text": [
      "['Andy', 'is', '100', 'times', 'smarter', 'than', 'einstein']\n"
     ]
    }
   ],
   "source": [
    "## write a sentence in string and then make a list of words from that. (hint split)\n",
    "b =\"Andy is 100 times smarter than einstein\"\n",
    "y = b.split ( )\n",
    "print (y)"
   ]
  },
  {
   "cell_type": "code",
   "execution_count": 4,
   "metadata": {},
   "outputs": [
    {
     "name": "stdout",
     "output_type": "stream",
     "text": [
      "Andy einstein\n"
     ]
    }
   ],
   "source": [
    "print (y[0], y[-1])"
   ]
  },
  {
   "cell_type": "code",
   "execution_count": 14,
   "metadata": {},
   "outputs": [
    {
     "data": {
      "text/plain": [
       "'Angela is 100 times smarter than newton'"
      ]
     },
     "execution_count": 14,
     "metadata": {},
     "output_type": "execute_result"
    }
   ],
   "source": [
    "### from string b repalce Andy with Agnela and then repalce Einstein with Newton\n",
    "b =\"Andy is 100 times smarter than einstein\"\n",
    "b = b.replace(\"Andy\",\"Angela\")\n",
    "b = b.replace(\"einstein\",\"newton\")\n",
    "b"
   ]
  },
  {
   "cell_type": "code",
   "execution_count": 19,
   "metadata": {},
   "outputs": [
    {
     "data": {
      "text/plain": [
       "'Angela is best at python and dont ever make a mistake to complete with Dr. Engr. Scientist Angela'"
      ]
     },
     "execution_count": 19,
     "metadata": {},
     "output_type": "execute_result"
    }
   ],
   "source": [
    "c = \"Andy is Master of python and dont ever make a mistake to complete with Dr. Engr. Scientist Andy\"\n",
    "c = c.replace (\"Andy\",\"Angela\")\n",
    "c = c.replace (\"Master\", \"best\")\n",
    "c = c.replace (\"of\", \"at\")\n",
    "c"
   ]
  },
  {
   "cell_type": "code",
   "execution_count": 21,
   "metadata": {},
   "outputs": [
    {
     "name": "stdout",
     "output_type": "stream",
     "text": [
      "Angela is working on making pie\n"
     ]
    }
   ],
   "source": [
    "d = \"andy is working on making robots\"\n",
    "# angela is working on making pie\n",
    "d = d.replace (\"andy\",\"Angela\")\n",
    "d = d.replace (\"robots\",\"pie\")\n",
    "print (d)\n"
   ]
  },
  {
   "cell_type": "code",
   "execution_count": 24,
   "metadata": {},
   "outputs": [
    {
     "name": "stdout",
     "output_type": "stream",
     "text": [
      "ANDY IS A BOY AND ANGELA IS A GIRL.\n"
     ]
    }
   ],
   "source": [
    "x = \"andy is a boy and angela is a girl.\"\n",
    "print (x.upper())"
   ]
  },
  {
   "cell_type": "code",
   "execution_count": 31,
   "metadata": {},
   "outputs": [
    {
     "name": "stdout",
     "output_type": "stream",
     "text": [
      "{'mango', 'banana', 'orange', 'apple'}\n"
     ]
    }
   ],
   "source": [
    "y = \"apple mango orange banana\"\n",
    "## make set out of it,,,\n",
    "y = y.split()\n",
    "print (set(y))\n"
   ]
  },
  {
   "cell_type": "code",
   "execution_count": 33,
   "metadata": {},
   "outputs": [
    {
     "name": "stdout",
     "output_type": "stream",
     "text": [
      "Hello Its Me\n"
     ]
    }
   ],
   "source": [
    "o = \"helLo its me\"\n",
    "print (o.title())"
   ]
  },
  {
   "cell_type": "code",
   "execution_count": 34,
   "metadata": {},
   "outputs": [
    {
     "name": "stdout",
     "output_type": "stream",
     "text": [
      "a\n",
      "b\n",
      "c\n",
      "d\n",
      "e\n",
      "f\n",
      "g\n",
      "h\n",
      "i\n",
      "j\n",
      "k\n",
      "l\n",
      "m\n",
      "n\n",
      "o\n",
      "p\n",
      "q\n",
      "r\n",
      "s\n",
      "t\n",
      "u\n",
      "v\n",
      "w\n",
      "x\n",
      "y\n",
      "z\n"
     ]
    }
   ],
   "source": [
    "x = \"abcdefghijklmnopqrstuvwxyz\"\n",
    "## apply far loop on x\n",
    "for each in x:\n",
    "    print (each)"
   ]
  },
  {
   "cell_type": "code",
   "execution_count": 35,
   "metadata": {},
   "outputs": [
    {
     "name": "stdout",
     "output_type": "stream",
     "text": [
      "a\n",
      "n\n",
      "d\n",
      "y\n",
      " \n",
      "a\n",
      "n\n",
      "d\n",
      " \n",
      "a\n",
      "n\n",
      "g\n",
      "e\n",
      "l\n",
      "a\n"
     ]
    }
   ],
   "source": [
    "x = \"andy and angela\"\n",
    "for each in x:\n",
    "    print (each)"
   ]
  },
  {
   "cell_type": "code",
   "execution_count": 37,
   "metadata": {},
   "outputs": [
    {
     "name": "stdout",
     "output_type": "stream",
     "text": [
      "apple\n",
      "a\n",
      "p\n",
      "p\n",
      "l\n",
      "e\n",
      "banana\n",
      "b\n",
      "a\n",
      "n\n",
      "a\n",
      "n\n",
      "a\n",
      "kiwi\n",
      "k\n",
      "i\n",
      "w\n",
      "i\n"
     ]
    }
   ],
   "source": [
    "x = [\"apple\", \"banana\", \"kiwi\"]\n",
    "for each in x:\n",
    "    print (each)\n",
    "    for each2 in each:\n",
    "        print(each2)"
   ]
  },
  {
   "cell_type": "code",
   "execution_count": 38,
   "metadata": {},
   "outputs": [
    {
     "name": "stdout",
     "output_type": "stream",
     "text": [
      "ANGELA AND ANDY\n"
     ]
    }
   ],
   "source": [
    "x =  \"angela and andy\"\n",
    "## please make it upper case\n",
    "\n",
    "print (x.upper())"
   ]
  },
  {
   "cell_type": "code",
   "execution_count": 39,
   "metadata": {},
   "outputs": [
    {
     "name": "stdout",
     "output_type": "stream",
     "text": [
      " andy and angela\n"
     ]
    }
   ],
   "source": [
    "x = \" ANDY AND ANGELA\"\n",
    "print (x.lower())\n"
   ]
  },
  {
   "cell_type": "code",
   "execution_count": 40,
   "metadata": {},
   "outputs": [
    {
     "name": "stdout",
     "output_type": "stream",
     "text": [
      " Andy And Angela\n"
     ]
    }
   ],
   "source": [
    "x = \" ANDY AND ANGELA\"\n",
    "print (x.title())"
   ]
  },
  {
   "cell_type": "code",
   "execution_count": 44,
   "metadata": {},
   "outputs": [
    {
     "data": {
      "text/plain": [
       "['apple', 'mango', 'orange', 'and', 'banana']"
      ]
     },
     "execution_count": 44,
     "metadata": {},
     "output_type": "execute_result"
    }
   ],
   "source": [
    "x = \"apple mango orange and banana\"\n",
    "## make a list of it\n",
    "# delete and from list \n",
    "## covert list to tuple\n",
    "## convert tuple to set\n",
    "x = x.split()\n",
    "x"
   ]
  },
  {
   "cell_type": "code",
   "execution_count": 45,
   "metadata": {},
   "outputs": [
    {
     "data": {
      "text/plain": [
       "['apple', 'mango', 'orange', 'banana']"
      ]
     },
     "execution_count": 45,
     "metadata": {},
     "output_type": "execute_result"
    }
   ],
   "source": [
    "del (x[-2])\n",
    "x"
   ]
  },
  {
   "cell_type": "code",
   "execution_count": 48,
   "metadata": {},
   "outputs": [
    {
     "data": {
      "text/plain": [
       "('apple', 'mango', 'orange', 'banana')"
      ]
     },
     "execution_count": 48,
     "metadata": {},
     "output_type": "execute_result"
    }
   ],
   "source": [
    "x = tuple(x)\n",
    "x"
   ]
  },
  {
   "cell_type": "code",
   "execution_count": 50,
   "metadata": {},
   "outputs": [
    {
     "data": {
      "text/plain": [
       "{'apple', 'banana', 'mango', 'orange'}"
      ]
     },
     "execution_count": 50,
     "metadata": {},
     "output_type": "execute_result"
    }
   ],
   "source": [
    "x = set(x)\n",
    "x"
   ]
  },
  {
   "cell_type": "code",
   "execution_count": 1,
   "metadata": {},
   "outputs": [
    {
     "name": "stdout",
     "output_type": "stream",
     "text": [
      "world\n"
     ]
    }
   ],
   "source": [
    "nested_list = [[1, 2, [3, 4, ['hello']], 5], [6, 7, 8, 9, ['hello', 'world']], [10, [11, 'hello', 12]]]\n",
    "print (\"world\")"
   ]
  },
  {
   "cell_type": "code",
   "execution_count": 9,
   "metadata": {},
   "outputs": [
    {
     "name": "stdout",
     "output_type": "stream",
     "text": [
      "world\n"
     ]
    }
   ],
   "source": [
    "print (nested_list[1][4][1])"
   ]
  },
  {
   "cell_type": "code",
   "execution_count": 12,
   "metadata": {},
   "outputs": [
    {
     "name": "stdout",
     "output_type": "stream",
     "text": [
      "[10, 20, 30]\n"
     ]
    }
   ],
   "source": [
    "x = [\"10\",\"20\",\"30\"]\n",
    "y = []\n",
    "y.append(  int(x[0] ) )\n",
    "y.append( int(x[1] ) )\n",
    "y.append( int(x[2] ) )\n",
    "print(y)"
   ]
  },
  {
   "cell_type": "code",
   "execution_count": 14,
   "metadata": {},
   "outputs": [
    {
     "name": "stdout",
     "output_type": "stream",
     "text": [
      "[10, 20, 30, 40, 50, 60, 70, 80, 90, 100]\n"
     ]
    }
   ],
   "source": [
    "x = [\"10\",\"20\",\"30\",\"40\",\"50\",\"60\",\"70\",\"80\",\"90\",\"100\"]\n",
    "y = []\n",
    "for each in x:\n",
    "    y.append(int(each))\n",
    "print (y)"
   ]
  },
  {
   "cell_type": "code",
   "execution_count": 18,
   "metadata": {},
   "outputs": [
    {
     "data": {
      "text/plain": [
       "'angela is a good girl and she is hardworking.'"
      ]
     },
     "execution_count": 18,
     "metadata": {},
     "output_type": "execute_result"
    }
   ],
   "source": [
    "x = \"andy is a good boy and he is hardworking.\"\n",
    "x = x.replace(\"andy\",\"angela\")\n",
    "x = x.replace(\"boy\",\"girl\")\n",
    "x = x.replace(\"he\",\"she\")\n",
    "x"
   ]
  },
  {
   "cell_type": "code",
   "execution_count": 19,
   "metadata": {},
   "outputs": [
    {
     "data": {
      "text/plain": [
       "1"
      ]
     },
     "execution_count": 19,
     "metadata": {},
     "output_type": "execute_result"
    }
   ],
   "source": [
    "x = 10 \n",
    "print()"
   ]
  },
  {
   "cell_type": "code",
   "execution_count": 1,
   "metadata": {},
   "outputs": [
    {
     "name": "stdout",
     "output_type": "stream",
     "text": [
      "apple\n"
     ]
    }
   ],
   "source": [
    "## make a string in Python \n",
    "print (\"apple\")"
   ]
  },
  {
   "cell_type": "markdown",
   "metadata": {},
   "source": []
  },
  {
   "cell_type": "code",
   "execution_count": null,
   "metadata": {},
   "outputs": [
    {
     "data": {
      "text/plain": [
       "<AxesSubplot:xlabel='age', ylabel='scores'>"
      ]
     },
     "metadata": {},
     "output_type": "display_data"
    },
    {
     "data": {
      "image/png": "[encoded data removed]",
      "text/plain": [
       "<Figure size 640x480 with 1 Axes>"
      ]
     },
     "metadata": {},
     "output_type": "display_data"
    }
   ],
   "source": []
  },
  {
   "cell_type": "code",
   "execution_count": 8,
   "metadata": {},
   "outputs": [
    {
     "data": {
      "text/plain": [
       "'andy is a bad but smart boy, very naughty and smart, not listen to mom'"
      ]
     },
     "execution_count": 8,
     "metadata": {},
     "output_type": "execute_result"
    }
   ],
   "source": [
    "## can you make a string and write andy is a good boy assign it to variable y\n",
    "y = \"andy is a bad but smart boy, very naughty and smart, not listen to mom\"\n",
    "y\n",
    "\n",
    "\n"
   ]
  },
  {
   "cell_type": "code",
   "execution_count": 9,
   "metadata": {},
   "outputs": [
    {
     "data": {
      "text/plain": [
       "'angela is a good and genius girl, very responsible and genius, always listen to mom'"
      ]
     },
     "execution_count": 9,
     "metadata": {},
     "output_type": "execute_result"
    }
   ],
   "source": [
    "y = y.replace(\"andy\", \"angela\")\n",
    "y = y.replace(\"but\", \"and\")\n",
    "y = y.replace(\"boy\", \"girl\")\n",
    "y = y.replace(\"bad\", \"good\")\n",
    "y = y.replace(\"naughty\", \"responsible\")\n",
    "y = y.replace(\"smart\", \"genius\")\n",
    "y = y.replace(\"not\", \"always\")\n",
    "y"
   ]
  },
  {
   "cell_type": "code",
   "execution_count": 10,
   "metadata": {},
   "outputs": [
    {
     "name": "stdout",
     "output_type": "stream",
     "text": [
      "<class 'str'>\n"
     ]
    }
   ],
   "source": [
    "print(type(\"hello\"))"
   ]
  },
  {
   "cell_type": "code",
   "execution_count": 11,
   "metadata": {},
   "outputs": [
    {
     "data": {
      "text/plain": [
       "'HELLO'"
      ]
     },
     "execution_count": 11,
     "metadata": {},
     "output_type": "execute_result"
    }
   ],
   "source": [
    "\"hello\".upper()"
   ]
  },
  {
   "cell_type": "code",
   "execution_count": 15,
   "metadata": {},
   "outputs": [
    {
     "name": "stdout",
     "output_type": "stream",
     "text": [
      "<class 'list'>\n"
     ]
    },
    {
     "data": {
      "text/plain": [
       "['sushi', 'andy', 'banana', 'banana#2', 'hello']"
      ]
     },
     "execution_count": 15,
     "metadata": {},
     "output_type": "execute_result"
    }
   ],
   "source": [
    "# maek a list of 4 four\n",
    "banana=[\"sushi\",\"andy\",\"banana\",\"banana#2\"]\n",
    "print(type(banana))\n",
    "banana.append(\"hello\")\n",
    "banana"
   ]
  },
  {
   "cell_type": "code",
   "execution_count": null,
   "metadata": {},
   "outputs": [],
   "source": []
  }
 ],
 "metadata": {
  "kernelspec": {
   "display_name": "base",
   "language": "python",
   "name": "python3"
  },
  "language_info": {
   "codemirror_mode": {
    "name": "ipython",
    "version": 3
   },
   "file_extension": ".py",
   "mimetype": "text/x-python",
   "name": "python",
   "nbconvert_exporter": "python",
   "pygments_lexer": "ipython3",
   "version": "3.9.13"
  },
  "orig_nbformat": 4
 },
 "nbformat": 4,
 "nbformat_minor": 2
}
