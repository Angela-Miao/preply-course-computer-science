{
 "cells": [
  {
   "cell_type": "code",
   "execution_count": 10,
   "metadata": {},
   "outputs": [],
   "source": [
    "# x^2 +3x+2\n",
    "# make a function that will tell the roots if i pass a,b,c value\n",
    "# but please test it first of b**2 -4*a*c is negative then print complex rooots\n",
    "### if positive thehn find roots suing formula r1 = -b +( (b**2 - 4*a*c )**(1/2)) /(2*a)\n",
    "import math\n",
    "def quadratic(a,b,c):\n",
    "    root = (-b +( math.sqrt(b**2 - (4*a*c) ) ) )/(2*a)\n",
    "    root2 = (-b -( math.sqrt(b**2 - (4*a*c) ) )) /(2*a)\n",
    "    return (root,root2)\n"
   ]
  },
  {
   "cell_type": "code",
   "execution_count": 11,
   "metadata": {},
   "outputs": [
    {
     "data": {
      "text/plain": [
       "(-1.0, -2.0)"
      ]
     },
     "execution_count": 11,
     "metadata": {},
     "output_type": "execute_result"
    }
   ],
   "source": [
    "quadratic (1,3,2)\n"
   ]
  },
  {
   "cell_type": "code",
   "execution_count": 12,
   "metadata": {},
   "outputs": [
    {
     "data": {
      "text/plain": [
       "(-2.0, -3.0)"
      ]
     },
     "execution_count": 12,
     "metadata": {},
     "output_type": "execute_result"
    }
   ],
   "source": [
    "## x**2 + 5x +6\n",
    "quadratic (1,5,6)"
   ]
  },
  {
   "cell_type": "code",
   "execution_count": 14,
   "metadata": {},
   "outputs": [
    {
     "ename": "ValueError",
     "evalue": "math domain error",
     "output_type": "error",
     "traceback": [
      "\u001b[0;31m---------------------------------------------------------------------------\u001b[0m",
      "\u001b[0;31mValueError\u001b[0m                                Traceback (most recent call last)",
      "Cell \u001b[0;32mIn[14], line 2\u001b[0m\n\u001b[1;32m      1\u001b[0m \u001b[39m#x*2 +x+20\u001b[39;00m\n\u001b[0;32m----> 2\u001b[0m quadratic (\u001b[39m1\u001b[39;49m,\u001b[39m1\u001b[39;49m,\u001b[39m20\u001b[39;49m)\n",
      "Cell \u001b[0;32mIn[10], line 7\u001b[0m, in \u001b[0;36mquadratic\u001b[0;34m(a, b, c)\u001b[0m\n\u001b[1;32m      6\u001b[0m \u001b[39mdef\u001b[39;00m \u001b[39mquadratic\u001b[39m(a,b,c):\n\u001b[0;32m----> 7\u001b[0m     root \u001b[39m=\u001b[39m (\u001b[39m-\u001b[39mb \u001b[39m+\u001b[39m( math\u001b[39m.\u001b[39;49msqrt(b\u001b[39m*\u001b[39;49m\u001b[39m*\u001b[39;49m\u001b[39m2\u001b[39;49m \u001b[39m-\u001b[39;49m (\u001b[39m4\u001b[39;49m\u001b[39m*\u001b[39;49ma\u001b[39m*\u001b[39;49mc) ) ) )\u001b[39m/\u001b[39m(\u001b[39m2\u001b[39m\u001b[39m*\u001b[39ma)\n\u001b[1;32m      8\u001b[0m     root2 \u001b[39m=\u001b[39m (\u001b[39m-\u001b[39mb \u001b[39m-\u001b[39m( math\u001b[39m.\u001b[39msqrt(b\u001b[39m*\u001b[39m\u001b[39m*\u001b[39m\u001b[39m2\u001b[39m \u001b[39m-\u001b[39m (\u001b[39m4\u001b[39m\u001b[39m*\u001b[39ma\u001b[39m*\u001b[39mc) ) )) \u001b[39m/\u001b[39m(\u001b[39m2\u001b[39m\u001b[39m*\u001b[39ma)\n\u001b[1;32m      9\u001b[0m     \u001b[39mreturn\u001b[39;00m (root,root2)\n",
      "\u001b[0;31mValueError\u001b[0m: math domain error"
     ]
    }
   ],
   "source": [
    "#x*2 +x+20\n",
    "quadratic (1,1,20)"
   ]
  },
  {
   "cell_type": "code",
   "execution_count": 35,
   "metadata": {},
   "outputs": [],
   "source": [
    "import cmath\n",
    "def new_quad(a,b,c):\n",
    "    det = (b**2 - 4*a*c)\n",
    "    if det >0:\n",
    "        print(\"Roots are real\")\n",
    "        root = (-b +( math.sqrt(det ) ) )/(2*a)\n",
    "        root2 = (-b -( math.sqrt(det ) )) /(2*a)\n",
    "        return (root,root2)\n",
    "    elif det <0:\n",
    "        print(\"Roots are complex\")\n",
    "        root = (-b + cmath.sqrt(det)) / (2*a)\n",
    "        root2 = (-b - cmath.sqrt(det)) / (2*a)\n",
    "        return root, root2\n",
    "    elif det == 0:\n",
    "        root = -b /(2*a)\n",
    "        root2 = -b /(2*a)\n",
    "        return root, root2\n"
   ]
  },
  {
   "cell_type": "code",
   "execution_count": 36,
   "metadata": {},
   "outputs": [
    {
     "name": "stdout",
     "output_type": "stream",
     "text": [
      "Roots are real\n"
     ]
    },
    {
     "data": {
      "text/plain": [
       "(-1.0557280900008408, -18.94427190999916)"
      ]
     },
     "execution_count": 36,
     "metadata": {},
     "output_type": "execute_result"
    }
   ],
   "source": [
    "#x*2 +x+20\n",
    "new_quad (1,20,20)"
   ]
  },
  {
   "cell_type": "code",
   "execution_count": 49,
   "metadata": {},
   "outputs": [
    {
     "name": "stdout",
     "output_type": "stream",
     "text": [
      "Roots are complex\n"
     ]
    },
    {
     "data": {
      "text/plain": [
       "((-1+1.224744871391589j), (-1-1.224744871391589j))"
      ]
     },
     "execution_count": 49,
     "metadata": {},
     "output_type": "execute_result"
    }
   ],
   "source": [
    "#2x**2 + 4x+2\n",
    "new_quad (2,4,5)"
   ]
  },
  {
   "cell_type": "code",
   "execution_count": 40,
   "metadata": {},
   "outputs": [
    {
     "data": {
      "text/plain": [
       "(-1.0, -1.0)"
      ]
     },
     "execution_count": 40,
     "metadata": {},
     "output_type": "execute_result"
    }
   ],
   "source": [
    "#x^2 +2x+1\n",
    "new_quad(1,2,1)"
   ]
  },
  {
   "cell_type": "code",
   "execution_count": 48,
   "metadata": {},
   "outputs": [
    {
     "name": "stdout",
     "output_type": "stream",
     "text": [
      "roots are imagenary\n",
      "-4\n"
     ]
    }
   ],
   "source": [
    "### write a function that will tell if rootts are real or imagenary\n",
    "# x**2 + 17x+60\n",
    "# b**2 - 4ac \n",
    "def banana (a,b,c):\n",
    "    mango = b ** 2 - 4*a*c\n",
    "    if (mango>0):\n",
    "        print (\"roots are real\")\n",
    "    if (mango <0):\n",
    "        print (\"roots are imagenary\")\n",
    "    print(mango)\n",
    "\n",
    "banana(1,2,2)\n",
    "\n",
    "    \n"
   ]
  },
  {
   "cell_type": "code",
   "execution_count": 75,
   "metadata": {},
   "outputs": [],
   "source": [
    "## how to convert degree to radians\n",
    "deg = 90\n",
    "# formul afor degree to radian is degree * pi/180 degrees\n",
    "def d2r (x):\n",
    "    if x>360:\n",
    "        print(\"ol\",x)\n",
    "        x = x%360\n",
    "        print(\"updated degree\",x)\n",
    "    y = x* 3.14/180\n",
    "    return y\n"
   ]
  },
  {
   "cell_type": "code",
   "execution_count": 76,
   "metadata": {},
   "outputs": [
    {
     "name": "stdout",
     "output_type": "stream",
     "text": [
      "ol 700\n",
      "updated degree 340\n"
     ]
    },
    {
     "data": {
      "text/plain": [
       "5.931111111111112"
      ]
     },
     "execution_count": 76,
     "metadata": {},
     "output_type": "execute_result"
    }
   ],
   "source": [
    "d2r(700)"
   ]
  },
  {
   "cell_type": "code",
   "execution_count": 77,
   "metadata": {},
   "outputs": [],
   "source": [
    "def yayaya (a):\n",
    "    b = a * 180/3.14\n",
    "    if b >360:\n",
    "        print(\"actual degress\",b)\n",
    "        print(\"correct is\",b%360)\n",
    "        return b%360\n",
    "    return b"
   ]
  },
  {
   "cell_type": "code",
   "execution_count": 70,
   "metadata": {},
   "outputs": [
    {
     "name": "stdout",
     "output_type": "stream",
     "text": [
      "actual degress 4585.987261146497\n",
      "correct is 265.9872611464971\n"
     ]
    },
    {
     "data": {
      "text/plain": [
       "265.9872611464971"
      ]
     },
     "execution_count": 70,
     "metadata": {},
     "output_type": "execute_result"
    }
   ],
   "source": [
    "yayaya (80)"
   ]
  },
  {
   "cell_type": "code",
   "execution_count": 79,
   "metadata": {},
   "outputs": [],
   "source": [
    "## if a body has 30 kg weight \n",
    "### if body has 400 m^2 volume\n",
    "## tell me denssity\n",
    "def den(m,v):\n",
    "    d = m/v\n",
    "    return d"
   ]
  },
  {
   "cell_type": "code",
   "execution_count": 81,
   "metadata": {},
   "outputs": [
    {
     "data": {
      "text/plain": [
       "750000.0"
      ]
     },
     "execution_count": 81,
     "metadata": {},
     "output_type": "execute_result"
    }
   ],
   "source": [
    "den (300000000,400)"
   ]
  },
  {
   "cell_type": "code",
   "execution_count": 88,
   "metadata": {},
   "outputs": [
    {
     "data": {
      "text/plain": [
       "2e+130"
      ]
     },
     "execution_count": 88,
     "metadata": {},
     "output_type": "execute_result"
    }
   ],
   "source": [
    "den (2*10**30,10**-100)"
   ]
  },
  {
   "cell_type": "code",
   "execution_count": 89,
   "metadata": {},
   "outputs": [
    {
     "name": "stdout",
     "output_type": "stream",
     "text": [
      "20000000000000000000000000000000000000000000000000000000000000000000000000000000000000000000000000000000000000000000000000000000000\n"
     ]
    }
   ],
   "source": [
    "print(\"2\"+\"0\"*130)"
   ]
  },
  {
   "cell_type": "code",
   "execution_count": 90,
   "metadata": {},
   "outputs": [
    {
     "data": {
      "text/plain": [
       "1.7292993630573246e+32"
      ]
     },
     "execution_count": 90,
     "metadata": {},
     "output_type": "execute_result"
    }
   ],
   "source": [
    "## find volumn from raid\n",
    "r = 0.001\n",
    "V = 4/3*3.14*r**3\n",
    "\n",
    "den(7.24*10**23 , V)\n"
   ]
  },
  {
   "cell_type": "code",
   "execution_count": null,
   "metadata": {},
   "outputs": [],
   "source": [
    "## if i have a ball of size 4 and then it become size 2"
   ]
  }
 ],
 "metadata": {
  "kernelspec": {
   "display_name": "Python 3",
   "language": "python",
   "name": "python3"
  },
  "language_info": {
   "codemirror_mode": {
    "name": "ipython",
    "version": 3
   },
   "file_extension": ".py",
   "mimetype": "text/x-python",
   "name": "python",
   "nbconvert_exporter": "python",
   "pygments_lexer": "ipython3",
   "version": "3.9.6"
  },
  "orig_nbformat": 4
 },
 "nbformat": 4,
 "nbformat_minor": 2
}
