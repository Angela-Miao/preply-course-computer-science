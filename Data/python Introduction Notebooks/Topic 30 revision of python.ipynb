{
 "cells": [
  {
   "cell_type": "code",
   "execution_count": 2,
   "metadata": {},
   "outputs": [
    {
     "name": "stdout",
     "output_type": "stream",
     "text": [
      "hello\n"
     ]
    }
   ],
   "source": [
    "x= \"hello\"\n",
    "print(x)"
   ]
  },
  {
   "cell_type": "code",
   "execution_count": 3,
   "metadata": {},
   "outputs": [],
   "source": [
    "banana= [\"banana\",\"apple\",\"cramberry\"]\n",
    "banana2= {\"banana\":\"yellow\",\"apple\":\"green\",\"cramberry\":\"red\"}\n"
   ]
  },
  {
   "cell_type": "code",
   "execution_count": 4,
   "metadata": {},
   "outputs": [
    {
     "name": "stdout",
     "output_type": "stream",
     "text": [
      "Blood!!!\n"
     ]
    }
   ],
   "source": [
    "## if tem i smore than 50 then blood will come from andy nose \n",
    "temp = 10000000\n",
    "if temp <= 50:\n",
    "    print (\"No blood\")\n",
    "if temp > 50:\n",
    "    print (\"Blood!!!\")\n"
   ]
  },
  {
   "cell_type": "code",
   "execution_count": 13,
   "metadata": {},
   "outputs": [
    {
     "name": "stdout",
     "output_type": "stream",
     "text": [
      "0\n",
      "1\n",
      "2\n",
      "3\n",
      "4\n",
      "5\n",
      "6\n",
      "7\n",
      "8\n",
      "9\n",
      "10\n",
      "1\n",
      "3\n",
      "5\n",
      "7\n",
      "9\n"
     ]
    }
   ],
   "source": [
    "## write a for loop to print counting from 1 to 10 \n",
    "for i in range(11):\n",
    "    print(i)\n",
    "    # only odd numbers\n",
    "for i in range(11):\n",
    "    if i % 2 != 0:\n",
    "        print(i)"
   ]
  },
  {
   "cell_type": "code",
   "execution_count": 14,
   "metadata": {},
   "outputs": [
    {
     "name": "stdout",
     "output_type": "stream",
     "text": [
      "1\n",
      "2\n",
      "3\n",
      "4\n",
      "5\n",
      "6\n",
      "7\n",
      "8\n",
      "9\n",
      "10\n"
     ]
    }
   ],
   "source": [
    "# write counting with while loop\n",
    "x = 0\n",
    "while (x<10):\n",
    "    x = x +1\n",
    "    print(x)"
   ]
  },
  {
   "cell_type": "code",
   "execution_count": 15,
   "metadata": {},
   "outputs": [],
   "source": [
    "# write a function to add two numbers in python\n",
    "def peach(x,y):\n",
    "    print(x+y)"
   ]
  },
  {
   "cell_type": "code",
   "execution_count": 16,
   "metadata": {},
   "outputs": [
    {
     "name": "stdout",
     "output_type": "stream",
     "text": [
      "54\n"
     ]
    }
   ],
   "source": [
    "peach(12,42)"
   ]
  },
  {
   "cell_type": "code",
   "execution_count": null,
   "metadata": {},
   "outputs": [],
   "source": []
  },
  {
   "cell_type": "code",
   "execution_count": 27,
   "metadata": {},
   "outputs": [
    {
     "data": {
      "text/plain": [
       "['store',\n",
       " 'apple',\n",
       " 'orange',\n",
       " 'banana',\n",
       " '1',\n",
       " '10',\n",
       " '8',\n",
       " '7',\n",
       " '2',\n",
       " '12',\n",
       " '5',\n",
       " '9',\n",
       " '3',\n",
       " '10',\n",
       " '22',\n",
       " '11',\n",
       " '4',\n",
       " '22',\n",
       " '33',\n",
       " '22',\n",
       " '5',\n",
       " '22',\n",
       " '33',\n",
       " '44']"
      ]
     },
     "execution_count": 27,
     "metadata": {},
     "output_type": "execute_result"
    }
   ],
   "source": [
    "### open a text file and print it\n",
    "\n",
    "b = open(\"/Users/angelasthingy/Desktop/preply-course-computer-science/Data/angela.txt\")\n",
    "data = b.read()\n",
    "data = data.replace(\"\\n\",\" \")\n",
    "data.split(\" \")"
   ]
  },
  {
   "cell_type": "code",
   "execution_count": 32,
   "metadata": {},
   "outputs": [
    {
     "name": "stdout",
     "output_type": "stream",
     "text": [
      "[312, 312, 32, 32, 23, 23, 13, 12, 3, 3, 3, 2, 1, 1]\n"
     ]
    }
   ],
   "source": [
    "x = [1,32,312,32,3,23,13,1,3,12,312,3,23,2]\n",
    "# can you sort this list?\n",
    "x.sort(reverse=True)\n",
    "print(x)"
   ]
  },
  {
   "cell_type": "code",
   "execution_count": 34,
   "metadata": {},
   "outputs": [
    {
     "data": {
      "text/plain": [
       "array([[ 4,  5,  6],\n",
       "       [ 7,  8,  9],\n",
       "       [10, 11, 12]])"
      ]
     },
     "execution_count": 34,
     "metadata": {},
     "output_type": "execute_result"
    }
   ],
   "source": [
    "## numpy \n",
    "#make a 3x3 matrix using numpy\n",
    "import numpy as np\n",
    "p = np.array(range(4,13))\n",
    "p.reshape(3,3)\n",
    "\n",
    "\n",
    "\n",
    "\n"
   ]
  },
  {
   "cell_type": "code",
   "execution_count": 39,
   "metadata": {},
   "outputs": [
    {
     "name": "stdout",
     "output_type": "stream",
     "text": [
      "30 F is -1.11 in C\n"
     ]
    }
   ],
   "source": [
    "#Create a program that converts temperatures between Fahrenheit, Celsius, and Kelvin.\n",
    "\n",
    "\n",
    "# F -> Celsius\n",
    "F = 30\n",
    "ans = (F - 32) * 5/9 \n",
    "print(f\"{F} F is {round(ans,2)} in C\")\n",
    "\n",
    "# convert Fahrenheit to Kelvin\n",
    "\n",
    "\n",
    "\n",
    "\n",
    "\n",
    "\n",
    "\n",
    "\n",
    "# convert Celsius to Fahrenheit\n",
    "\n",
    "\n",
    "\n",
    "\n",
    "\n",
    "\n",
    "## convert Celsius to kelvin\n",
    "\n",
    "\n",
    "\n",
    "\n",
    "\n",
    "\n",
    "\n",
    "\n",
    "\n",
    "## convert Kelvin to Celsius\n",
    "\n",
    "\n",
    "\n",
    "\n",
    "\n",
    "\n",
    "\n",
    "\n",
    "### convert Kelvin to Fahrenheit\n",
    "\n",
    "\n",
    "\n",
    "\n"
   ]
  },
  {
   "cell_type": "code",
   "execution_count": null,
   "metadata": {},
   "outputs": [],
   "source": []
  }
 ],
 "metadata": {
  "kernelspec": {
   "display_name": "base",
   "language": "python",
   "name": "python3"
  },
  "language_info": {
   "codemirror_mode": {
    "name": "ipython",
    "version": 3
   },
   "file_extension": ".py",
   "mimetype": "text/x-python",
   "name": "python",
   "nbconvert_exporter": "python",
   "pygments_lexer": "ipython3",
   "version": "3.9.13"
  },
  "orig_nbformat": 4
 },
 "nbformat": 4,
 "nbformat_minor": 2
}
