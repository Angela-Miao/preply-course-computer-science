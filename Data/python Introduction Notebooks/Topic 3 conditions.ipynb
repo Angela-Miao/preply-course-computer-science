{
 "cells": [
  {
   "cell_type": "code",
   "execution_count": 1,
   "metadata": {},
   "outputs": [],
   "source": [
    "## conditions"
   ]
  },
  {
   "cell_type": "code",
   "execution_count": null,
   "metadata": {},
   "outputs": [],
   "source": [
    "## if\n",
    "\n",
    "\n",
    "\n",
    "\n",
    "if \n",
    "else\n",
    "\n",
    "\n",
    "\n",
    "\n",
    "\n",
    "\n",
    "\n",
    "if\n",
    "elif\n",
    "elif\n",
    "else"
   ]
  },
  {
   "cell_type": "code",
   "execution_count": 12,
   "metadata": {},
   "outputs": [
    {
     "name": "stdout",
     "output_type": "stream",
     "text": [
      "completed\n"
     ]
    }
   ],
   "source": [
    "### struture 1\n",
    "## if marks are more than 90 then print good grades\n",
    "marks = 19\n",
    "\n",
    "if marks > 90:\n",
    "    print (\"good grades\")\n",
    "print(\"completed\")\n"
   ]
  },
  {
   "cell_type": "code",
   "execution_count": 11,
   "metadata": {},
   "outputs": [
    {
     "name": "stdout",
     "output_type": "stream",
     "text": [
      "fail\n",
      "try again with more efforts\n",
      "program finished\n"
     ]
    }
   ],
   "source": [
    "### structure 2 if marks are more than 50 then pass else fail\n",
    "marks = 45\n",
    "if marks > 50:\n",
    "    print (\"pass\")\n",
    "    print(\"keep it up\")\n",
    "else:\n",
    "    print (\"fail\")\n",
    "    print(\"try again with more efforts\")\n",
    "print(\"program finished\")"
   ]
  },
  {
   "cell_type": "code",
   "execution_count": 19,
   "metadata": {},
   "outputs": [
    {
     "name": "stdout",
     "output_type": "stream",
     "text": [
      "good scores nice!\n"
     ]
    }
   ],
   "source": [
    "### structure 3: if marks less than 50 then fail, elif marks greater than 50 and less than 80 so goof work, if marks are moree than 80 yhrn vrey nice else wrong number\n",
    "marks = 81\n",
    "\n",
    "\n",
    "if marks < 50:\n",
    "    print (\"Fail!!!\")\n",
    "elif marks <= 80 and marks >= 50:\n",
    "    print (\"goof woof\")\n",
    "elif marks >100:\n",
    "    print(\"invalid scores\")\n",
    "else:\n",
    "    print(\"good scores nice!\")\n",
    "    \n"
   ]
  },
  {
   "cell_type": "code",
   "execution_count": 22,
   "metadata": {},
   "outputs": [
    {
     "data": {
      "text/plain": [
       "False"
      ]
     },
     "execution_count": 22,
     "metadata": {},
     "output_type": "execute_result"
    }
   ],
   "source": [
    "### add data strucutre with conditions\n",
    "MrAndy = [\"apple\", \"orange\", \"banana\"]\n",
    "\"mango\" in MrAndy"
   ]
  },
  {
   "cell_type": "code",
   "execution_count": 23,
   "metadata": {},
   "outputs": [
    {
     "name": "stdout",
     "output_type": "stream",
     "text": [
      "apple is present in Mr andy belly\n"
     ]
    }
   ],
   "source": [
    "if \"apple\" in MrAndy:\n",
    "    print(\"apple is present in Mr andy belly\")\n",
    "else:\n",
    "    print(\"apple is not present in belly\")"
   ]
  },
  {
   "cell_type": "code",
   "execution_count": 28,
   "metadata": {},
   "outputs": [
    {
     "name": "stdout",
     "output_type": "stream",
     "text": [
      "kiwi is not present in Mr andy belly\n"
     ]
    }
   ],
   "source": [
    "# make i more simple\n",
    "x = \"kiwi\"\n",
    "if x in MrAndy:\n",
    "    print(f\"{x} is present in Mr andy belly\")\n",
    "else:\n",
    "    print(f\"{x} is not present in Mr andy belly\")"
   ]
  },
  {
   "cell_type": "code",
   "execution_count": 34,
   "metadata": {},
   "outputs": [
    {
     "name": "stdout",
     "output_type": "stream",
     "text": [
      "yes\n",
      "no\n",
      "yes\n",
      "yes\n"
     ]
    }
   ],
   "source": [
    "# make a 3.Tuple of fruits and 1. make a set of fruits to confirm that if is present Mr. andy''s belly or not\n",
    "tt=(\"apple\", \"orange\", \"banana\")\n",
    "ss={\"apple\",\"orange\",\"banana\"}\n",
    "\n",
    "if \"apple\" in tt:\n",
    "    print(\"yes\")\n",
    "else:\n",
    "    print(\"no\")\n",
    "\n",
    "if \"why\" in ss:\n",
    "    print(\"yes\")\n",
    "else:\n",
    "    print(\"no\")\n",
    "\n",
    "## scondly.... also try with dictionary ,,, it will not work but try what happens\n",
    "dd={\"apple\":1,\"banana\":3}\n",
    "for each in dd:\n",
    "    if \"apple\" in dd:\n",
    "        print(\"yes\")\n",
    "    else:\n",
    "        print(\"no\")"
   ]
  },
  {
   "cell_type": "code",
   "execution_count": null,
   "metadata": {},
   "outputs": [
    {
     "name": "stdout",
     "output_type": "stream",
     "text": [
      "kiwi is not present in Mr andy belly\n"
     ]
    }
   ],
   "source": [
    "# make i more simple\n",
    "x = \"kiwi\"\n",
    "if x in MrAndy:\n",
    "    print(f\"{x} is present in Mr andy belly\")\n"
   ]
  },
  {
   "cell_type": "code",
   "execution_count": 6,
   "metadata": {},
   "outputs": [
    {
     "name": "stdout",
     "output_type": "stream",
     "text": [
      "10\n",
      "in school\n",
      "20\n",
      "working\n",
      "30\n",
      "working\n",
      "55\n",
      "working\n",
      "45\n",
      "working\n",
      "36\n",
      "working\n",
      "1\n",
      "in school\n",
      "23\n",
      "working\n",
      "12\n",
      "in school\n",
      "45\n",
      "working\n",
      "78\n",
      "retired\n",
      "34\n",
      "working\n",
      "100\n",
      "retired\n"
     ]
    }
   ],
   "source": [
    "### if age is more than 60 then you are senior citizena and you are retired\n",
    "ages = [10,20,30,55,45,36,1,23,12,45,78,34,100]\n",
    "for age in ages:\n",
    "    print(age)\n",
    "    if age > 60:\n",
    "        print (\"retired\")\n",
    "    elif age < 18:\n",
    "        print (\"in school\")\n",
    "    else:\n",
    "        print (\"working\")"
   ]
  },
  {
   "cell_type": "code",
   "execution_count": 10,
   "metadata": {},
   "outputs": [
    {
     "name": "stdout",
     "output_type": "stream",
     "text": [
      "10\n",
      "FAIL!\n",
      "50\n",
      "FAIL!\n",
      "55\n",
      "(NOT)FAIL\n",
      "49\n",
      "FAIL!\n",
      "80\n",
      "(NOT)FAIL\n",
      "55\n",
      "(NOT)FAIL\n",
      "33\n",
      "FAIL!\n",
      "58\n",
      "(NOT)FAIL\n",
      "101010101\n",
      "NOT REAL\n"
     ]
    }
   ],
   "source": [
    "marks = [10,50,55,49,80,55,33,58,101010101]\n",
    "## use for loop and show all marks and... if mark less  than 50 then fail else pass\n",
    "for mark in marks:\n",
    "    print(mark)\n",
    "    if mark <= 50:\n",
    "        print (\"FAIL!\")\n",
    "    elif mark > 100:\n",
    "        print (\"NOT REAL\")\n",
    "    else:\n",
    "        print (\"(NOT)FAIL\")"
   ]
  },
  {
   "cell_type": "code",
   "execution_count": 30,
   "metadata": {},
   "outputs": [
    {
     "name": "stdout",
     "output_type": "stream",
     "text": [
      "FAIL!\n",
      "FAIL!\n",
      "FAIL!\n",
      "PASS!\n",
      "FAIL!\n",
      "GREAT!\n"
     ]
    }
   ],
   "source": [
    "### make a grading software\n",
    "\n",
    "\n",
    "## make a list and then use a for loop to iterate thorugh list\n",
    "\n",
    "### if marks are less than 50 then fail\n",
    "### if marks are more than 50 and less than 80 then good\n",
    "### if marks are more than 90 then excellent\n",
    "marks = [1,2,13,60,44,87,455,24365,-1]\n",
    "for mark in marks:\n",
    " \n",
    "    if mark <= 50 and mark > 0:\n",
    "        print (\"FAIL!\")\n",
    "    elif mark > 80 and mark <= 100:\n",
    "        print (\"GREAT!\") \n",
    "    elif mark <= 80 and mark > 50:\n",
    "        print (\"PASS!\")\n",
    "    elif mark > 100 and mark < 0:\n",
    "        print (\"Not Real!\")\n",
    "\n",
    "    \n",
    "\n",
    "### you ahve to change it to function "
   ]
  },
  {
   "cell_type": "code",
   "execution_count": 31,
   "metadata": {},
   "outputs": [
    {
     "name": "stdout",
     "output_type": "stream",
     "text": [
      "FAIL!\n",
      "FAIL!\n",
      "FAIL!\n",
      "PASS!\n",
      "FAIL!\n",
      "GREAT!\n"
     ]
    }
   ],
   "source": [
    "\n",
    "def gradesystem(data):\n",
    "\n",
    "    for mark in marks:\n",
    "    \n",
    "        if mark <= 50 and mark > 0:\n",
    "            print (\"FAIL!\")\n",
    "        elif mark > 80 and mark <= 100:\n",
    "            print (\"GREAT!\") \n",
    "        elif mark <= 80 and mark > 50:\n",
    "            print (\"PASS!\")\n",
    "        elif mark > 100 and mark < 0:\n",
    "            print (\"Not Real!\")\n",
    "            \n",
    "#calll gradesystem with abc\n",
    "gradesystem([1,2,23,234,-1,98,52])"
   ]
  },
  {
   "cell_type": "code",
   "execution_count": 32,
   "metadata": {},
   "outputs": [
    {
     "name": "stdout",
     "output_type": "stream",
     "text": [
      "FAIL!\n",
      "FAIL!\n",
      "FAIL!\n",
      "PASS!\n",
      "FAIL!\n",
      "GREAT!\n"
     ]
    }
   ],
   "source": [
    "gradesystem([1,2,3,])"
   ]
  },
  {
   "cell_type": "code",
   "execution_count": 3,
   "metadata": {},
   "outputs": [
    {
     "name": "stdout",
     "output_type": "stream",
     "text": [
      "1\n",
      "2\n",
      "3\n",
      "4\n",
      "5\n",
      "6\n",
      "7\n",
      "8\n",
      "9\n",
      "10\n",
      "11\n",
      "12\n",
      "13\n",
      "14\n",
      "15\n",
      "16\n",
      "17\n",
      "18\n",
      "19\n",
      "41\n",
      "42\n",
      "43\n",
      "44\n",
      "45\n",
      "46\n",
      "47\n",
      "48\n",
      "49\n",
      "50\n",
      "51\n",
      "52\n",
      "53\n",
      "54\n",
      "55\n",
      "56\n",
      "57\n",
      "58\n",
      "59\n",
      "60\n",
      "61\n",
      "62\n",
      "63\n",
      "64\n",
      "65\n",
      "66\n",
      "67\n",
      "68\n",
      "69\n",
      "89\n",
      "90\n",
      "91\n",
      "92\n",
      "93\n",
      "94\n",
      "95\n",
      "96\n",
      "97\n",
      "98\n",
      "99\n",
      "100\n"
     ]
    }
   ],
   "source": [
    "\n",
    "## Print counting from 1 to 100 but do not print counting from 20 to 40 and 70 to 88\n",
    "for i in range(1, 101):\n",
    "    if (i >= 20 and i <= 40) or (i >= 70 and i <= 88):\n",
    "        continue\n",
    "    print(i)"
   ]
  },
  {
   "attachments": {},
   "cell_type": "markdown",
   "metadata": {},
   "source": [
    "\"Write a Python program that takes a list of integers as input from the user. The program should calculate the sum of all even numbers in the list, the count of positive numbers, and find the maximum number in the list. Finally, it should return a dictionary containing these three values with keys 'sum', 'count', and 'maximum'.\n",
    "\n",
    "Example:\n",
    "Input:\n",
    "Enter a list of integers, separated by spaces: 2 5 10 -3 8 1 0\n",
    "\n",
    "Output:\n",
    "{'sum': 20, 'count': 5, 'maximum': 10}"
   ]
  },
  {
   "cell_type": "code",
   "execution_count": 16,
   "metadata": {},
   "outputs": [
    {
     "name": "stdout",
     "output_type": "stream",
     "text": [
      "length is 12\n",
      "sum of even and positive numbers is 3376\n"
     ]
    }
   ],
   "source": [
    "x = [-2,2,3,4,12,-13,13,-14,4,36,-2355,34,43,2,32,3232,343,243,6,6,-435,-13,69,0,6,79,-0,-79]\n",
    "empty = []\n",
    "for each in x:\n",
    "    if each%2 == 0:\n",
    "        if each > 0:\n",
    "            empty.append(each)\n",
    "print(\"length is\",len(empty))\n",
    "print(\"sum of even and positive numbers is\",sum(empty))"
   ]
  },
  {
   "cell_type": "code",
   "execution_count": 20,
   "metadata": {},
   "outputs": [
    {
     "name": "stdout",
     "output_type": "stream",
     "text": [
      "Oh no cold!\n"
     ]
    }
   ],
   "source": [
    "# make a program if temperaterue is more than 100 then fever else normal\n",
    "temp = 94.99999\n",
    "if temp > 100:\n",
    "    print(\"Oh no Fever!\")\n",
    "elif temp < 95:\n",
    "    print(\"Oh no cold!\")\n",
    "else:\n",
    "    print(\"Normal\")"
   ]
  },
  {
   "cell_type": "code",
   "execution_count": 1,
   "metadata": {},
   "outputs": [
    {
     "name": "stdout",
     "output_type": "stream",
     "text": [
      "andy will be skinny but healthy\n"
     ]
    }
   ],
   "source": [
    "##  if andy eat 5 unit he will be skinny if andy eat 10 units print he will be healthy\n",
    "### if andy eat 15 he will be fattqwex\n",
    "x = 10\n",
    "\n",
    "if x ==5:\n",
    "    print(\"andy is skinny\")\n",
    "elif x == 10:\n",
    "    print(\"andy will be skinny but healthy\")\n",
    "elif x == 15:\n",
    "    print(\"andy will be still skinny but full\")\n",
    "else:\n",
    "    print(\"no information available \")\n"
   ]
  },
  {
   "cell_type": "code",
   "execution_count": null,
   "metadata": {},
   "outputs": [],
   "source": []
  }
 ],
 "metadata": {
  "kernelspec": {
   "display_name": "base",
   "language": "python",
   "name": "python3"
  },
  "language_info": {
   "codemirror_mode": {
    "name": "ipython",
    "version": 3
   },
   "file_extension": ".py",
   "mimetype": "text/x-python",
   "name": "python",
   "nbconvert_exporter": "python",
   "pygments_lexer": "ipython3",
   "version": "3.9.13"
  },
  "orig_nbformat": 4
 },
 "nbformat": 4,
 "nbformat_minor": 2
}
