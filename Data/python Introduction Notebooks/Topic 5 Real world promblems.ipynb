{
 "cells": [
  {
   "cell_type": "code",
   "execution_count": 23,
   "metadata": {},
   "outputs": [],
   "source": [
    "x = \"\"\"\n",
    "NEW YORK: As people brace for the disruptive impact of artificial intelligence on jobs and everyday living, those in the world of audio books say their field is already being transformed.\n",
    "\n",
    "AI has the ability to create human-sounding recordings — at assembly-line speed — while bypassing at least part of the services of the human professionals who for years have made a living with their voices.\n",
    "\n",
    "Many of them are already seeing a sharp drop off in business.\n",
    "\n",
    "Tanya Eby has been a full-time voice actor and professional narrator for 20 years. She has an information recording studio in her home.\n",
    "\"\"\""
   ]
  },
  {
   "cell_type": "code",
   "execution_count": 24,
   "metadata": {},
   "outputs": [
    {
     "name": "stdout",
     "output_type": "stream",
     "text": [
      "<class 'str'>\n",
      "597\n"
     ]
    }
   ],
   "source": [
    "print(type(x))\n",
    "print(len(x))"
   ]
  },
  {
   "cell_type": "code",
   "execution_count": 25,
   "metadata": {},
   "outputs": [
    {
     "name": "stdout",
     "output_type": "stream",
     "text": [
      "101\n"
     ]
    }
   ],
   "source": [
    "words = x.split()\n",
    "print(len(words))"
   ]
  },
  {
   "cell_type": "code",
   "execution_count": 26,
   "metadata": {},
   "outputs": [
    {
     "name": "stdout",
     "output_type": "stream",
     "text": [
      "[('the', 'DET'), ('the', 'DET'), ('the', 'DET'), ('the', 'DET'), ('the', 'DET'), ('a', 'DET'), ('a', 'DET'), ('a', 'DET'), ('an', 'DET')]\n"
     ]
    }
   ],
   "source": [
    "import spacy\n",
    "\n",
    "nlp = spacy.load(\"en_core_web_sm\")\n",
    "doc = nlp(x)  # Your text here\n",
    "\n",
    "words = []\n",
    "for token in doc:\n",
    "    if token.pos_ == \"DET\" :\n",
    "        words.append((token.text, token.pos_))\n",
    "\n",
    "print(words)"
   ]
  },
  {
   "cell_type": "code",
   "execution_count": 4,
   "metadata": {},
   "outputs": [
    {
     "data": {
      "text/html": [
       "<div>\n",
       "<style scoped>\n",
       "    .dataframe tbody tr th:only-of-type {\n",
       "        vertical-align: middle;\n",
       "    }\n",
       "\n",
       "    .dataframe tbody tr th {\n",
       "        vertical-align: top;\n",
       "    }\n",
       "\n",
       "    .dataframe thead th {\n",
       "        text-align: right;\n",
       "    }\n",
       "</style>\n",
       "<table border=\"1\" class=\"dataframe\">\n",
       "  <thead>\n",
       "    <tr style=\"text-align: right;\">\n",
       "      <th></th>\n",
       "      <th>Unnamed: 0</th>\n",
       "      <th>How old are you?</th>\n",
       "      <th>How many Rodys do you own?</th>\n",
       "      <th>How tall are you?</th>\n",
       "      <th>How many siblings do you have?</th>\n",
       "      <th>What color is your hair?</th>\n",
       "      <th>How many years have you attended Aoba?</th>\n",
       "    </tr>\n",
       "  </thead>\n",
       "  <tbody>\n",
       "    <tr>\n",
       "      <th>0</th>\n",
       "      <td>NaN</td>\n",
       "      <td>12.000000</td>\n",
       "      <td>0.000000</td>\n",
       "      <td>148</td>\n",
       "      <td>1</td>\n",
       "      <td>black</td>\n",
       "      <td>0</td>\n",
       "    </tr>\n",
       "    <tr>\n",
       "      <th>1</th>\n",
       "      <td>NaN</td>\n",
       "      <td>11.000000</td>\n",
       "      <td>0.000000</td>\n",
       "      <td>157</td>\n",
       "      <td>1</td>\n",
       "      <td>brown</td>\n",
       "      <td>2</td>\n",
       "    </tr>\n",
       "    <tr>\n",
       "      <th>2</th>\n",
       "      <td>NaN</td>\n",
       "      <td>11.000000</td>\n",
       "      <td>1.000000</td>\n",
       "      <td>150</td>\n",
       "      <td>1</td>\n",
       "      <td>Black</td>\n",
       "      <td>1</td>\n",
       "    </tr>\n",
       "    <tr>\n",
       "      <th>3</th>\n",
       "      <td>NaN</td>\n",
       "      <td>12.000000</td>\n",
       "      <td>1.000000</td>\n",
       "      <td>159</td>\n",
       "      <td>4</td>\n",
       "      <td>Black, pink</td>\n",
       "      <td>6</td>\n",
       "    </tr>\n",
       "    <tr>\n",
       "      <th>4</th>\n",
       "      <td>NaN</td>\n",
       "      <td>12.000000</td>\n",
       "      <td>1.000000</td>\n",
       "      <td>0</td>\n",
       "      <td>7</td>\n",
       "      <td>bro</td>\n",
       "      <td>0</td>\n",
       "    </tr>\n",
       "    <tr>\n",
       "      <th>...</th>\n",
       "      <td>...</td>\n",
       "      <td>...</td>\n",
       "      <td>...</td>\n",
       "      <td>...</td>\n",
       "      <td>...</td>\n",
       "      <td>...</td>\n",
       "      <td>...</td>\n",
       "    </tr>\n",
       "    <tr>\n",
       "      <th>56</th>\n",
       "      <td>NaN</td>\n",
       "      <td>12.000000</td>\n",
       "      <td>1.000000</td>\n",
       "      <td>148</td>\n",
       "      <td>5</td>\n",
       "      <td>black</td>\n",
       "      <td>9</td>\n",
       "    </tr>\n",
       "    <tr>\n",
       "      <th>57</th>\n",
       "      <td>NaN</td>\n",
       "      <td>12.000000</td>\n",
       "      <td>1.000000</td>\n",
       "      <td>153</td>\n",
       "      <td>2</td>\n",
       "      <td>dark brown</td>\n",
       "      <td>7</td>\n",
       "    </tr>\n",
       "    <tr>\n",
       "      <th>58</th>\n",
       "      <td>mean</td>\n",
       "      <td>11.637931</td>\n",
       "      <td>4.758621</td>\n",
       "      <td>139.0666667</td>\n",
       "      <td>1.526315789</td>\n",
       "      <td>#DIV/0!</td>\n",
       "      <td>4.684210526</td>\n",
       "    </tr>\n",
       "    <tr>\n",
       "      <th>59</th>\n",
       "      <td>median</td>\n",
       "      <td>12.000000</td>\n",
       "      <td>1.000000</td>\n",
       "      <td>152</td>\n",
       "      <td>1</td>\n",
       "      <td>#NUM!</td>\n",
       "      <td>5</td>\n",
       "    </tr>\n",
       "    <tr>\n",
       "      <th>60</th>\n",
       "      <td>mode</td>\n",
       "      <td>0.519726</td>\n",
       "      <td>18.192258</td>\n",
       "      <td>42.97644427</td>\n",
       "      <td>1.955808776</td>\n",
       "      <td>#DIV/0!</td>\n",
       "      <td>3.151858266</td>\n",
       "    </tr>\n",
       "  </tbody>\n",
       "</table>\n",
       "<p>61 rows × 7 columns</p>\n",
       "</div>"
      ],
      "text/plain": [
       "   Unnamed: 0  How old are you?  How many Rodys do you own? How tall are you?  \\\n",
       "0         NaN         12.000000                    0.000000               148   \n",
       "1         NaN         11.000000                    0.000000               157   \n",
       "2         NaN         11.000000                    1.000000               150   \n",
       "3         NaN         12.000000                    1.000000               159   \n",
       "4         NaN         12.000000                    1.000000                 0   \n",
       "..        ...               ...                         ...               ...   \n",
       "56        NaN         12.000000                    1.000000               148   \n",
       "57        NaN         12.000000                    1.000000               153   \n",
       "58       mean         11.637931                    4.758621       139.0666667   \n",
       "59     median         12.000000                    1.000000               152   \n",
       "60       mode          0.519726                   18.192258       42.97644427   \n",
       "\n",
       "   How many siblings do you have? What color is your hair?  \\\n",
       "0                               1                    black   \n",
       "1                               1                    brown   \n",
       "2                               1                    Black   \n",
       "3                               4              Black, pink   \n",
       "4                               7                      bro   \n",
       "..                            ...                      ...   \n",
       "56                              5                    black   \n",
       "57                              2               dark brown   \n",
       "58                    1.526315789                  #DIV/0!   \n",
       "59                              1                    #NUM!   \n",
       "60                    1.955808776                  #DIV/0!   \n",
       "\n",
       "   How many years have you attended Aoba?  \n",
       "0                                       0  \n",
       "1                                       2  \n",
       "2                                       1  \n",
       "3                                       6  \n",
       "4                                       0  \n",
       "..                                    ...  \n",
       "56                                      9  \n",
       "57                                      7  \n",
       "58                            4.684210526  \n",
       "59                                      5  \n",
       "60                            3.151858266  \n",
       "\n",
       "[61 rows x 7 columns]"
      ]
     },
     "execution_count": 4,
     "metadata": {},
     "output_type": "execute_result"
    }
   ],
   "source": [
    "## show me something which you do daily life,..but try it with python\n",
    "import pandas as pd\n",
    "data = pd.read_csv(\"Student Survey.csv\")\n",
    "data"
   ]
  },
  {
   "cell_type": "code",
   "execution_count": 6,
   "metadata": {},
   "outputs": [
    {
     "data": {
      "text/plain": [
       "[<matplotlib.lines.Line2D at 0x7ff4290c0730>]"
      ]
     },
     "execution_count": 6,
     "metadata": {},
     "output_type": "execute_result"
    },
    {
     "data": {
      "image/png": "[encoded data removed]",
      "text/plain": [
       "<Figure size 640x480 with 1 Axes>"
      ]
     },
     "metadata": {},
     "output_type": "display_data"
    }
   ],
   "source": [
    "import matplotlib.pyplot as plt\n",
    "plt.plot(data['How many Rodys do you own?'])"
   ]
  },
  {
   "cell_type": "code",
   "execution_count": 7,
   "metadata": {},
   "outputs": [
    {
     "data": {
      "text/plain": [
       "[<matplotlib.lines.Line2D at 0x7ff4291333a0>]"
      ]
     },
     "execution_count": 7,
     "metadata": {},
     "output_type": "execute_result"
    },
    {
     "name": "stderr",
     "output_type": "stream",
     "text": [
      "/Users/angelasthingy/opt/anaconda3/lib/python3.9/site-packages/IPython/core/pylabtools.py:151: UserWarning: Glyph 65297 (\\N{FULLWIDTH DIGIT ONE}) missing from current font.\n",
      "  fig.canvas.print_figure(bytes_io, **kw)\n"
     ]
    },
    {
     "data": {
      "image/png": "[encoded data removed]",
      "text/plain": [
       "<Figure size 640x480 with 1 Axes>"
      ]
     },
     "metadata": {},
     "output_type": "display_data"
    }
   ],
   "source": [
    "plt.plot(data['How many years have you attended Aoba?'])"
   ]
  },
  {
   "cell_type": "code",
   "execution_count": 9,
   "metadata": {},
   "outputs": [
    {
     "name": "stdout",
     "output_type": "stream",
     "text": [
      "\u001b[31mERROR: Could not find a version that satisfies the requirement math (from versions: none)\u001b[0m\u001b[31m\n",
      "\u001b[0m\u001b[31mERROR: No matching distribution found for math\u001b[0m\u001b[31m\n",
      "\u001b[0mNote: you may need to restart the kernel to use updated packages.\n"
     ]
    }
   ],
   "source": [
    "pip i"
   ]
  },
  {
   "cell_type": "code",
   "execution_count": 10,
   "metadata": {},
   "outputs": [
    {
     "name": "stderr",
     "output_type": "stream",
     "text": [
      "OpenCV: not authorized to capture video (status 0), requesting...\n",
      "OpenCV: camera failed to properly initialize!\n"
     ]
    },
    {
     "ename": "error",
     "evalue": "OpenCV(4.7.0) /Users/runner/work/opencv-python/opencv-python/opencv/modules/imgproc/src/color.cpp:182: error: (-215:Assertion failed) !_src.empty() in function 'cvtColor'\n",
     "output_type": "error",
     "traceback": [
      "\u001b[0;31m---------------------------------------------------------------------------\u001b[0m",
      "\u001b[0;31merror\u001b[0m                                     Traceback (most recent call last)",
      "\u001b[0;32m/var/folders/l_/j699flmx6dbc1vlb90jx_hyw0000gn/T/ipykernel_50067/2448175261.py\u001b[0m in \u001b[0;36m<module>\u001b[0;34m\u001b[0m\n\u001b[1;32m     12\u001b[0m \u001b[0;34m\u001b[0m\u001b[0m\n\u001b[1;32m     13\u001b[0m     \u001b[0;31m# Convert the frame to grayscale for face and eye detection\u001b[0m\u001b[0;34m\u001b[0m\u001b[0;34m\u001b[0m\u001b[0m\n\u001b[0;32m---> 14\u001b[0;31m     \u001b[0mgray\u001b[0m \u001b[0;34m=\u001b[0m \u001b[0mcv2\u001b[0m\u001b[0;34m.\u001b[0m\u001b[0mcvtColor\u001b[0m\u001b[0;34m(\u001b[0m\u001b[0mframe\u001b[0m\u001b[0;34m,\u001b[0m \u001b[0mcv2\u001b[0m\u001b[0;34m.\u001b[0m\u001b[0mCOLOR_BGR2GRAY\u001b[0m\u001b[0;34m)\u001b[0m\u001b[0;34m\u001b[0m\u001b[0;34m\u001b[0m\u001b[0m\n\u001b[0m\u001b[1;32m     15\u001b[0m \u001b[0;34m\u001b[0m\u001b[0m\n\u001b[1;32m     16\u001b[0m     \u001b[0;31m# Detect eyes in the frame\u001b[0m\u001b[0;34m\u001b[0m\u001b[0;34m\u001b[0m\u001b[0m\n",
      "\u001b[0;31merror\u001b[0m: OpenCV(4.7.0) /Users/runner/work/opencv-python/opencv-python/opencv/modules/imgproc/src/color.cpp:182: error: (-215:Assertion failed) !_src.empty() in function 'cvtColor'\n"
     ]
    }
   ],
   "source": [
    "import cv2\n",
    "\n",
    "# Load the pre-trained Haar cascade for eye detection\n",
    "eye_cascade = cv2.CascadeClassifier(cv2.data.haarcascades + 'haarcascade_eye.xml')\n",
    "\n",
    "# Open the video capture\n",
    "video_capture = cv2.VideoCapture(0)  # Change 0 to the index of your desired video source if multiple cameras are available\n",
    "\n",
    "while True:\n",
    "    # Read a frame from the video capture\n",
    "    ret, frame = video_capture.read()\n",
    "\n",
    "    # Convert the frame to grayscale for face and eye detection\n",
    "    gray = cv2.cvtColor(frame, cv2.COLOR_BGR2GRAY)\n",
    "\n",
    "    # Detect eyes in the frame\n",
    "    eyes = eye_cascade.detectMultiScale(gray, scaleFactor=1.1, minNeighbors=5, minSize=(30, 30))\n",
    "\n",
    "    # Draw rectangles around the detected eyes\n",
    "    for (x, y, w, h) in eyes:\n",
    "        cv2.rectangle(frame, (x, y), (x + w, y + h), (0, 255, 0), 2)\n",
    "\n",
    "    # Display the resulting frame\n",
    "    cv2.imshow('Video', frame)\n",
    "\n",
    "    # Exit the loop if 'q' is pressed\n",
    "    if cv2.waitKey(1) & 0xFF == ord('q'):\n",
    "        break\n",
    "\n",
    "# Release the video capture and close the window\n",
    "video_capture.release()\n",
    "cv2.destroyAllWindows()\n"
   ]
  },
  {
   "cell_type": "code",
   "execution_count": 2,
   "metadata": {},
   "outputs": [
    {
     "name": "stdout",
     "output_type": "stream",
     "text": [
      "x: 0.4 f(x): 2.56\n",
      "x: 0.7200000000000001 f(x): 1.6383999999999999\n",
      "x: 0.976 f(x): 1.0485760000000002\n",
      "x: 1.1808 f(x): 0.6710886399999998\n",
      "x: 1.34464 f(x): 0.42949672959999985\n",
      "x: 1.4757120000000001 f(x): 0.27487790694399994\n",
      "x: 1.5805696 f(x): 0.17592186044416014\n",
      "x: 1.66445568 f(x): 0.11258999068426245\n",
      "x: 1.731564544 f(x): 0.07205759403792777\n",
      "x: 1.7852516352 f(x): 0.046116860184273634\n",
      "x: 1.8282013081600001 f(x): 0.029514790517935374\n",
      "x: 1.862561046528 f(x): 0.018889465931478444\n",
      "x: 1.8900488372224 f(x): 0.012089258196146258\n",
      "x: 1.91203906977792 f(x): 0.007737125245533605\n",
      "x: 1.9296312558223359 f(x): 0.004951760157141383\n",
      "x: 1.9437050046578688 f(x): 0.0031691265005706626\n",
      "x: 1.954964003726295 f(x): 0.0020282409603651352\n",
      "x: 1.963971202981036 f(x): 0.0012980742146337931\n",
      "x: 1.9711769623848288 f(x): 0.0008307674973657697\n",
      "x: 1.976941569907863 f(x): 0.0005316911983137551\n",
      "x: 1.9815532559262903 f(x): 0.00034028236692096314\n",
      "Converged to x: 1.9852426047410323 with f(x): 0.00021778071482936312\n"
     ]
    }
   ],
   "source": [
    "# Convergence Loop Example\n",
    "import numpy as np\n",
    "\n",
    "# Define the function to minimize\n",
    "def function(x):\n",
    "    return x**2 - 4*x + 4\n",
    "\n",
    "# Define the derivative of the function\n",
    "def derivative(x):\n",
    "    return 2*x - 4\n",
    "\n",
    "# Define the convergence threshold\n",
    "threshold = 0.0001\n",
    "\n",
    "# Initialize the starting point\n",
    "x = 0\n",
    "\n",
    "# Perform the convergence loop\n",
    "while True:\n",
    "    # Calculate the derivative at the current point\n",
    "    gradient = derivative(x)\n",
    "\n",
    "    # Update the current point by taking a step in the opposite direction of the gradient\n",
    "    x = x - 0.1 * gradient\n",
    "\n",
    "    # Calculate the change in the function value\n",
    "    delta = abs(function(x) - function(x - 0.1 * gradient))\n",
    "\n",
    "    # Check if convergence threshold is reached\n",
    "    if delta < threshold:\n",
    "        break\n",
    "\n",
    "    # Print the current point and the corresponding value of the function\n",
    "    print(\"x:\", x, \"f(x):\", function(x))\n",
    "\n",
    "print(\"Converged to x:\", x, \"with f(x):\", function(x))\n"
   ]
  },
  {
   "cell_type": "code",
   "execution_count": null,
   "metadata": {},
   "outputs": [],
   "source": [
    "### HOME work,,,,, find the local minimum with python do not use any library (use chatgpt\n",
    "# Function for which we want to find the local minimum\n",
    "def f(x):\n",
    "    return x ** 2 + 5 * x + 6\n",
    "\n",
    "# Derivative of the function\n",
    "def f_prime(x):\n",
    "    return 2 * x + 5\n",
    "\n",
    "# Gradient descent optimization algorithm\n",
    "def gradient_descent(learning_rate, max_iterations, initial_x):\n",
    "    x = initial_x\n",
    "    for _ in range(max_iterations):\n",
    "        gradient = f_prime(x)\n",
    "        x -= learning_rate * gradient\n",
    "    return x\n",
    "\n",
    "# Set the hyperparameters\n",
    "learning_rate = 0.1\n",
    "max_iterations = 1000\n",
    "initial_x = 0\n",
    "\n",
    "# Perform gradient descent\n",
    "local_minimum = gradient_descent(learning_rate, max_iterations, initial_x)\n",
    "\n",
    "print(\"Local minimum:\", local_minimum)\n",
    "print(\"Function value at local minimum:\", f(local_minimum))\n"
   ]
  },
  {
   "cell_type": "code",
   "execution_count": 3,
   "metadata": {},
   "outputs": [
    {
     "name": "stdout",
     "output_type": "stream",
     "text": [
      " | | \n",
      "---------\n",
      " | | \n",
      "---------\n",
      " | | \n",
      "---------\n"
     ]
    },
    {
     "ename": "ValueError",
     "evalue": "invalid literal for int() with base 10: 'start'",
     "output_type": "error",
     "traceback": [
      "\u001b[0;31m---------------------------------------------------------------------------\u001b[0m",
      "\u001b[0;31mValueError\u001b[0m                                Traceback (most recent call last)",
      "\u001b[0;32m/var/folders/l_/j699flmx6dbc1vlb90jx_hyw0000gn/T/ipykernel_709/2714161425.py\u001b[0m in \u001b[0;36m<module>\u001b[0;34m\u001b[0m\n\u001b[1;32m     62\u001b[0m \u001b[0;34m\u001b[0m\u001b[0m\n\u001b[1;32m     63\u001b[0m \u001b[0;31m# Start the game\u001b[0m\u001b[0;34m\u001b[0m\u001b[0;34m\u001b[0m\u001b[0m\n\u001b[0;32m---> 64\u001b[0;31m \u001b[0mplay_game\u001b[0m\u001b[0;34m(\u001b[0m\u001b[0;34m)\u001b[0m\u001b[0;34m\u001b[0m\u001b[0;34m\u001b[0m\u001b[0m\n\u001b[0m",
      "\u001b[0;32m/var/folders/l_/j699flmx6dbc1vlb90jx_hyw0000gn/T/ipykernel_709/2714161425.py\u001b[0m in \u001b[0;36mplay_game\u001b[0;34m()\u001b[0m\n\u001b[1;32m     37\u001b[0m \u001b[0;34m\u001b[0m\u001b[0m\n\u001b[1;32m     38\u001b[0m         \u001b[0;31m# Get the player's move\u001b[0m\u001b[0;34m\u001b[0m\u001b[0;34m\u001b[0m\u001b[0m\n\u001b[0;32m---> 39\u001b[0;31m         \u001b[0mrow\u001b[0m \u001b[0;34m=\u001b[0m \u001b[0mint\u001b[0m\u001b[0;34m(\u001b[0m\u001b[0minput\u001b[0m\u001b[0;34m(\u001b[0m\u001b[0;34m\"Enter the row (0-2): \"\u001b[0m\u001b[0;34m)\u001b[0m\u001b[0;34m)\u001b[0m\u001b[0;34m\u001b[0m\u001b[0;34m\u001b[0m\u001b[0m\n\u001b[0m\u001b[1;32m     40\u001b[0m         \u001b[0mcol\u001b[0m \u001b[0;34m=\u001b[0m \u001b[0mint\u001b[0m\u001b[0;34m(\u001b[0m\u001b[0minput\u001b[0m\u001b[0;34m(\u001b[0m\u001b[0;34m\"Enter the column (0-2): \"\u001b[0m\u001b[0;34m)\u001b[0m\u001b[0;34m)\u001b[0m\u001b[0;34m\u001b[0m\u001b[0;34m\u001b[0m\u001b[0m\n\u001b[1;32m     41\u001b[0m \u001b[0;34m\u001b[0m\u001b[0m\n",
      "\u001b[0;31mValueError\u001b[0m: invalid literal for int() with base 10: 'start'"
     ]
    }
   ],
   "source": [
    "def print_board(board):\n",
    "    for row in board:\n",
    "        print(\"|\".join(row))\n",
    "        print(\"-\" * 9)\n",
    "\n",
    "\n",
    "def check_winner(board):\n",
    "    # Check rows\n",
    "    for row in board:\n",
    "        if len(set(row)) == 1 and row[0] != \" \":\n",
    "            return row[0]\n",
    "\n",
    "    # Check columns\n",
    "    for col in range(3):\n",
    "        if len(set([board[row][col] for row in range(3)])) == 1 and board[0][col] != \" \":\n",
    "            return board[0][col]\n",
    "\n",
    "    # Check diagonals\n",
    "    if len(set([board[i][i] for i in range(3)])) == 1 and board[0][0] != \" \":\n",
    "        return board[0][0]\n",
    "    if len(set([board[i][2 - i] for i in range(3)])) == 1 and board[0][2] != \" \":\n",
    "        return board[0][2]\n",
    "\n",
    "    # Check for a tie\n",
    "    if all(board[i][j] != \" \" for i in range(3) for j in range(3)):\n",
    "        return \"tie\"\n",
    "\n",
    "    return None\n",
    "\n",
    "\n",
    "def play_game():\n",
    "    board = [[\" \" for _ in range(3)] for _ in range(3)]\n",
    "    current_player = \"X\"\n",
    "\n",
    "    while True:\n",
    "        print_board(board)\n",
    "\n",
    "        # Get the player's move\n",
    "        row = int(input(\"Enter the row (0-2): \"))\n",
    "        col = int(input(\"Enter the column (0-2): \"))\n",
    "\n",
    "        # Update the board\n",
    "        if board[row][col] == \" \":\n",
    "            board[row][col] = current_player\n",
    "        else:\n",
    "            print(\"Invalid move. Try again.\")\n",
    "            continue\n",
    "\n",
    "        # Check for a winner\n",
    "        winner = check_winner(board)\n",
    "        if winner:\n",
    "            print_board(board)\n",
    "            if winner == \"tie\":\n",
    "                print(\"It's a tie!\")\n",
    "            else:\n",
    "                print(f\"Player {winner} wins!\")\n",
    "            break\n",
    "\n",
    "        # Switch players\n",
    "        current_player = \"O\" if current_player == \"X\" else \"X\"\n",
    "\n",
    "\n",
    "# Start the game\n",
    "play_game()\n"
   ]
  },
  {
   "cell_type": "code",
   "execution_count": 5,
   "metadata": {},
   "outputs": [
    {
     "name": "stdout",
     "output_type": "stream",
     "text": [
      "Collecting pygame\n",
      "  Downloading pygame-2.4.0-cp39-cp39-macosx_10_9_x86_64.whl (12.9 MB)\n",
      "\u001b[2K     \u001b[90m━━━━━━━━━━━━━━━━━━━━━━━━━━━━━━━━━━━━━━━━\u001b[0m \u001b[32m12.9/12.9 MB\u001b[0m \u001b[31m7.1 MB/s\u001b[0m eta \u001b[36m0:00:00\u001b[0m00:01\u001b[0m00:01\u001b[0m\n",
      "\u001b[?25hInstalling collected packages: pygame\n",
      "Successfully installed pygame-2.4.0\n",
      "Note: you may need to restart the kernel to use updated packages.\n"
     ]
    }
   ],
   "source": [
    "pip install pygame"
   ]
  },
  {
   "cell_type": "code",
   "execution_count": null,
   "metadata": {},
   "outputs": [],
   "source": []
  },
  {
   "cell_type": "code",
   "execution_count": 6,
   "metadata": {},
   "outputs": [
    {
     "name": "stdout",
     "output_type": "stream",
     "text": [
      "pygame 2.4.0 (SDL 2.26.4, Python 3.9.13)\n",
      "Hello from the pygame community. https://www.pygame.org/contribute.html\n"
     ]
    },
    {
     "ename": "SystemExit",
     "evalue": "",
     "output_type": "error",
     "traceback": [
      "An exception has occurred, use %tb to see the full traceback.\n",
      "\u001b[0;31mSystemExit\u001b[0m\n"
     ]
    },
    {
     "name": "stderr",
     "output_type": "stream",
     "text": [
      "/Users/angelasthingy/opt/anaconda3/lib/python3.9/site-packages/IPython/core/interactiveshell.py:3465: UserWarning: To exit: use 'exit', 'quit', or Ctrl-D.\n",
      "  warn(\"To exit: use 'exit', 'quit', or Ctrl-D.\", stacklevel=1)\n"
     ]
    }
   ],
   "source": [
    "import pygame\n",
    "import sys\n",
    "\n",
    "# Initialize pygame\n",
    "pygame.init()\n",
    "\n",
    "# Set up the game window\n",
    "WIDTH = 300\n",
    "HEIGHT = 300\n",
    "BG_COLOR = (255, 255, 255)\n",
    "LINE_COLOR = (0, 0, 0)\n",
    "FPS = 60\n",
    "\n",
    "screen = pygame.display.set_mode((WIDTH, HEIGHT))\n",
    "pygame.display.set_caption(\"Tic Tac Toe\")\n",
    "clock = pygame.time.Clock()\n",
    "\n",
    "# Game variables\n",
    "board = [[\" \" for _ in range(3)] for _ in range(3)]\n",
    "current_player = \"X\"\n",
    "game_over = False\n",
    "winner = None\n",
    "\n",
    "# Set up fonts\n",
    "FONT = pygame.font.SysFont(\"Arial\", 90)\n",
    "SMALL_FONT = pygame.font.SysFont(\"Arial\", 40)\n",
    "\n",
    "\n",
    "def draw_lines():\n",
    "    pygame.draw.line(screen, LINE_COLOR, (100, 0), (100, HEIGHT), 2)\n",
    "    pygame.draw.line(screen, LINE_COLOR, (200, 0), (200, HEIGHT), 2)\n",
    "    pygame.draw.line(screen, LINE_COLOR, (0, 100), (WIDTH, 100), 2)\n",
    "    pygame.draw.line(screen, LINE_COLOR, (0, 200), (WIDTH, 200), 2)\n",
    "\n",
    "\n",
    "def draw_board():\n",
    "    for row in range(3):\n",
    "        for col in range(3):\n",
    "            x = col * 100 + 20\n",
    "            y = row * 100 + 20\n",
    "            if board[row][col] != \" \":\n",
    "                text = FONT.render(board[row][col], True, LINE_COLOR)\n",
    "                screen.blit(text, (x, y))\n",
    "\n",
    "\n",
    "def check_winner():\n",
    "    # Check rows\n",
    "    for row in board:\n",
    "        if row[0] == row[1] == row[2] != \" \":\n",
    "            return row[0]\n",
    "\n",
    "    # Check columns\n",
    "    for col in range(3):\n",
    "        if board[0][col] == board[1][col] == board[2][col] != \" \":\n",
    "            return board[0][col]\n",
    "\n",
    "    # Check diagonals\n",
    "    if board[0][0] == board[1][1] == board[2][2] != \" \":\n",
    "        return board[0][0]\n",
    "    if board[0][2] == board[1][1] == board[2][0] != \" \":\n",
    "        return board[0][2]\n",
    "\n",
    "    # Check for a tie\n",
    "    if all(board[i][j] != \" \" for i in range(3) for j in range(3)):\n",
    "        return \"tie\"\n",
    "\n",
    "    return None\n",
    "\n",
    "\n",
    "def draw_winner(winner):\n",
    "    if winner == \"tie\":\n",
    "        text = SMALL_FONT.render(\"It's a tie!\", True, LINE_COLOR)\n",
    "    else:\n",
    "        text = SMALL_FONT.render(f\"Player {winner} wins!\", True, LINE_COLOR)\n",
    "    screen.blit(text, (40, HEIGHT // 2 - 20))\n",
    "\n",
    "\n",
    "def reset_game():\n",
    "    global board, current_player, game_over, winner\n",
    "    board = [[\" \" for _ in range(3)] for _ in range(3)]\n",
    "    current_player = \"X\"\n",
    "    game_over = False\n",
    "    winner = None\n",
    "\n",
    "\n",
    "# Game loop\n",
    "while True:\n",
    "    for event in pygame.event.get():\n",
    "        if event.type == pygame.QUIT:\n",
    "            pygame.quit()\n",
    "            sys.exit()\n",
    "\n",
    "        if event.type == pygame.MOUSEBUTTONDOWN and not game_over:\n",
    "            if pygame.mouse.get_pressed()[0]:\n",
    "                pos = pygame.mouse.get_pos()\n",
    "                col = pos[0] // 100\n",
    "                row = pos[1] // 100\n",
    "\n",
    "                if board[row][col] == \" \":\n",
    "                    board[row][col] = current_player\n",
    "\n",
    "                    # Check for a winner\n",
    "                    winner = check_winner()\n",
    "                    if winner:\n",
    "                        game_over = True\n",
    "\n",
    "                    # Switch players\n",
    "                    current_player = \"O\" if current_player == \"X\" else \"X\"\n",
    "\n",
    "                if winner or winner == \"tie\":\n",
    "                    reset_game()\n",
    "\n",
    "    screen.fill(BG_COLOR)\n",
    "    draw_lines()\n",
    "    draw_board()\n",
    "\n",
    "    if game_over:\n",
    "        draw_winner(winner)\n",
    "\n",
    "    pygame.display.flip()\n",
    "    clock.tick(FPS)\n"
   ]
  },
  {
   "cell_type": "code",
   "execution_count": null,
   "metadata": {},
   "outputs": [],
   "source": []
  },
  {
   "cell_type": "code",
   "execution_count": null,
   "metadata": {},
   "outputs": [],
   "source": []
  },
  {
   "cell_type": "code",
   "execution_count": null,
   "metadata": {},
   "outputs": [],
   "source": []
  },
  {
   "cell_type": "code",
   "execution_count": null,
   "metadata": {},
   "outputs": [],
   "source": []
  },
  {
   "cell_type": "code",
   "execution_count": null,
   "metadata": {},
   "outputs": [],
   "source": []
  }
 ],
 "metadata": {
  "kernelspec": {
   "display_name": "base",
   "language": "python",
   "name": "python3"
  },
  "language_info": {
   "codemirror_mode": {
    "name": "ipython",
    "version": 3
   },
   "file_extension": ".py",
   "mimetype": "text/x-python",
   "name": "python",
   "nbconvert_exporter": "python",
   "pygments_lexer": "ipython3",
   "version": "3.9.13"
  },
  "orig_nbformat": 4
 },
 "nbformat": 4,
 "nbformat_minor": 2
}
