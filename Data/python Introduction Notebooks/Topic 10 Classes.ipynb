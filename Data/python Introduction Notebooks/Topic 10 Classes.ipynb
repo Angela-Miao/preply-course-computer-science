{
 "cells": [
  {
   "cell_type": "code",
   "execution_count": 4,
   "metadata": {},
   "outputs": [
    {
     "data": {
      "text/plain": [
       "'hello Robo Andy!'"
      ]
     },
     "execution_count": 4,
     "metadata": {},
     "output_type": "execute_result"
    }
   ],
   "source": [
    "## define a function\n",
    "### when you will pass it a name \n",
    "## it will return hello <name>\n",
    "\n",
    "def returnHello(Mrandy):\n",
    "    return \"hello \" + Mrandy\n",
    "\n",
    "\n",
    "returnHello(\"Robo Andy!\")\n"
   ]
  },
  {
   "cell_type": "code",
   "execution_count": 1,
   "metadata": {},
   "outputs": [
    {
     "data": {
      "text/plain": [
       "11"
      ]
     },
     "execution_count": 1,
     "metadata": {},
     "output_type": "execute_result"
    }
   ],
   "source": [
    "##\n",
    "## class is group of functions\n",
    "### make a function to ad two numeber\n",
    "def add(a,b):\n",
    "    return a+b\n",
    "add(5,6)\n"
   ]
  },
  {
   "cell_type": "code",
   "execution_count": 12,
   "metadata": {},
   "outputs": [],
   "source": [
    "class Andy():\n",
    "    def current_country(self):\n",
    "        return \"andy is in Japan\"\n",
    "    def old_country(self):\n",
    "        return \"andy was in usa first and may go back again\"\n"
   ]
  },
  {
   "cell_type": "code",
   "execution_count": 2,
   "metadata": {},
   "outputs": [
    {
     "ename": "NameError",
     "evalue": "name 'Andy' is not defined",
     "output_type": "error",
     "traceback": [
      "\u001b[0;31m---------------------------------------------------------------------------\u001b[0m",
      "\u001b[0;31mNameError\u001b[0m                                 Traceback (most recent call last)",
      "\u001b[0;32m/var/folders/l_/j699flmx6dbc1vlb90jx_hyw0000gn/T/ipykernel_96700/3919552421.py\u001b[0m in \u001b[0;36m<module>\u001b[0;34m\u001b[0m\n\u001b[0;32m----> 1\u001b[0;31m \u001b[0ma\u001b[0m \u001b[0;34m=\u001b[0m \u001b[0mAndy\u001b[0m\u001b[0;34m(\u001b[0m\u001b[0;34m)\u001b[0m\u001b[0;34m\u001b[0m\u001b[0;34m\u001b[0m\u001b[0m\n\u001b[0m",
      "\u001b[0;31mNameError\u001b[0m: name 'Andy' is not defined"
     ]
    }
   ],
   "source": [
    "a = Andy()\n"
   ]
  },
  {
   "cell_type": "code",
   "execution_count": null,
   "metadata": {},
   "outputs": [
    {
     "data": {
      "text/plain": [
       "'andy was in usa first and may go back again'"
      ]
     },
     "execution_count": 15,
     "metadata": {},
     "output_type": "execute_result"
    }
   ],
   "source": [
    "a.current_country()\n",
    "a.old_country()"
   ]
  },
  {
   "cell_type": "code",
   "execution_count": 3,
   "metadata": {},
   "outputs": [],
   "source": [
    "## make a class of calculator\n",
    "### if you write b.plus sh it should return sum of and and b\n",
    "### if you write b.minus sh it should return differnce of a and b\n",
    "### if you write b.prod sh it should return product of a and b"
   ]
  },
  {
   "cell_type": "code",
   "execution_count": 4,
   "metadata": {},
   "outputs": [],
   "source": [
    "class calculator():\n",
    "    def plus(self,a,b):\n",
    "        return (a+b)\n",
    "    def minus(self,a,b):\n",
    "        return (a-b)\n",
    "    def multiply(self,a,b):\n",
    "        return (a*b)\n",
    "    def divide(self,a,b):\n",
    "        return (a/b)\n",
    "    \n",
    "        "
   ]
  },
  {
   "cell_type": "code",
   "execution_count": 5,
   "metadata": {},
   "outputs": [],
   "source": [
    "b = calculator()"
   ]
  },
  {
   "cell_type": "code",
   "execution_count": 6,
   "metadata": {},
   "outputs": [
    {
     "data": {
      "text/plain": [
       "3"
      ]
     },
     "execution_count": 6,
     "metadata": {},
     "output_type": "execute_result"
    }
   ],
   "source": [
    "b.plus(1,2)"
   ]
  },
  {
   "cell_type": "code",
   "execution_count": 7,
   "metadata": {},
   "outputs": [
    {
     "data": {
      "text/plain": [
       "0.5"
      ]
     },
     "execution_count": 7,
     "metadata": {},
     "output_type": "execute_result"
    }
   ],
   "source": [
    "b.divide(1,2)"
   ]
  },
  {
   "cell_type": "code",
   "execution_count": 8,
   "metadata": {},
   "outputs": [
    {
     "data": {
      "text/plain": [
       "2"
      ]
     },
     "execution_count": 8,
     "metadata": {},
     "output_type": "execute_result"
    }
   ],
   "source": [
    "b.multiply(1,2)"
   ]
  },
  {
   "cell_type": "code",
   "execution_count": 9,
   "metadata": {},
   "outputs": [
    {
     "data": {
      "text/plain": [
       "-1"
      ]
     },
     "execution_count": 9,
     "metadata": {},
     "output_type": "execute_result"
    }
   ],
   "source": [
    "b.minus(1,2)"
   ]
  },
  {
   "cell_type": "code",
   "execution_count": 10,
   "metadata": {},
   "outputs": [],
   "source": [
    "###make a class its name will be Mathcalcu... this class will have small functions to find square root, product and power\n",
    "class MathCalculator():\n",
    "    def Power(self,a,b):\n",
    "        return (a**b)\n",
    "    def SquareRoot(self,a):\n",
    "        return (a**(1/2))"
   ]
  },
  {
   "cell_type": "code",
   "execution_count": 11,
   "metadata": {},
   "outputs": [],
   "source": [
    "m = MathCalculator()"
   ]
  },
  {
   "cell_type": "code",
   "execution_count": 12,
   "metadata": {},
   "outputs": [
    {
     "data": {
      "text/plain": [
       "8"
      ]
     },
     "execution_count": 12,
     "metadata": {},
     "output_type": "execute_result"
    }
   ],
   "source": [
    "m.Power(2,3)"
   ]
  },
  {
   "cell_type": "code",
   "execution_count": 13,
   "metadata": {},
   "outputs": [
    {
     "ename": "SyntaxError",
     "evalue": "invalid syntax (2562067747.py, line 1)",
     "output_type": "error",
     "traceback": [
      "\u001b[0;36m  File \u001b[0;32m\"/var/folders/l_/j699flmx6dbc1vlb90jx_hyw0000gn/T/ipykernel_96700/2562067747.py\"\u001b[0;36m, line \u001b[0;32m1\u001b[0m\n\u001b[0;31m    m.\u001b[0m\n\u001b[0m      ^\u001b[0m\n\u001b[0;31mSyntaxError\u001b[0m\u001b[0;31m:\u001b[0m invalid syntax\n"
     ]
    }
   ],
   "source": [
    "m."
   ]
  },
  {
   "cell_type": "code",
   "execution_count": 26,
   "metadata": {},
   "outputs": [],
   "source": [
    "class Cat():\n",
    "    def __init__(self,name,age):\n",
    "        self.name = name\n",
    "        self.age = age\n",
    "    \n",
    "    def tell_me_name(self):\n",
    "        print(self.name,\"is name of CAT\")\n",
    "\n",
    "    def tell_me_age(self):\n",
    "        print(self.age,\"is age of \",self.name)\n",
    "\n",
    "\n",
    "\n"
   ]
  },
  {
   "cell_type": "code",
   "execution_count": 43,
   "metadata": {},
   "outputs": [
    {
     "name": "stdout",
     "output_type": "stream",
     "text": [
      "mrandy is name of animal, 100 is how many legs they have and purple is the color of the animal\n",
      "mrangela is name of animal, 1 is how many legs they have and green is the color of the animal\n"
     ]
    }
   ],
   "source": [
    "class animal():\n",
    "    def __init__(self,name,legs,color ):\n",
    "        self.banana = name\n",
    "        self.hundred = legs\n",
    "        self.pink = color\n",
    "    def tell_me_everything(self):\n",
    "        print(self.banana,\"is name of animal,\", self.hundred, \"is how many legs they have and\", self.pink, \"is the color of the animal\")\n",
    "\n",
    "\n",
    "lion = animal(\"mrandy\",100,\"purple\")\n",
    "lion.tell_me_everything()\n",
    "\n",
    "\n",
    "# just line you made lion isinstance## now you ahvet o make goat instanfce\n",
    "goat = animal(\"mrangela\",1,\"green\")\n",
    "goat.tell_me_everything()\n",
    "\n",
    "\n",
    "\n",
    "\n",
    "\n"
   ]
  },
  {
   "cell_type": "code",
   "execution_count": 38,
   "metadata": {},
   "outputs": [],
   "source": [
    "andy_cat = Cat(\"happiy\",9)\n",
    "angela_cat = Cat(\"Awang\",24)\n",
    "\n"
   ]
  },
  {
   "cell_type": "code",
   "execution_count": 28,
   "metadata": {},
   "outputs": [
    {
     "name": "stdout",
     "output_type": "stream",
     "text": [
      "happiy is name of CAT\n"
     ]
    }
   ],
   "source": [
    "andy_cat.tell_me_name()"
   ]
  },
  {
   "cell_type": "code",
   "execution_count": null,
   "metadata": {},
   "outputs": [],
   "source": [
    "\n"
   ]
  },
  {
   "cell_type": "code",
   "execution_count": 29,
   "metadata": {},
   "outputs": [
    {
     "name": "stdout",
     "output_type": "stream",
     "text": [
      "24 is age of  Awang\n"
     ]
    }
   ],
   "source": [
    "# how can i print age of angela_cat???\n",
    "angela_cat.tell_me_age()"
   ]
  },
  {
   "cell_type": "code",
   "execution_count": 30,
   "metadata": {},
   "outputs": [
    {
     "name": "stdout",
     "output_type": "stream",
     "text": [
      "10 is age of  umairs cat\n"
     ]
    }
   ],
   "source": [
    "umair_cat = Cat(\"umairs cat\",10)\n",
    "umair_cat.tell_me_age()"
   ]
  },
  {
   "cell_type": "code",
   "execution_count": null,
   "metadata": {},
   "outputs": [],
   "source": [
    "### HOME WORK \n",
    "### MAKE A VIDEO OF ANDY IN WHICH ANDY IS SINGING \n",
    "### MAKE A CLASS ANIMAL AND MAKE FUNCTION ANIMAL NAME AND ANIMAL AGE"
   ]
  }
 ],
 "metadata": {
  "kernelspec": {
   "display_name": "base",
   "language": "python",
   "name": "python3"
  },
  "language_info": {
   "codemirror_mode": {
    "name": "ipython",
    "version": 3
   },
   "file_extension": ".py",
   "mimetype": "text/x-python",
   "name": "python",
   "nbconvert_exporter": "python",
   "pygments_lexer": "ipython3",
   "version": "3.9.13"
  },
  "orig_nbformat": 4
 },
 "nbformat": 4,
 "nbformat_minor": 2
}
