{
 "cells": [
  {
   "cell_type": "markdown",
   "metadata": {},
   "source": [
    "# what is taylor series (1 line) \n",
    "an fuction or polynomial with the sum of infinite"
   ]
  },
  {
   "cell_type": "markdown",
   "metadata": {},
   "source": [
    "# why we need it?\n",
    "to expand and used to evaluate the value of a whole function in each point if the functional values and derivatives are identified at a single point"
   ]
  },
  {
   "cell_type": "code",
   "execution_count": 7,
   "metadata": {},
   "outputs": [
    {
     "name": "stdout",
     "output_type": "stream",
     "text": [
      "The Taylor series expansion of sin(2) with 50 terms is approximately: 0.0\n"
     ]
    }
   ],
   "source": [
    "import math\n",
    "\n",
    "def taylor_series_expansion(func, a, x, n):\n",
    "    result = 0\n",
    "    for i in range(n):\n",
    "        result += ((-1)**i) * func(a) * ((x - a)**i) / math.factorial(i)\n",
    "    return result\n",
    "\n",
    "# Example for the sine function expansion around x = 0 with 5 terms\n",
    "x_value = 2\n",
    "terms = 50\n",
    "result = taylor_series_expansion(math.sin, 0, x_value, terms)\n",
    "print(f\"The Taylor series expansion of sin({x_value}) with {terms} terms is approximately: {result}\")\n"
   ]
  },
  {
   "cell_type": "code",
   "execution_count": 9,
   "metadata": {},
   "outputs": [
    {
     "name": "stdout",
     "output_type": "stream",
     "text": [
      "The Taylor series expansion of sin(90.0) with 5 terms is approximately: 4.7041304823383605\n"
     ]
    }
   ],
   "source": [
    "import math\n",
    "\n",
    "def taylor_series_expansion(func, x, n):\n",
    "    result = 0\n",
    "    for i in range(n):\n",
    "        result += func(x) * ((x)**i) / math.factorial(i)\n",
    "    return result\n",
    "\n",
    "# Example for the sine function expansion around x = 0 with 5 terms\n",
    "x_value = math.radians(90)  # Convert degrees to radians for trigonometric functions\n",
    "terms = 5\n",
    "result = taylor_series_expansion(math.sin, x_value, terms)\n",
    "print(f\"The Taylor series expansion of sin({math.degrees(x_value)}) with {terms} terms is approximately: {result}\")\n"
   ]
  },
  {
   "cell_type": "code",
   "execution_count": 10,
   "metadata": {},
   "outputs": [],
   "source": [
    "# Taylor Series Theoram expansion \n",
    "# make a function for factorial"
   ]
  },
  {
   "cell_type": "code",
   "execution_count": 14,
   "metadata": {},
   "outputs": [
    {
     "data": {
      "text/plain": [
       "120"
      ]
     },
     "execution_count": 14,
     "metadata": {},
     "output_type": "execute_result"
    }
   ],
   "source": [
    "math.factorial(5)"
   ]
  },
  {
   "cell_type": "code",
   "execution_count": null,
   "metadata": {},
   "outputs": [],
   "source": [
    "# example e**x = 1 + (x) + (x**2 / math.factorial(2)) + (x**3 / math.factorial(3)) "
   ]
  },
  {
   "cell_type": "code",
   "execution_count": 33,
   "metadata": {},
   "outputs": [
    {
     "name": "stdout",
     "output_type": "stream",
     "text": [
      "2.7182818284590455\n"
     ]
    }
   ],
   "source": [
    "# alternative of finding exponential\n",
    "s = 1\n",
    "e = 100\n",
    "x=1\n",
    "for i in range(1,e+1):\n",
    "    s = s + x**i/ math.factorial(i)\n",
    "print(s)"
   ]
  },
  {
   "cell_type": "code",
   "execution_count": 36,
   "metadata": {},
   "outputs": [
    {
     "data": {
      "text/plain": [
       "-0.5440211108893698"
      ]
     },
     "execution_count": 36,
     "metadata": {},
     "output_type": "execute_result"
    }
   ],
   "source": [
    "import numpy as np\n",
    "x= 10\n",
    "np.sin(x)"
   ]
  },
  {
   "cell_type": "code",
   "execution_count": 39,
   "metadata": {},
   "outputs": [
    {
     "name": "stdout",
     "output_type": "stream",
     "text": [
      "11003.232874703395\n"
     ]
    }
   ],
   "source": [
    "# alternative of finding exponential\n",
    "s = 0\n",
    "val = 100\n",
    "x=10\n",
    "for i in range(3,val+1,2):\n",
    "    if i %2==0:\n",
    "        s = s - x**i/ math.factorial(i)\n",
    "    else: \n",
    "        s = s+x**i/ math.factorial(i)\n",
    "print(s)"
   ]
  },
  {
   "cell_type": "code",
   "execution_count": 40,
   "metadata": {},
   "outputs": [
    {
     "name": "stdout",
     "output_type": "stream",
     "text": [
      "-0.54402111088927\n"
     ]
    }
   ],
   "source": [
    "import math\n",
    "\n",
    "s = 0\n",
    "val = 100\n",
    "x = 10\n",
    "\n",
    "for i in range(1, val + 1, 2):  # Ensure i is odd\n",
    "    if i % 4 == 1:\n",
    "        s += x**i / math.factorial(i)\n",
    "    else:\n",
    "        s -= x**i / math.factorial(i)\n",
    "\n",
    "print(s)\n"
   ]
  },
  {
   "cell_type": "code",
   "execution_count": null,
   "metadata": {},
   "outputs": [],
   "source": []
  }
 ],
 "metadata": {
  "kernelspec": {
   "display_name": "Python 3",
   "language": "python",
   "name": "python3"
  },
  "language_info": {
   "codemirror_mode": {
    "name": "ipython",
    "version": 3
   },
   "file_extension": ".py",
   "mimetype": "text/x-python",
   "name": "python",
   "nbconvert_exporter": "python",
   "pygments_lexer": "ipython3",
   "version": "3.9.6"
  }
 },
 "nbformat": 4,
 "nbformat_minor": 2
}
