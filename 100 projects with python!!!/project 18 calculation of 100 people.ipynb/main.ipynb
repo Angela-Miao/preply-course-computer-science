{
 "cells": [
  {
   "cell_type": "code",
   "execution_count": 1,
   "metadata": {},
   "outputs": [
    {
     "name": "stdout",
     "output_type": "stream",
     "text": [
      "hello world\n"
     ]
    }
   ],
   "source": [
    "print('hello world')"
   ]
  },
  {
   "cell_type": "code",
   "execution_count": 2,
   "metadata": {},
   "outputs": [],
   "source": [
    "bio_numerical = {\n",
    "    \"Growth Rate (per day)\": 0.05,\n",
    "    \"Heart Rate (beats per minute)\": 70,\n",
    "    \"Body Temperature (degrees Celsius)\": 37,\n",
    "    \"Blood pH\": 7.4,\n",
    "    \"Chromosome Count (in humans)\": 46,\n",
    "    \"Average Lifespan (years)\": 80,\n",
    "}"
   ]
  },
  {
   "cell_type": "code",
   "execution_count": 3,
   "metadata": {},
   "outputs": [],
   "source": [
    "# for person 1 the Growth Rate (per day) is 0.05\n",
    "# for person 1 the Heart Rate (beats per minute) is 70\n",
    "# for person 1 the Body Temperature (degrees Celsius) is 37\n",
    "# for person 1 the Blood pH is 7.4\n",
    "# for person 1 the Chromosome Count (in humans) is 46\n",
    "# for person 1 the Average Lifespan (years) is 80"
   ]
  },
  {
   "cell_type": "code",
   "execution_count": 7,
   "metadata": {},
   "outputs": [
    {
     "name": "stdout",
     "output_type": "stream",
     "text": [
      "for person one Growth Rate (per day) is 0.05\n",
      "for person one Heart Rate (beats per minute) is 70\n",
      "for person one Body Temperature (degrees Celsius) is 37\n",
      "for person one Blood pH is 7.4\n",
      "for person one Chromosome Count (in humans) is 46\n",
      "for person one Average Lifespan (years) is 80\n"
     ]
    }
   ],
   "source": [
    "for i in bio_numerical:\n",
    "    print(\"for person one\", i ,'is', bio_numerical[i])"
   ]
  },
  {
   "cell_type": "code",
   "execution_count": 8,
   "metadata": {},
   "outputs": [],
   "source": [
    "people_data = [\n",
    "    {\"Name\": \"Alice\", \"Age\": 28, \"Height (cm)\": 167, \"Weight (kg)\": 60, \"Blood Pressure (mmHg)\": {\"Systolic\": 120, \"Diastolic\": 80}, \"Cholesterol (mg/dL)\": 180},\n",
    "    {\"Name\": \"Bob\", \"Age\": 35, \"Height (cm)\": 175, \"Weight (kg)\": 70, \"Blood Pressure (mmHg)\": {\"Systolic\": 130, \"Diastolic\": 85}, \"Cholesterol (mg/dL)\": 200},\n",
    "    {\"Name\": \"Charlie\", \"Age\": 32, \"Height (cm)\": 180, \"Weight (kg)\": 80, \"Blood Pressure (mmHg)\": {\"Systolic\": 125, \"Diastolic\": 82}, \"Cholesterol (mg/dL)\": 190},\n",
    "    {\"Name\": \"David\", \"Age\": 30, \"Height (cm)\": 172, \"Weight (kg)\": 65, \"Blood Pressure (mmHg)\": {\"Systolic\": 118, \"Diastolic\": 78}, \"Cholesterol (mg/dL)\": 175},\n",
    "    {\"Name\": \"Eve\", \"Age\": 29, \"Height (cm)\": 160, \"Weight (kg)\": 55, \"Blood Pressure (mmHg)\": {\"Systolic\": 122, \"Diastolic\": 79}, \"Cholesterol (mg/dL)\": 185},\n",
    "    {\"Name\": \"Frank\", \"Age\": 40, \"Height (cm)\": 185, \"Weight (kg)\": 90, \"Blood Pressure (mmHg)\": {\"Systolic\": 135, \"Diastolic\": 88}, \"Cholesterol (mg/dL)\": 210},\n",
    "    {\"Name\": \"Grace\", \"Age\": 25, \"Height (cm)\": 155, \"Weight (kg)\": 50, \"Blood Pressure (mmHg)\": {\"Systolic\": 115, \"Diastolic\": 75}, \"Cholesterol (mg/dL)\": 170},\n",
    "    {\"Name\": \"Harry\", \"Age\": 31, \"Height (cm)\": 178, \"Weight (kg)\": 85, \"Blood Pressure (mmHg)\": {\"Systolic\": 128, \"Diastolic\": 81}, \"Cholesterol (mg/dL)\": 195},\n",
    "    {\"Name\": \"Ivy\", \"Age\": 27, \"Height (cm)\": 163, \"Weight (kg)\": 62, \"Blood Pressure (mmHg)\": {\"Systolic\": 124, \"Diastolic\": 77}, \"Cholesterol (mg/dL)\": 180},\n",
    "    {\"Name\": \"Jack\", \"Age\": 33, \"Height (cm)\": 181, \"Weight (kg)\": 75, \"Blood Pressure (mmHg)\": {\"Systolic\": 132, \"Diastolic\": 84}, \"Cholesterol (mg/dL)\": 205},\n",
    "]\n",
    "\n"
   ]
  },
  {
   "cell_type": "code",
   "execution_count": 28,
   "metadata": {},
   "outputs": [
    {
     "name": "stdout",
     "output_type": "stream",
     "text": [
      "the Name the patient is Alice . Alice Has the Age of 28 , \n",
      "the Height (cm) of 167 , the Weight (kg) of 60 , \n",
      "the Blood Pressure (mmHg) of {'Systolic': 120, 'Diastolic': 80} , and the Cholesterol (mg/dL) of 180\n",
      "==================================================\n",
      "==================================================\n",
      "the Name the patient is Bob . Bob Has the Age of 35 , \n",
      "the Height (cm) of 175 , the Weight (kg) of 70 , \n",
      "the Blood Pressure (mmHg) of {'Systolic': 130, 'Diastolic': 85} , and the Cholesterol (mg/dL) of 200\n",
      "==================================================\n",
      "==================================================\n",
      "the Name the patient is Charlie . Charlie Has the Age of 32 , \n",
      "the Height (cm) of 180 , the Weight (kg) of 80 , \n",
      "the Blood Pressure (mmHg) of {'Systolic': 125, 'Diastolic': 82} , and the Cholesterol (mg/dL) of 190\n",
      "==================================================\n",
      "==================================================\n",
      "the Name the patient is David . David Has the Age of 30 , \n",
      "the Height (cm) of 172 , the Weight (kg) of 65 , \n",
      "the Blood Pressure (mmHg) of {'Systolic': 118, 'Diastolic': 78} , and the Cholesterol (mg/dL) of 175\n",
      "==================================================\n",
      "==================================================\n",
      "the Name the patient is Eve . Eve Has the Age of 29 , \n",
      "the Height (cm) of 160 , the Weight (kg) of 55 , \n",
      "the Blood Pressure (mmHg) of {'Systolic': 122, 'Diastolic': 79} , and the Cholesterol (mg/dL) of 185\n",
      "==================================================\n",
      "==================================================\n",
      "the Name the patient is Frank . Frank Has the Age of 40 , \n",
      "the Height (cm) of 185 , the Weight (kg) of 90 , \n",
      "the Blood Pressure (mmHg) of {'Systolic': 135, 'Diastolic': 88} , and the Cholesterol (mg/dL) of 210\n",
      "==================================================\n",
      "==================================================\n",
      "the Name the patient is Grace . Grace Has the Age of 25 , \n",
      "the Height (cm) of 155 , the Weight (kg) of 50 , \n",
      "the Blood Pressure (mmHg) of {'Systolic': 115, 'Diastolic': 75} , and the Cholesterol (mg/dL) of 170\n",
      "==================================================\n",
      "==================================================\n",
      "the Name the patient is Harry . Harry Has the Age of 31 , \n",
      "the Height (cm) of 178 , the Weight (kg) of 85 , \n",
      "the Blood Pressure (mmHg) of {'Systolic': 128, 'Diastolic': 81} , and the Cholesterol (mg/dL) of 195\n",
      "==================================================\n",
      "==================================================\n",
      "the Name the patient is Ivy . Ivy Has the Age of 27 , \n",
      "the Height (cm) of 163 , the Weight (kg) of 62 , \n",
      "the Blood Pressure (mmHg) of {'Systolic': 124, 'Diastolic': 77} , and the Cholesterol (mg/dL) of 180\n",
      "==================================================\n",
      "==================================================\n",
      "the Name the patient is Jack . Jack Has the Age of 33 , \n",
      "the Height (cm) of 181 , the Weight (kg) of 75 , \n",
      "the Blood Pressure (mmHg) of {'Systolic': 132, 'Diastolic': 84} , and the Cholesterol (mg/dL) of 205\n",
      "==================================================\n",
      "==================================================\n"
     ]
    }
   ],
   "source": [
    "# your task is to write the information in for of report\n",
    "i = 0\n",
    "txt = ''\n",
    "for a,b,c,d,e,f in people_data:\n",
    "    current_people_data = people_data[i]\n",
    "    print(\"the\",a,\"the patient is\", current_people_data[a], \".\", current_people_data[a], \"Has the\", b, \"of\", current_people_data[b], \", \\nthe\", c,\"of\",current_people_data[c],\", the\",d,\"of\", current_people_data[d], \", \\nthe\",e, \"of\", current_people_data[e], \", and the\",f, \"of\", current_people_data[f])\n",
    "    i = i + 1\n",
    "    print('====='*10)\n",
    "    print('====='*10)"
   ]
  },
  {
   "cell_type": "code",
   "execution_count": 31,
   "metadata": {},
   "outputs": [
    {
     "name": "stdout",
     "output_type": "stream",
     "text": [
      "the Name the patient is Alice. Alice Has the Age of 28, \n",
      "the Height (cm) of 167, the Weight (kg) of 60, \n",
      "the Blood Pressure (mmHg) of {'Systolic': 120, 'Diastolic': 80}, and the Cholesterol (mg/dL) of 180\n",
      "==================================================\n",
      "==================================================\n",
      "the Name the patient is Bob. Bob Has the Age of 35, \n",
      "the Height (cm) of 175, the Weight (kg) of 70, \n",
      "the Blood Pressure (mmHg) of {'Systolic': 130, 'Diastolic': 85}, and the Cholesterol (mg/dL) of 200\n",
      "==================================================\n",
      "==================================================\n",
      "the Name the patient is Charlie. Charlie Has the Age of 32, \n",
      "the Height (cm) of 180, the Weight (kg) of 80, \n",
      "the Blood Pressure (mmHg) of {'Systolic': 125, 'Diastolic': 82}, and the Cholesterol (mg/dL) of 190\n",
      "==================================================\n",
      "==================================================\n",
      "the Name the patient is David. David Has the Age of 30, \n",
      "the Height (cm) of 172, the Weight (kg) of 65, \n",
      "the Blood Pressure (mmHg) of {'Systolic': 118, 'Diastolic': 78}, and the Cholesterol (mg/dL) of 175\n",
      "==================================================\n",
      "==================================================\n",
      "the Name the patient is Eve. Eve Has the Age of 29, \n",
      "the Height (cm) of 160, the Weight (kg) of 55, \n",
      "the Blood Pressure (mmHg) of {'Systolic': 122, 'Diastolic': 79}, and the Cholesterol (mg/dL) of 185\n",
      "==================================================\n",
      "==================================================\n",
      "the Name the patient is Frank. Frank Has the Age of 40, \n",
      "the Height (cm) of 185, the Weight (kg) of 90, \n",
      "the Blood Pressure (mmHg) of {'Systolic': 135, 'Diastolic': 88}, and the Cholesterol (mg/dL) of 210\n",
      "==================================================\n",
      "==================================================\n",
      "the Name the patient is Grace. Grace Has the Age of 25, \n",
      "the Height (cm) of 155, the Weight (kg) of 50, \n",
      "the Blood Pressure (mmHg) of {'Systolic': 115, 'Diastolic': 75}, and the Cholesterol (mg/dL) of 170\n",
      "==================================================\n",
      "==================================================\n",
      "the Name the patient is Harry. Harry Has the Age of 31, \n",
      "the Height (cm) of 178, the Weight (kg) of 85, \n",
      "the Blood Pressure (mmHg) of {'Systolic': 128, 'Diastolic': 81}, and the Cholesterol (mg/dL) of 195\n",
      "==================================================\n",
      "==================================================\n",
      "the Name the patient is Ivy. Ivy Has the Age of 27, \n",
      "the Height (cm) of 163, the Weight (kg) of 62, \n",
      "the Blood Pressure (mmHg) of {'Systolic': 124, 'Diastolic': 77}, and the Cholesterol (mg/dL) of 180\n",
      "==================================================\n",
      "==================================================\n",
      "the Name the patient is Jack. Jack Has the Age of 33, \n",
      "the Height (cm) of 181, the Weight (kg) of 75, \n",
      "the Blood Pressure (mmHg) of {'Systolic': 132, 'Diastolic': 84}, and the Cholesterol (mg/dL) of 205\n",
      "==================================================\n",
      "==================================================\n",
      "\n"
     ]
    }
   ],
   "source": [
    "i = 0\n",
    "txt = ''\n",
    "for a,b,c,d,e,f in people_data:\n",
    "    current_people_data = people_data[i]\n",
    "    output = \"the \" + str(a) + \" the patient is \" + str(current_people_data[a]) + \". \" + str(current_people_data[a]) + \" Has the \" + str(b) + \" of \" + str(current_people_data[b]) + \", \\nthe \" + str(c) + \" of \" + str(current_people_data[c]) + \", the \" + str(d) + \" of \" + str(current_people_data[d]) + \", \\nthe \" + str(e) + \" of \" + str(current_people_data[e]) + \", and the \" + str(f) + \" of \" + str(current_people_data[f])\n",
    "    \n",
    "    txt += output + \"\\n\" + '====='*10 + \"\\n\" + '====='*10 + \"\\n\"\n",
    "    i = i + 1\n",
    "\n",
    "print(txt)"
   ]
  },
  {
   "cell_type": "code",
   "execution_count": 34,
   "metadata": {},
   "outputs": [],
   "source": [
    "from reportlab.lib.pagesizes import letter\n",
    "from reportlab.pdfgen import canvas\n",
    "\n",
    "def create_pdf(text, filename):\n",
    "    # Set up the PDF\n",
    "    c = canvas.Canvas(filename, pagesize=letter)\n",
    "    width, height = letter\n",
    "\n",
    "    # Define where to start text (from the bottom left corner)\n",
    "    text_object = c.beginText(40, height - 40)\n",
    "    text_object.setFont(\"Helvetica\", 12)\n",
    "\n",
    "    # Split the text into lines and add them to the PDF\n",
    "    for line in text.split('\\n'):\n",
    "        text_object.textLine(line)\n",
    "\n",
    "    c.drawText(text_object)\n",
    "    c.save()\n",
    "\n",
    "# Your text variable\n",
    "text =txt\n",
    "\n",
    "# Output PDF file\n",
    "filename = \"output.pdf\"\n",
    "\n",
    "# Create the PDF\n",
    "create_pdf(text, filename)\n"
   ]
  },
  {
   "cell_type": "code",
   "execution_count": 33,
   "metadata": {},
   "outputs": [
    {
     "name": "stdout",
     "output_type": "stream",
     "text": [
      "Collecting reportlab\n",
      "  Downloading reportlab-4.2.0-py3-none-any.whl (1.9 MB)\n",
      "\u001b[2K     \u001b[90m━━━━━━━━━━━━━━━━━━━━━━━━━━━━━━━━━━━━━━━━\u001b[0m \u001b[32m1.9/1.9 MB\u001b[0m \u001b[31m4.7 MB/s\u001b[0m eta \u001b[36m0:00:00\u001b[0m00:01\u001b[0m00:01\u001b[0m\n",
      "\u001b[?25hRequirement already satisfied: chardet in /Users/angelasthingy/opt/anaconda3/lib/python3.9/site-packages (from reportlab) (4.0.0)\n",
      "Requirement already satisfied: pillow>=9.0.0 in /Users/angelasthingy/opt/anaconda3/lib/python3.9/site-packages (from reportlab) (9.2.0)\n",
      "Installing collected packages: reportlab\n",
      "Successfully installed reportlab-4.2.0\n",
      "Note: you may need to restart the kernel to use updated packages.\n"
     ]
    }
   ],
   "source": [
    "pip install reportlab"
   ]
  },
  {
   "cell_type": "code",
   "execution_count": null,
   "metadata": {},
   "outputs": [],
   "source": []
  }
 ],
 "metadata": {
  "kernelspec": {
   "display_name": "Python 3",
   "language": "python",
   "name": "python3"
  },
  "language_info": {
   "codemirror_mode": {
    "name": "ipython",
    "version": 3
   },
   "file_extension": ".py",
   "mimetype": "text/x-python",
   "name": "python",
   "nbconvert_exporter": "python",
   "pygments_lexer": "ipython3",
   "version": "3.9.13"
  }
 },
 "nbformat": 4,
 "nbformat_minor": 2
}
