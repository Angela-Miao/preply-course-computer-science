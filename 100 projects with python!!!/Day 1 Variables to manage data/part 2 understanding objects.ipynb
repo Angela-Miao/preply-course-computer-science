{
 "cells": [
  {
   "cell_type": "code",
   "execution_count": 3,
   "metadata": {},
   "outputs": [
    {
     "name": "stdout",
     "output_type": "stream",
     "text": [
      "Name: andy_jr.\n",
      "Color: rainbow\n"
     ]
    }
   ],
   "source": [
    "# plaes make a class Animal which will have name and color as attributes\n",
    "class Animal:\n",
    "    def __init__(self, name, color):\n",
    "        self.name = name\n",
    "        self.color = color\n",
    "\n",
    "# Example usage:\n",
    "# Creating an instance of the Animal class\n",
    "my_pet = Animal(name=\"Buddy\", color=\"Brown\")\n",
    "my_pet2 = Animal(\"andy_jr.\", color=\"rainbow\")\n",
    "# Accessing attributes\n",
    "print(\"Name:\", my_pet2.name)\n",
    "print(\"Color:\", my_pet2.color)\n",
    "\n",
    "\n"
   ]
  },
  {
   "cell_type": "code",
   "execution_count": null,
   "metadata": {},
   "outputs": [],
   "source": [
    "import turtle\n",
    "\n",
    "class CustomTurtle:\n",
    "    def __init__(self, color, x, y):\n",
    "        self.turtle = turtle.Turtle()\n",
    "        self.turtle.color(color)\n",
    "        self.turtle.shape(\"turtle\")\n",
    "        self.turtle.penup()\n",
    "        self.turtle.goto(x, y)\n",
    "        self.turtle.pendown()\n",
    "\n",
    "    def move(self, distance):\n",
    "        self.turtle.forward(distance)\n",
    "\n",
    "# Create two turtles using the CustomTurtle class\n",
    "turtle1 = CustomTurtle(\"blue\", -50, 0)\n",
    "turtle2 = CustomTurtle(\"green\", 50, 0)\n",
    "\n",
    "# Make the turtles move\n",
    "turtle1.move(100)\n",
    "turtle2.move(100)\n",
    "\n",
    "# Keep the window open until it is manually closed\n",
    "turtle.done()\n"
   ]
  }
 ],
 "metadata": {
  "kernelspec": {
   "display_name": "Python 3",
   "language": "python",
   "name": "python3"
  },
  "language_info": {
   "codemirror_mode": {
    "name": "ipython",
    "version": 3
   },
   "file_extension": ".py",
   "mimetype": "text/x-python",
   "name": "python",
   "nbconvert_exporter": "python",
   "pygments_lexer": "ipython3",
   "version": "3.9.6"
  },
  "orig_nbformat": 4
 },
 "nbformat": 4,
 "nbformat_minor": 2
}
