{
 "cells": [
  {
   "cell_type": "code",
   "execution_count": 1,
   "metadata": {},
   "outputs": [
    {
     "name": "stdout",
     "output_type": "stream",
     "text": [
      "if i live 90 years then i have left 61 years\n"
     ]
    }
   ],
   "source": [
    "# find how many years you have left if you live 90 years\n",
    "y = 29\n",
    "total = 90\n",
    "remaining = total - y\n",
    "print(f'if i live {total} years then i have left {total-y} years')\n",
    "\n",
    "#weeks = (y1 * (90-(age - age/4)) + 366 - age/4)\n"
   ]
  },
  {
   "cell_type": "code",
   "execution_count": 3,
   "metadata": {},
   "outputs": [
    {
     "name": "stdout",
     "output_type": "stream",
     "text": [
      "if i live 90 years then i have left 732 months\n"
     ]
    }
   ],
   "source": [
    "# how many months i have leftfft\n",
    "y = 29\n",
    "total = 90\n",
    "remaining = total - y\n",
    "print(f'if i live {total} years then i have left {(total-y)*12} months')"
   ]
  },
  {
   "cell_type": "code",
   "execution_count": 6,
   "metadata": {},
   "outputs": [
    {
     "name": "stdout",
     "output_type": "stream",
     "text": [
      "if i live 90 years then i have left 3172 weeks\n"
     ]
    }
   ],
   "source": [
    "y = 29\n",
    "total = 90\n",
    "remaining = total - y\n",
    "print(f'if i live {total} years then i have left {(total-y)*52} weeks')"
   ]
  },
  {
   "cell_type": "code",
   "execution_count": 7,
   "metadata": {},
   "outputs": [],
   "source": [
    "#\\ ho wmany days"
   ]
  },
  {
   "cell_type": "code",
   "execution_count": 8,
   "metadata": {},
   "outputs": [
    {
     "name": "stdout",
     "output_type": "stream",
     "text": [
      "if i live 90 years then i have left 22265 days\n"
     ]
    }
   ],
   "source": [
    "y = 29\n",
    "total = 90\n",
    "remaining = total - y\n",
    "print(f'if i live {total} years then i have left {(total-y)*365} days')"
   ]
  },
  {
   "cell_type": "code",
   "execution_count": null,
   "metadata": {},
   "outputs": [],
   "source": []
  }
 ],
 "metadata": {
  "kernelspec": {
   "display_name": "base",
   "language": "python",
   "name": "python3"
  },
  "language_info": {
   "codemirror_mode": {
    "name": "ipython",
    "version": 3
   },
   "file_extension": ".py",
   "mimetype": "text/x-python",
   "name": "python",
   "nbconvert_exporter": "python",
   "pygments_lexer": "ipython3",
   "version": "3.9.13"
  }
 },
 "nbformat": 4,
 "nbformat_minor": 2
}
