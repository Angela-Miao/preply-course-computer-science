{
 "cells": [
  {
   "cell_type": "code",
   "execution_count": 26,
   "metadata": {},
   "outputs": [
    {
     "name": "stdout",
     "output_type": "stream",
     "text": [
      "['Apple Red 3.50 0.50\\n', 'Banana Yellow 1.20 0.20\\n', 'Cherry Red 8.00 0.05\\n', 'Orange Orange 2.00 0.30\\n', 'Grape Purple 4.00 0.10\\n', 'Mango Yellow 5.00 1.00\\n', 'Blueberry Blue 10.00 0.03\\n', 'Pineapple Brown 1.50 1.50\\n', 'Strawberry Red 6.00 0.15\\n', 'Kiwi Green 7.00 0.70\\n', 'Watermelon Green 0.60 3.00\\n', 'Peach Pink 4.50 0.75\\n', 'Lemon Yellow 2.50 0.25\\n', 'Papaya Orange 1.80 1.00\\n', 'Pomegranate Red 9.00 1.50\\n', 'Raspberry Red 12.00 0.04\\n', 'Blackberry Black 11.00 0.04\\n', 'Cantaloupe Orange 1.00 1.25\\n', 'Apricot Orange 5.50 0.60\\n', 'Grapefruit Pink 1.70 0.35\\n', 'Plum Purple 3.80 0.55\\n', 'Cranberry Red 15.00 0.02\\n', 'Dragonfruit Pink 6.50 2.00\\n', 'Lychee Red 8.50 0.80\\n', 'Passionfruit Purple 10.00 0.50\\n', 'Tangerine Orange 3.00 0.40\\n', 'Guava Green 3.20 0.90\\n', 'Fig Purple 7.50 0.70\\n', 'Starfruit Yellow 4.00 0.50\\n', 'Mulberry Black 14.00 0.05\\n', 'Persimmon Orange 4.80 0.85\\n', 'Avocado Green 2.80 1.20\\n', 'Date Brown 6.00 0.60\\n', 'Quince Yellow 5.00 0.75\\n', 'Nectarine Red 4.20 0.65\\n', 'Kumquat Orange 12.00 0.10\\n', 'Jackfruit Green 1.40 2.50\\n', 'Coconut Brown 1.00 1.00\\n', 'Durian Green 15.00 3.00\\n', 'Gooseberry Green 7.00 0.20\\n', 'Rambutan Red 9.50 0.70\\n', 'Custard-Apple Green 5.50 1.10\\n', 'Salak Brown 13.00 0.60\\n', 'Mangosteen Purple 12.50 1.50\\n', 'Pomelo Green 1.60 2.00\\n', 'Jujube Red 10.00 0.30\\n', 'Longan Brown 8.00 0.50\\n', 'Soursop Green 6.20 1.80\\n', 'Marionberry Black 16.00 0.04\\n', 'Ackee Red 20.00 0.90\\n', 'Breadfruit Green 1.20 1.80\\n']\n"
     ]
    }
   ],
   "source": [
    "data = open('apple.txt')\n",
    "data = data.readlines()\n",
    "print(data)"
   ]
  },
  {
   "cell_type": "code",
   "execution_count": 27,
   "metadata": {},
   "outputs": [],
   "source": [
    "# make a dicotnary to get fruit and price only"
   ]
  },
  {
   "cell_type": "code",
   "execution_count": 28,
   "metadata": {},
   "outputs": [],
   "source": [
    "ang = {}\n",
    "for i in data:\n",
    "    k,v =  i.split(' ') [0], float (i.split(' ') [2])\n",
    "    ang[k] = v"
   ]
  },
  {
   "cell_type": "code",
   "execution_count": 29,
   "metadata": {},
   "outputs": [
    {
     "data": {
      "text/plain": [
       "{'Apple': 3.5,\n",
       " 'Banana': 1.2,\n",
       " 'Cherry': 8.0,\n",
       " 'Orange': 2.0,\n",
       " 'Grape': 4.0,\n",
       " 'Mango': 5.0,\n",
       " 'Blueberry': 10.0,\n",
       " 'Pineapple': 1.5,\n",
       " 'Strawberry': 6.0,\n",
       " 'Kiwi': 7.0,\n",
       " 'Watermelon': 0.6,\n",
       " 'Peach': 4.5,\n",
       " 'Lemon': 2.5,\n",
       " 'Papaya': 1.8,\n",
       " 'Pomegranate': 9.0,\n",
       " 'Raspberry': 12.0,\n",
       " 'Blackberry': 11.0,\n",
       " 'Cantaloupe': 1.0,\n",
       " 'Apricot': 5.5,\n",
       " 'Grapefruit': 1.7,\n",
       " 'Plum': 3.8,\n",
       " 'Cranberry': 15.0,\n",
       " 'Dragonfruit': 6.5,\n",
       " 'Lychee': 8.5,\n",
       " 'Passionfruit': 10.0,\n",
       " 'Tangerine': 3.0,\n",
       " 'Guava': 3.2,\n",
       " 'Fig': 7.5,\n",
       " 'Starfruit': 4.0,\n",
       " 'Mulberry': 14.0,\n",
       " 'Persimmon': 4.8,\n",
       " 'Avocado': 2.8,\n",
       " 'Date': 6.0,\n",
       " 'Quince': 5.0,\n",
       " 'Nectarine': 4.2,\n",
       " 'Kumquat': 12.0,\n",
       " 'Jackfruit': 1.4,\n",
       " 'Coconut': 1.0,\n",
       " 'Durian': 15.0,\n",
       " 'Gooseberry': 7.0,\n",
       " 'Rambutan': 9.5,\n",
       " 'Custard-Apple': 5.5,\n",
       " 'Salak': 13.0,\n",
       " 'Mangosteen': 12.5,\n",
       " 'Pomelo': 1.6,\n",
       " 'Jujube': 10.0,\n",
       " 'Longan': 8.0,\n",
       " 'Soursop': 6.2,\n",
       " 'Marionberry': 16.0,\n",
       " 'Ackee': 20.0,\n",
       " 'Breadfruit': 1.2}"
      ]
     },
     "execution_count": 29,
     "metadata": {},
     "output_type": "execute_result"
    }
   ],
   "source": [
    "ang"
   ]
  },
  {
   "cell_type": "code",
   "execution_count": 30,
   "metadata": {},
   "outputs": [],
   "source": [
    "#upadate and increase prices to 10 percent"
   ]
  },
  {
   "cell_type": "code",
   "execution_count": 36,
   "metadata": {},
   "outputs": [],
   "source": [
    "for i in ang:\n",
    "    ang[i] = ang[i] * 1.1\n",
    "    "
   ]
  },
  {
   "cell_type": "code",
   "execution_count": 37,
   "metadata": {},
   "outputs": [
    {
     "name": "stdout",
     "output_type": "stream",
     "text": [
      "{'Apple': 3.8500000000000005, 'Banana': 1.32, 'Cherry': 8.8, 'Orange': 2.2, 'Grape': 4.4, 'Mango': 5.5, 'Blueberry': 11.0, 'Pineapple': 1.6500000000000001, 'Strawberry': 6.6000000000000005, 'Kiwi': 7.700000000000001, 'Watermelon': 0.66, 'Peach': 4.95, 'Lemon': 2.75, 'Papaya': 1.9800000000000002, 'Pomegranate': 9.9, 'Raspberry': 13.200000000000001, 'Blackberry': 12.100000000000001, 'Cantaloupe': 1.1, 'Apricot': 6.050000000000001, 'Grapefruit': 1.87, 'Plum': 4.18, 'Cranberry': 16.5, 'Dragonfruit': 7.15, 'Lychee': 9.350000000000001, 'Passionfruit': 11.0, 'Tangerine': 3.3000000000000003, 'Guava': 3.5200000000000005, 'Fig': 8.25, 'Starfruit': 4.4, 'Mulberry': 15.400000000000002, 'Persimmon': 5.28, 'Avocado': 3.08, 'Date': 6.6000000000000005, 'Quince': 5.5, 'Nectarine': 4.620000000000001, 'Kumquat': 13.200000000000001, 'Jackfruit': 1.54, 'Coconut': 1.1, 'Durian': 16.5, 'Gooseberry': 7.700000000000001, 'Rambutan': 10.450000000000001, 'Custard-Apple': 6.050000000000001, 'Salak': 14.3, 'Mangosteen': 13.750000000000002, 'Pomelo': 1.7600000000000002, 'Jujube': 11.0, 'Longan': 8.8, 'Soursop': 6.820000000000001, 'Marionberry': 17.6, 'Ackee': 22.0, 'Breadfruit': 1.32}\n"
     ]
    }
   ],
   "source": [
    "print(ang)"
   ]
  },
  {
   "cell_type": "code",
   "execution_count": null,
   "metadata": {},
   "outputs": [],
   "source": []
  }
 ],
 "metadata": {
  "kernelspec": {
   "display_name": "base",
   "language": "python",
   "name": "python3"
  },
  "language_info": {
   "codemirror_mode": {
    "name": "ipython",
    "version": 3
   },
   "file_extension": ".py",
   "mimetype": "text/x-python",
   "name": "python",
   "nbconvert_exporter": "python",
   "pygments_lexer": "ipython3",
   "version": "3.9.13"
  }
 },
 "nbformat": 4,
 "nbformat_minor": 2
}
