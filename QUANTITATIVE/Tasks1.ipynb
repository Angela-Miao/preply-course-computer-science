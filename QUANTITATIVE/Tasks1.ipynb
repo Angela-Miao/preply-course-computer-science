{
 "cells": [
  {
   "cell_type": "code",
   "execution_count": 2,
   "metadata": {},
   "outputs": [
    {
     "data": {
      "text/plain": [
       "200"
      ]
     },
     "execution_count": 2,
     "metadata": {},
     "output_type": "execute_result"
    }
   ],
   "source": [
    "w = 10\n",
    "h = 20\n",
    "# find area of ractangular\n",
    "A = w * h\n",
    "A"
   ]
  },
  {
   "cell_type": "code",
   "execution_count": 8,
   "metadata": {},
   "outputs": [
    {
     "data": {
      "text/plain": [
       "8.4"
      ]
     },
     "execution_count": 8,
     "metadata": {},
     "output_type": "execute_result"
    }
   ],
   "source": [
    "x = {\"student1\":12,\n",
    "     \"studen2\":8,\n",
    "     \"student3\":9,\n",
    "     \"student4\":10,\n",
    "     \"student5\":3}\n",
    "# keys()\n",
    "# values()\n",
    "s = x.values()\n",
    "# sum of all and then divide with length all\n",
    "avg = sum(s)/len(s)\n",
    "avg"
   ]
  },
  {
   "cell_type": "code",
   "execution_count": 13,
   "metadata": {},
   "outputs": [
    {
     "data": {
      "text/plain": [
       "0.08333333333333333"
      ]
     },
     "execution_count": 13,
     "metadata": {},
     "output_type": "execute_result"
    }
   ],
   "source": [
    "# you roll 2 dice what are the possibilities for getting 1 on dice 1 and more than 3 on dice 2\n",
    "\n",
    "1/6 * 1/2\n",
    "\n"
   ]
  },
  {
   "cell_type": "code",
   "execution_count": 14,
   "metadata": {},
   "outputs": [
    {
     "name": "stdout",
     "output_type": "stream",
     "text": [
      "1 4\n",
      "1 5\n",
      "1 6\n"
     ]
    },
    {
     "data": {
      "text/plain": [
       "0.08333333333333333"
      ]
     },
     "execution_count": 14,
     "metadata": {},
     "output_type": "execute_result"
    }
   ],
   "source": [
    "for i in range(1,7):\n",
    "    for j in range(1,7):\n",
    "        if i==1 and j >3:\n",
    "            print(i,j)\n",
    "3/36"
   ]
  },
  {
   "cell_type": "code",
   "execution_count": 19,
   "metadata": {},
   "outputs": [
    {
     "data": {
      "text/plain": [
       "0.05555555555555555"
      ]
     },
     "execution_count": 19,
     "metadata": {},
     "output_type": "execute_result"
    }
   ],
   "source": [
    "# 3 dies,,, probility of have d1 < 3, d2 >4 and d3 <4\n",
    "1/3 * 1/3 * 1/2"
   ]
  },
  {
   "cell_type": "code",
   "execution_count": 20,
   "metadata": {},
   "outputs": [
    {
     "name": "stdout",
     "output_type": "stream",
     "text": [
      "1 5 1\n",
      "1 5 2\n",
      "1 5 3\n",
      "1 6 1\n",
      "1 6 2\n",
      "1 6 3\n",
      "2 5 1\n",
      "2 5 2\n",
      "2 5 3\n",
      "2 6 1\n",
      "2 6 2\n",
      "2 6 3\n"
     ]
    },
    {
     "data": {
      "text/plain": [
       "0.05555555555555555"
      ]
     },
     "execution_count": 20,
     "metadata": {},
     "output_type": "execute_result"
    }
   ],
   "source": [
    "c = 0\n",
    "for i in range (1,7):\n",
    "    for j in range (1,7):\n",
    "        for k in range (1,7):\n",
    "            if i < 3 and j > 4 and k < 4:\n",
    "                print(i,j,k)\n",
    "                c = c + 1\n",
    "\n",
    "\n",
    "c / (6*6*6)"
   ]
  },
  {
   "cell_type": "code",
   "execution_count": 21,
   "metadata": {},
   "outputs": [
    {
     "data": {
      "text/plain": [
       "0.25"
      ]
     },
     "execution_count": 21,
     "metadata": {},
     "output_type": "execute_result"
    }
   ],
   "source": [
    "# you roll 2 die, what is probablity of having even numbers\n",
    "1/2 * 1/2"
   ]
  },
  {
   "cell_type": "code",
   "execution_count": 24,
   "metadata": {},
   "outputs": [
    {
     "data": {
      "text/plain": [
       "0.06944444444444445"
      ]
     },
     "execution_count": 24,
     "metadata": {},
     "output_type": "execute_result"
    }
   ],
   "source": [
    "# cars 52\n",
    "# if you roll 3 dice what is probability of having sum less than 10\n",
    "15 / (6*6*6)"
   ]
  },
  {
   "cell_type": "code",
   "execution_count": 26,
   "metadata": {},
   "outputs": [
    {
     "name": "stdout",
     "output_type": "stream",
     "text": [
      "1 1 1\n",
      "1 1 2\n",
      "1 1 3\n",
      "1 1 4\n",
      "1 1 5\n",
      "1 1 6\n",
      "1 2 1\n",
      "1 2 2\n",
      "1 2 3\n",
      "1 2 4\n",
      "1 2 5\n",
      "1 2 6\n",
      "1 3 1\n",
      "1 3 2\n",
      "1 3 3\n",
      "1 3 4\n",
      "1 3 5\n",
      "1 4 1\n",
      "1 4 2\n",
      "1 4 3\n",
      "1 4 4\n",
      "1 5 1\n",
      "1 5 2\n",
      "1 5 3\n",
      "1 6 1\n",
      "1 6 2\n",
      "2 1 1\n",
      "2 1 2\n",
      "2 1 3\n",
      "2 1 4\n",
      "2 1 5\n",
      "2 1 6\n",
      "2 2 1\n",
      "2 2 2\n",
      "2 2 3\n",
      "2 2 4\n",
      "2 2 5\n",
      "2 3 1\n",
      "2 3 2\n",
      "2 3 3\n",
      "2 3 4\n",
      "2 4 1\n",
      "2 4 2\n",
      "2 4 3\n",
      "2 5 1\n",
      "2 5 2\n",
      "2 6 1\n",
      "3 1 1\n",
      "3 1 2\n",
      "3 1 3\n",
      "3 1 4\n",
      "3 1 5\n",
      "3 2 1\n",
      "3 2 2\n",
      "3 2 3\n",
      "3 2 4\n",
      "3 3 1\n",
      "3 3 2\n",
      "3 3 3\n",
      "3 4 1\n",
      "3 4 2\n",
      "3 5 1\n",
      "4 1 1\n",
      "4 1 2\n",
      "4 1 3\n",
      "4 1 4\n",
      "4 2 1\n",
      "4 2 2\n",
      "4 2 3\n",
      "4 3 1\n",
      "4 3 2\n",
      "4 4 1\n",
      "5 1 1\n",
      "5 1 2\n",
      "5 1 3\n",
      "5 2 1\n",
      "5 2 2\n",
      "5 3 1\n",
      "6 1 1\n",
      "6 1 2\n",
      "6 2 1\n"
     ]
    },
    {
     "data": {
      "text/plain": [
       "0.375"
      ]
     },
     "execution_count": 26,
     "metadata": {},
     "output_type": "execute_result"
    }
   ],
   "source": [
    "# confirm with \n",
    "c = 0\n",
    "for i in range (1,7):\n",
    "    for j in range (1,7):\n",
    "        for k in range (1,7):\n",
    "            if (i + j + k )< 10:\n",
    "                print(i,j,k)\n",
    "                c = c + 1\n",
    "\n",
    "\n",
    "c / (6*6*6)\n",
    "#HOW SSAT \n"
   ]
  },
  {
   "cell_type": "code",
   "execution_count": 29,
   "metadata": {},
   "outputs": [
    {
     "name": "stdout",
     "output_type": "stream",
     "text": [
      "(1, 1, 1),(1, 1, 2),(1, 1, 3),(1, 1, 4),(1, 1, 5),(1, 1, 6),\n",
      "(1, 2, 1),(1, 2, 2),(1, 2, 3),(1, 2, 4),(1, 2, 5),(1, 2, 6),\n",
      "(1, 3, 1),(1, 3, 2),(1, 3, 3),(1, 3, 4),(1, 3, 5),(1, 3, 6),\n",
      "(1, 4, 1),(1, 4, 2),(1, 4, 3),(1, 4, 4),(1, 4, 5),(1, 4, 6),\n",
      "(1, 5, 1),(1, 5, 2),(1, 5, 3),(1, 5, 4),(1, 5, 5),(1, 5, 6),\n",
      "(1, 6, 1),(1, 6, 2),(1, 6, 3),(1, 6, 4),(1, 6, 5),(1, 6, 6),\n",
      "\n",
      "(2, 1, 1),(2, 1, 2),(2, 1, 3),(2, 1, 4),(2, 1, 5),(2, 1, 6),\n",
      "(2, 2, 1),(2, 2, 2),(2, 2, 3),(2, 2, 4),(2, 2, 5),(2, 2, 6),\n",
      "(2, 3, 1),(2, 3, 2),(2, 3, 3),(2, 3, 4),(2, 3, 5),(2, 3, 6),\n",
      "(2, 4, 1),(2, 4, 2),(2, 4, 3),(2, 4, 4),(2, 4, 5),(2, 4, 6),\n",
      "(2, 5, 1),(2, 5, 2),(2, 5, 3),(2, 5, 4),(2, 5, 5),(2, 5, 6),\n",
      "(2, 6, 1),(2, 6, 2),(2, 6, 3),(2, 6, 4),(2, 6, 5),(2, 6, 6),\n",
      "\n",
      "(3, 1, 1),(3, 1, 2),(3, 1, 3),(3, 1, 4),(3, 1, 5),(3, 1, 6),\n",
      "(3, 2, 1),(3, 2, 2),(3, 2, 3),(3, 2, 4),(3, 2, 5),(3, 2, 6),\n",
      "(3, 3, 1),(3, 3, 2),(3, 3, 3),(3, 3, 4),(3, 3, 5),(3, 3, 6),\n",
      "(3, 4, 1),(3, 4, 2),(3, 4, 3),(3, 4, 4),(3, 4, 5),(3, 4, 6),\n",
      "(3, 5, 1),(3, 5, 2),(3, 5, 3),(3, 5, 4),(3, 5, 5),(3, 5, 6),\n",
      "(3, 6, 1),(3, 6, 2),(3, 6, 3),(3, 6, 4),(3, 6, 5),(3, 6, 6),\n",
      "\n",
      "(4, 1, 1),(4, 1, 2),(4, 1, 3),(4, 1, 4),(4, 1, 5),(4, 1, 6),\n",
      "(4, 2, 1),(4, 2, 2),(4, 2, 3),(4, 2, 4),(4, 2, 5),(4, 2, 6),\n",
      "(4, 3, 1),(4, 3, 2),(4, 3, 3),(4, 3, 4),(4, 3, 5),(4, 3, 6),\n",
      "(4, 4, 1),(4, 4, 2),(4, 4, 3),(4, 4, 4),(4, 4, 5),(4, 4, 6),\n",
      "(4, 5, 1),(4, 5, 2),(4, 5, 3),(4, 5, 4),(4, 5, 5),(4, 5, 6),\n",
      "(4, 6, 1),(4, 6, 2),(4, 6, 3),(4, 6, 4),(4, 6, 5),(4, 6, 6),\n",
      "\n",
      "(5, 1, 1),(5, 1, 2),(5, 1, 3),(5, 1, 4),(5, 1, 5),(5, 1, 6),\n",
      "(5, 2, 1),(5, 2, 2),(5, 2, 3),(5, 2, 4),(5, 2, 5),(5, 2, 6),\n",
      "(5, 3, 1),(5, 3, 2),(5, 3, 3),(5, 3, 4),(5, 3, 5),(5, 3, 6),\n",
      "(5, 4, 1),(5, 4, 2),(5, 4, 3),(5, 4, 4),(5, 4, 5),(5, 4, 6),\n",
      "(5, 5, 1),(5, 5, 2),(5, 5, 3),(5, 5, 4),(5, 5, 5),(5, 5, 6),\n",
      "(5, 6, 1),(5, 6, 2),(5, 6, 3),(5, 6, 4),(5, 6, 5),(5, 6, 6),\n",
      "\n",
      "(6, 1, 1),(6, 1, 2),(6, 1, 3),(6, 1, 4),(6, 1, 5),(6, 1, 6),\n",
      "(6, 2, 1),(6, 2, 2),(6, 2, 3),(6, 2, 4),(6, 2, 5),(6, 2, 6),\n",
      "(6, 3, 1),(6, 3, 2),(6, 3, 3),(6, 3, 4),(6, 3, 5),(6, 3, 6),\n",
      "(6, 4, 1),(6, 4, 2),(6, 4, 3),(6, 4, 4),(6, 4, 5),(6, 4, 6),\n",
      "(6, 5, 1),(6, 5, 2),(6, 5, 3),(6, 5, 4),(6, 5, 5),(6, 5, 6),\n",
      "(6, 6, 1),(6, 6, 2),(6, 6, 3),(6, 6, 4),(6, 6, 5),(6, 6, 6),\n",
      "\n"
     ]
    }
   ],
   "source": [
    "# confirm with \n",
    "c = 0\n",
    "for i in range (1,7):\n",
    "    for j in range (1,7):\n",
    "        for k in range (1,7):\n",
    "            print((i,j,k),end=\",\")\n",
    "        print()\n",
    "    print()"
   ]
  }
 ],
 "metadata": {
  "kernelspec": {
   "display_name": "Python 3",
   "language": "python",
   "name": "python3"
  },
  "language_info": {
   "codemirror_mode": {
    "name": "ipython",
    "version": 3
   },
   "file_extension": ".py",
   "mimetype": "text/x-python",
   "name": "python",
   "nbconvert_exporter": "python",
   "pygments_lexer": "ipython3",
   "version": "3.9.6"
  },
  "orig_nbformat": 4
 },
 "nbformat": 4,
 "nbformat_minor": 2
}
