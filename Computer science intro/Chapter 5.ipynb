{
 "cells": [
  {
   "cell_type": "code",
   "execution_count": 3,
   "metadata": {},
   "outputs": [
    {
     "name": "stdout",
     "output_type": "stream",
     "text": [
      "rain sun and op or opereration\n",
      "True True True True\n",
      "True False True False\n",
      "False True True False\n",
      "False False False False\n"
     ]
    }
   ],
   "source": [
    "rain = True, True, False, False\n",
    "sun = True, False, True, False\n",
    "print(\"rain\",\"sun\",\"and op\",\"or opereration\")\n",
    "for r,s in zip(rain,sun):\n",
    "    print (r, s, r or s, r and s)"
   ]
  },
  {
   "cell_type": "code",
   "execution_count": 13,
   "metadata": {},
   "outputs": [
    {
     "data": {
      "text/plain": [
       "False"
      ]
     },
     "execution_count": 13,
     "metadata": {},
     "output_type": "execute_result"
    }
   ],
   "source": [
    "45 > 53"
   ]
  },
  {
   "cell_type": "code",
   "execution_count": 17,
   "metadata": {},
   "outputs": [
    {
     "data": {
      "text/plain": [
       "True"
      ]
     },
     "execution_count": 17,
     "metadata": {},
     "output_type": "execute_result"
    }
   ],
   "source": [
    "2 > 3 or 10 > 5 or 1 / 0"
   ]
  },
  {
   "cell_type": "code",
   "execution_count": 19,
   "metadata": {},
   "outputs": [
    {
     "name": "stdout",
     "output_type": "stream",
     "text": [
      "Strong Base!!!\n"
     ]
    }
   ],
   "source": [
    "ph = 5.7\n",
    "banana = input(\"plz put ur ph level\")\n",
    "banana = float(banana)\n",
    "if banana >= 0 and banana <= 4:\n",
    "    print(\"Strong Acid!!!\")\n",
    "if banana >= 5 and banana <= 6:\n",
    "    print(\"Weak Acid!!!\")\n",
    "if banana >= 8 and banana <= 9:\n",
    "    print(\"Weak Base!!!\")\n",
    "if banana >= 10 and banana <= 14:\n",
    "    print(\"Strong Base!!!\")  \n",
    "if banana == 7:\n",
    "    print(\"Nutural!!!\")  \n"
   ]
  },
  {
   "cell_type": "code",
   "execution_count": 27,
   "metadata": {},
   "outputs": [
    {
     "name": "stdout",
     "output_type": "stream",
     "text": [
      "high\n"
     ]
    }
   ],
   "source": [
    "bmi = 44\n",
    "age = 47\n",
    "banana = int(input (\"plz put ur age\"))\n",
    "caca = int(input (\"plz put ur bmi\"))\n",
    "if banana < 45 and caca < 22:\n",
    "    print(\"low\")\n",
    "if banana < 45 and caca >= 22:\n",
    "    print(\"medium\")\n",
    "if banana >= 45 and caca < 22:\n",
    "    print(\"medium\")\n",
    "if banana >= 45 and caca >= 22:\n",
    "    print(\"high\")"
   ]
  },
  {
   "cell_type": "code",
   "execution_count": 29,
   "metadata": {},
   "outputs": [
    {
     "data": {
      "text/plain": [
       "False"
      ]
     },
     "execution_count": 29,
     "metadata": {},
     "output_type": "execute_result"
    }
   ],
   "source": [
    "(1 + 52) < 52.3"
   ]
  },
  {
   "cell_type": "code",
   "execution_count": 34,
   "metadata": {},
   "outputs": [
    {
     "name": "stdout",
     "output_type": "stream",
     "text": [
      "turn on light\n"
     ]
    }
   ],
   "source": [
    "# angela is searchign for micro plants and animals in wild\n",
    "# angela is far away from camp\n",
    "#angela has a programable controller\n",
    "# angela wants to turn on light automatically when light intensity is less than 1 lux or temperature is less than 10\n",
    "# can you write a program for that\n",
    "# if condtion is wrong print turn off light\n",
    "\n",
    "temp = 8\n",
    "lux = 1\n",
    "if lux < 1 or temp < 10:\n",
    "    print(\"turn on light\")\n",
    "else: \n",
    "    print(\"turn off light\")\n"
   ]
  },
  {
   "cell_type": "code",
   "execution_count": null,
   "metadata": {},
   "outputs": [],
   "source": []
  }
 ],
 "metadata": {
  "kernelspec": {
   "display_name": "Python 3",
   "language": "python",
   "name": "python3"
  },
  "language_info": {
   "codemirror_mode": {
    "name": "ipython",
    "version": 3
   },
   "file_extension": ".py",
   "mimetype": "text/x-python",
   "name": "python",
   "nbconvert_exporter": "python",
   "pygments_lexer": "ipython3",
   "version": "3.9.6"
  },
  "orig_nbformat": 4
 },
 "nbformat": 4,
 "nbformat_minor": 2
}
