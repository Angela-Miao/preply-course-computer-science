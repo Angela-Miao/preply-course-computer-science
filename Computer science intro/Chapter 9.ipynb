{
 "cells": [
  {
   "cell_type": "code",
   "execution_count": 1,
   "metadata": {},
   "outputs": [
    {
     "name": "stdout",
     "output_type": "stream",
     "text": [
      "my favorite name is Ariana\n",
      "my favorite name is Iryna\n",
      "my favorite name is Aiera\n",
      "my favorite name is Andena\n",
      "my favorite name is Aryna\n"
     ]
    }
   ],
   "source": [
    "name = [\"Ariana\",\"Iryna\",\"Aiera\",\"Andena\",\"Aryna\"]\n",
    "for i in name:\n",
    "    print(\"my favorite name is\", i)"
   ]
  },
  {
   "cell_type": "code",
   "execution_count": 2,
   "metadata": {},
   "outputs": [
    {
     "name": "stdout",
     "output_type": "stream",
     "text": [
      "the temp in c is: 13 the temp in f is: 55.400000000000006\n",
      "the temp in c is: 24 the temp in f is: 75.2\n",
      "the temp in c is: 26 the temp in f is: 78.80000000000001\n",
      "the temp in c is: 53 the temp in f is: 127.4\n",
      "the temp in c is: 72 the temp in f is: 161.6\n",
      "the temp in c is: 31 the temp in f is: 87.80000000000001\n",
      "the temp in c is: 25 the temp in f is: 77.0\n",
      "the temp in c is: 34 the temp in f is: 93.2\n",
      "the temp in c is: 56 the temp in f is: 132.8\n",
      "the temp in c is: 87 the temp in f is: 188.6\n",
      "the temp in c is: 83 the temp in f is: 181.4\n",
      "the temp in c is: 95 the temp in f is: 203.0\n"
     ]
    }
   ],
   "source": [
    "temp = [13,24,26,53,72,31,25,34,56,87,83,95] # temp in c\n",
    "# print tempr in c is 13 and it is .... in f\n",
    "for f in temp:\n",
    "    print(\"the temp in c is:\",f,\"the temp in f is:\",f * (9/5) + 32)\n"
   ]
  },
  {
   "cell_type": "code",
   "execution_count": 4,
   "metadata": {},
   "outputs": [
    {
     "name": "stdout",
     "output_type": "stream",
     "text": [
      "Carbodioxide\n",
      "…exiting program\n"
     ]
    }
   ],
   "source": [
    "text = \"\"\n",
    "while text != \"quit\":\n",
    "    text = input(\"Please enter a chemical formula (or 'quit' to exit): \")\n",
    "    if text == \"quit\":\n",
    "        print(\"…exiting program\")\n",
    "    elif text == \"H2O\":\n",
    "        print(\"Water\")\n",
    "    elif text == \"NH3\":\n",
    "        print(\"Ammonia\")\n",
    "    elif text == \"CH4\":\n",
    "        print(\"Methane\")\n",
    "    elif text == \"CO2\":\n",
    "        print(\"Carbodioxide\")\n",
    "    else:\n",
    "        print(\"Unknown compound\")"
   ]
  },
  {
   "cell_type": "markdown",
   "metadata": {},
   "source": [
    "Question:\n",
    "\n",
    "Write a Python program in five steps:\n",
    "\n",
    "1. Create a list of numbers.\n",
    "2. Filter the list to include only even numbers.\n",
    "3. Square each even number in the filtered list.\n",
    "4. Calculate the sum of the squared numbers.\n",
    "5. Print the final sum.\n",
    "5. Here's an example to illustrate the steps:"
   ]
  },
  {
   "attachments": {},
   "cell_type": "markdown",
   "metadata": {},
   "source": [
    "Num = []"
   ]
  },
  {
   "cell_type": "code",
   "execution_count": 8,
   "metadata": {},
   "outputs": [
    {
     "data": {
      "text/plain": [
       "120"
      ]
     },
     "execution_count": 8,
     "metadata": {},
     "output_type": "execute_result"
    }
   ],
   "source": [
    "num = [1,3,2,5,6,8,9,4,7,0]\n",
    "even = []\n",
    "square = []\n",
    "for i in num:\n",
    "    if i % 2 == 0:\n",
    "        even.append(i)\n",
    "        square.append(i**2)\n",
    "sum(square)"
   ]
  },
  {
   "cell_type": "code",
   "execution_count": null,
   "metadata": {},
   "outputs": [],
   "source": [
    "number_and_weigh = [\"Calcium\", \"Magnesium\", \"Beryllium\", \"Radium\", \"Barium\", \"Strontium\"]\n"
   ]
  },
  {
   "attachments": {},
   "cell_type": "markdown",
   "metadata": {},
   "source": [
    "Write a for loop to create a new list called number_and_weight that contains\n",
    "the elements of alkaline_earth_metals in the same order but not nested."
   ]
  },
  {
   "attachments": {},
   "cell_type": "markdown",
   "metadata": {},
   "source": [
    "list(range(32,49))"
   ]
  },
  {
   "cell_type": "code",
   "execution_count": 9,
   "metadata": {},
   "outputs": [
    {
     "name": "stdout",
     "output_type": "stream",
     "text": [
      "32\n",
      "33\n",
      "34\n",
      "35\n",
      "36\n",
      "37\n",
      "38\n",
      "39\n",
      "40\n",
      "41\n",
      "42\n",
      "43\n",
      "44\n",
      "45\n",
      "46\n",
      "47\n",
      "48\n"
     ]
    }
   ],
   "source": [
    "for i in range(32,49):\n",
    "    print(i)"
   ]
  },
  {
   "cell_type": "code",
   "execution_count": 10,
   "metadata": {},
   "outputs": [
    {
     "data": {
      "text/plain": [
       "[32, 33, 34, 35, 36, 37, 38, 39, 40, 41, 42, 43, 44, 45, 46, 47, 48]"
      ]
     },
     "execution_count": 10,
     "metadata": {},
     "output_type": "execute_result"
    }
   ],
   "source": [
    "list(range(32,49))"
   ]
  },
  {
   "cell_type": "code",
   "execution_count": 14,
   "metadata": {},
   "outputs": [
    {
     "name": "stdout",
     "output_type": "stream",
     "text": [
      "\n",
      "T\n",
      "TT\n",
      "TTT\n",
      "TTTT\n",
      "TTTTT\n",
      "TTTTTT\n",
      "TTTTTTT\n",
      "TTTTTTTT\n",
      "TTTTTTTTT\n"
     ]
    }
   ],
   "source": [
    "for i in range (10):\n",
    "    print (\"T\" * i)"
   ]
  },
  {
   "cell_type": "code",
   "execution_count": 21,
   "metadata": {},
   "outputs": [
    {
     "name": "stdout",
     "output_type": "stream",
     "text": [
      "          \n",
      "         T\n",
      "        TT\n",
      "       TTT\n",
      "      TTTT\n",
      "     TTTTT\n",
      "    TTTTTT\n",
      "   TTTTTTT\n",
      "  TTTTTTTT\n",
      " TTTTTTTTT\n"
     ]
    }
   ],
   "source": [
    "\n",
    "n=10\n",
    "for i in range (n):\n",
    "    print (\" \"*(n-i)+\"T\" * i)"
   ]
  },
  {
   "cell_type": "code",
   "execution_count": 3,
   "metadata": {},
   "outputs": [
    {
     "name": "stdout",
     "output_type": "stream",
     "text": [
      "                    \n",
      "         //         \n",
      "        ////        \n",
      "       //////       \n",
      "      ////////      \n",
      "     //////////     \n",
      "    ////////////    \n",
      "   //////////////   \n",
      "  ////////////////  \n",
      " ////////////////// \n",
      "////////////////////\n",
      " ////////////////// \n",
      "  ////////////////  \n",
      "   //////////////   \n",
      "    ////////////    \n",
      "     //////////     \n",
      "      ////////      \n",
      "       //////       \n",
      "        ////        \n",
      "         //         \n",
      "                    \n",
      "         //         \n",
      "        ////        \n",
      "       //////       \n",
      "      ////////      \n",
      "     //////////     \n",
      "    ////////////    \n",
      "   //////////////   \n",
      "  ////////////////  \n",
      " ////////////////// \n",
      "////////////////////\n",
      " ////////////////// \n",
      "  ////////////////  \n",
      "   //////////////   \n",
      "    ////////////    \n",
      "     //////////     \n",
      "      ////////      \n",
      "       //////       \n",
      "        ////        \n",
      "         //         \n"
     ]
    }
   ],
   "source": [
    "\n",
    "n=10\n",
    "L = \"/\"\n",
    "for i in range (n):\n",
    "    print (\" \"*(n-i)+L * i+L * i+\" \"*(n-i))\n",
    "for i in range (n,0,-1):\n",
    "    print (\" \"*(n-i)+L * i+L * i+\" \"*(n-i))\n",
    "i = 0\n",
    "while (i < n):\n",
    "    print (\" \"*(n-i)+L * i+L * i+\" \"*(n-i))\n",
    "    i = i + 1\n",
    "i = n\n",
    "\n",
    "while (i > 0):\n",
    "    print (\" \"*(n-i)+L * i+L * i+\" \"*(n-i))\n",
    "    i = i - 1\n",
    "\n",
    " "
   ]
  },
  {
   "cell_type": "code",
   "execution_count": 8,
   "metadata": {},
   "outputs": [
    {
     "name": "stdout",
     "output_type": "stream",
     "text": [
      "the year when rate1 is 25 percent bigger than rate 2 is 40, rat 1 weight is 233.16571894185705, rat 2 weight is 291.1052246356395\n"
     ]
    }
   ],
   "source": [
    "rat_w1 = 20\n",
    "rat_w2 = 30\n",
    "rate1 = 1.065\n",
    "rate2 = 1.06\n",
    "year = 1\n",
    "while (rat_w2 >= rat_w1*1.25):\n",
    "    rat_w2 = rat_w2* rate2\n",
    "    rat_w1 = rat_w1* rate1\n",
    "    year = year + 1\n",
    "print(f\"the year when rate1 is 25 percent bigger than rate 2 is {year}, rat 1 weight is {rat_w1}, rat 2 weight is {rat_w2}\")"
   ]
  },
  {
   "attachments": {},
   "cell_type": "markdown",
   "metadata": {},
   "source": [
    "Variables rat_1_weight and rat_2_weight contain the weights of two rats at the\n",
    "beginning of an experiment. Variables rat_1_rate and rat_2_rate are the rate\n",
    "that the rats’ weights are expected to increase each week (for example, 4\n",
    "percent per week).\n",
    "\n",
    "a. Using a while loop, calculate how many weeks it would take for the\n",
    "weight of the first rat to become 25 percent heavier than it was\n",
    "originally.\n",
    "\n",
    "b. Assume that the two rats have the same initial weight, but rat 1 is\n",
    "expected to gain weight at a faster rate than rat 2. Using a while loop,\n",
    "calculate how many weeks it would take for rat 1 to be 10 percent\n",
    "heavier than rat 2."
   ]
  },
  {
   "cell_type": "markdown",
   "metadata": {},
   "source": []
  },
  {
   "cell_type": "markdown",
   "metadata": {},
   "source": []
  },
  {
   "cell_type": "code",
   "execution_count": 21,
   "metadata": {},
   "outputs": [
    {
     "name": "stdout",
     "output_type": "stream",
     "text": [
      "13 704478.4354183115 716126.4011346684\n"
     ]
    }
   ],
   "source": [
    "AngelaH = 162\n",
    "AndyH = 130 #p\n",
    "\n",
    "# let say andy do not stop getting taller\n",
    "# also angela\n",
    "\n",
    "# andy isgettting taller with rate 5 percent\n",
    "# angel ais getting taller with rate of 4.9 percent\n",
    "\n",
    "# write a while loop\n",
    "# when will andy become taller than angela which year\n",
    "year = 1\n",
    "while AngelaH > AndyH:\n",
    "    AngelaH = AngelaH*2.01\n",
    "    AndyH = AndyH* 2.05\n",
    "    year = year + 1\n",
    "print(year,AngelaH,AndyH)"
   ]
  },
  {
   "cell_type": "code",
   "execution_count": null,
   "metadata": {},
   "outputs": [],
   "source": []
  }
 ],
 "metadata": {
  "kernelspec": {
   "display_name": "base",
   "language": "python",
   "name": "python3"
  },
  "language_info": {
   "codemirror_mode": {
    "name": "ipython",
    "version": 3
   },
   "file_extension": ".py",
   "mimetype": "text/x-python",
   "name": "python",
   "nbconvert_exporter": "python",
   "pygments_lexer": "ipython3",
   "version": "3.9.13"
  },
  "orig_nbformat": 4
 },
 "nbformat": 4,
 "nbformat_minor": 2
}
