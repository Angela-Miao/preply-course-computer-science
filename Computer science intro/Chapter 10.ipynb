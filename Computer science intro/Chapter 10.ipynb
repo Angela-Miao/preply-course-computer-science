{
 "cells": [
  {
   "cell_type": "code",
   "execution_count": null,
   "metadata": {},
   "outputs": [],
   "source": [
    "\n"
   ]
  },
  {
   "cell_type": "code",
   "execution_count": 18,
   "metadata": {},
   "outputs": [],
   "source": [
    "data = open ('banana.txt')\n",
    "f = []\n",
    "p = []\n",
    "data = data.read()\n",
    "for i in data.split(\"\\n\"):\n",
    "    j = i.split('=')\n",
    "    f.append(j[0].strip())\n",
    "    p.append(j[-1].strip())\n",
    "    "
   ]
  },
  {
   "cell_type": "code",
   "execution_count": 19,
   "metadata": {},
   "outputs": [
    {
     "data": {
      "text/plain": [
       "['banana',\n",
       " 'apple',\n",
       " 'kiwi',\n",
       " 'cherry',\n",
       " 'watermelon',\n",
       " 'strawberry',\n",
       " 'mango',\n",
       " 'orange']"
      ]
     },
     "execution_count": 19,
     "metadata": {},
     "output_type": "execute_result"
    }
   ],
   "source": [
    "f"
   ]
  },
  {
   "cell_type": "code",
   "execution_count": 20,
   "metadata": {},
   "outputs": [
    {
     "data": {
      "text/plain": [
       "['1 beryllium 4 9.012',\n",
       " '2 magnesium 12 24.305',\n",
       " '3 calcium 20 20.078',\n",
       " '4 strontium 38 87.62',\n",
       " '5 barium 56 137.327',\n",
       " '6 radium 88 226']"
      ]
     },
     "execution_count": 20,
     "metadata": {},
     "output_type": "execute_result"
    }
   ],
   "source": [
    "ang = open(\"file.txt\")\n",
    "ang = ang.read()\n",
    "ang = ang.split('\\n')\n",
    "ang"
   ]
  },
  {
   "cell_type": "code",
   "execution_count": 21,
   "metadata": {},
   "outputs": [
    {
     "name": "stdout",
     "output_type": "stream",
     "text": [
      "1\n",
      "2\n",
      "3\n",
      "4\n",
      "5\n",
      "6\n"
     ]
    },
    {
     "data": {
      "text/plain": [
       "['1', '2', '3', '4', '5', '6']"
      ]
     },
     "execution_count": 21,
     "metadata": {},
     "output_type": "execute_result"
    }
   ],
   "source": [
    "banana = []\n",
    "for i in ang:\n",
    "    print(i.split()[0])\n",
    "    banana.append(i.split()[0])\n",
    "banana"
   ]
  },
  {
   "cell_type": "code",
   "execution_count": 22,
   "metadata": {},
   "outputs": [
    {
     "name": "stdout",
     "output_type": "stream",
     "text": [
      "1 beryllium 4 9.012\n",
      "2 magnesium 12 24.305\n",
      "3 calcium 20 20.078\n",
      "4 strontium 38 87.62\n",
      "5 barium 56 137.327\n",
      "6 radium 88 226\n"
     ]
    },
    {
     "data": {
      "text/plain": [
       "['beryllium', 'magnesium', 'calcium', 'strontium', 'barium', 'radium']"
      ]
     },
     "execution_count": 22,
     "metadata": {},
     "output_type": "execute_result"
    }
   ],
   "source": [
    "kiwi = []\n",
    "for i in ang:\n",
    "    print (i)\n",
    "    kiwi.append(i.split()[1])\n",
    "kiwi"
   ]
  },
  {
   "cell_type": "code",
   "execution_count": 27,
   "metadata": {},
   "outputs": [
    {
     "data": {
      "text/html": [
       "<div>\n",
       "<style scoped>\n",
       "    .dataframe tbody tr th:only-of-type {\n",
       "        vertical-align: middle;\n",
       "    }\n",
       "\n",
       "    .dataframe tbody tr th {\n",
       "        vertical-align: top;\n",
       "    }\n",
       "\n",
       "    .dataframe thead th {\n",
       "        text-align: right;\n",
       "    }\n",
       "</style>\n",
       "<table border=\"1\" class=\"dataframe\">\n",
       "  <thead>\n",
       "    <tr style=\"text-align: right;\">\n",
       "      <th></th>\n",
       "      <th>0</th>\n",
       "      <th>1</th>\n",
       "      <th>2</th>\n",
       "      <th>3</th>\n",
       "    </tr>\n",
       "  </thead>\n",
       "  <tbody>\n",
       "    <tr>\n",
       "      <th>0</th>\n",
       "      <td>1</td>\n",
       "      <td>beryllium</td>\n",
       "      <td>4</td>\n",
       "      <td>9.012</td>\n",
       "    </tr>\n",
       "    <tr>\n",
       "      <th>1</th>\n",
       "      <td>2</td>\n",
       "      <td>magnesium</td>\n",
       "      <td>12</td>\n",
       "      <td>24.305</td>\n",
       "    </tr>\n",
       "    <tr>\n",
       "      <th>2</th>\n",
       "      <td>3</td>\n",
       "      <td>calcium</td>\n",
       "      <td>20</td>\n",
       "      <td>20.078</td>\n",
       "    </tr>\n",
       "    <tr>\n",
       "      <th>3</th>\n",
       "      <td>4</td>\n",
       "      <td>strontium</td>\n",
       "      <td>38</td>\n",
       "      <td>87.620</td>\n",
       "    </tr>\n",
       "    <tr>\n",
       "      <th>4</th>\n",
       "      <td>5</td>\n",
       "      <td>barium</td>\n",
       "      <td>56</td>\n",
       "      <td>137.327</td>\n",
       "    </tr>\n",
       "    <tr>\n",
       "      <th>5</th>\n",
       "      <td>6</td>\n",
       "      <td>radium</td>\n",
       "      <td>88</td>\n",
       "      <td>226.000</td>\n",
       "    </tr>\n",
       "  </tbody>\n",
       "</table>\n",
       "</div>"
      ],
      "text/plain": [
       "   0          1   2        3\n",
       "0  1  beryllium   4    9.012\n",
       "1  2  magnesium  12   24.305\n",
       "2  3    calcium  20   20.078\n",
       "3  4  strontium  38   87.620\n",
       "4  5     barium  56  137.327\n",
       "5  6     radium  88  226.000"
      ]
     },
     "execution_count": 27,
     "metadata": {},
     "output_type": "execute_result"
    }
   ],
   "source": [
    "import pandas as pd\n",
    "data = pd.read_csv(\"file.txt\",delimiter=' ',header=None)\n",
    "data"
   ]
  },
  {
   "cell_type": "code",
   "execution_count": 32,
   "metadata": {},
   "outputs": [
    {
     "data": {
      "text/plain": [
       "0      9.012\n",
       "1     24.305\n",
       "2     20.078\n",
       "3     87.620\n",
       "4    137.327\n",
       "5    226.000\n",
       "Name: 3, dtype: float64"
      ]
     },
     "execution_count": 32,
     "metadata": {},
     "output_type": "execute_result"
    }
   ],
   "source": [
    "data.iloc[:,3]"
   ]
  },
  {
   "cell_type": "code",
   "execution_count": null,
   "metadata": {},
   "outputs": [],
   "source": []
  }
 ],
 "metadata": {
  "kernelspec": {
   "display_name": "base",
   "language": "python",
   "name": "python3"
  },
  "language_info": {
   "codemirror_mode": {
    "name": "ipython",
    "version": 3
   },
   "file_extension": ".py",
   "mimetype": "text/x-python",
   "name": "python",
   "nbconvert_exporter": "python",
   "pygments_lexer": "ipython3",
   "version": "3.9.13"
  },
  "orig_nbformat": 4
 },
 "nbformat": 4,
 "nbformat_minor": 2
}
