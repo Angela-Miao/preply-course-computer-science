{
 "cells": [
  {
   "attachments": {},
   "cell_type": "markdown",
   "metadata": {},
   "source": [
    "please make a ductionary of color and fruits"
   ]
  },
  {
   "cell_type": "code",
   "execution_count": 1,
   "metadata": {},
   "outputs": [],
   "source": [
    "banana = {\"banana\":\"yellow\",\"strawberry\":\"red\",\"orange\":\"orange\",\"melom\":\"green\",\"blueberry\":\"blue\",\"grape\":\"purple\",\"peach\":\"peach\"}"
   ]
  },
  {
   "cell_type": "code",
   "execution_count": 7,
   "metadata": {},
   "outputs": [
    {
     "data": {
      "text/plain": [
       "{0, 1, 2, 3, 4, 6, 7, 8, 9}"
      ]
     },
     "execution_count": 7,
     "metadata": {},
     "output_type": "execute_result"
    }
   ],
   "source": [
    "# make a set of 5 numebr less tahn 10\n",
    "# make a set of 8 number lesson 10\n",
    "\n",
    "\n",
    "x = {1,6,3,9,0}\n",
    "y = {1,3,2,6,4,7,8,4}\n",
    "x.union(y)"
   ]
  },
  {
   "cell_type": "code",
   "execution_count": 8,
   "metadata": {},
   "outputs": [
    {
     "data": {
      "text/plain": [
       "{1, 3, 6}"
      ]
     },
     "execution_count": 8,
     "metadata": {},
     "output_type": "execute_result"
    }
   ],
   "source": [
    "x.intersection(y)"
   ]
  },
  {
   "cell_type": "code",
   "execution_count": 10,
   "metadata": {},
   "outputs": [],
   "source": [
    "banana = [74,65,553,76457,6,324,5,55656,7345,36,6,576,65,4876,87]\n"
   ]
  },
  {
   "cell_type": "code",
   "execution_count": 11,
   "metadata": {},
   "outputs": [
    {
     "data": {
      "text/plain": [
       "5"
      ]
     },
     "execution_count": 11,
     "metadata": {},
     "output_type": "execute_result"
    }
   ],
   "source": [
    "min(banana)"
   ]
  },
  {
   "cell_type": "code",
   "execution_count": 22,
   "metadata": {},
   "outputs": [
    {
     "name": "stdout",
     "output_type": "stream",
     "text": [
      "5\n"
     ]
    }
   ],
   "source": [
    "i = 100000\n",
    "for j in banana:\n",
    "    if i > j:\n",
    "        i = j\n",
    "pikachu = i\n",
    "print(i)\n"
   ]
  },
  {
   "cell_type": "code",
   "execution_count": null,
   "metadata": {},
   "outputs": [],
   "source": []
  },
  {
   "cell_type": "code",
   "execution_count": 23,
   "metadata": {},
   "outputs": [
    {
     "name": "stdout",
     "output_type": "stream",
     "text": [
      "this is second smallest number 6\n"
     ]
    }
   ],
   "source": [
    "i = 100000\n",
    "for j in banana:\n",
    "    if i > j and j != pikachu:\n",
    "        i = j\n",
    "print(\"this is second smallest number\",i)"
   ]
  },
  {
   "cell_type": "code",
   "execution_count": 26,
   "metadata": {},
   "outputs": [
    {
     "data": {
      "text/plain": [
       "False"
      ]
     },
     "execution_count": 26,
     "metadata": {},
     "output_type": "execute_result"
    }
   ],
   "source": [
    "import numpy as np\n",
    "np.inf >(2*np.inf)"
   ]
  },
  {
   "cell_type": "code",
   "execution_count": 47,
   "metadata": {},
   "outputs": [],
   "source": [
    "# make a function which will give me smallest 2 numbers\n",
    "import numpy as np\n",
    "def happy(y):\n",
    "    j = np.inf\n",
    "    all_min = []\n",
    "\n",
    "    for angela in range(3):\n",
    "        for i in y:\n",
    "            if i < j and (not i in all_min):\n",
    "                j = i\n",
    "        all_min.append(j)\n",
    "    print('minimum number is',all_min)"
   ]
  },
  {
   "cell_type": "code",
   "execution_count": 48,
   "metadata": {},
   "outputs": [
    {
     "name": "stdout",
     "output_type": "stream",
     "text": [
      "minimum number is [23625235, 23625235, 23625235]\n"
     ]
    }
   ],
   "source": [
    "happy([1535613415,53246414556,125334352145,74545132545,1641252345,345612414,57824557,23625235,35345466,6341354645])"
   ]
  },
  {
   "cell_type": "code",
   "execution_count": 117,
   "metadata": {},
   "outputs": [
    {
     "name": "stdout",
     "output_type": "stream",
     "text": [
      "time was 0.004598891581939824\n"
     ]
    }
   ],
   "source": [
    "import time\n",
    "tt =[]\n",
    "for ee in range(1000):\n",
    "    t1 = time.perf_counter()\n",
    "    for i in range(100000):\n",
    "        x = (\"hellow\")\n",
    "    t2 = time.perf_counter()\n",
    "    tt.append (t2-t1)\n",
    "print(\"time was\",sum(tt)/len(tt))\n"
   ]
  },
  {
   "cell_type": "code",
   "execution_count": 119,
   "metadata": {},
   "outputs": [
    {
     "data": {
      "text/plain": [
       "'TAACGGCA'"
      ]
     },
     "execution_count": 119,
     "metadata": {},
     "output_type": "execute_result"
    }
   ],
   "source": [
    "bananana = \"ATTGCCGT\"\n",
    "j = \"A\"\n",
    "k = \"T\"\n",
    "l = \"G\"\n",
    "m = \"C\"\n",
    "st= \"\"\n",
    "for i in bananana:\n",
    "    if i == \"A\":\n",
    "        i = k\n",
    "    elif i == \"T\":\n",
    "        i = j\n",
    "    elif i == \"G\":\n",
    "        i = m\n",
    "    else:\n",
    "        i = l\n",
    "    if i in \"ACTG\":\n",
    "        st += i\n",
    "st"
   ]
  },
  {
   "cell_type": "markdown",
   "metadata": {},
   "source": [
    "# very GOOD"
   ]
  },
  {
   "cell_type": "code",
   "execution_count": 120,
   "metadata": {},
   "outputs": [],
   "source": [
    "def Angela(x):\n",
    "    j = \"A\"\n",
    "    k = \"T\"\n",
    "    l = \"G\"\n",
    "    m = \"C\"\n",
    "    st= \"\"\n",
    "    for i in x:\n",
    "        if i == \"A\":\n",
    "            i = k\n",
    "        elif i == \"T\":\n",
    "            i = j\n",
    "        elif i == \"G\":\n",
    "            i = m\n",
    "        else:\n",
    "            i = l\n",
    "        st += i\n",
    "    return st"
   ]
  },
  {
   "cell_type": "code",
   "execution_count": 121,
   "metadata": {},
   "outputs": [
    {
     "data": {
      "text/plain": [
       "'TACGTTAAAAGATGATCGGGCTAGCAGTCAGTCAGTCCGTGTGCGTACTCGTCGTACCATGAGACATCAGTCAGTCGACTGATCACAGCATCTACTAGCTACGTACGACGAGCAGCACACGAGCAGAGCGGACGAGCGAGGCGTCTTTCGTAGCTGCTGAGCTGTGGATAGCTTTA'"
      ]
     },
     "execution_count": 121,
     "metadata": {},
     "output_type": "execute_result"
    }
   ],
   "source": [
    "Angela(\"ATGCAATTTTCTACTAGCCCGATCGTCAGTCAGTCAGGCACACGCATGAGCAGCATGGTACTCTGTAGTCAGTCAGCTGACTAGTGTCGTAGATGATCGATGCATGCTGCTCGTCGTGTGZTCGTZTZGCZTGCTCGZTCZGCAGAAAGCATCGACGACTCGACACCTATCGAAAT\")"
   ]
  },
  {
   "cell_type": "markdown",
   "metadata": {},
   "source": []
  },
  {
   "cell_type": "markdown",
   "metadata": {},
   "source": []
  },
  {
   "cell_type": "code",
   "execution_count": 122,
   "metadata": {},
   "outputs": [],
   "source": [
    "x= ['green', 'red', 'blue','red', 'green','blue']\n",
    "# arrange it like red red green green bluee bluee\n",
    "\n",
    "\n",
    "\n"
   ]
  },
  {
   "cell_type": "code",
   "execution_count": 126,
   "metadata": {},
   "outputs": [
    {
     "name": "stdout",
     "output_type": "stream",
     "text": [
      "['red', 'red', 'green', 'green', 'blue', 'blue']\n"
     ]
    }
   ],
   "source": [
    "ban = []\n",
    "bana = []\n",
    "banan = []\n",
    "for i in x:\n",
    "    if i == \"red\":\n",
    "       ban.append(i)\n",
    "    elif i == \"green\":\n",
    "        bana.append(i)\n",
    "    else:\n",
    "        banan.append(i)\n",
    "print(ban+bana+banan)"
   ]
  },
  {
   "cell_type": "code",
   "execution_count": null,
   "metadata": {},
   "outputs": [],
   "source": []
  }
 ],
 "metadata": {
  "kernelspec": {
   "display_name": "base",
   "language": "python",
   "name": "python3"
  },
  "language_info": {
   "codemirror_mode": {
    "name": "ipython",
    "version": 3
   },
   "file_extension": ".py",
   "mimetype": "text/x-python",
   "name": "python",
   "nbconvert_exporter": "python",
   "pygments_lexer": "ipython3",
   "version": "3.9.13"
  },
  "orig_nbformat": 4
 },
 "nbformat": 4,
 "nbformat_minor": 2
}
