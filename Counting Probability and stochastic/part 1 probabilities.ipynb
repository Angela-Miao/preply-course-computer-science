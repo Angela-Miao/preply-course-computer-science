{
 "cells": [
  {
   "cell_type": "code",
   "execution_count": 2,
   "metadata": {},
   "outputs": [
    {
     "name": "stdout",
     "output_type": "stream",
     "text": [
      "total is 440\n"
     ]
    }
   ],
   "source": [
    "# computers = 28\n",
    "# each has 22 parts \n",
    "# how many parts are there\n",
    "computer = 20\n",
    "parts = 22\n",
    "print('total is',computer*parts)"
   ]
  },
  {
   "cell_type": "code",
   "execution_count": 5,
   "metadata": {},
   "outputs": [
    {
     "data": {
      "text/plain": [
       "30"
      ]
     },
     "execution_count": 5,
     "metadata": {},
     "output_type": "execute_result"
    }
   ],
   "source": [
    "# Y is angela's friend. She has 6 different baskets. she is going to bering up 2 of them\n",
    "# and placed 1 in her den 1 in her bedroom.  \n",
    "# in how many ways she choose which baskets go to each room ?\n",
    "ways = 6*5\n",
    "ways"
   ]
  },
  {
   "cell_type": "code",
   "execution_count": 6,
   "metadata": {},
   "outputs": [
    {
     "data": {
      "text/plain": [
       "5040"
      ]
     },
     "execution_count": 6,
     "metadata": {},
     "output_type": "execute_result"
    }
   ],
   "source": [
    "# mutually exclusive and mutually inclusive\n",
    "# in a group of A M O N G U S\n",
    "7*6*5*4*3*2*1 \n"
   ]
  },
  {
   "cell_type": "code",
   "execution_count": 8,
   "metadata": {},
   "outputs": [],
   "source": [
    "# subset\n",
    "# superset\n",
    "\n",
    "\n",
    "a = [1,2,3,4,5,6]\n",
    "b = [7,8,9]\n",
    "# ex or in ??\n",
    "\n"
   ]
  },
  {
   "cell_type": "code",
   "execution_count": null,
   "metadata": {},
   "outputs": [],
   "source": [
    "p = [1,2,3,4,5,6]\n",
    "o = [3,4,5]\n",
    "\n",
    "# if one set is completely preesnt in another so that set is subset of another set\n",
    "# here o is subset of set p\n"
   ]
  },
  {
   "cell_type": "code",
   "execution_count": 9,
   "metadata": {},
   "outputs": [],
   "source": [
    "# a mom has brown hair\n",
    "# dad has orange hair\n",
    "# please draw a venn dragram about the hair of baby\n"
   ]
  },
  {
   "cell_type": "code",
   "execution_count": null,
   "metadata": {},
   "outputs": [],
   "source": [
    "square = [1, 4, 9, 16, 25]\n",
    "prime = [2, 3, 5, 7, 11, 13, 17, 19, 23]\n",
    "even = [2, 4, 6, 8, 10, 12, 14, 16, 18, 20, 22, 24]\n"
   ]
  }
 ],
 "metadata": {
  "kernelspec": {
   "display_name": "base",
   "language": "python",
   "name": "python3"
  },
  "language_info": {
   "codemirror_mode": {
    "name": "ipython",
    "version": 3
   },
   "file_extension": ".py",
   "mimetype": "text/x-python",
   "name": "python",
   "nbconvert_exporter": "python",
   "pygments_lexer": "ipython3",
   "version": "3.9.13"
  },
  "orig_nbformat": 4
 },
 "nbformat": 4,
 "nbformat_minor": 2
}
