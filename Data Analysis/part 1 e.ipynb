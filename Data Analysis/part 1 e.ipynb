{
 "cells": [
  {
   "attachments": {},
   "cell_type": "markdown",
   "metadata": {},
   "source": [
    "```Interacting with the outside world`\n",
    "`Reading and writing with a variety of file formats and databases.`\n",
    "`Preparation`\n",
    "`cleaning, munging, combining, normalizing, reshaping, slicing and dicing, and transforming data for analysis.`\n",
    "`Transformation`\n",
    "`Applying mathematical and statistical operations to groups of data sets to derive new data sets. For example, aggregating a large table by group variables.`\n",
    "`Modeling and computation`\n",
    "`Connecting your data to statistical models, machine learning algorithms, or other computational tools`\n",
    "`Presentation, creating interactive or static graphical visualizations or textual summaries```"
   ]
  },
  {
   "cell_type": "code",
   "execution_count": 1,
   "metadata": {},
   "outputs": [],
   "source": [
    "path = 'ch02/usagov_bitly_data2012-03-16-1331923249.txt'"
   ]
  },
  {
   "cell_type": "code",
   "execution_count": 2,
   "metadata": {},
   "outputs": [],
   "source": [
    "# 9pm GooDbye"
   ]
  },
  {
   "cell_type": "code",
   "execution_count": null,
   "metadata": {},
   "outputs": [],
   "source": []
  }
 ],
 "metadata": {
  "kernelspec": {
   "display_name": "base",
   "language": "python",
   "name": "python3"
  },
  "language_info": {
   "codemirror_mode": {
    "name": "ipython",
    "version": 3
   },
   "file_extension": ".py",
   "mimetype": "text/x-python",
   "name": "python",
   "nbconvert_exporter": "python",
   "pygments_lexer": "ipython3",
   "version": "3.9.13"
  },
  "orig_nbformat": 4
 },
 "nbformat": 4,
 "nbformat_minor": 2
}
