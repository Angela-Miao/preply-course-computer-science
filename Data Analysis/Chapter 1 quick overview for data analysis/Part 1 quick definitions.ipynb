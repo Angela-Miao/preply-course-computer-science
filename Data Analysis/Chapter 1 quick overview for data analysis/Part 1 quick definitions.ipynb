{
 "cells": [
  {
   "attachments": {},
   "cell_type": "markdown",
   "metadata": {},
   "source": [
    "## what we'll do in this project"
   ]
  },
  {
   "attachments": {},
   "cell_type": "markdown",
   "metadata": {},
   "source": [
    "<h2> this is same thing </h2>"
   ]
  },
  {
   "attachments": {},
   "cell_type": "markdown",
   "metadata": {},
   "source": [
    "we'll do manipulation, cleaning, processing, and crunching data"
   ]
  },
  {
   "attachments": {},
   "cell_type": "markdown",
   "metadata": {},
   "source": [
    " we are going to disscuss multiple kinds of structured data\n",
    " 1. multidemensional arrays ((matrix of 10x10 or more , is actually 2 dimentional data))\n",
    " 2. tabular data (like spreadsheet, and excel sheets)\n",
    " 3. multiple tables interrelated with each other (SQL)\n",
    " 4. Series or text or somethings"
   ]
  },
  {
   "attachments": {},
   "cell_type": "markdown",
   "metadata": {},
   "source": [
    "# why we do this as we have alot of other things to do so why?\n"
   ]
  },
  {
   "attachments": {},
   "cell_type": "markdown",
   "metadata": {},
   "source": [
    "###### why not!, because if we make calculations withhands it may take years, which we can do in seconds..."
   ]
  },
  {
   "attachments": {},
   "cell_type": "markdown",
   "metadata": {},
   "source": [
    "Python, renowned for its simplicity and versatility, has grown significantly popular since 1991, especially in web development and scientific computing. Its robust library support, particularly pandas, makes Python a strong contender in data analysis, rivaling domain-specific tools like R and MATLAB."
   ]
  },
  {
   "attachments": {},
   "cell_type": "markdown",
   "metadata": {},
   "source": [
    "Python's success in scientific computing is largely due to its ability to integrate with C, C++, and FORTRAN code, using tools like Cython for optimized performance. This integration allows efficient handling of computational bottlenecks and effective use of legacy code across various applications."
   ]
  },
  {
   "cell_type": "markdown",
   "metadata": {},
   "source": []
  },
  {
   "attachments": {},
   "cell_type": "markdown",
   "metadata": {},
   "source": [
    "5 important libraries for data analysis:\n",
    "- numpy\n",
    "- pandas\n",
    "- matplotlib\n",
    "- Ipython\n",
    "- scipy"
   ]
  },
  {
   "cell_type": "markdown",
   "metadata": {},
   "source": []
  },
  {
   "attachments": {},
   "cell_type": "markdown",
   "metadata": {},
   "source": [
    "Python is increasingly favored in organizations for both research and production, as it bridges the gap between prototyping in languages like MATLAB or R and developing large systems in Java, C#, or C++. This trend offers significant benefits by unifying the tools used by scientists and technologists."
   ]
  },
  {
   "cell_type": "markdown",
   "metadata": {},
   "source": []
  }
 ],
 "metadata": {
  "language_info": {
   "name": "python"
  },
  "orig_nbformat": 4
 },
 "nbformat": 4,
 "nbformat_minor": 2
}
